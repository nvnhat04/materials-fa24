{
 "cells": [
  {
   "cell_type": "code",
   "execution_count": 1,
   "metadata": {
    "deletable": false,
    "editable": false
   },
   "outputs": [
    {
     "name": "stderr",
     "output_type": "stream",
     "text": [
      "d:\\Github\\materials-fa24\\venv\\Lib\\site-packages\\nbformat\\__init__.py:96: MissingIDFieldWarning: Cell is missing an id field, this will become a hard error in future nbformat versions. You may want to use `normalize()` on your notebooks before validations (available since nbformat 5.1.4). Previous versions of nbformat are fixing this issue transparently, and will stop doing so in the future.\n",
      "  validate(nb)\n"
     ]
    }
   ],
   "source": [
    "# Initialize Otter\n",
    "import otter\n",
    "grader = otter.Notebook(\"W9_LAB_22028249.ipynb\")"
   ]
  },
  {
   "cell_type": "markdown",
   "metadata": {},
   "source": [
    "<img src=\"data8logo.png\" alt=\"Data 8 Logo\" style=\"width: 15%; float: right; padding: 1%; margin-right: 2%;\"/>\n",
    "\n",
    "# Project 1: World Population and Poverty\n",
    "\n",
    "In this project, you'll explore data from [Gapminder.org](http://gapminder.org), a website dedicated to providing a fact-based view of the world and how it has changed. That site includes several data visualizations and presentations, but also publishes the raw data that we will use in this project to recreate and extend some of their most famous visualizations.\n",
    "\n",
    "The Gapminder website collects data from many sources and compiles them into tables that describe many countries around the world. All of the data they aggregate are published in the [Systema Globalis](https://github.com/open-numbers/ddf--gapminder--systema_globalis/blob/master/README.md). Their goal is \"to compile all public statistics; Social, Economic and Environmental; into a comparable total dataset.\" All data sets in this project are copied directly from the Systema Globalis without any changes.\n",
    "\n",
    "This project is dedicated to [Hans Rosling](https://en.wikipedia.org/wiki/Hans_Rosling) (1948-2017), who championed the use of data to understand and prioritize global development challenges."
   ]
  },
  {
   "cell_type": "markdown",
   "metadata": {},
   "source": [
    "### Logistics\n",
    "\n",
    "**Deadline.**  This project is due at **5:00pm PT on Friday 10/4**. Projects will be accepted up to 1 day (24 hours) late. Projects submitted fewer than 24 hours after the deadline will receive 80% credit. It's **much** better to be early than late, so start working now.\n",
    "\n",
    "**Checkpoint.**  For full credit on the checkpoint, you must complete the questions up to the checkpoint, **pass all _public_ autograder tests** for those sections, and submit to the Gradescope Project 1 Checkpoint assignment by **5:00pm PT on Friday, 9/27**. <span style=\"color: #BC412B\">**The checkpoint is worth 5% of your entire project grade**</span>. After you've submitted the checkpoint, you may still change your project answers before the final project deadline - only your final submission, to the \"Project 1\" assignment, will be graded for correctness. You will have some lab time to work on these questions, but we recommend that you start the project before lab and leave time to finish the checkpoint afterward.\n",
    "\n",
    "**Partners.** You may work with one other partner; your partner must be from your assigned lab section. **<span style=\"color: #BC412B\">Only one partner should submit the project notebook to Gradescope.</span> If both partners submit, you will be docked 10% of your project grade. On Gradescope, the person who submits should also designate their partner so that both of you receive credit.** Once you submit, click into your submission, and there will be an option to Add Group Member in the top right corner. You may also reference [this walkthrough video](https://drive.google.com/file/d/12lBUSu5hFOZCdBE5QTQuBalT0nMgRhyC/view?usp=drive_link) on how to add partners on Gradescope.\n",
    "\n",
    "\n",
    "**Rules.** Don't share your code with anybody but your partner. You are welcome to discuss questions with other students, but don't share the answers. The experience of solving the problems in this project will prepare you for exams (and life). If someone asks you for the answer, resist! Instead, you can demonstrate how you would solve a similar problem.\n",
    "\n",
    "**Support.** You are not alone! Come to office hours, post on Ed, and talk to your classmates. If you want to ask about the details of your solution to a problem, make a private Ed post and the staff will respond. If you're ever feeling overwhelmed or don't know how to make progress, email your TA or tutor for help. You can find contact information for the staff on the [course website](https://www.data8.org/fa24/).\n",
    "\n",
    "**Tests.** <span style=\"color: #BC412B\">The tests that are given are **not comprehensive** and passing the tests for a question **does not** mean that you answered the question correctly.</span> Tests usually only check that your table has the correct column labels. However, more tests will be applied to verify the correctness of your submission in order to assign your final score, so be careful and check your work! You might want to create your own checks along the way to see if your answers make sense. Additionally, before you submit, make sure that none of your cells take a very long time to run (several minutes).\n",
    "\n",
    "**Free Response Questions:** Make sure that you put the answers to the written questions in the indicated cell we provide. **Every free response question should include an explanation** that adequately answers the question.\n",
    "\n",
    "**Tabular Thinking Guide:** Feel free to reference [Tabular Thinking Guide](https://drive.google.com/file/d/1NvbBECCBdI0Ku380oPcTUOcpjH3RI230/view) for extra guidance.\n",
    "\n",
    "**Advice.** Develop your answers incrementally. To perform a complicated table manipulation, break it up into steps, perform each step on a different line, give a new name to each result, and check that each intermediate result is what you expect. You can add any additional names or functions you want to the provided cells. Make sure that you are using distinct and meaningful variable names throughout the notebook. Along that line, **DO NOT** reuse the variable names that we use when we grade your answers. For example, in Question 1 of the Global Poverty section we ask you to assign an answer to `latest`. Do not reassign the variable name `latest` to anything else in your notebook, otherwise there is the chance that our tests grade against what `latest` was reassigned to.\n",
    "\n",
    "You are **never** restricted to using only one line of code to solve a question in this project or any others. Feel free to use intermediate variables and multiple lines as much as you would like!\n",
    "\n",
    "---\n",
    "\n",
    "The point breakdown for this assignment is given in the table below:\n",
    "| Category | Points |\n",
    "| --- | --- |\n",
    "| Autograder (Coding questions) | 60 |\n",
    "| Written | 35 |\n",
    "| Checkpoint | 5 |\n",
    "| **Total** | 100 |\n",
    "\n",
    "---\n",
    "\n",
    "To get started, load `datascience`, `numpy`, `plots`, and `otter`."
   ]
  },
  {
   "cell_type": "code",
   "execution_count": 2,
   "metadata": {
    "deletable": false
   },
   "outputs": [],
   "source": [
    "# Run this cell to set up the notebook, but please don't change it. \n",
    "\n",
    "# These lines import the NumPy and Datascience modules.\n",
    "from datascience import *\n",
    "import numpy as np\n",
    "\n",
    "# These lines do some fancy plotting magic.\n",
    "%matplotlib inline\n",
    "import matplotlib.pyplot as plots\n",
    "plots.style.use('fivethirtyeight')\n",
    "\n",
    "from ipywidgets import interact, interactive, fixed, interact_manual\n",
    "import ipywidgets as widgets"
   ]
  },
  {
   "cell_type": "markdown",
   "metadata": {},
   "source": [
    "<hr style=\"border: 5px solid #003262;\" />\n",
    "<hr style=\"border: 1px solid #fdb515;\" />\n",
    "\n",
    "## 0. Hazards with `.show`\n",
    "\n",
    "As a heads up, please do not run the function `tbl.show()` in this assignment without an argument. For instance if you want to view a table, please type `tbl.show(10)` instead of `tbl.show()`. This may break your notebook and we cannot guarantee what we will have the capacity to aid you in this. Please answer the question below, and set the value to `True` to confirm you have read this and agree."
   ]
  },
  {
   "cell_type": "code",
   "execution_count": 3,
   "metadata": {
    "tags": []
   },
   "outputs": [],
   "source": [
    "i_wont_use_show_without_an_argument = True"
   ]
  },
  {
   "cell_type": "code",
   "execution_count": 4,
   "metadata": {
    "deletable": false,
    "editable": false
   },
   "outputs": [
    {
     "data": {
      "text/html": [
       "<p><strong><pre style='display: inline;'>q0</pre></strong> passed! ✨</p>"
      ],
      "text/plain": [
       "q0 results: All test cases passed!"
      ]
     },
     "execution_count": 4,
     "metadata": {},
     "output_type": "execute_result"
    }
   ],
   "source": [
    "grader.check(\"q0\")"
   ]
  },
  {
   "cell_type": "markdown",
   "metadata": {
    "deletable": false,
    "editable": false
   },
   "source": [
    "<hr style=\"border: 5px solid #003262;\" />\n",
    "<hr style=\"border: 1px solid #fdb515;\" />\n",
    "\n",
    "## 1. Global Population Growth\n"
   ]
  },
  {
   "cell_type": "markdown",
   "metadata": {
    "deletable": false,
    "editable": false
   },
   "source": [
    "The global population of humans reached 1 billion around 1800, 3 billion around 1960, 7 billion around 2011, and 8 billion around 2022. The potential impact of population growth has concerned scientists, economists, and politicians alike.\n",
    "\n",
    "The United Nations Population Division estimates that the world population will likely continue to grow throughout the 21st century, but at a slower rate, perhaps reaching and stabilizing at 10 billion by 2100. However, the UN does not rule out scenarios of slower or more extreme growth. These projections help us understand long-term population processes, even if they leave out possible global catastrophic events like war or climate crises.\n",
    "\n",
    "<a href=\"https://population.un.org/wpp/Graphs/Probabilistic/POP/TOT/900\"> \n",
    " <img src=\"un_population_projection.png\"/> \n",
    "</a>\n",
    "\n",
    "In this part of the project, we will examine some of the factors that influence population growth and how they have been changing over the years and around the world. There are two main sub-parts of this analysis.\n",
    "\n",
    "- First, we will examine the data for one country, Poland. We will see how factors such as life expectancy, fertility rate, and child mortality have changed over time in Poland, and how they are related to the rate of population growth.\n",
    "- Next, we will examine whether the changes we have observed for Poland are particular to that country or whether they reflect general patterns observable in other countries too. We will study aspects of world population growth and see how they have been changing.\n",
    "\n",
    "The first table we will consider contains the total population of each country over time. Run the cell below.\n"
   ]
  },
  {
   "cell_type": "code",
   "execution_count": 5,
   "metadata": {
    "deletable": false,
    "scrolled": true
   },
   "outputs": [
    {
     "data": {
      "text/html": [
       "<table border=\"1\" class=\"dataframe\">\n",
       "    <thead>\n",
       "        <tr>\n",
       "            <th>geo</th> <th>time</th> <th>population_total</th>\n",
       "        </tr>\n",
       "    </thead>\n",
       "    <tbody>\n",
       "        <tr>\n",
       "            <td>afg </td> <td>1800</td> <td>3280000         </td>\n",
       "        </tr>\n",
       "        <tr>\n",
       "            <td>afg </td> <td>1801</td> <td>3280000         </td>\n",
       "        </tr>\n",
       "        <tr>\n",
       "            <td>afg </td> <td>1802</td> <td>3280000         </td>\n",
       "        </tr>\n",
       "    </tbody>\n",
       "</table>\n",
       "<p>... (44322 rows omitted)</p>"
      ],
      "text/plain": [
       "<IPython.core.display.HTML object>"
      ]
     },
     "metadata": {},
     "output_type": "display_data"
    }
   ],
   "source": [
    "population = Table.read_table('population.csv').where(\"time\", are.below(2025))\n",
    "population.show(3)"
   ]
  },
  {
   "cell_type": "markdown",
   "metadata": {},
   "source": [
    "**Note:** The population data can also be found [here](https://www.gapminder.org/data/documentation/gd003/).\n"
   ]
  },
  {
   "cell_type": "markdown",
   "metadata": {
    "deletable": false
   },
   "source": [
    "### Poland\n",
    "\n",
    "The Central European nation of Poland has undergone many changes over the centuries. In modern times it was (re)created as a democratic republic in 1919 after World War I. It was invaded and divided in World War II between Germany and the Soviet Union. War and the Holocaust had a devastating impact on its people. Poland was constituted in its current borders at the end of World War II (1945) under a communist government. In 1989, with the fall of the Soviet Union, Poland re-established itself as a democratic republic.\n",
    "\n",
    "In this section of the project, we will examine aspects of the population of Poland since 1900. Poland's borders have changed, so we will look at the population within its current (2024) borders.\n",
    "\n",
    "In the `population` table, the `geo` column contains three-letter codes established by the [International Organization for Standardization](https://en.wikipedia.org/wiki/International_Organization_for_Standardization) (ISO) in the [Alpha-3](https://en.wikipedia.org/wiki/ISO_3166-1_alpha-3#Current_codes) standard. **Use the Alpha-3 link to find the 3-letter code for Poland.**\n"
   ]
  },
  {
   "cell_type": "markdown",
   "metadata": {},
   "source": [
    "---\n",
    "\n",
    "**Question 1.** Create a table called `p_pop` that has two columns labeled `time` and `population_total`. The first column should contain the years from 1900 through 2024 (including both 1900 and 2024) and the second column should contain the population of Poland in each of those years.\n"
   ]
  },
  {
   "cell_type": "code",
   "execution_count": 6,
   "id": "c3625f6e",
   "metadata": {},
   "outputs": [
    {
     "data": {
      "text/plain": [
       "array([1900, 1901, 1902, ..., 2022, 2023, 2024])"
      ]
     },
     "execution_count": 6,
     "metadata": {},
     "output_type": "execute_result"
    }
   ],
   "source": [
    "population.where(\"time\", are.between_or_equal_to(1900, 2024)).column('time')"
   ]
  },
  {
   "cell_type": "code",
   "execution_count": 7,
   "id": "481f996d",
   "metadata": {},
   "outputs": [
    {
     "data": {
      "text/html": [
       "<table border=\"1\" class=\"dataframe\">\n",
       "    <thead>\n",
       "        <tr>\n",
       "            <th>geo</th> <th>time</th> <th>population_total</th>\n",
       "        </tr>\n",
       "    </thead>\n",
       "    <tbody>\n",
       "        <tr>\n",
       "            <td>pol </td> <td>1800</td> <td>9000000         </td>\n",
       "        </tr>\n",
       "        <tr>\n",
       "            <td>pol </td> <td>1801</td> <td>9066429         </td>\n",
       "        </tr>\n",
       "        <tr>\n",
       "            <td>pol </td> <td>1802</td> <td>9133349         </td>\n",
       "        </tr>\n",
       "        <tr>\n",
       "            <td>pol </td> <td>1803</td> <td>9200762         </td>\n",
       "        </tr>\n",
       "        <tr>\n",
       "            <td>pol </td> <td>1804</td> <td>9268673         </td>\n",
       "        </tr>\n",
       "    </tbody>\n",
       "</table>\n",
       "<p>... (220 rows omitted)</p>"
      ],
      "text/plain": [
       "<IPython.core.display.HTML object>"
      ]
     },
     "metadata": {},
     "output_type": "display_data"
    }
   ],
   "source": [
    "poland_data = population.where('geo', are.equal_to('pol'))\n",
    "poland_data.show(5)"
   ]
  },
  {
   "cell_type": "code",
   "execution_count": 8,
   "metadata": {
    "deletable": false,
    "tags": []
   },
   "outputs": [
    {
     "data": {
      "text/html": [
       "<table border=\"1\" class=\"dataframe\">\n",
       "    <thead>\n",
       "        <tr>\n",
       "            <th>time</th> <th>population_total</th>\n",
       "        </tr>\n",
       "    </thead>\n",
       "    <tbody>\n",
       "        <tr>\n",
       "            <td>1900</td> <td>24308265        </td>\n",
       "        </tr>\n",
       "        <tr>\n",
       "            <td>1901</td> <td>24485193        </td>\n",
       "        </tr>\n",
       "        <tr>\n",
       "            <td>1902</td> <td>24660489        </td>\n",
       "        </tr>\n",
       "        <tr>\n",
       "            <td>1903</td> <td>24834119        </td>\n",
       "        </tr>\n",
       "        <tr>\n",
       "            <td>1904</td> <td>25008969        </td>\n",
       "        </tr>\n",
       "        <tr>\n",
       "            <td>1905</td> <td>25185047        </td>\n",
       "        </tr>\n",
       "        <tr>\n",
       "            <td>1906</td> <td>25362361        </td>\n",
       "        </tr>\n",
       "        <tr>\n",
       "            <td>1907</td> <td>25540920        </td>\n",
       "        </tr>\n",
       "        <tr>\n",
       "            <td>1908</td> <td>25720733        </td>\n",
       "        </tr>\n",
       "        <tr>\n",
       "            <td>1909</td> <td>25808244        </td>\n",
       "        </tr>\n",
       "    </tbody>\n",
       "</table>\n",
       "<p>... (115 rows omitted)</p>"
      ],
      "text/plain": [
       "time | population_total\n",
       "1900 | 24308265\n",
       "1901 | 24485193\n",
       "1902 | 24660489\n",
       "1903 | 24834119\n",
       "1904 | 25008969\n",
       "1905 | 25185047\n",
       "1906 | 25362361\n",
       "1907 | 25540920\n",
       "1908 | 25720733\n",
       "1909 | 25808244\n",
       "... (115 rows omitted)"
      ]
     },
     "execution_count": 8,
     "metadata": {},
     "output_type": "execute_result"
    }
   ],
   "source": [
    "p_pop = poland_data.where('time', are.between_or_equal_to(1900, 2024))\n",
    "\n",
    "# Chỉ giữ hai cột 'time' và 'population_total'\n",
    "p_pop = p_pop.select('time', 'population_total')\n",
    "p_pop"
   ]
  },
  {
   "cell_type": "code",
   "execution_count": 9,
   "metadata": {
    "deletable": false,
    "editable": false
   },
   "outputs": [
    {
     "data": {
      "text/html": [
       "<p><strong><pre style='display: inline;'>q1_1</pre></strong> passed! 🎉</p>"
      ],
      "text/plain": [
       "q1_1 results: All test cases passed!"
      ]
     },
     "execution_count": 9,
     "metadata": {},
     "output_type": "execute_result"
    }
   ],
   "source": [
    "grader.check(\"q1_1\")"
   ]
  },
  {
   "cell_type": "markdown",
   "metadata": {
    "deletable": false
   },
   "source": [
    "Run the following cell to create a table called `p_five` that has the population of Poland every five years.\n"
   ]
  },
  {
   "cell_type": "code",
   "execution_count": 10,
   "metadata": {
    "deletable": false
   },
   "outputs": [
    {
     "data": {
      "text/html": [
       "<table border=\"1\" class=\"dataframe\">\n",
       "    <thead>\n",
       "        <tr>\n",
       "            <th>time</th> <th>population_total</th>\n",
       "        </tr>\n",
       "    </thead>\n",
       "    <tbody>\n",
       "        <tr>\n",
       "            <td>1900</td> <td>24,308,265      </td>\n",
       "        </tr>\n",
       "        <tr>\n",
       "            <td>1905</td> <td>25,185,047      </td>\n",
       "        </tr>\n",
       "        <tr>\n",
       "            <td>1910</td> <td>25,803,855      </td>\n",
       "        </tr>\n",
       "    </tbody>\n",
       "</table>\n",
       "<p>... (22 rows omitted)</p>"
      ],
      "text/plain": [
       "<IPython.core.display.HTML object>"
      ]
     },
     "metadata": {},
     "output_type": "display_data"
    }
   ],
   "source": [
    "p_pop.set_format('population_total', NumberFormatter)\n",
    "\n",
    "fives = np.arange(1900, 2021, 5) # 1900, 1905, 1910, ..., 2020\n",
    "p_five = p_pop.sort('time').where('time', are.contained_in(fives))\n",
    "p_five.show(3)"
   ]
  },
  {
   "cell_type": "markdown",
   "metadata": {},
   "source": [
    "Run the following cell to visualize the population over time. Following the devastating effects of World War I and World War II, Poland's population increased steadily from 1950 to 2000 and then leveled off. In the following questions we'll investigate this period of population growth.\n"
   ]
  },
  {
   "cell_type": "code",
   "execution_count": 11,
   "metadata": {},
   "outputs": [
    {
     "data": {
      "image/png": "[encoded data removed]",
      "text/plain": [
       "<Figure size 600x600 with 1 Axes>"
      ]
     },
     "metadata": {},
     "output_type": "display_data"
    }
   ],
   "source": [
    "p_five.plot(0, 1)"
   ]
  },
  {
   "cell_type": "markdown",
   "metadata": {},
   "source": [
    "---\n",
    "\n",
    "**Question 2.** Assign `initial` to an array that contains the population for every five year interval from **1900 to 2015** (inclusive). Then, assign `changed` to an array that contains the population for every five year interval from **1905 to 2020** (inclusive). The first array should include both 1900 and 2015, and the second array should include both 1905 and 2020. You should use the `p_five` table to create both arrays, by first filtering the table to only contain the relevant years.\n",
    "\n",
    "The annual growth rate for a time period is equal to:\n",
    "\n",
    "$$\\left(\\left(\\frac{\\text{Population at end of period}}{\\text{Population at start of period}}\\right)^{\\displaystyle\\frac{1}{\\text{number of years}}}\\right) -1$$\n",
    "\n",
    "We have provided the code below that uses `initial` and `changed` in order to add a column to `p_five` called `annual_growth`. **Don't worry about the calculation of the growth rates**; run the test below to test your solution.\n",
    "\n",
    "If you are interested in how we came up with the formula for growth rates, consult the [growth rates](https://inferentialthinking.com/chapters/03/2/1/Growth.html) section of the textbook.\n"
   ]
  },
  {
   "cell_type": "code",
   "execution_count": 12,
   "id": "039269e9",
   "metadata": {},
   "outputs": [],
   "source": [
    "initial = p_five.sort('time').where('time', are.below_or_equal_to(2015)).column('population_total')\n",
    "changed = p_five.sort('time').where('time', are.between_or_equal_to(1905, 2020)).column('population_total')\n"
   ]
  },
  {
   "cell_type": "code",
   "execution_count": 13,
   "metadata": {
    "tags": []
   },
   "outputs": [
    {
     "data": {
      "text/html": [
       "<table border=\"1\" class=\"dataframe\">\n",
       "    <thead>\n",
       "        <tr>\n",
       "            <th>time</th> <th>population_total</th> <th>annual_growth</th>\n",
       "        </tr>\n",
       "    </thead>\n",
       "    <tbody>\n",
       "        <tr>\n",
       "            <td>1900</td> <td>24,308,265      </td> <td>0.71%        </td>\n",
       "        </tr>\n",
       "        <tr>\n",
       "            <td>1905</td> <td>25,185,047      </td> <td>0.49%        </td>\n",
       "        </tr>\n",
       "        <tr>\n",
       "            <td>1910</td> <td>25,803,855      </td> <td>-0.87%       </td>\n",
       "        </tr>\n",
       "        <tr>\n",
       "            <td>1915</td> <td>24,696,678      </td> <td>-0.75%       </td>\n",
       "        </tr>\n",
       "        <tr>\n",
       "            <td>1920</td> <td>23,785,820      </td> <td>1.32%        </td>\n",
       "        </tr>\n",
       "        <tr>\n",
       "            <td>1925</td> <td>25,395,008      </td> <td>1.52%        </td>\n",
       "        </tr>\n",
       "        <tr>\n",
       "            <td>1930</td> <td>27,378,955      </td> <td>0.75%        </td>\n",
       "        </tr>\n",
       "        <tr>\n",
       "            <td>1935</td> <td>28,414,953      </td> <td>0.32%        </td>\n",
       "        </tr>\n",
       "        <tr>\n",
       "            <td>1940</td> <td>28,876,472      </td> <td>-1.58%       </td>\n",
       "        </tr>\n",
       "        <tr>\n",
       "            <td>1945</td> <td>26,666,588      </td> <td>-1.46%       </td>\n",
       "        </tr>\n",
       "    </tbody>\n",
       "</table>\n",
       "<p>... (14 rows omitted)</p>"
      ],
      "text/plain": [
       "time | population_total | annual_growth\n",
       "1900 | 24,308,265       | 0.71%\n",
       "1905 | 25,185,047       | 0.49%\n",
       "1910 | 25,803,855       | -0.87%\n",
       "1915 | 24,696,678       | -0.75%\n",
       "1920 | 23,785,820       | 1.32%\n",
       "1925 | 25,395,008       | 1.52%\n",
       "1930 | 27,378,955       | 0.75%\n",
       "1935 | 28,414,953       | 0.32%\n",
       "1940 | 28,876,472       | -1.58%\n",
       "1945 | 26,666,588       | -1.46%\n",
       "... (14 rows omitted)"
      ]
     },
     "execution_count": 13,
     "metadata": {},
     "output_type": "execute_result"
    }
   ],
   "source": [
    "p_1900_through_2015 = p_five.where('time', are.below_or_equal_to(2015))\n",
    "p_five_growth = p_1900_through_2015.with_column('annual_growth', (changed/initial)**0.2-1)\n",
    "p_five_growth.set_format('annual_growth', PercentFormatter)"
   ]
  },
  {
   "cell_type": "code",
   "execution_count": 14,
   "metadata": {
    "deletable": false,
    "editable": false
   },
   "outputs": [
    {
     "data": {
      "text/html": [
       "<p><strong><pre style='display: inline;'>q1_2</pre></strong> passed! ✨</p>"
      ],
      "text/plain": [
       "q1_2 results: All test cases passed!"
      ]
     },
     "execution_count": 14,
     "metadata": {},
     "output_type": "execute_result"
    }
   ],
   "source": [
    "grader.check(\"q1_2\")"
   ]
  },
  {
   "cell_type": "markdown",
   "metadata": {
    "deletable": false
   },
   "source": [
    "The annual growth rate in Poland has been declining since 1950, as shown in the table below.\n"
   ]
  },
  {
   "cell_type": "code",
   "execution_count": 15,
   "metadata": {},
   "outputs": [
    {
     "data": {
      "text/html": [
       "<table border=\"1\" class=\"dataframe\">\n",
       "    <thead>\n",
       "        <tr>\n",
       "            <th>time</th> <th>population_total</th> <th>annual_growth</th>\n",
       "        </tr>\n",
       "    </thead>\n",
       "    <tbody>\n",
       "        <tr>\n",
       "            <td>1950</td> <td>24,780,161      </td> <td>1.78%        </td>\n",
       "        </tr>\n",
       "        <tr>\n",
       "            <td>1955</td> <td>27,063,640      </td> <td>1.79%        </td>\n",
       "        </tr>\n",
       "        <tr>\n",
       "            <td>1960</td> <td>29,575,966      </td> <td>1.13%        </td>\n",
       "        </tr>\n",
       "        <tr>\n",
       "            <td>1965</td> <td>31,288,336      </td> <td>0.79%        </td>\n",
       "        </tr>\n",
       "        <tr>\n",
       "            <td>1970</td> <td>32,542,633      </td> <td>0.86%        </td>\n",
       "        </tr>\n",
       "        <tr>\n",
       "            <td>1975</td> <td>33,964,399      </td> <td>0.93%        </td>\n",
       "        </tr>\n",
       "        <tr>\n",
       "            <td>1980</td> <td>35,576,519      </td> <td>0.90%        </td>\n",
       "        </tr>\n",
       "        <tr>\n",
       "            <td>1985</td> <td>37,200,853      </td> <td>0.46%        </td>\n",
       "        </tr>\n",
       "        <tr>\n",
       "            <td>1990</td> <td>38,055,455      </td> <td>0.16%        </td>\n",
       "        </tr>\n",
       "        <tr>\n",
       "            <td>1995</td> <td>38,364,667      </td> <td>-0.06%       </td>\n",
       "        </tr>\n",
       "        <tr>\n",
       "            <td>2000</td> <td>38,258,071      </td> <td>-0.07%       </td>\n",
       "        </tr>\n",
       "        <tr>\n",
       "            <td>2005</td> <td>38,124,379      </td> <td>-0.02%       </td>\n",
       "        </tr>\n",
       "        <tr>\n",
       "            <td>2010</td> <td>38,095,351      </td> <td>0.09%        </td>\n",
       "        </tr>\n",
       "        <tr>\n",
       "            <td>2015</td> <td>38,266,314      </td> <td>-0.05%       </td>\n",
       "        </tr>\n",
       "    </tbody>\n",
       "</table>"
      ],
      "text/plain": [
       "<IPython.core.display.HTML object>"
      ]
     },
     "metadata": {},
     "output_type": "display_data"
    }
   ],
   "source": [
    "# Run this cell to view annual growth rates in Poland since 1950.\n",
    "p_five_growth.where('time', are.above_or_equal_to(1950)).show()"
   ]
  },
  {
   "cell_type": "markdown",
   "metadata": {},
   "source": [
    "Next, we'll try to understand what has changed in Poland that might explain the slowing population growth rate. Run the next cell to load three additional tables of measurements about countries over time.\n"
   ]
  },
  {
   "cell_type": "code",
   "execution_count": 16,
   "metadata": {
    "deletable": false
   },
   "outputs": [],
   "source": [
    "life_expectancy = Table.read_table('life_expectancy.csv').where('time', are.below(2025))\n",
    "child_mortality = Table.read_table('child_mortality.csv').relabel(2, 'child_mortality_under_5_per_1000_born').where('time', are.below(2025))\n",
    "fertility = Table.read_table('fertility.csv').where('time', are.below(2025))"
   ]
  },
  {
   "cell_type": "markdown",
   "metadata": {
    "deletable": false,
    "editable": false
   },
   "source": [
    "The `life_expectancy` table contains a statistic that is often used to measure how long people live, called _life expectancy at birth_. This number, for a country in a given year, [does not measure how long babies born in that year are expected to live](http://blogs.worldbank.org/opendata/what-does-life-expectancy-birth-really-mean). Instead, it measures how long someone would live, on average, if the _mortality conditions_ in that year persisted throughout their lifetime. These \"mortality conditions\" describe what fraction of people for each age survived the year. So, it is a way of measuring the proportion of people that are staying alive, aggregated over different age groups in the population.\n"
   ]
  },
  {
   "cell_type": "markdown",
   "metadata": {},
   "source": [
    "Run the following cells below to see `life_expectancy`, `child_mortality`, and `fertility`. Refer back to these tables as they will be helpful for answering further questions!\n"
   ]
  },
  {
   "cell_type": "code",
   "execution_count": 17,
   "metadata": {},
   "outputs": [
    {
     "data": {
      "text/html": [
       "<table border=\"1\" class=\"dataframe\">\n",
       "    <thead>\n",
       "        <tr>\n",
       "            <th>geo</th> <th>time</th> <th>life_expectancy_years</th>\n",
       "        </tr>\n",
       "    </thead>\n",
       "    <tbody>\n",
       "        <tr>\n",
       "            <td>afg </td> <td>1800</td> <td>28.21                </td>\n",
       "        </tr>\n",
       "        <tr>\n",
       "            <td>afg </td> <td>1801</td> <td>28.2                 </td>\n",
       "        </tr>\n",
       "        <tr>\n",
       "            <td>afg </td> <td>1802</td> <td>28.19                </td>\n",
       "        </tr>\n",
       "    </tbody>\n",
       "</table>\n",
       "<p>... (42597 rows omitted)</p>"
      ],
      "text/plain": [
       "<IPython.core.display.HTML object>"
      ]
     },
     "metadata": {},
     "output_type": "display_data"
    }
   ],
   "source": [
    "life_expectancy.show(3)"
   ]
  },
  {
   "cell_type": "code",
   "execution_count": 18,
   "metadata": {},
   "outputs": [
    {
     "data": {
      "text/html": [
       "<table border=\"1\" class=\"dataframe\">\n",
       "    <thead>\n",
       "        <tr>\n",
       "            <th>geo</th> <th>time</th> <th>child_mortality_under_5_per_1000_born</th>\n",
       "        </tr>\n",
       "    </thead>\n",
       "    <tbody>\n",
       "        <tr>\n",
       "            <td>afg </td> <td>1800</td> <td>468.58                               </td>\n",
       "        </tr>\n",
       "        <tr>\n",
       "            <td>afg </td> <td>1801</td> <td>468.58                               </td>\n",
       "        </tr>\n",
       "        <tr>\n",
       "            <td>afg </td> <td>1802</td> <td>468.58                               </td>\n",
       "        </tr>\n",
       "    </tbody>\n",
       "</table>\n",
       "<p>... (42522 rows omitted)</p>"
      ],
      "text/plain": [
       "<IPython.core.display.HTML object>"
      ]
     },
     "metadata": {},
     "output_type": "display_data"
    }
   ],
   "source": [
    "child_mortality.show(3)"
   ]
  },
  {
   "cell_type": "code",
   "execution_count": 19,
   "metadata": {},
   "outputs": [
    {
     "data": {
      "text/html": [
       "<table border=\"1\" class=\"dataframe\">\n",
       "    <thead>\n",
       "        <tr>\n",
       "            <th>geo</th> <th>time</th> <th>children_per_woman_total_fertility</th>\n",
       "        </tr>\n",
       "    </thead>\n",
       "    <tbody>\n",
       "        <tr>\n",
       "            <td>afg </td> <td>1800</td> <td>7                                 </td>\n",
       "        </tr>\n",
       "        <tr>\n",
       "            <td>afg </td> <td>1801</td> <td>7                                 </td>\n",
       "        </tr>\n",
       "        <tr>\n",
       "            <td>afg </td> <td>1802</td> <td>7                                 </td>\n",
       "        </tr>\n",
       "    </tbody>\n",
       "</table>\n",
       "<p>... (44322 rows omitted)</p>"
      ],
      "text/plain": [
       "<IPython.core.display.HTML object>"
      ]
     },
     "metadata": {},
     "output_type": "display_data"
    }
   ],
   "source": [
    "fertility.show(3)"
   ]
  },
  {
   "cell_type": "markdown",
   "metadata": {},
   "source": [
    "<!-- BEGIN QUESTION -->\n",
    "\n",
    "---\n",
    "\n",
    "**Question 3.** Is population growing more slowly perhaps because people aren’t living as long? Use the `life_expectancy` table to draw a line graph with the years 1950 and later on the horizontal axis that shows how the _life expectancy at birth_ has changed in Poland.\n",
    "\n",
    "_Hint_: Make sure you filter the table properly; otherwise, the graph may look funky!\n"
   ]
  },
  {
   "cell_type": "code",
   "execution_count": 20,
   "metadata": {
    "deletable": false,
    "manual_grade": true,
    "manual_problem_id": "global_pop_3",
    "tags": []
   },
   "outputs": [
    {
     "data": {
      "text/html": [
       "<table border=\"1\" class=\"dataframe\">\n",
       "    <thead>\n",
       "        <tr>\n",
       "            <th>time</th> <th>life_expectancy_years</th>\n",
       "        </tr>\n",
       "    </thead>\n",
       "    <tbody>\n",
       "        <tr>\n",
       "            <td>1950</td> <td>58.99                </td>\n",
       "        </tr>\n",
       "        <tr>\n",
       "            <td>1951</td> <td>57.9                 </td>\n",
       "        </tr>\n",
       "        <tr>\n",
       "            <td>1952</td> <td>60.15                </td>\n",
       "        </tr>\n",
       "        <tr>\n",
       "            <td>1953</td> <td>62.21                </td>\n",
       "        </tr>\n",
       "        <tr>\n",
       "            <td>1954</td> <td>62.67                </td>\n",
       "        </tr>\n",
       "    </tbody>\n",
       "</table>\n",
       "<p>... (70 rows omitted)</p>"
      ],
      "text/plain": [
       "<IPython.core.display.HTML object>"
      ]
     },
     "metadata": {},
     "output_type": "display_data"
    }
   ],
   "source": [
    "# Fill in code here\n",
    "age_1950_and_later = life_expectancy.where(\"time\", are.above_or_equal_to(1950)).where('geo', are.equal_to('pol')).select('time','life_expectancy_years' )\n",
    "age_1950_and_later.show(5)"
   ]
  },
  {
   "cell_type": "code",
   "execution_count": 21,
   "id": "cd5cd71e",
   "metadata": {},
   "outputs": [
    {
     "data": {
      "image/png": "[encoded data removed]",
      "text/plain": [
       "<Figure size 600x600 with 1 Axes>"
      ]
     },
     "metadata": {},
     "output_type": "display_data"
    }
   ],
   "source": [
    "age_1950_and_later.plot(0, 1)\n",
    "plots.xlabel('Life expectancy')\n",
    "plots.ylabel('Time')\n",
    "plots.title('Life expectancy in Poland')\n",
    "plots.show()"
   ]
  },
  {
   "cell_type": "markdown",
   "metadata": {},
   "source": [
    "<!-- END QUESTION -->\n",
    "\n",
    "<!-- BEGIN QUESTION -->\n",
    "\n",
    "---\n",
    "\n",
    "**Question 4.** Assuming everything else stays the same, do the trends in life expectancy in the graph above directly explain why the population growth rate decreased since 1950 in Poland? Why or why not?\n"
   ]
  },
  {
   "cell_type": "markdown",
   "metadata": {},
   "source": [
    "The trends in life expectancy in the graph do not directly explain why the population growth rate decreased since 1950 in Poland. Here is why:\n",
    "- Increasing life expectancy implies a decreasing death rate, which, if the birth rate remains constant, should lead to an increase in the population growth rate, not a decrease."
   ]
  },
  {
   "cell_type": "markdown",
   "metadata": {
    "deletable": false,
    "editable": false
   },
   "source": [
    "<!-- END QUESTION -->\n",
    "\n",
    "The `fertility` table contains a statistic that is often used to measure how many babies are being born, the _total fertility rate_. This number describes the [number of children a woman would have in her lifetime](https://www.data4impactproject.org/prh/family-planning/fertility/total-fertility-rate/), on average, if the current rates of birth by age of the mother persisted throughout her child bearing years, assuming she survived through age 49.\n"
   ]
  },
  {
   "cell_type": "markdown",
   "metadata": {},
   "source": [
    "---\n",
    "\n",
    "**Question 5.** Complete the function `fertility_over_time`. It takes two input arguments, the Alpha-3 code of a country (denoted as `country_code`) and a year to `start` from (denoted as start). It returns a two-column table with the column labels `Year` and `Children per woman`. These columns can be used to generate a line chart of the country’s fertility rate each year, starting from the year given by `start`. The plot should include the start year and all later years that appear in the fertility table.\n",
    "\n",
    "Then, determine the Alpha-3 code for **Poland**. The code at the very bottom for `poland_code` and the year `1950` are inputted to your `fertility_over_time` function. The function returns a table which we use in order to plot how Poland's fertility rate has changed since `1950`. Note that the function `fertility_over_time` should not return the plot itself – it returns a two column table. The expression that draws the line plot is provided for you; please don’t change it.\n",
    "\n",
    "_Hint_: Read about `tbl.relabeled` in the [Python Reference](https://www.data8.org/fa24/reference/) to rename columns.\n"
   ]
  },
  {
   "cell_type": "code",
   "execution_count": 22,
   "metadata": {
    "deletable": false,
    "tags": []
   },
   "outputs": [],
   "source": [
    "def fertility_over_time(country_code, start):\n",
    "    \"\"\"Create a two-column table that describes a country's total fertility rate each year.\"\"\"\n",
    "    # It's a good idea (but not required) to use multiple lines in your solution.\n",
    "    data = fertility.where('time', are.above_or_equal_to(start)).where('geo', are.equal_to(country_code)).select('time', 'children_per_woman_total_fertility')\n",
    "    return data.relabeled('time', 'Year').relabeled('children_per_woman_total_fertility', 'Children per woman')\n",
    "\n"
   ]
  },
  {
   "cell_type": "code",
   "execution_count": 23,
   "id": "2dbb3866",
   "metadata": {},
   "outputs": [
    {
     "data": {
      "text/html": [
       "<table border=\"1\" class=\"dataframe\">\n",
       "    <thead>\n",
       "        <tr>\n",
       "            <th>Year</th> <th>Children per woman</th>\n",
       "        </tr>\n",
       "    </thead>\n",
       "    <tbody>\n",
       "        <tr>\n",
       "            <td>1950</td> <td>3.66              </td>\n",
       "        </tr>\n",
       "        <tr>\n",
       "            <td>1951</td> <td>3.68              </td>\n",
       "        </tr>\n",
       "        <tr>\n",
       "            <td>1952</td> <td>3.64              </td>\n",
       "        </tr>\n",
       "        <tr>\n",
       "            <td>1953</td> <td>3.6               </td>\n",
       "        </tr>\n",
       "        <tr>\n",
       "            <td>1954</td> <td>3.56              </td>\n",
       "        </tr>\n",
       "        <tr>\n",
       "            <td>1955</td> <td>3.54              </td>\n",
       "        </tr>\n",
       "        <tr>\n",
       "            <td>1956</td> <td>3.45              </td>\n",
       "        </tr>\n",
       "        <tr>\n",
       "            <td>1957</td> <td>3.44              </td>\n",
       "        </tr>\n",
       "        <tr>\n",
       "            <td>1958</td> <td>3.34              </td>\n",
       "        </tr>\n",
       "        <tr>\n",
       "            <td>1959</td> <td>3.21              </td>\n",
       "        </tr>\n",
       "    </tbody>\n",
       "</table>\n",
       "<p>... (65 rows omitted)</p>"
      ],
      "text/plain": [
       "Year | Children per woman\n",
       "1950 | 3.66\n",
       "1951 | 3.68\n",
       "1952 | 3.64\n",
       "1953 | 3.6\n",
       "1954 | 3.56\n",
       "1955 | 3.54\n",
       "1956 | 3.45\n",
       "1957 | 3.44\n",
       "1958 | 3.34\n",
       "1959 | 3.21\n",
       "... (65 rows omitted)"
      ]
     },
     "execution_count": 23,
     "metadata": {},
     "output_type": "execute_result"
    }
   ],
   "source": [
    "poland_code = 'pol'\n",
    "fertility_over_time(poland_code, 1950)"
   ]
  },
  {
   "cell_type": "code",
   "execution_count": 24,
   "metadata": {
    "deletable": false,
    "editable": false
   },
   "outputs": [
    {
     "data": {
      "text/html": [
       "<p><strong><pre style='display: inline;'>q1_5</pre></strong> passed! 💯</p>"
      ],
      "text/plain": [
       "q1_5 results: All test cases passed!"
      ]
     },
     "execution_count": 24,
     "metadata": {},
     "output_type": "execute_result"
    }
   ],
   "source": [
    "grader.check(\"q1_5\")"
   ]
  },
  {
   "cell_type": "markdown",
   "metadata": {},
   "source": [
    "Plotting the fertility rate in Poland since 1950, we see a downward trend.\n"
   ]
  },
  {
   "cell_type": "code",
   "execution_count": 25,
   "metadata": {},
   "outputs": [
    {
     "data": {
      "image/png": "[encoded data removed]",
      "text/plain": [
       "<Figure size 600x600 with 1 Axes>"
      ]
     },
     "metadata": {},
     "output_type": "display_data"
    }
   ],
   "source": [
    "fertility_over_time(poland_code, 1950).plot(0, 1)"
   ]
  },
  {
   "cell_type": "markdown",
   "metadata": {},
   "source": [
    "<!-- BEGIN QUESTION -->\n",
    "\n",
    "---\n",
    "\n",
    "**Question 6.** Assuming everything else is constant, do the trends in fertility in the graph above help directly explain why the population growth rate decreased from 1950 to 2020 in Poland? Why or why not?\n"
   ]
  },
  {
   "cell_type": "markdown",
   "metadata": {},
   "source": [
    "Yes, the trends in fertility in the graph directly explain why the population growth rate decreased from 1950 to 2020 in Poland, assuming everything else is constant. Here’s why:\n",
    "\n",
    "- The fertility rate in Poland decreased from 3.66 children per woman in 1950 to 1.38 by 2020, indicating a significant drop in the birth rate over this period.\n",
    "- With the death rate and net migration held constant, a decrease in the birth rate directly results in a decrease in the population growth rate.\n",
    "- The consistent decline in fertility aligns with the decrease in population growth rate from 1950 to 2020, providing a direct explanation for the trend."
   ]
  },
  {
   "cell_type": "markdown",
   "metadata": {
    "deletable": false
   },
   "source": [
    "<!-- END QUESTION -->\n",
    "\n",
    "It has been [observed](https://www.ageing.ox.ac.uk/download/143) that lower fertility rates are often associated with lower child mortality rates. We can see if this association is evident in Poland by plotting the relationship between total fertility rate and [child mortality rate per 1000 children](https://en.wikipedia.org/wiki/Child_mortality).\n"
   ]
  },
  {
   "cell_type": "markdown",
   "metadata": {},
   "source": [
    "---\n",
    "\n",
    "**Question 7.** Create a table `poland_since_1950` that contains one row per year starting with 1950 and:\n",
    "\n",
    "- A column `Year` containing the year\n",
    "- A column `Children per woman` describing total fertility in Poland that year\n",
    "- A column `Child deaths per 1000 born` describing child mortality in Poland that year\n"
   ]
  },
  {
   "cell_type": "code",
   "execution_count": 26,
   "metadata": {
    "deletable": false,
    "scrolled": false,
    "tags": []
   },
   "outputs": [
    {
     "data": {
      "text/html": [
       "<table border=\"1\" class=\"dataframe\">\n",
       "    <thead>\n",
       "        <tr>\n",
       "            <th>geo</th> <th>time</th> <th>child_mortality_under_5_per_1000_born</th>\n",
       "        </tr>\n",
       "    </thead>\n",
       "    <tbody>\n",
       "        <tr>\n",
       "            <td>pol </td> <td>1950</td> <td>164.08                               </td>\n",
       "        </tr>\n",
       "        <tr>\n",
       "            <td>pol </td> <td>1951</td> <td>177.18                               </td>\n",
       "        </tr>\n",
       "        <tr>\n",
       "            <td>pol </td> <td>1952</td> <td>140.16                               </td>\n",
       "        </tr>\n",
       "    </tbody>\n",
       "</table>\n",
       "<p>... (72 rows omitted)</p>"
      ],
      "text/plain": [
       "<IPython.core.display.HTML object>"
      ]
     },
     "metadata": {},
     "output_type": "display_data"
    },
    {
     "data": {
      "text/html": [
       "<table border=\"1\" class=\"dataframe\">\n",
       "    <thead>\n",
       "        <tr>\n",
       "            <th>Year</th> <th>Children per woman</th> <th>Child deaths per 1000 born</th>\n",
       "        </tr>\n",
       "    </thead>\n",
       "    <tbody>\n",
       "        <tr>\n",
       "            <td>1950</td> <td>3.66              </td> <td>164.08                    </td>\n",
       "        </tr>\n",
       "        <tr>\n",
       "            <td>1951</td> <td>3.68              </td> <td>177.18                    </td>\n",
       "        </tr>\n",
       "        <tr>\n",
       "            <td>1952</td> <td>3.64              </td> <td>140.16                    </td>\n",
       "        </tr>\n",
       "        <tr>\n",
       "            <td>1953</td> <td>3.6               </td> <td>127.65                    </td>\n",
       "        </tr>\n",
       "        <tr>\n",
       "            <td>1954</td> <td>3.56              </td> <td>118.9                     </td>\n",
       "        </tr>\n",
       "    </tbody>\n",
       "</table>\n",
       "<p>... (70 rows omitted)</p>"
      ],
      "text/plain": [
       "<IPython.core.display.HTML object>"
      ]
     },
     "metadata": {},
     "output_type": "display_data"
    }
   ],
   "source": [
    "pol_fertility = fertility_over_time(poland_code, 1950)  # Try starting with the table you built already!\n",
    "# It's a good idea (but not required) to use multiple lines in your solution.\n",
    "pol_child_mortality = child_mortality.where('geo', are.equal_to('pol')).where('time', are.above_or_equal_to(1950))\n",
    "pol_child_mortality.show(3)\n",
    "pol_fertility_and_child_mortality = pol_child_mortality.column('child_mortality_under_5_per_1000_born')\n",
    "poland_since_1950 = pol_fertility.with_column(\n",
    "    'Child deaths per 1000 born', pol_fertility_and_child_mortality\n",
    ")\n",
    "poland_since_1950.show(5)"
   ]
  },
  {
   "cell_type": "code",
   "execution_count": 27,
   "metadata": {
    "deletable": false,
    "editable": false
   },
   "outputs": [
    {
     "data": {
      "text/html": [
       "<p><strong><pre style='display: inline;'>q1_7</pre></strong> passed! 🌈</p>"
      ],
      "text/plain": [
       "q1_7 results: All test cases passed!"
      ]
     },
     "execution_count": 27,
     "metadata": {},
     "output_type": "execute_result"
    }
   ],
   "source": [
    "grader.check(\"q1_7\")"
   ]
  },
  {
   "cell_type": "markdown",
   "metadata": {},
   "source": [
    "Run the following cell to generate a scatter plot from the `poland_since_1950` table you created.\n",
    "\n",
    "The plot uses **color** to encode data about the `Year` column. The colors, ranging from dark blue to white, represent the passing of time between 1950 and 2024. For example, a point on the scatter plot representing data from the 1950s would appear as **dark blue** and a point from the 2010s would appear as **light blue**.\n"
   ]
  },
  {
   "cell_type": "code",
   "execution_count": 28,
   "metadata": {},
   "outputs": [
    {
     "data": {
      "image/png": "[encoded data removed]",
      "text/plain": [
       "<Figure size 600x600 with 2 Axes>"
      ]
     },
     "metadata": {},
     "output_type": "display_data"
    }
   ],
   "source": [
    "x_births = poland_since_1950.column(\"Children per woman\")\n",
    "y_deaths = poland_since_1950.column(\"Child deaths per 1000 born\")\n",
    "time_colors = poland_since_1950.column(\"Year\")\n",
    "\n",
    "plots.figure(figsize=(6,6))\n",
    "plots.scatter(x_births, y_deaths, c=time_colors, cmap=\"Blues_r\")\n",
    "plots.colorbar()                  \n",
    "plots.xlabel(\"Children per woman\")\n",
    "plots.ylabel(\"Child deaths per 1000 born\");"
   ]
  },
  {
   "cell_type": "markdown",
   "metadata": {},
   "source": [
    "<!-- BEGIN QUESTION -->\n",
    "\n",
    "---\n",
    "\n",
    "**Question 8.** In one or two sentences, describe the association (if any) that is illustrated by this scatter plot. Does the diagram show any causal relation between between fertility and child mortality?\n"
   ]
  },
  {
   "cell_type": "markdown",
   "metadata": {},
   "source": [
    "The scatter plot illustrates a strong negative association between fertility and child mortality in Poland from 1950 to 2020, where higher fertility rates (around 3.5 children per woman) in earlier years (1950s) correspond to higher child mortality (up to 175 deaths per 1000 born), and both decrease over time to lower values (1.5 children per woman and near 0 deaths by 2020). However, the diagram does not show a causal relationship between fertility and child mortality, as the observed trend could be influenced by external factors like improvements in healthcare, education, and socioeconomic conditions that simultaneously affect both variables."
   ]
  },
  {
   "cell_type": "markdown",
   "metadata": {},
   "source": [
    "<!-- END QUESTION -->\n",
    "\n",
    "_Optional food for thought_: What other context or information you would need in order to better understand the factors affecting life expectancy, child mortality, and fertility?\n"
   ]
  },
  {
   "attachments": {},
   "cell_type": "markdown",
   "metadata": {},
   "source": [
    "### Checkpoint (due Friday 9/27 by 5:00 PM PT)\n",
    "\n",
    "<img src=\"harvey.png\" alt=\"Close-up photo of a golden retriever looking at the camera\" width=\"300\"/>\n",
    "\n",
    "**WOOOHOO!!!** Harvey wants to congratulate you on reaching the checkpoint!\n",
    "\n",
    "**Run the following cells and submit to the Gradescope assignment corresponding to the checkpoint: <u>Project 1 Checkpoint</u>**\n",
    "\n",
    "**<span style=\"color: #BC412B\">Remember to add your project partner to your submission on Gradescope!</span>** <u>Only one partner should submit to Gradescope.</u>"
   ]
  },
  {
   "cell_type": "markdown",
   "metadata": {},
   "source": [
    "--- \n",
    "\n",
    "To double check your work, the cell below will rerun all of the autograder tests for Section 1. "
   ]
  },
  {
   "cell_type": "code",
   "execution_count": 29,
   "metadata": {},
   "outputs": [
    {
     "data": {
      "text/html": [
       "<p><strong><pre style='display: inline;'>q1_1</pre></strong> passed! ✨</p>"
      ],
      "text/plain": [
       "q1_1 results: All test cases passed!"
      ]
     },
     "metadata": {},
     "output_type": "display_data"
    },
    {
     "data": {
      "text/html": [
       "<p><strong><pre style='display: inline;'>q1_2</pre></strong> passed! 🚀</p>"
      ],
      "text/plain": [
       "q1_2 results: All test cases passed!"
      ]
     },
     "metadata": {},
     "output_type": "display_data"
    },
    {
     "data": {
      "text/html": [
       "<p><strong><pre style='display: inline;'>q1_5</pre></strong> passed! 🎉</p>"
      ],
      "text/plain": [
       "q1_5 results: All test cases passed!"
      ]
     },
     "metadata": {},
     "output_type": "display_data"
    },
    {
     "data": {
      "text/html": [
       "<p><strong><pre style='display: inline;'>q1_7</pre></strong> passed! 🍀</p>"
      ],
      "text/plain": [
       "q1_7 results: All test cases passed!"
      ]
     },
     "metadata": {},
     "output_type": "display_data"
    }
   ],
   "source": [
    "checkpoint_tests = [\"q1_1\", \"q1_2\", \"q1_5\", \"q1_7\"]\n",
    "for test in checkpoint_tests:\n",
    "    display(grader.check(test))"
   ]
  },
  {
   "cell_type": "markdown",
   "metadata": {},
   "source": [
    "## Submission\n",
    "\n",
    "Make sure you have run all cells in your notebook in order before running the cell below, so that all images/graphs appear in the output. The cell below will generate a zip file for you to submit. You only need to submit the zip file for the checkpoint. **Please save before exporting!**"
   ]
  },
  {
   "cell_type": "code",
   "execution_count": 30,
   "metadata": {},
   "outputs": [
    {
     "data": {
      "text/html": [
       "\n",
       "                    <p>\n",
       "                        Your submission has been exported. Click\n",
       "                        <a href=\"W9_LAB_22028249_2025_04_06T14_10_16_047122.zip\" download=\"W9_LAB_22028249_2025_04_06T14_10_16_047122.zip\" target=\"_blank\">here</a> to download\n",
       "                        the zip file.\n",
       "                    </p>\n",
       "                "
      ],
      "text/plain": [
       "<IPython.core.display.HTML object>"
      ]
     },
     "metadata": {},
     "output_type": "display_data"
    }
   ],
   "source": [
    "# Save your notebook first, then run this cell to export your submission.\n",
    "grader.export(pdf=False)"
   ]
  },
  {
   "cell_type": "markdown",
   "metadata": {
    "deletable": false
   },
   "source": [
    "<hr style=\"border: 1px solid #fdb515;\" />\n",
    "\n",
    "### The World\n",
    "\n",
    "The changes observed in Poland can also be observed in many other countries: except during periods of extended war, famine, and social chaos, health services generally improve, life expectancy increases, and child mortality decreases. At the same time, the fertility rate often plummets, and where it does, the population growth rate decreases despite increasing longevity."
   ]
  },
  {
   "cell_type": "markdown",
   "metadata": {
    "deletable": false
   },
   "source": [
    "Run the cell below to generate two overlaid histograms, one for 1962 and one for 2010, that show the distributions of total fertility rates for these two years among all 201 countries in the `fertility` table."
   ]
  },
  {
   "cell_type": "code",
   "execution_count": 31,
   "metadata": {
    "deletable": false
   },
   "outputs": [
    {
     "data": {
      "image/png": "[encoded data removed]",
      "text/plain": [
       "<Figure size 600x400 with 1 Axes>"
      ]
     },
     "metadata": {},
     "output_type": "display_data"
    }
   ],
   "source": [
    "Table().with_columns( \n",
    "    '1962', fertility.where('time', 1962).column(2),\n",
    "    '2010', fertility.where('time', 2010).column(2)\n",
    ").hist(bins=np.arange(0, 10, 0.5), unit='child per woman')\n",
    "_ = plots.xlabel('Children per woman')\n",
    "_ = plots.ylabel('Percent per children per woman')\n",
    "_ = plots.xticks(np.arange(10))"
   ]
  },
  {
   "cell_type": "markdown",
   "metadata": {},
   "source": [
    "---\n",
    "\n",
    "**Question 9.** Assign `fertility_statements` to an **array** of the numbers of each statement below that can be correctly inferred from these histograms.\n",
    "\n",
    "1. About the same number of countries had a fertility rate between 3.5 and 4.5 in both 1962 and 2010.\n",
    "1. In 1962, less than 20% of countries had a fertility rate below 3.\n",
    "1. At least half of countries had a fertility rate between 5 and 8 in 1962.\n",
    "1. In 2010, about 40% of countries had a fertility rate between 1.5 and 2.\n",
    "1. At least half of countries had a fertility rate below 3 in 2010.\n",
    "1. More countries had a fertility rate above 3 in 1962 than in 2010.\n"
   ]
  },
  {
   "cell_type": "code",
   "execution_count": 32,
   "metadata": {
    "deletable": false,
    "tags": []
   },
   "outputs": [],
   "source": [
    "fertility_statements = [2,5,6]\n"
   ]
  },
  {
   "cell_type": "code",
   "execution_count": 33,
   "metadata": {
    "deletable": false,
    "editable": false
   },
   "outputs": [
    {
     "data": {
      "text/html": [
       "<p><strong><pre style='display: inline;'>q1_9</pre></strong> passed! 💯</p>"
      ],
      "text/plain": [
       "q1_9 results: All test cases passed!"
      ]
     },
     "execution_count": 33,
     "metadata": {},
     "output_type": "execute_result"
    }
   ],
   "source": [
    "grader.check(\"q1_9\")"
   ]
  },
  {
   "cell_type": "markdown",
   "metadata": {},
   "source": [
    "<!-- BEGIN QUESTION -->\n",
    "\n",
    "---\n",
    "\n",
    "**Question 10.** Draw a line plot of the **world population** from 1800 through 2024 (inclusive of both endpoints). The world population is the sum of all of the countries' populations. You should use the `population` table defined earlier in the project. \n"
   ]
  },
  {
   "cell_type": "code",
   "execution_count": 34,
   "id": "8e891084",
   "metadata": {},
   "outputs": [
    {
     "data": {
      "text/html": [
       "<table border=\"1\" class=\"dataframe\">\n",
       "    <thead>\n",
       "        <tr>\n",
       "            <th>geo</th> <th>time</th> <th>population_total</th>\n",
       "        </tr>\n",
       "    </thead>\n",
       "    <tbody>\n",
       "        <tr>\n",
       "            <td>afg </td> <td>1800</td> <td>3280000         </td>\n",
       "        </tr>\n",
       "        <tr>\n",
       "            <td>afg </td> <td>1801</td> <td>3280000         </td>\n",
       "        </tr>\n",
       "        <tr>\n",
       "            <td>afg </td> <td>1802</td> <td>3280000         </td>\n",
       "        </tr>\n",
       "    </tbody>\n",
       "</table>\n",
       "<p>... (44322 rows omitted)</p>"
      ],
      "text/plain": [
       "<IPython.core.display.HTML object>"
      ]
     },
     "metadata": {},
     "output_type": "display_data"
    }
   ],
   "source": [
    "population.show(3)"
   ]
  },
  {
   "cell_type": "code",
   "execution_count": 35,
   "metadata": {
    "deletable": false,
    "manual_grade": true,
    "manual_problem_id": "global_pop_10",
    "tags": []
   },
   "outputs": [
    {
     "data": {
      "text/html": [
       "<table border=\"1\" class=\"dataframe\">\n",
       "    <thead>\n",
       "        <tr>\n",
       "            <th>time</th> <th>population_total</th>\n",
       "        </tr>\n",
       "    </thead>\n",
       "    <tbody>\n",
       "        <tr>\n",
       "            <td>1800</td> <td>3280000         </td>\n",
       "        </tr>\n",
       "        <tr>\n",
       "            <td>1801</td> <td>3280000         </td>\n",
       "        </tr>\n",
       "        <tr>\n",
       "            <td>1802</td> <td>3280000         </td>\n",
       "        </tr>\n",
       "    </tbody>\n",
       "</table>\n",
       "<p>... (44322 rows omitted)</p>"
      ],
      "text/plain": [
       "<IPython.core.display.HTML object>"
      ]
     },
     "metadata": {},
     "output_type": "display_data"
    },
    {
     "data": {
      "image/png": "[encoded data removed]",
      "text/plain": [
       "<Figure size 600x600 with 1 Axes>"
      ]
     },
     "metadata": {},
     "output_type": "display_data"
    }
   ],
   "source": [
    "#Fill in code here\n",
    "sum_pop = population.select('time', 'population_total')\n",
    "sum_pop.show(3)\n",
    "sum_pop.plot('time', 'population_total')\n",
    "plots.xlabel('Year')\n",
    "plots.ylabel('Total')\n",
    "plots.show()"
   ]
  },
  {
   "attachments": {},
   "cell_type": "markdown",
   "metadata": {},
   "source": [
    "<!-- END QUESTION -->\n",
    "\n",
    "---\n",
    "\n",
    "**Question 11.** Create a function `stats_for_year` that takes a `year` and returns a table of statistics. The table it returns should have four columns: `geo`, `population_total`, `children_per_woman_total_fertility`, and `child_mortality_under_5_per_1000_born`. Each row should contain one unique Alpha-3 country code and three statistics: population, fertility rate, and child mortality for that `year` from the `population`, `fertility` and `child_mortality` tables. Only include rows for which all three statistics are available for the country and year.\n",
    "\n",
    "In addition, restrict the result to country codes that appears in `big_50`, an array of the 50 most populous countries in 2024. This restriction will speed up computations later in the project.\n",
    "\n",
    "After you write `stats_for_year`, try calling `stats_for_year` on any year between 1960 and 2024. Try to understand the output of stats_for_year.\n",
    "\n",
    "*Hint*: The tests for this question are quite comprehensive, so if you pass the tests, your function is probably correct. However, without calling your function yourself and looking at the output, it will be very difficult to understand any problems you have, so try your best to write the function correctly and check that it works before you rely on the `grader` tests to confirm your work.\n",
    "\n",
    "*Hint*: What do all three tables have in common (pay attention to column names)?\n",
    "\n",
    "*Hint*: Create additional cells before directly writing the function.\n"
   ]
  },
  {
   "cell_type": "code",
   "execution_count": 36,
   "metadata": {
    "deletable": false,
    "tags": []
   },
   "outputs": [
    {
     "data": {
      "text/html": [
       "<table border=\"1\" class=\"dataframe\">\n",
       "    <thead>\n",
       "        <tr>\n",
       "            <th>geo</th> <th>population_total</th> <th>children_per_woman_total_fertility</th> <th>child_mortality_under_5_per_1000_born</th>\n",
       "        </tr>\n",
       "    </thead>\n",
       "    <tbody>\n",
       "        <tr>\n",
       "            <td>afg </td> <td>39068979        </td> <td>5.15                              </td> <td>58.08                                </td>\n",
       "        </tr>\n",
       "        <tr>\n",
       "            <td>ago </td> <td>33451132        </td> <td>5.37                              </td> <td>72.29                                </td>\n",
       "        </tr>\n",
       "        <tr>\n",
       "            <td>arg </td> <td>45191965        </td> <td>1.6                               </td> <td>9.4                                  </td>\n",
       "        </tr>\n",
       "        <tr>\n",
       "            <td>bgd </td> <td>166298024       </td> <td>2.18                              </td> <td>27.7                                 </td>\n",
       "        </tr>\n",
       "        <tr>\n",
       "            <td>bra </td> <td>208660842       </td> <td>1.65                              </td> <td>13.47                                </td>\n",
       "        </tr>\n",
       "        <tr>\n",
       "            <td>can </td> <td>38171902        </td> <td>1.41                              </td> <td>4.89                                 </td>\n",
       "        </tr>\n",
       "        <tr>\n",
       "            <td>chn </td> <td>1426106093      </td> <td>1.24                              </td> <td>8.09                                 </td>\n",
       "        </tr>\n",
       "        <tr>\n",
       "            <td>civ </td> <td>28915449        </td> <td>4.46                              </td> <td>77.06                                </td>\n",
       "        </tr>\n",
       "        <tr>\n",
       "            <td>cod </td> <td>95989998        </td> <td>6.21                              </td> <td>84.53                                </td>\n",
       "        </tr>\n",
       "        <tr>\n",
       "            <td>col </td> <td>50629997        </td> <td>1.69                              </td> <td>13.48                                </td>\n",
       "        </tr>\n",
       "    </tbody>\n",
       "</table>\n",
       "<p>... (40 rows omitted)</p>"
      ],
      "text/plain": [
       "geo  | population_total | children_per_woman_total_fertility | child_mortality_under_5_per_1000_born\n",
       "afg  | 39068979         | 5.15                               | 58.08\n",
       "ago  | 33451132         | 5.37                               | 72.29\n",
       "arg  | 45191965         | 1.6                                | 9.4\n",
       "bgd  | 166298024        | 2.18                               | 27.7\n",
       "bra  | 208660842        | 1.65                               | 13.47\n",
       "can  | 38171902         | 1.41                               | 4.89\n",
       "chn  | 1426106093       | 1.24                               | 8.09\n",
       "civ  | 28915449         | 4.46                               | 77.06\n",
       "cod  | 95989998         | 6.21                               | 84.53\n",
       "col  | 50629997         | 1.69                               | 13.48\n",
       "... (40 rows omitted)"
      ]
     },
     "execution_count": 36,
     "metadata": {},
     "output_type": "execute_result"
    }
   ],
   "source": [
    "# We first create a population table that only includes the \n",
    "# 50 countries with the largest 2024 populations. We focus on \n",
    "# these 50 countries only so that plotting later will run faster.\n",
    "big_50 = population.where('time', are.equal_to(2024)).sort(\"population_total\", descending=True).take(np.arange(50)).column('geo')\n",
    "# print(big_50)\n",
    "population_of_big_50 = population.where('time', are.above(1959)).where('geo', are.contained_in(big_50))\n",
    "# population_of_big_50.show(5)\n",
    "\n",
    "def stats_for_year(year):\n",
    "    \"\"\"Return a table of the stats for each country that year.\"\"\"\n",
    "    p = population_of_big_50.where('time', are.equal_to(year))\n",
    "    f = fertility.where('time', are.equal_to(year))\n",
    "    c = child_mortality.where('time', are.equal_to(year))\n",
    "    \n",
    "    joined = p.join('geo', f, 'geo')\n",
    "    joined = joined.join('geo', c, 'geo')\n",
    "    \n",
    "    result = Table().with_column('geo', big_50)\n",
    "    result = result.join('geo', joined, 'geo')\n",
    "    \n",
    "    result = result.select(\n",
    "        'geo',\n",
    "        'population_total',\n",
    "        'children_per_woman_total_fertility',\n",
    "        'child_mortality_under_5_per_1000_born'\n",
    "    )\n",
    "    \n",
    "    return result\n",
    "\n",
    "stats_for_year(2020)"
   ]
  },
  {
   "cell_type": "code",
   "execution_count": 37,
   "metadata": {
    "deletable": false,
    "editable": false
   },
   "outputs": [
    {
     "data": {
      "text/html": [
       "<p><strong><pre style='display: inline;'>q1_11</pre></strong> passed! 🚀</p>"
      ],
      "text/plain": [
       "q1_11 results: All test cases passed!"
      ]
     },
     "execution_count": 37,
     "metadata": {},
     "output_type": "execute_result"
    }
   ],
   "source": [
    "grader.check(\"q1_11\")"
   ]
  },
  {
   "cell_type": "markdown",
   "metadata": {},
   "source": [
    "---\n",
    "\n",
    "**Question 12.** Create a table called `pop_by_decade` with two columns called `decade` and `population`, in this order. It has a row for each year that starts a decade, in increasing order starting with 1960 and ending with 2020. For example, 1960 is the start of the 1960's decade. The `population` column contains the total population of all countries included in the result of `stats_for_year(year)` for the first `year` of the decade. You should see that these countries contain most of the world's population.\n",
    "\n",
    "*Hint:* One approach is to define a function `pop_for_year` that computes this total population, then `apply` it to the `decade` column.  **Think about how you can use the `stats_for_year` function** from the previous question if you want to implement `pop_for_year`.\n",
    "\n",
    "This first test is just a sanity check for your helper function if you choose to use it. **You will not lose points for not implementing the function `pop_for_year`**.\n",
    "\n",
    "**Note:** The cell where you will generate the `pop_by_decade` table is below the cell where you can choose to define the helper function `pop_for_year`. You should define your `pop_by_decade` table in the cell that starts with the table `decades` being defined. \n"
   ]
  },
  {
   "cell_type": "code",
   "execution_count": 38,
   "metadata": {
    "tags": []
   },
   "outputs": [
    {
     "data": {
      "text/plain": [
       "3334568709"
      ]
     },
     "execution_count": 38,
     "metadata": {},
     "output_type": "execute_result"
    }
   ],
   "source": [
    "def pop_for_year(year):\n",
    "    \"\"\"Return the total population for the specified year.\"\"\"\n",
    "    return stats_for_year(year).select('population_total').column(0).sum()\n",
    "pop_for_year(1972)    "
   ]
  },
  {
   "cell_type": "code",
   "execution_count": 39,
   "metadata": {
    "deletable": false,
    "editable": false
   },
   "outputs": [
    {
     "data": {
      "text/html": [
       "<p><strong><pre style='display: inline;'>q1_12_0</pre></strong> passed! 🌈</p>"
      ],
      "text/plain": [
       "q1_12_0 results: All test cases passed!"
      ]
     },
     "execution_count": 39,
     "metadata": {},
     "output_type": "execute_result"
    }
   ],
   "source": [
    "grader.check(\"q1_12_0\")"
   ]
  },
  {
   "cell_type": "markdown",
   "metadata": {},
   "source": [
    "---\n",
    "\n",
    "Now that you've defined your helper function (if you've chosen to do so), define the `pop_by_decade` table."
   ]
  },
  {
   "cell_type": "code",
   "execution_count": 40,
   "metadata": {
    "deletable": false,
    "tags": []
   },
   "outputs": [],
   "source": [
    "decades = Table().with_column('decade', np.arange(1960, 2021, 10))\n"
   ]
  },
  {
   "cell_type": "code",
   "execution_count": 41,
   "id": "381fb5b9",
   "metadata": {},
   "outputs": [],
   "source": [
    "# Apply the function to each decade\n",
    "pop_totals = decades.apply(pop_for_year, 'decade')\n",
    "pop_by_decade = decades.with_column('population', pop_totals)\n",
    "pop_by_decade = pop_by_decade.set_format('population', NumberFormatter)"
   ]
  },
  {
   "cell_type": "code",
   "execution_count": 42,
   "metadata": {
    "deletable": false,
    "editable": false
   },
   "outputs": [
    {
     "data": {
      "text/html": [
       "<p><strong><pre style='display: inline;'>q1_12</pre></strong> passed! 🌈</p>"
      ],
      "text/plain": [
       "q1_12 results: All test cases passed!"
      ]
     },
     "execution_count": 42,
     "metadata": {},
     "output_type": "execute_result"
    }
   ],
   "source": [
    "grader.check(\"q1_12\")"
   ]
  },
  {
   "cell_type": "markdown",
   "metadata": {
    "deletable": false,
    "editable": false
   },
   "source": [
    "The `countries` table describes various characteristics of countries. The `country` column contains the same codes as the `geo` column in each of the other data tables (`population`, `fertility`, and `child_mortality`). The `world_6region` column classifies each country into a region of the world. Run the cell below to inspect the data."
   ]
  },
  {
   "cell_type": "code",
   "execution_count": 43,
   "metadata": {},
   "outputs": [
    {
     "data": {
      "text/html": [
       "<table border=\"1\" class=\"dataframe\">\n",
       "    <thead>\n",
       "        <tr>\n",
       "            <th>country</th> <th>name</th> <th>world_6region</th>\n",
       "        </tr>\n",
       "    </thead>\n",
       "    <tbody>\n",
       "        <tr>\n",
       "            <td>afg    </td> <td>Afghanistan         </td> <td>south_asia              </td>\n",
       "        </tr>\n",
       "        <tr>\n",
       "            <td>ago    </td> <td>Angola              </td> <td>sub_saharan_africa      </td>\n",
       "        </tr>\n",
       "        <tr>\n",
       "            <td>alb    </td> <td>Albania             </td> <td>europe_central_asia     </td>\n",
       "        </tr>\n",
       "        <tr>\n",
       "            <td>and    </td> <td>Andorra             </td> <td>europe_central_asia     </td>\n",
       "        </tr>\n",
       "        <tr>\n",
       "            <td>are    </td> <td>United Arab Emirates</td> <td>middle_east_north_africa</td>\n",
       "        </tr>\n",
       "        <tr>\n",
       "            <td>arg    </td> <td>Argentina           </td> <td>america                 </td>\n",
       "        </tr>\n",
       "        <tr>\n",
       "            <td>arm    </td> <td>Armenia             </td> <td>europe_central_asia     </td>\n",
       "        </tr>\n",
       "        <tr>\n",
       "            <td>atg    </td> <td>Antigua and Barbuda </td> <td>america                 </td>\n",
       "        </tr>\n",
       "        <tr>\n",
       "            <td>aus    </td> <td>Australia           </td> <td>east_asia_pacific       </td>\n",
       "        </tr>\n",
       "        <tr>\n",
       "            <td>aut    </td> <td>Austria             </td> <td>europe_central_asia     </td>\n",
       "        </tr>\n",
       "    </tbody>\n",
       "</table>\n",
       "<p>... (187 rows omitted)</p>"
      ],
      "text/plain": [
       "country | name                 | world_6region\n",
       "afg     | Afghanistan          | south_asia\n",
       "ago     | Angola               | sub_saharan_africa\n",
       "alb     | Albania              | europe_central_asia\n",
       "and     | Andorra              | europe_central_asia\n",
       "are     | United Arab Emirates | middle_east_north_africa\n",
       "arg     | Argentina            | america\n",
       "arm     | Armenia              | europe_central_asia\n",
       "atg     | Antigua and Barbuda  | america\n",
       "aus     | Australia            | east_asia_pacific\n",
       "aut     | Austria              | europe_central_asia\n",
       "... (187 rows omitted)"
      ]
     },
     "execution_count": 43,
     "metadata": {},
     "output_type": "execute_result"
    }
   ],
   "source": [
    "countries = Table.read_table('countries.csv').where('country', are.contained_in(population.group('geo').column('geo')))\n",
    "countries.select('country', 'name', 'world_6region')"
   ]
  },
  {
   "cell_type": "markdown",
   "metadata": {},
   "source": [
    "---\n",
    "\n",
    "**Question 13.** Create a table called `region_counts`. It should contain two columns called `region` and `count`. The `region` column should contain regions of the world, and the `count` column should contain the number of countries in each region that appears in the result of `stats_for_year(2024)`. \n",
    "\n",
    "For example, one row would have `south_asia` as its `region` value and an integer as its `count` value: the number of large South Asian countries for which we have population, fertility, and child mortality numbers from 2024.\n",
    "\n",
    "*Hint*: You may have to relabel a column to name it `region`. \n"
   ]
  },
  {
   "cell_type": "code",
   "execution_count": 44,
   "metadata": {
    "deletable": false,
    "tags": []
   },
   "outputs": [
    {
     "data": {
      "text/html": [
       "<table border=\"1\" class=\"dataframe\">\n",
       "    <thead>\n",
       "        <tr>\n",
       "            <th>geo</th> <th>population_total</th> <th>children_per_woman_total_fertility</th> <th>child_mortality_under_5_per_1000_born</th>\n",
       "        </tr>\n",
       "    </thead>\n",
       "    <tbody>\n",
       "        <tr>\n",
       "            <td>afg </td> <td>42647492        </td> <td>4.76                              </td> <td>50.62                                </td>\n",
       "        </tr>\n",
       "        <tr>\n",
       "            <td>ago </td> <td>37885849        </td> <td>5.05                              </td> <td>65.38                                </td>\n",
       "        </tr>\n",
       "        <tr>\n",
       "            <td>arg </td> <td>45696159        </td> <td>1.5                               </td> <td>8.52                                 </td>\n",
       "        </tr>\n",
       "        <tr>\n",
       "            <td>bgd </td> <td>173562364       </td> <td>2.14                              </td> <td>23.44                                </td>\n",
       "        </tr>\n",
       "        <tr>\n",
       "            <td>bra </td> <td>211998573       </td> <td>1.61                              </td> <td>11.91                                </td>\n",
       "        </tr>\n",
       "        <tr>\n",
       "            <td>can </td> <td>39742430        </td> <td>1.34                              </td> <td>4.56                                 </td>\n",
       "        </tr>\n",
       "        <tr>\n",
       "            <td>chn </td> <td>1419321278      </td> <td>1.01                              </td> <td>7.18                                 </td>\n",
       "        </tr>\n",
       "        <tr>\n",
       "            <td>civ </td> <td>31934230        </td> <td>4.23                              </td> <td>70.99                                </td>\n",
       "        </tr>\n",
       "        <tr>\n",
       "            <td>cod </td> <td>109276265       </td> <td>5.98                              </td> <td>78.48                                </td>\n",
       "        </tr>\n",
       "        <tr>\n",
       "            <td>col </td> <td>52886363        </td> <td>1.63                              </td> <td>12.13                                </td>\n",
       "        </tr>\n",
       "    </tbody>\n",
       "</table>\n",
       "<p>... (40 rows omitted)</p>"
      ],
      "text/plain": [
       "geo  | population_total | children_per_woman_total_fertility | child_mortality_under_5_per_1000_born\n",
       "afg  | 42647492         | 4.76                               | 50.62\n",
       "ago  | 37885849         | 5.05                               | 65.38\n",
       "arg  | 45696159         | 1.5                                | 8.52\n",
       "bgd  | 173562364        | 2.14                               | 23.44\n",
       "bra  | 211998573        | 1.61                               | 11.91\n",
       "can  | 39742430         | 1.34                               | 4.56\n",
       "chn  | 1419321278       | 1.01                               | 7.18\n",
       "civ  | 31934230         | 4.23                               | 70.99\n",
       "cod  | 109276265        | 5.98                               | 78.48\n",
       "col  | 52886363         | 1.63                               | 12.13\n",
       "... (40 rows omitted)"
      ]
     },
     "execution_count": 44,
     "metadata": {},
     "output_type": "execute_result"
    }
   ],
   "source": [
    "stats_for_2024 = stats_for_year(2024)\n",
    "stats_for_2024"
   ]
  },
  {
   "cell_type": "code",
   "execution_count": 45,
   "id": "728cfecc",
   "metadata": {},
   "outputs": [
    {
     "data": {
      "text/html": [
       "<table border=\"1\" class=\"dataframe\">\n",
       "    <thead>\n",
       "        <tr>\n",
       "            <th>country</th> <th>name</th> <th>world_6region</th>\n",
       "        </tr>\n",
       "    </thead>\n",
       "    <tbody>\n",
       "        <tr>\n",
       "            <td>afg    </td> <td>Afghanistan     </td> <td>south_asia        </td>\n",
       "        </tr>\n",
       "        <tr>\n",
       "            <td>ago    </td> <td>Angola          </td> <td>sub_saharan_africa</td>\n",
       "        </tr>\n",
       "        <tr>\n",
       "            <td>arg    </td> <td>Argentina       </td> <td>america           </td>\n",
       "        </tr>\n",
       "        <tr>\n",
       "            <td>bgd    </td> <td>Bangladesh      </td> <td>south_asia        </td>\n",
       "        </tr>\n",
       "        <tr>\n",
       "            <td>bra    </td> <td>Brazil          </td> <td>america           </td>\n",
       "        </tr>\n",
       "        <tr>\n",
       "            <td>can    </td> <td>Canada          </td> <td>america           </td>\n",
       "        </tr>\n",
       "        <tr>\n",
       "            <td>chn    </td> <td>China           </td> <td>east_asia_pacific </td>\n",
       "        </tr>\n",
       "        <tr>\n",
       "            <td>civ    </td> <td>Cote d'Ivoire   </td> <td>sub_saharan_africa</td>\n",
       "        </tr>\n",
       "        <tr>\n",
       "            <td>cod    </td> <td>Congo, Dem. Rep.</td> <td>sub_saharan_africa</td>\n",
       "        </tr>\n",
       "        <tr>\n",
       "            <td>col    </td> <td>Colombia        </td> <td>america           </td>\n",
       "        </tr>\n",
       "    </tbody>\n",
       "</table>\n",
       "<p>... (40 rows omitted)</p>"
      ],
      "text/plain": [
       "country | name             | world_6region\n",
       "afg     | Afghanistan      | south_asia\n",
       "ago     | Angola           | sub_saharan_africa\n",
       "arg     | Argentina        | america\n",
       "bgd     | Bangladesh       | south_asia\n",
       "bra     | Brazil           | america\n",
       "can     | Canada           | america\n",
       "chn     | China            | east_asia_pacific\n",
       "civ     | Cote d'Ivoire    | sub_saharan_africa\n",
       "cod     | Congo, Dem. Rep. | sub_saharan_africa\n",
       "col     | Colombia         | america\n",
       "... (40 rows omitted)"
      ]
     },
     "execution_count": 45,
     "metadata": {},
     "output_type": "execute_result"
    }
   ],
   "source": [
    "joined =  countries.join('country', stats_for_2024, 'geo').select('country', 'name', 'world_6region')\n",
    "joined"
   ]
  },
  {
   "cell_type": "code",
   "execution_count": 46,
   "id": "2327cd27",
   "metadata": {},
   "outputs": [],
   "source": [
    "region = joined.relabeled('world_6region', 'region')"
   ]
  },
  {
   "cell_type": "code",
   "execution_count": 47,
   "id": "e177ae4d",
   "metadata": {},
   "outputs": [
    {
     "data": {
      "text/html": [
       "<table border=\"1\" class=\"dataframe\">\n",
       "    <thead>\n",
       "        <tr>\n",
       "            <th>region</th> <th>count</th>\n",
       "        </tr>\n",
       "    </thead>\n",
       "    <tbody>\n",
       "        <tr>\n",
       "            <td>america                 </td> <td>7    </td>\n",
       "        </tr>\n",
       "        <tr>\n",
       "            <td>east_asia_pacific       </td> <td>9    </td>\n",
       "        </tr>\n",
       "        <tr>\n",
       "            <td>europe_central_asia     </td> <td>10   </td>\n",
       "        </tr>\n",
       "        <tr>\n",
       "            <td>middle_east_north_africa</td> <td>7    </td>\n",
       "        </tr>\n",
       "        <tr>\n",
       "            <td>south_asia              </td> <td>4    </td>\n",
       "        </tr>\n",
       "        <tr>\n",
       "            <td>sub_saharan_africa      </td> <td>13   </td>\n",
       "        </tr>\n",
       "    </tbody>\n",
       "</table>"
      ],
      "text/plain": [
       "region                   | count\n",
       "america                  | 7\n",
       "east_asia_pacific        | 9\n",
       "europe_central_asia      | 10\n",
       "middle_east_north_africa | 7\n",
       "south_asia               | 4\n",
       "sub_saharan_africa       | 13"
      ]
     },
     "execution_count": 47,
     "metadata": {},
     "output_type": "execute_result"
    }
   ],
   "source": [
    "region_counts = region.group('region')\n",
    "\n",
    "region_counts"
   ]
  },
  {
   "cell_type": "code",
   "execution_count": 48,
   "metadata": {
    "deletable": false,
    "editable": false
   },
   "outputs": [
    {
     "data": {
      "text/html": [
       "<p><strong><pre style='display: inline;'>q1_13</pre></strong> passed! ✨</p>"
      ],
      "text/plain": [
       "q1_13 results: All test cases passed!"
      ]
     },
     "execution_count": 48,
     "metadata": {},
     "output_type": "execute_result"
    }
   ],
   "source": [
    "grader.check(\"q1_13\")"
   ]
  },
  {
   "cell_type": "markdown",
   "metadata": {
    "deletable": false
   },
   "source": [
    "The following scatter diagram compares total fertility rate and child mortality rate for each country in 1960. The area of each dot represents the population of the country, and the color represents its region of the world. Run the cell. Do you think you can identify any of the dots?"
   ]
  },
  {
   "cell_type": "code",
   "execution_count": 49,
   "metadata": {
    "deletable": false
   },
   "outputs": [
    {
     "data": {
      "image/png": "[encoded data removed]",
      "text/plain": [
       "<Figure size 500x500 with 1 Axes>"
      ]
     },
     "metadata": {},
     "output_type": "display_data"
    }
   ],
   "source": [
    "from functools import lru_cache as cache\n",
    "\n",
    "# This cache annotation makes sure that if the same year\n",
    "# is passed as an argument twice, the work of computing\n",
    "# the result is only carried out once.\n",
    "@cache(None)\n",
    "def stats_relabeled(year):\n",
    "    \"\"\"Relabeled and cached version of stats_for_year.\"\"\"\n",
    "    return stats_for_year(year).relabel(2, 'Children per woman').relabel(3, 'Child deaths per 1000 born')\n",
    "\n",
    "def fertility_vs_child_mortality(year):\n",
    "    \"\"\"Draw a color scatter diagram comparing child mortality and fertility.\"\"\"\n",
    "    with_region = stats_relabeled(year).join('geo', countries.select('country', 'world_6region'), 'country')\n",
    "    with_region.scatter(2, 3, sizes=1, group=4, s=500)\n",
    "    plots.xlim(0,10)\n",
    "    plots.ylim(-50, 500)\n",
    "    plots.title(year)\n",
    "    plots.show()\n",
    "\n",
    "fertility_vs_child_mortality(1960)"
   ]
  },
  {
   "cell_type": "markdown",
   "metadata": {},
   "source": [
    "---\n",
    "\n",
    "**Question 14.** Assign `scatter_statements` to an array of the numbers of each statement below that can be inferred from this scatter diagram for 1960. \n",
    "1. All countries in `europe_central_asia` had uniformly low fertility rates.\n",
    "1. The lowest child mortality rate of any country was from an `east_asia_pacific` country.\n",
    "1. Most countries had a fertility rate above 5.\n",
    "1. There was an association between child mortality and fertility.\n",
    "1. The two largest countries by population also had the two highest child mortality rates.\n"
   ]
  },
  {
   "cell_type": "code",
   "execution_count": 50,
   "metadata": {
    "deletable": false,
    "tags": []
   },
   "outputs": [],
   "source": [
    "scatter_statements = [1,2,3,4]"
   ]
  },
  {
   "cell_type": "code",
   "execution_count": 51,
   "metadata": {
    "deletable": false,
    "editable": false
   },
   "outputs": [
    {
     "data": {
      "text/html": [
       "<p><strong><pre style='display: inline;'>q1_14</pre></strong> passed! 💯</p>"
      ],
      "text/plain": [
       "q1_14 results: All test cases passed!"
      ]
     },
     "execution_count": 51,
     "metadata": {},
     "output_type": "execute_result"
    }
   ],
   "source": [
    "grader.check(\"q1_14\")"
   ]
  },
  {
   "cell_type": "markdown",
   "metadata": {
    "deletable": false
   },
   "source": [
    "The result of the cell below is interactive. Drag the slider to the right to see how countries have changed over time. You’ll find that in terms of population growth, the divide between the countries of the global North and global South that existed in the 1960s has shrunk significantly. \n",
    "\n",
    "This shift in fertility rates is the reason that the global population is expected to grow more slowly in the 21st century than it did in the 19th and 20th centuries. Fertility rates change for reasons that include cultural patterns, better prospects for children surviving to adulthood, and family planning (such as contraception and women’s greater control over their reproduction).\n",
    "\n",
    "**Note:** Don't worry if a red warning pops up when running the cell below. You'll still be able to run the cell!"
   ]
  },
  {
   "cell_type": "code",
   "execution_count": 52,
   "metadata": {
    "deletable": false,
    "scrolled": true
   },
   "outputs": [
    {
     "data": {
      "application/vnd.jupyter.widget-view+json": {
       "model_id": "ef5515a7581e439e9e3a863b0b7f7c31",
       "version_major": 2,
       "version_minor": 0
      },
      "text/plain": [
       "interactive(children=(IntSlider(value=1960, description='year', max=2024, min=1960), Output()), _dom_classes=(…"
      ]
     },
     "metadata": {},
     "output_type": "display_data"
    }
   ],
   "source": [
    "_ = widgets.interact(fertility_vs_child_mortality, \n",
    "                     year=widgets.IntSlider(min=1960, max=2024, value=1960))"
   ]
  },
  {
   "cell_type": "markdown",
   "metadata": {
    "deletable": false,
    "editable": false
   },
   "source": [
    "Now is a great time to take a break and watch the same data presented by [Hans Rosling in a 2010 TEDx talk](https://www.gapminder.org/videos/reducing-child-mortality-a-moral-and-environmental-imperative) with smoother animation and witty commentary."
   ]
  },
  {
   "cell_type": "markdown",
   "metadata": {},
   "source": [
    "When we look at population and fertility as data scientists, we need to learn about the experiences of people in real life, not just abstractly as data. We should also recognize that population studies have sometimes had political undercurrents. Those undercurrents have included population control, control of women’s reproduction, or fears of shifts between racial groups. To do better as data scientists, we should check our assumptions to avoid unthinkingly reproducing past patterns."
   ]
  },
  {
   "cell_type": "markdown",
   "metadata": {
    "deletable": false
   },
   "source": [
    "<hr style=\"border: 5px solid #003262;\" />\n",
    "<hr style=\"border: 1px solid #fdb515;\" />\n",
    "\n",
    "## 2. Global Poverty"
   ]
  },
  {
   "cell_type": "markdown",
   "metadata": {
    "deletable": false
   },
   "source": [
    "In 1800, 85% of the world's 1 billion people lived in [extreme poverty](https://en.wikipedia.org/wiki/Extreme_poverty), defined by the United Nations as \"a condition characterized by severe deprivation of basic human needs, including food, safe drinking water, sanitation facilities, health, shelter, education and information.\" At the time when the data in this project were gathered, a common definition of extreme poverty was a person living on less than \\$1.25 a day.\n",
    "\n",
    "In 2018, the proportion of people living in extreme poverty was estimated to be [about 9\\%](https://unstats.un.org/sdgs/report/2019/goal-01/). Although the world rate of extreme poverty has declined consistently for hundreds of years, the number of people living in extreme poverty is still over 600 million. The United Nations adopted an [ambitious goal](http://www.un.org/sustainabledevelopment/poverty/): \"By 2030, eradicate extreme poverty for all people everywhere.\"\n",
    "\n",
    "In this part of the project, we will examine some aspects of global poverty that might affect whether the goal is achievable. The causes of poverty are complex. They include global histories, such as colonialism, as well as factors such as health care, economics, and social inequality in each country."
   ]
  },
  {
   "cell_type": "markdown",
   "metadata": {
    "deletable": false,
    "editable": false
   },
   "source": [
    "First, load the population and poverty rate by country and year and the country descriptions. While the `population` table has values for every recent year for many countries, the `poverty` table only includes certain years for each country in which a measurement of the rate of extreme poverty was available."
   ]
  },
  {
   "cell_type": "code",
   "execution_count": 53,
   "metadata": {},
   "outputs": [
    {
     "data": {
      "text/html": [
       "<table border=\"1\" class=\"dataframe\">\n",
       "    <thead>\n",
       "        <tr>\n",
       "            <th>geo</th> <th>time</th> <th>extreme_poverty_percent_people_below_125_a_day</th>\n",
       "        </tr>\n",
       "    </thead>\n",
       "    <tbody>\n",
       "        <tr>\n",
       "            <td>alb </td> <td>1996</td> <td>0.2                                           </td>\n",
       "        </tr>\n",
       "        <tr>\n",
       "            <td>alb </td> <td>2002</td> <td>0.73                                          </td>\n",
       "        </tr>\n",
       "        <tr>\n",
       "            <td>alb </td> <td>2004</td> <td>0.53                                          </td>\n",
       "        </tr>\n",
       "    </tbody>\n",
       "</table>\n",
       "<p>... (1096 rows omitted)</p>"
      ],
      "text/plain": [
       "<IPython.core.display.HTML object>"
      ]
     },
     "metadata": {},
     "output_type": "display_data"
    }
   ],
   "source": [
    "population = Table.read_table('population.csv') \n",
    "countries = Table.read_table('countries.csv').where('country', are.contained_in(population.group('geo').column('geo')))\n",
    "poverty = Table.read_table('poverty.csv')\n",
    "poverty.show(3)"
   ]
  },
  {
   "cell_type": "markdown",
   "metadata": {},
   "source": [
    "---\n",
    "\n",
    "**Question 1.** Assign `latest_poverty` to a three-column table with one row for each country that appears in the `poverty` table. The first column should contain the 3-letter code for the country. The second column should contain the most recent year for which an extreme poverty rate is available for the country. The third column should contain the poverty rate in that year. **Do not change the last line, so that the labels of your table are set correctly.**\n",
    "\n",
    "*Hint*: think about how ```group``` works: it does a sequential search of the table (from top to bottom) and collects values in the array in the order in which they appear, and then applies a function to that array. The `first` function may be helpful, but you are not required to use it.\n"
   ]
  },
  {
   "cell_type": "code",
   "execution_count": 54,
   "id": "5c576263",
   "metadata": {},
   "outputs": [],
   "source": [
    "def first(values):\n",
    "    return values.item(0)"
   ]
  },
  {
   "cell_type": "code",
   "execution_count": 55,
   "metadata": {
    "deletable": false,
    "tags": []
   },
   "outputs": [
    {
     "data": {
      "text/html": [
       "<table border=\"1\" class=\"dataframe\">\n",
       "    <thead>\n",
       "        <tr>\n",
       "            <th>geo</th> <th>time</th> <th>poverty_percent</th>\n",
       "        </tr>\n",
       "    </thead>\n",
       "    <tbody>\n",
       "        <tr>\n",
       "            <td>ago </td> <td>2009</td> <td>43.37          </td>\n",
       "        </tr>\n",
       "        <tr>\n",
       "            <td>alb </td> <td>2012</td> <td>0.46           </td>\n",
       "        </tr>\n",
       "        <tr>\n",
       "            <td>arg </td> <td>2011</td> <td>1.41           </td>\n",
       "        </tr>\n",
       "        <tr>\n",
       "            <td>arm </td> <td>2012</td> <td>1.75           </td>\n",
       "        </tr>\n",
       "        <tr>\n",
       "            <td>aus </td> <td>2003</td> <td>1.36           </td>\n",
       "        </tr>\n",
       "        <tr>\n",
       "            <td>aut </td> <td>2004</td> <td>0.34           </td>\n",
       "        </tr>\n",
       "        <tr>\n",
       "            <td>aze </td> <td>2008</td> <td>0.31           </td>\n",
       "        </tr>\n",
       "        <tr>\n",
       "            <td>bdi </td> <td>2006</td> <td>81.32          </td>\n",
       "        </tr>\n",
       "        <tr>\n",
       "            <td>bel </td> <td>2000</td> <td>0.5            </td>\n",
       "        </tr>\n",
       "        <tr>\n",
       "            <td>ben </td> <td>2012</td> <td>51.61          </td>\n",
       "        </tr>\n",
       "    </tbody>\n",
       "</table>\n",
       "<p>... (135 rows omitted)</p>"
      ],
      "text/plain": [
       "geo  | time | poverty_percent\n",
       "ago  | 2009 | 43.37\n",
       "alb  | 2012 | 0.46\n",
       "arg  | 2011 | 1.41\n",
       "arm  | 2012 | 1.75\n",
       "aus  | 2003 | 1.36\n",
       "aut  | 2004 | 0.34\n",
       "aze  | 2008 | 0.31\n",
       "bdi  | 2006 | 81.32\n",
       "bel  | 2000 | 0.5\n",
       "ben  | 2012 | 51.61\n",
       "... (135 rows omitted)"
      ]
     },
     "execution_count": 55,
     "metadata": {},
     "output_type": "execute_result"
    }
   ],
   "source": [
    "\n",
    "latest_poverty = poverty.sort('time', descending=True).group('geo', first)\n",
    "latest_poverty = latest_poverty.relabeled(0, 'geo').relabeled(1, 'time').relabeled(2, 'poverty_percent') # You should *not* change this line.\n",
    "latest_poverty"
   ]
  },
  {
   "cell_type": "code",
   "execution_count": 56,
   "metadata": {
    "deletable": false,
    "editable": false
   },
   "outputs": [
    {
     "data": {
      "text/html": [
       "<p><strong><pre style='display: inline;'>q2_1</pre></strong> passed! 💯</p>"
      ],
      "text/plain": [
       "q2_1 results: All test cases passed!"
      ]
     },
     "execution_count": 56,
     "metadata": {},
     "output_type": "execute_result"
    }
   ],
   "source": [
    "grader.check(\"q2_1\")"
   ]
  },
  {
   "cell_type": "markdown",
   "metadata": {},
   "source": [
    "---\n",
    "\n",
    "**Question 2.** Using both `latest_poverty` and `population`, create a four-column table called `recent_poverty_total` with one row for each country in `latest_poverty`. The four columns should have the following labels and contents:\n",
    "1. `geo` contains the 3-letter country code,\n",
    "1. `poverty_percent` contains the most recent poverty percent,\n",
    "1. `population_total` contains the population of the country in 2010,\n",
    "1. `poverty_total` contains the number of people in poverty **rounded to the nearest integer**, based on the 2010 population and most recent poverty rate.\n",
    "\n",
    "*Hint*: You are not required to use `poverty_and_pop`, and you are always welcome to add any additional names. "
   ]
  },
  {
   "cell_type": "code",
   "execution_count": 57,
   "id": "5ccdfa55",
   "metadata": {},
   "outputs": [
    {
     "data": {
      "text/html": [
       "<table border=\"1\" class=\"dataframe\">\n",
       "    <thead>\n",
       "        <tr>\n",
       "            <th>geo</th> <th>time</th> <th>poverty_percent</th> <th>population_total</th>\n",
       "        </tr>\n",
       "    </thead>\n",
       "    <tbody>\n",
       "        <tr>\n",
       "            <td>ago </td> <td>2009</td> <td>43.37          </td> <td>23294825        </td>\n",
       "        </tr>\n",
       "        <tr>\n",
       "            <td>alb </td> <td>2012</td> <td>0.46           </td> <td>2928722         </td>\n",
       "        </tr>\n",
       "        <tr>\n",
       "            <td>arg </td> <td>2011</td> <td>1.41           </td> <td>41288694        </td>\n",
       "        </tr>\n",
       "        <tr>\n",
       "            <td>arm </td> <td>2012</td> <td>1.75           </td> <td>2931078         </td>\n",
       "        </tr>\n",
       "        <tr>\n",
       "            <td>aus </td> <td>2003</td> <td>1.36           </td> <td>22141581        </td>\n",
       "        </tr>\n",
       "        <tr>\n",
       "            <td>aut </td> <td>2004</td> <td>0.34           </td> <td>8365092         </td>\n",
       "        </tr>\n",
       "        <tr>\n",
       "            <td>aze </td> <td>2008</td> <td>0.31           </td> <td>9146851         </td>\n",
       "        </tr>\n",
       "        <tr>\n",
       "            <td>bdi </td> <td>2006</td> <td>81.32          </td> <td>9376444         </td>\n",
       "        </tr>\n",
       "        <tr>\n",
       "            <td>bel </td> <td>2000</td> <td>0.5            </td> <td>10936626        </td>\n",
       "        </tr>\n",
       "        <tr>\n",
       "            <td>ben </td> <td>2012</td> <td>51.61          </td> <td>9797484         </td>\n",
       "        </tr>\n",
       "    </tbody>\n",
       "</table>\n",
       "<p>... (135 rows omitted)</p>"
      ],
      "text/plain": [
       "geo  | time | poverty_percent | population_total\n",
       "ago  | 2009 | 43.37           | 23294825\n",
       "alb  | 2012 | 0.46            | 2928722\n",
       "arg  | 2011 | 1.41            | 41288694\n",
       "arm  | 2012 | 1.75            | 2931078\n",
       "aus  | 2003 | 1.36            | 22141581\n",
       "aut  | 2004 | 0.34            | 8365092\n",
       "aze  | 2008 | 0.31            | 9146851\n",
       "bdi  | 2006 | 81.32           | 9376444\n",
       "bel  | 2000 | 0.5             | 10936626\n",
       "ben  | 2012 | 51.61           | 9797484\n",
       "... (135 rows omitted)"
      ]
     },
     "execution_count": 57,
     "metadata": {},
     "output_type": "execute_result"
    }
   ],
   "source": [
    "\n",
    "population_2010 = population.where('time', 2010).select('geo', 'population_total')\n",
    "\n",
    "poverty_and_pop = latest_poverty.join('geo', population_2010)\n",
    "poverty_and_pop"
   ]
  },
  {
   "cell_type": "code",
   "execution_count": 58,
   "id": "e75799ab",
   "metadata": {},
   "outputs": [],
   "source": [
    "poverty_totals = poverty_and_pop.with_column(\n",
    "    'poverty_total', \n",
    "    np.round(poverty_and_pop.column('poverty_percent') / 100 * poverty_and_pop.column('population_total'))\n",
    ")"
   ]
  },
  {
   "cell_type": "code",
   "execution_count": 59,
   "metadata": {
    "deletable": false,
    "tags": []
   },
   "outputs": [
    {
     "data": {
      "text/html": [
       "<table border=\"1\" class=\"dataframe\">\n",
       "    <thead>\n",
       "        <tr>\n",
       "            <th>geo</th> <th>poverty_percent</th> <th>population_total</th> <th>poverty_total</th>\n",
       "        </tr>\n",
       "    </thead>\n",
       "    <tbody>\n",
       "        <tr>\n",
       "            <td>ago </td> <td>43.37          </td> <td>23294825        </td> <td>1.0103e+07   </td>\n",
       "        </tr>\n",
       "        <tr>\n",
       "            <td>alb </td> <td>0.46           </td> <td>2928722         </td> <td>13472        </td>\n",
       "        </tr>\n",
       "        <tr>\n",
       "            <td>arg </td> <td>1.41           </td> <td>41288694        </td> <td>582171       </td>\n",
       "        </tr>\n",
       "        <tr>\n",
       "            <td>arm </td> <td>1.75           </td> <td>2931078         </td> <td>51294        </td>\n",
       "        </tr>\n",
       "        <tr>\n",
       "            <td>aus </td> <td>1.36           </td> <td>22141581        </td> <td>301126       </td>\n",
       "        </tr>\n",
       "        <tr>\n",
       "            <td>aut </td> <td>0.34           </td> <td>8365092         </td> <td>28441        </td>\n",
       "        </tr>\n",
       "        <tr>\n",
       "            <td>aze </td> <td>0.31           </td> <td>9146851         </td> <td>28355        </td>\n",
       "        </tr>\n",
       "        <tr>\n",
       "            <td>bdi </td> <td>81.32          </td> <td>9376444         </td> <td>7.62492e+06  </td>\n",
       "        </tr>\n",
       "        <tr>\n",
       "            <td>bel </td> <td>0.5            </td> <td>10936626        </td> <td>54683        </td>\n",
       "        </tr>\n",
       "        <tr>\n",
       "            <td>ben </td> <td>51.61          </td> <td>9797484         </td> <td>5.05648e+06  </td>\n",
       "        </tr>\n",
       "    </tbody>\n",
       "</table>\n",
       "<p>... (135 rows omitted)</p>"
      ],
      "text/plain": [
       "geo  | poverty_percent | population_total | poverty_total\n",
       "ago  | 43.37           | 23294825         | 1.0103e+07\n",
       "alb  | 0.46            | 2928722          | 13472\n",
       "arg  | 1.41            | 41288694         | 582171\n",
       "arm  | 1.75            | 2931078          | 51294\n",
       "aus  | 1.36            | 22141581         | 301126\n",
       "aut  | 0.34            | 8365092          | 28441\n",
       "aze  | 0.31            | 9146851          | 28355\n",
       "bdi  | 81.32           | 9376444          | 7.62492e+06\n",
       "bel  | 0.5             | 10936626         | 54683\n",
       "ben  | 51.61           | 9797484          | 5.05648e+06\n",
       "... (135 rows omitted)"
      ]
     },
     "execution_count": 59,
     "metadata": {},
     "output_type": "execute_result"
    }
   ],
   "source": [
    "recent_poverty_total = poverty_totals.select(\n",
    "    'geo', 'poverty_percent', 'population_total', 'poverty_total'\n",
    ")\n",
    "recent_poverty_total"
   ]
  },
  {
   "cell_type": "code",
   "execution_count": 60,
   "metadata": {
    "deletable": false,
    "editable": false
   },
   "outputs": [
    {
     "data": {
      "text/html": [
       "<p><strong><pre style='display: inline;'>q2_2</pre></strong> passed! 💯</p>"
      ],
      "text/plain": [
       "q2_2 results: All test cases passed!"
      ]
     },
     "execution_count": 60,
     "metadata": {},
     "output_type": "execute_result"
    }
   ],
   "source": [
    "grader.check(\"q2_2\")"
   ]
  },
  {
   "cell_type": "markdown",
   "metadata": {},
   "source": [
    "---\n",
    "\n",
    "**Question 3.** Assign the name `poverty_percent` to the known percentage of the world’s 2010 population that were living in extreme poverty. Assume that the `poverty_total` numbers in the `recent_poverty_total` table describe **all** people in 2010 living in extreme poverty. You should get a number that is above the 2018 global estimate of 9%, since many country-specific poverty rates are older than 2018.\n",
    "\n",
    "*Hint*: The sum of the `population_total` column in the `recent_poverty_total` table is not the world population, because only a subset of the world's countries are included in the `recent_poverty_total` table (only some countries have known poverty rates). Use the `population` table to compute the world's 2010 total population.\n",
    "\n",
    "*Hint*: We are computing a percentage (value between 0 and 100), not a proportion (value between 0 and 1).\n"
   ]
  },
  {
   "cell_type": "code",
   "execution_count": 61,
   "id": "52a9f24a",
   "metadata": {},
   "outputs": [
    {
     "data": {
      "text/plain": [
       "7011271353"
      ]
     },
     "execution_count": 61,
     "metadata": {},
     "output_type": "execute_result"
    }
   ],
   "source": [
    "pop_total = population_2010.column('population_total').sum()\n",
    "pop_total"
   ]
  },
  {
   "cell_type": "code",
   "execution_count": 62,
   "id": "d4c46b71",
   "metadata": {},
   "outputs": [
    {
     "data": {
      "text/plain": [
       "1011667558.0"
      ]
     },
     "execution_count": 62,
     "metadata": {},
     "output_type": "execute_result"
    }
   ],
   "source": [
    "pov_total = recent_poverty_total.column('poverty_total').sum()\n",
    "pov_total"
   ]
  },
  {
   "cell_type": "code",
   "execution_count": 63,
   "metadata": {
    "deletable": false,
    "tags": []
   },
   "outputs": [
    {
     "data": {
      "text/plain": [
       "14.429159949245513"
      ]
     },
     "execution_count": 63,
     "metadata": {},
     "output_type": "execute_result"
    }
   ],
   "source": [
    "poverty_percent = pov_total / pop_total*100\n",
    "poverty_percent"
   ]
  },
  {
   "cell_type": "code",
   "execution_count": 64,
   "metadata": {
    "deletable": false,
    "editable": false
   },
   "outputs": [
    {
     "data": {
      "text/html": [
       "<p><strong><pre style='display: inline;'>q2_3</pre></strong> passed! 🍀</p>"
      ],
      "text/plain": [
       "q2_3 results: All test cases passed!"
      ]
     },
     "execution_count": 64,
     "metadata": {},
     "output_type": "execute_result"
    }
   ],
   "source": [
    "grader.check(\"q2_3\")"
   ]
  },
  {
   "cell_type": "markdown",
   "metadata": {
    "deletable": false,
    "editable": false
   },
   "source": [
    "The `countries` table includes not only the name and region of countries, but also their positions on the globe."
   ]
  },
  {
   "cell_type": "code",
   "execution_count": 65,
   "metadata": {
    "deletable": false,
    "editable": false
   },
   "outputs": [
    {
     "data": {
      "text/html": [
       "<table border=\"1\" class=\"dataframe\">\n",
       "    <thead>\n",
       "        <tr>\n",
       "            <th>country</th> <th>name</th> <th>world_4region</th> <th>latitude</th> <th>longitude</th>\n",
       "        </tr>\n",
       "    </thead>\n",
       "    <tbody>\n",
       "        <tr>\n",
       "            <td>afg    </td> <td>Afghanistan         </td> <td>asia         </td> <td>33      </td> <td>66       </td>\n",
       "        </tr>\n",
       "        <tr>\n",
       "            <td>ago    </td> <td>Angola              </td> <td>africa       </td> <td>-12.5   </td> <td>18.5     </td>\n",
       "        </tr>\n",
       "        <tr>\n",
       "            <td>alb    </td> <td>Albania             </td> <td>europe       </td> <td>41      </td> <td>20       </td>\n",
       "        </tr>\n",
       "        <tr>\n",
       "            <td>and    </td> <td>Andorra             </td> <td>europe       </td> <td>42.5078 </td> <td>1.52109  </td>\n",
       "        </tr>\n",
       "        <tr>\n",
       "            <td>are    </td> <td>United Arab Emirates</td> <td>asia         </td> <td>23.75   </td> <td>54.5     </td>\n",
       "        </tr>\n",
       "        <tr>\n",
       "            <td>arg    </td> <td>Argentina           </td> <td>americas     </td> <td>-34     </td> <td>-64      </td>\n",
       "        </tr>\n",
       "        <tr>\n",
       "            <td>arm    </td> <td>Armenia             </td> <td>europe       </td> <td>40.25   </td> <td>45       </td>\n",
       "        </tr>\n",
       "        <tr>\n",
       "            <td>atg    </td> <td>Antigua and Barbuda </td> <td>americas     </td> <td>17.05   </td> <td>-61.8    </td>\n",
       "        </tr>\n",
       "        <tr>\n",
       "            <td>aus    </td> <td>Australia           </td> <td>asia         </td> <td>-25     </td> <td>135      </td>\n",
       "        </tr>\n",
       "        <tr>\n",
       "            <td>aut    </td> <td>Austria             </td> <td>europe       </td> <td>47.3333 </td> <td>13.3333  </td>\n",
       "        </tr>\n",
       "    </tbody>\n",
       "</table>\n",
       "<p>... (187 rows omitted)</p>"
      ],
      "text/plain": [
       "country | name                 | world_4region | latitude | longitude\n",
       "afg     | Afghanistan          | asia          | 33       | 66\n",
       "ago     | Angola               | africa        | -12.5    | 18.5\n",
       "alb     | Albania              | europe        | 41       | 20\n",
       "and     | Andorra              | europe        | 42.5078  | 1.52109\n",
       "are     | United Arab Emirates | asia          | 23.75    | 54.5\n",
       "arg     | Argentina            | americas      | -34      | -64\n",
       "arm     | Armenia              | europe        | 40.25    | 45\n",
       "atg     | Antigua and Barbuda  | americas      | 17.05    | -61.8\n",
       "aus     | Australia            | asia          | -25      | 135\n",
       "aut     | Austria              | europe        | 47.3333  | 13.3333\n",
       "... (187 rows omitted)"
      ]
     },
     "execution_count": 65,
     "metadata": {},
     "output_type": "execute_result"
    }
   ],
   "source": [
    "count_data = countries.select('country', 'name', 'world_4region', 'latitude', 'longitude')\n",
    "count_data"
   ]
  },
  {
   "cell_type": "markdown",
   "metadata": {},
   "source": [
    "---\n",
    "\n",
    "**Question 4.** Using both `countries` and `recent_poverty_total`, create a five-column table called `poverty_map` with one row for every country in `recent_poverty_total`.  The five columns should have the following labels and contents, in this order:\n",
    "1. `latitude` contains the country's latitude,\n",
    "1. `longitude` contains the country's longitude,\n",
    "1. `name` contains the country's name,\n",
    "1. `region` contains the country's region from the `world_4region` column of `countries`,\n",
    "1. `poverty_total` contains the country's poverty total.\n"
   ]
  },
  {
   "cell_type": "code",
   "execution_count": 66,
   "id": "8b7d3ea0",
   "metadata": {},
   "outputs": [
    {
     "data": {
      "text/html": [
       "<table border=\"1\" class=\"dataframe\">\n",
       "    <thead>\n",
       "        <tr>\n",
       "            <th>country</th> <th>name</th> <th>world_4region</th> <th>latitude</th> <th>longitude</th> <th>poverty_percent</th> <th>population_total</th> <th>poverty_total</th>\n",
       "        </tr>\n",
       "    </thead>\n",
       "    <tbody>\n",
       "        <tr>\n",
       "            <td>ago    </td> <td>Angola    </td> <td>africa       </td> <td>-12.5   </td> <td>18.5     </td> <td>43.37          </td> <td>23294825        </td> <td>1.0103e+07   </td>\n",
       "        </tr>\n",
       "        <tr>\n",
       "            <td>alb    </td> <td>Albania   </td> <td>europe       </td> <td>41      </td> <td>20       </td> <td>0.46           </td> <td>2928722         </td> <td>13472        </td>\n",
       "        </tr>\n",
       "        <tr>\n",
       "            <td>arg    </td> <td>Argentina </td> <td>americas     </td> <td>-34     </td> <td>-64      </td> <td>1.41           </td> <td>41288694        </td> <td>582171       </td>\n",
       "        </tr>\n",
       "        <tr>\n",
       "            <td>arm    </td> <td>Armenia   </td> <td>europe       </td> <td>40.25   </td> <td>45       </td> <td>1.75           </td> <td>2931078         </td> <td>51294        </td>\n",
       "        </tr>\n",
       "        <tr>\n",
       "            <td>aus    </td> <td>Australia </td> <td>asia         </td> <td>-25     </td> <td>135      </td> <td>1.36           </td> <td>22141581        </td> <td>301126       </td>\n",
       "        </tr>\n",
       "        <tr>\n",
       "            <td>aut    </td> <td>Austria   </td> <td>europe       </td> <td>47.3333 </td> <td>13.3333  </td> <td>0.34           </td> <td>8365092         </td> <td>28441        </td>\n",
       "        </tr>\n",
       "        <tr>\n",
       "            <td>aze    </td> <td>Azerbaijan</td> <td>europe       </td> <td>40.5    </td> <td>47.5     </td> <td>0.31           </td> <td>9146851         </td> <td>28355        </td>\n",
       "        </tr>\n",
       "        <tr>\n",
       "            <td>bdi    </td> <td>Burundi   </td> <td>africa       </td> <td>-3.5    </td> <td>30       </td> <td>81.32          </td> <td>9376444         </td> <td>7.62492e+06  </td>\n",
       "        </tr>\n",
       "        <tr>\n",
       "            <td>bel    </td> <td>Belgium   </td> <td>europe       </td> <td>50.75   </td> <td>4.5      </td> <td>0.5            </td> <td>10936626        </td> <td>54683        </td>\n",
       "        </tr>\n",
       "        <tr>\n",
       "            <td>ben    </td> <td>Benin     </td> <td>africa       </td> <td>9.5     </td> <td>2.25     </td> <td>51.61          </td> <td>9797484         </td> <td>5.05648e+06  </td>\n",
       "        </tr>\n",
       "    </tbody>\n",
       "</table>\n",
       "<p>... (135 rows omitted)</p>"
      ],
      "text/plain": [
       "country | name       | world_4region | latitude | longitude | poverty_percent | population_total | poverty_total\n",
       "ago     | Angola     | africa        | -12.5    | 18.5      | 43.37           | 23294825         | 1.0103e+07\n",
       "alb     | Albania    | europe        | 41       | 20        | 0.46            | 2928722          | 13472\n",
       "arg     | Argentina  | americas      | -34      | -64       | 1.41            | 41288694         | 582171\n",
       "arm     | Armenia    | europe        | 40.25    | 45        | 1.75            | 2931078          | 51294\n",
       "aus     | Australia  | asia          | -25      | 135       | 1.36            | 22141581         | 301126\n",
       "aut     | Austria    | europe        | 47.3333  | 13.3333   | 0.34            | 8365092          | 28441\n",
       "aze     | Azerbaijan | europe        | 40.5     | 47.5      | 0.31            | 9146851          | 28355\n",
       "bdi     | Burundi    | africa        | -3.5     | 30        | 81.32           | 9376444          | 7.62492e+06\n",
       "bel     | Belgium    | europe        | 50.75    | 4.5       | 0.5             | 10936626         | 54683\n",
       "ben     | Benin      | africa        | 9.5      | 2.25      | 51.61           | 9797484          | 5.05648e+06\n",
       "... (135 rows omitted)"
      ]
     },
     "execution_count": 66,
     "metadata": {},
     "output_type": "execute_result"
    }
   ],
   "source": [
    "joined_coun_rpt = count_data.join('country', recent_poverty_total, 'geo')\n",
    "joined_coun_rpt"
   ]
  },
  {
   "cell_type": "code",
   "execution_count": 67,
   "metadata": {
    "deletable": false,
    "tags": []
   },
   "outputs": [
    {
     "data": {
      "text/html": [
       "<table border=\"1\" class=\"dataframe\">\n",
       "    <thead>\n",
       "        <tr>\n",
       "            <th>latitude</th> <th>longitude</th> <th>name</th> <th>region</th> <th>poverty_total</th>\n",
       "        </tr>\n",
       "    </thead>\n",
       "    <tbody>\n",
       "        <tr>\n",
       "            <td>-12.5   </td> <td>18.5     </td> <td>Angola    </td> <td>africa  </td> <td>1.0103e+07   </td>\n",
       "        </tr>\n",
       "        <tr>\n",
       "            <td>41      </td> <td>20       </td> <td>Albania   </td> <td>europe  </td> <td>13472        </td>\n",
       "        </tr>\n",
       "        <tr>\n",
       "            <td>-34     </td> <td>-64      </td> <td>Argentina </td> <td>americas</td> <td>582171       </td>\n",
       "        </tr>\n",
       "        <tr>\n",
       "            <td>40.25   </td> <td>45       </td> <td>Armenia   </td> <td>europe  </td> <td>51294        </td>\n",
       "        </tr>\n",
       "        <tr>\n",
       "            <td>-25     </td> <td>135      </td> <td>Australia </td> <td>asia    </td> <td>301126       </td>\n",
       "        </tr>\n",
       "        <tr>\n",
       "            <td>47.3333 </td> <td>13.3333  </td> <td>Austria   </td> <td>europe  </td> <td>28441        </td>\n",
       "        </tr>\n",
       "        <tr>\n",
       "            <td>40.5    </td> <td>47.5     </td> <td>Azerbaijan</td> <td>europe  </td> <td>28355        </td>\n",
       "        </tr>\n",
       "        <tr>\n",
       "            <td>-3.5    </td> <td>30       </td> <td>Burundi   </td> <td>africa  </td> <td>7.62492e+06  </td>\n",
       "        </tr>\n",
       "        <tr>\n",
       "            <td>50.75   </td> <td>4.5      </td> <td>Belgium   </td> <td>europe  </td> <td>54683        </td>\n",
       "        </tr>\n",
       "        <tr>\n",
       "            <td>9.5     </td> <td>2.25     </td> <td>Benin     </td> <td>africa  </td> <td>5.05648e+06  </td>\n",
       "        </tr>\n",
       "    </tbody>\n",
       "</table>\n",
       "<p>... (135 rows omitted)</p>"
      ],
      "text/plain": [
       "latitude | longitude | name       | region   | poverty_total\n",
       "-12.5    | 18.5      | Angola     | africa   | 1.0103e+07\n",
       "41       | 20        | Albania    | europe   | 13472\n",
       "-34      | -64       | Argentina  | americas | 582171\n",
       "40.25    | 45        | Armenia    | europe   | 51294\n",
       "-25      | 135       | Australia  | asia     | 301126\n",
       "47.3333  | 13.3333   | Austria    | europe   | 28441\n",
       "40.5     | 47.5      | Azerbaijan | europe   | 28355\n",
       "-3.5     | 30        | Burundi    | africa   | 7.62492e+06\n",
       "50.75    | 4.5       | Belgium    | europe   | 54683\n",
       "9.5      | 2.25      | Benin      | africa   | 5.05648e+06\n",
       "... (135 rows omitted)"
      ]
     },
     "execution_count": 67,
     "metadata": {},
     "output_type": "execute_result"
    }
   ],
   "source": [
    "poverty_map = joined_coun_rpt.select('latitude', 'longitude', 'name', 'world_4region', 'poverty_total').relabeled('world_4region', 'region')\n",
    "poverty_map"
   ]
  },
  {
   "cell_type": "code",
   "execution_count": 68,
   "metadata": {
    "deletable": false,
    "editable": false
   },
   "outputs": [
    {
     "data": {
      "text/html": [
       "<p><strong><pre style='display: inline;'>q2_4</pre></strong> passed! ✨</p>"
      ],
      "text/plain": [
       "q2_4 results: All test cases passed!"
      ]
     },
     "execution_count": 68,
     "metadata": {},
     "output_type": "execute_result"
    }
   ],
   "source": [
    "grader.check(\"q2_4\")"
   ]
  },
  {
   "cell_type": "markdown",
   "metadata": {
    "deletable": false,
    "editable": false
   },
   "source": [
    "Run the cell below to draw a map of the world in which the areas of circles represent the number of people living in extreme poverty. Double-click on the map to zoom in.\n",
    "\n",
    "> ***Note:*** If the cell below isn't loading, you can view the output [here](https://github.jonathanferrari.com/static/poverty_map.html)"
   ]
  },
  {
   "cell_type": "code",
   "execution_count": 69,
   "metadata": {
    "deletable": false,
    "editable": false,
    "scrolled": true
   },
   "outputs": [
    {
     "data": {
      "text/html": [
       "<div style=\"width:100%;\"><div style=\"position:relative;width:100%;height:0;padding-bottom:60%;\"><span style=\"color:#565656\">Make this Notebook Trusted to load map: File -> Trust Notebook</span><iframe srcdoc=\"&lt;!DOCTYPE html&gt;\n",
       "&lt;html&gt;\n",
       "&lt;head&gt;\n",
       "    \n",
       "    &lt;meta http-equiv=&quot;content-type&quot; content=&quot;text/html; charset=UTF-8&quot; /&gt;\n",
       "    \n",
       "        &lt;script&gt;\n",
       "            L_NO_TOUCH = false;\n",
       "            L_DISABLE_3D = false;\n",
       "        &lt;/script&gt;\n",
       "    \n",
       "    &lt;style&gt;html, body {width: 100%;height: 100%;margin: 0;padding: 0;}&lt;/style&gt;\n",
       "    &lt;style&gt;#map {position:absolute;top:0;bottom:0;right:0;left:0;}&lt;/style&gt;\n",
       "    &lt;script src=&quot;https://cdn.jsdelivr.net/npm/leaflet@1.9.3/dist/leaflet.js&quot;&gt;&lt;/script&gt;\n",
       "    &lt;script src=&quot;https://code.jquery.com/jquery-3.7.1.min.js&quot;&gt;&lt;/script&gt;\n",
       "    &lt;script src=&quot;https://cdn.jsdelivr.net/npm/bootstrap@5.2.2/dist/js/bootstrap.bundle.min.js&quot;&gt;&lt;/script&gt;\n",
       "    &lt;script src=&quot;https://cdnjs.cloudflare.com/ajax/libs/Leaflet.awesome-markers/2.0.2/leaflet.awesome-markers.js&quot;&gt;&lt;/script&gt;\n",
       "    &lt;link rel=&quot;stylesheet&quot; href=&quot;https://cdn.jsdelivr.net/npm/leaflet@1.9.3/dist/leaflet.css&quot;/&gt;\n",
       "    &lt;link rel=&quot;stylesheet&quot; href=&quot;https://cdn.jsdelivr.net/npm/bootstrap@5.2.2/dist/css/bootstrap.min.css&quot;/&gt;\n",
       "    &lt;link rel=&quot;stylesheet&quot; href=&quot;https://netdna.bootstrapcdn.com/bootstrap/3.0.0/css/bootstrap-glyphicons.css&quot;/&gt;\n",
       "    &lt;link rel=&quot;stylesheet&quot; href=&quot;https://cdn.jsdelivr.net/npm/@fortawesome/fontawesome-free@6.2.0/css/all.min.css&quot;/&gt;\n",
       "    &lt;link rel=&quot;stylesheet&quot; href=&quot;https://cdnjs.cloudflare.com/ajax/libs/Leaflet.awesome-markers/2.0.2/leaflet.awesome-markers.css&quot;/&gt;\n",
       "    &lt;link rel=&quot;stylesheet&quot; href=&quot;https://cdn.jsdelivr.net/gh/python-visualization/folium/folium/templates/leaflet.awesome.rotate.min.css&quot;/&gt;\n",
       "    \n",
       "            &lt;meta name=&quot;viewport&quot; content=&quot;width=device-width,\n",
       "                initial-scale=1.0, maximum-scale=1.0, user-scalable=no&quot; /&gt;\n",
       "            &lt;style&gt;\n",
       "                #map_37c514aba63ae1e51efa9e17f624418a {\n",
       "                    position: relative;\n",
       "                    width: 960.0px;\n",
       "                    height: 500.0px;\n",
       "                    left: 0.0%;\n",
       "                    top: 0.0%;\n",
       "                }\n",
       "                .leaflet-container { font-size: 1rem; }\n",
       "            &lt;/style&gt;\n",
       "        \n",
       "&lt;/head&gt;\n",
       "&lt;body&gt;\n",
       "    \n",
       "    \n",
       "            &lt;div class=&quot;folium-map&quot; id=&quot;map_37c514aba63ae1e51efa9e17f624418a&quot; &gt;&lt;/div&gt;\n",
       "        \n",
       "&lt;/body&gt;\n",
       "&lt;script&gt;\n",
       "    \n",
       "    \n",
       "            var map_37c514aba63ae1e51efa9e17f624418a = L.map(\n",
       "                &quot;map_37c514aba63ae1e51efa9e17f624418a&quot;,\n",
       "                {\n",
       "                    center: [15.0, 32.17871],\n",
       "                    crs: L.CRS.EPSG3857,\n",
       "                    ...{\n",
       "  &quot;zoom&quot;: 1,\n",
       "  &quot;zoomControl&quot;: true,\n",
       "  &quot;preferCanvas&quot;: false,\n",
       "  &quot;clusteredMarker&quot;: false,\n",
       "  &quot;includeColorScaleOutliers&quot;: true,\n",
       "  &quot;radiusInMeters&quot;: false,\n",
       "}\n",
       "\n",
       "                }\n",
       "            );\n",
       "\n",
       "            \n",
       "\n",
       "        \n",
       "    \n",
       "            var tile_layer_dc477a3d82794e2cf4551f7a10638d45 = L.tileLayer(\n",
       "                &quot;https://tile.openstreetmap.org/{z}/{x}/{y}.png&quot;,\n",
       "                {\n",
       "  &quot;minZoom&quot;: -1,\n",
       "  &quot;maxZoom&quot;: 17,\n",
       "  &quot;maxNativeZoom&quot;: 17,\n",
       "  &quot;noWrap&quot;: false,\n",
       "  &quot;attribution&quot;: &quot;\\u0026copy; \\u003ca href=\\&quot;https://www.openstreetmap.org/copyright\\&quot;\\u003eOpenStreetMap\\u003c/a\\u003e contributors&quot;,\n",
       "  &quot;subdomains&quot;: &quot;abc&quot;,\n",
       "  &quot;detectRetina&quot;: false,\n",
       "  &quot;tms&quot;: false,\n",
       "  &quot;opacity&quot;: 1,\n",
       "}\n",
       "\n",
       "            );\n",
       "        \n",
       "    \n",
       "            tile_layer_dc477a3d82794e2cf4551f7a10638d45.addTo(map_37c514aba63ae1e51efa9e17f624418a);\n",
       "        \n",
       "    \n",
       "            var circle_marker_9bc7a666aeb32ab8c8f85093def81de3 = L.circleMarker(\n",
       "                [-12.5, 18.5],\n",
       "                {&quot;bubblingMouseEvents&quot;: true, &quot;color&quot;: &quot;blue&quot;, &quot;dashArray&quot;: null, &quot;dashOffset&quot;: null, &quot;fill&quot;: true, &quot;fillColor&quot;: &quot;blue&quot;, &quot;fillOpacity&quot;: 0.2, &quot;fillRule&quot;: &quot;evenodd&quot;, &quot;lineCap&quot;: &quot;round&quot;, &quot;lineJoin&quot;: &quot;round&quot;, &quot;opacity&quot;: 1.0, &quot;radius&quot;: 17.932857991906104, &quot;stroke&quot;: true, &quot;weight&quot;: 3}\n",
       "            ).addTo(map_37c514aba63ae1e51efa9e17f624418a);\n",
       "        \n",
       "    \n",
       "        var popup_30f38d98c6bea5c28df4f6db1835bc7c = L.popup({\n",
       "  &quot;maxWidth&quot;: &quot;100%&quot;,\n",
       "});\n",
       "\n",
       "        \n",
       "            \n",
       "                var html_9bd682156b505941090576a808a7043a = $(`&lt;div id=&quot;html_9bd682156b505941090576a808a7043a&quot; style=&quot;width: 100.0%; height: 100.0%;&quot;&gt;Angola&lt;/div&gt;`)[0];\n",
       "                popup_30f38d98c6bea5c28df4f6db1835bc7c.setContent(html_9bd682156b505941090576a808a7043a);\n",
       "            \n",
       "        \n",
       "\n",
       "        circle_marker_9bc7a666aeb32ab8c8f85093def81de3.bindPopup(popup_30f38d98c6bea5c28df4f6db1835bc7c)\n",
       "        ;\n",
       "\n",
       "        \n",
       "    \n",
       "    \n",
       "            var circle_marker_e7880247f75a52ad826c66aa85bbe02b = L.circleMarker(\n",
       "                [41.0, 20.0],\n",
       "                {&quot;bubblingMouseEvents&quot;: true, &quot;color&quot;: &quot;black&quot;, &quot;dashArray&quot;: null, &quot;dashOffset&quot;: null, &quot;fill&quot;: true, &quot;fillColor&quot;: &quot;black&quot;, &quot;fillOpacity&quot;: 0.2, &quot;fillRule&quot;: &quot;evenodd&quot;, &quot;lineCap&quot;: &quot;round&quot;, &quot;lineJoin&quot;: &quot;round&quot;, &quot;opacity&quot;: 1.0, &quot;radius&quot;: 0.6548488975838647, &quot;stroke&quot;: true, &quot;weight&quot;: 3}\n",
       "            ).addTo(map_37c514aba63ae1e51efa9e17f624418a);\n",
       "        \n",
       "    \n",
       "        var popup_54faabd81500cbff57f447d73a217e84 = L.popup({\n",
       "  &quot;maxWidth&quot;: &quot;100%&quot;,\n",
       "});\n",
       "\n",
       "        \n",
       "            \n",
       "                var html_fac3630d416430c137f09571c89fb9f9 = $(`&lt;div id=&quot;html_fac3630d416430c137f09571c89fb9f9&quot; style=&quot;width: 100.0%; height: 100.0%;&quot;&gt;Albania&lt;/div&gt;`)[0];\n",
       "                popup_54faabd81500cbff57f447d73a217e84.setContent(html_fac3630d416430c137f09571c89fb9f9);\n",
       "            \n",
       "        \n",
       "\n",
       "        circle_marker_e7880247f75a52ad826c66aa85bbe02b.bindPopup(popup_54faabd81500cbff57f447d73a217e84)\n",
       "        ;\n",
       "\n",
       "        \n",
       "    \n",
       "    \n",
       "            var circle_marker_d5869380ec80a6325c0f4371d6f930ac = L.circleMarker(\n",
       "                [-34.0, -64.0],\n",
       "                {&quot;bubblingMouseEvents&quot;: true, &quot;color&quot;: &quot;green&quot;, &quot;dashArray&quot;: null, &quot;dashOffset&quot;: null, &quot;fill&quot;: true, &quot;fillColor&quot;: &quot;green&quot;, &quot;fillOpacity&quot;: 0.2, &quot;fillRule&quot;: &quot;evenodd&quot;, &quot;lineCap&quot;: &quot;round&quot;, &quot;lineJoin&quot;: &quot;round&quot;, &quot;opacity&quot;: 1.0, &quot;radius&quot;: 4.304773916821923, &quot;stroke&quot;: true, &quot;weight&quot;: 3}\n",
       "            ).addTo(map_37c514aba63ae1e51efa9e17f624418a);\n",
       "        \n",
       "    \n",
       "        var popup_f15a26656227e2c61e85915847c6cd64 = L.popup({\n",
       "  &quot;maxWidth&quot;: &quot;100%&quot;,\n",
       "});\n",
       "\n",
       "        \n",
       "            \n",
       "                var html_91c87e7e7a8734edf2b4fa3063c5500e = $(`&lt;div id=&quot;html_91c87e7e7a8734edf2b4fa3063c5500e&quot; style=&quot;width: 100.0%; height: 100.0%;&quot;&gt;Argentina&lt;/div&gt;`)[0];\n",
       "                popup_f15a26656227e2c61e85915847c6cd64.setContent(html_91c87e7e7a8734edf2b4fa3063c5500e);\n",
       "            \n",
       "        \n",
       "\n",
       "        circle_marker_d5869380ec80a6325c0f4371d6f930ac.bindPopup(popup_f15a26656227e2c61e85915847c6cd64)\n",
       "        ;\n",
       "\n",
       "        \n",
       "    \n",
       "    \n",
       "            var circle_marker_cccb695e3f163331f08376bbaddc7667 = L.circleMarker(\n",
       "                [40.25, 45.0],\n",
       "                {&quot;bubblingMouseEvents&quot;: true, &quot;color&quot;: &quot;black&quot;, &quot;dashArray&quot;: null, &quot;dashOffset&quot;: null, &quot;fill&quot;: true, &quot;fillColor&quot;: &quot;black&quot;, &quot;fillOpacity&quot;: 0.2, &quot;fillRule&quot;: &quot;evenodd&quot;, &quot;lineCap&quot;: &quot;round&quot;, &quot;lineJoin&quot;: &quot;round&quot;, &quot;opacity&quot;: 1.0, &quot;radius&quot;: 1.277786652845903, &quot;stroke&quot;: true, &quot;weight&quot;: 3}\n",
       "            ).addTo(map_37c514aba63ae1e51efa9e17f624418a);\n",
       "        \n",
       "    \n",
       "        var popup_cc1d0517e6b3a7e785d8d26ed6948471 = L.popup({\n",
       "  &quot;maxWidth&quot;: &quot;100%&quot;,\n",
       "});\n",
       "\n",
       "        \n",
       "            \n",
       "                var html_cd5d12408000ea3c4256d323cdeda816 = $(`&lt;div id=&quot;html_cd5d12408000ea3c4256d323cdeda816&quot; style=&quot;width: 100.0%; height: 100.0%;&quot;&gt;Armenia&lt;/div&gt;`)[0];\n",
       "                popup_cc1d0517e6b3a7e785d8d26ed6948471.setContent(html_cd5d12408000ea3c4256d323cdeda816);\n",
       "            \n",
       "        \n",
       "\n",
       "        circle_marker_cccb695e3f163331f08376bbaddc7667.bindPopup(popup_cc1d0517e6b3a7e785d8d26ed6948471)\n",
       "        ;\n",
       "\n",
       "        \n",
       "    \n",
       "    \n",
       "            var circle_marker_48f0a01e16971660150b46c556e0ea4b = L.circleMarker(\n",
       "                [-25.0, 135.0],\n",
       "                {&quot;bubblingMouseEvents&quot;: true, &quot;color&quot;: &quot;red&quot;, &quot;dashArray&quot;: null, &quot;dashOffset&quot;: null, &quot;fill&quot;: true, &quot;fillColor&quot;: &quot;red&quot;, &quot;fillOpacity&quot;: 0.2, &quot;fillRule&quot;: &quot;evenodd&quot;, &quot;lineCap&quot;: &quot;round&quot;, &quot;lineJoin&quot;: &quot;round&quot;, &quot;opacity&quot;: 1.0, &quot;radius&quot;: 3.0959874480847005, &quot;stroke&quot;: true, &quot;weight&quot;: 3}\n",
       "            ).addTo(map_37c514aba63ae1e51efa9e17f624418a);\n",
       "        \n",
       "    \n",
       "        var popup_be1868131a016ac84dd5f790e4509eed = L.popup({\n",
       "  &quot;maxWidth&quot;: &quot;100%&quot;,\n",
       "});\n",
       "\n",
       "        \n",
       "            \n",
       "                var html_74193019ffb4b3297c695241f7ace67a = $(`&lt;div id=&quot;html_74193019ffb4b3297c695241f7ace67a&quot; style=&quot;width: 100.0%; height: 100.0%;&quot;&gt;Australia&lt;/div&gt;`)[0];\n",
       "                popup_be1868131a016ac84dd5f790e4509eed.setContent(html_74193019ffb4b3297c695241f7ace67a);\n",
       "            \n",
       "        \n",
       "\n",
       "        circle_marker_48f0a01e16971660150b46c556e0ea4b.bindPopup(popup_be1868131a016ac84dd5f790e4509eed)\n",
       "        ;\n",
       "\n",
       "        \n",
       "    \n",
       "    \n",
       "            var circle_marker_33f1d77dbddfad5fe3a110be4cfc067f = L.circleMarker(\n",
       "                [47.33333, 13.33333],\n",
       "                {&quot;bubblingMouseEvents&quot;: true, &quot;color&quot;: &quot;black&quot;, &quot;dashArray&quot;: null, &quot;dashOffset&quot;: null, &quot;fill&quot;: true, &quot;fillColor&quot;: &quot;black&quot;, &quot;fillOpacity&quot;: 0.2, &quot;fillRule&quot;: &quot;evenodd&quot;, &quot;lineCap&quot;: &quot;round&quot;, &quot;lineJoin&quot;: &quot;round&quot;, &quot;opacity&quot;: 1.0, &quot;radius&quot;: 0.9514752478626646, &quot;stroke&quot;: true, &quot;weight&quot;: 3}\n",
       "            ).addTo(map_37c514aba63ae1e51efa9e17f624418a);\n",
       "        \n",
       "    \n",
       "        var popup_c07f2512cd6fd718546035e833f27799 = L.popup({\n",
       "  &quot;maxWidth&quot;: &quot;100%&quot;,\n",
       "});\n",
       "\n",
       "        \n",
       "            \n",
       "                var html_fabb5a23c037a4a0d8b40e8ac952c5b8 = $(`&lt;div id=&quot;html_fabb5a23c037a4a0d8b40e8ac952c5b8&quot; style=&quot;width: 100.0%; height: 100.0%;&quot;&gt;Austria&lt;/div&gt;`)[0];\n",
       "                popup_c07f2512cd6fd718546035e833f27799.setContent(html_fabb5a23c037a4a0d8b40e8ac952c5b8);\n",
       "            \n",
       "        \n",
       "\n",
       "        circle_marker_33f1d77dbddfad5fe3a110be4cfc067f.bindPopup(popup_c07f2512cd6fd718546035e833f27799)\n",
       "        ;\n",
       "\n",
       "        \n",
       "    \n",
       "    \n",
       "            var circle_marker_e2602851011d4088c5b4e5be06bb7d81 = L.circleMarker(\n",
       "                [40.5, 47.5],\n",
       "                {&quot;bubblingMouseEvents&quot;: true, &quot;color&quot;: &quot;black&quot;, &quot;dashArray&quot;: null, &quot;dashOffset&quot;: null, &quot;fill&quot;: true, &quot;fillColor&quot;: &quot;black&quot;, &quot;fillOpacity&quot;: 0.2, &quot;fillRule&quot;: &quot;evenodd&quot;, &quot;lineCap&quot;: &quot;round&quot;, &quot;lineJoin&quot;: &quot;round&quot;, &quot;opacity&quot;: 1.0, &quot;radius&quot;: 0.9500356215817061, &quot;stroke&quot;: true, &quot;weight&quot;: 3}\n",
       "            ).addTo(map_37c514aba63ae1e51efa9e17f624418a);\n",
       "        \n",
       "    \n",
       "        var popup_6ade3f91494e4db5bd2c68360106ee21 = L.popup({\n",
       "  &quot;maxWidth&quot;: &quot;100%&quot;,\n",
       "});\n",
       "\n",
       "        \n",
       "            \n",
       "                var html_ccfb39fc9194fb5677b9128a7b1f6018 = $(`&lt;div id=&quot;html_ccfb39fc9194fb5677b9128a7b1f6018&quot; style=&quot;width: 100.0%; height: 100.0%;&quot;&gt;Azerbaijan&lt;/div&gt;`)[0];\n",
       "                popup_6ade3f91494e4db5bd2c68360106ee21.setContent(html_ccfb39fc9194fb5677b9128a7b1f6018);\n",
       "            \n",
       "        \n",
       "\n",
       "        circle_marker_e2602851011d4088c5b4e5be06bb7d81.bindPopup(popup_6ade3f91494e4db5bd2c68360106ee21)\n",
       "        ;\n",
       "\n",
       "        \n",
       "    \n",
       "    \n",
       "            var circle_marker_2ab4abd17244b24660661cae992c307d = L.circleMarker(\n",
       "                [-3.5, 30.0],\n",
       "                {&quot;bubblingMouseEvents&quot;: true, &quot;color&quot;: &quot;blue&quot;, &quot;dashArray&quot;: null, &quot;dashOffset&quot;: null, &quot;fill&quot;: true, &quot;fillColor&quot;: &quot;blue&quot;, &quot;fillOpacity&quot;: 0.2, &quot;fillRule&quot;: &quot;evenodd&quot;, &quot;lineCap&quot;: &quot;round&quot;, &quot;lineJoin&quot;: &quot;round&quot;, &quot;opacity&quot;: 1.0, &quot;radius&quot;: 15.57911644028651, &quot;stroke&quot;: true, &quot;weight&quot;: 3}\n",
       "            ).addTo(map_37c514aba63ae1e51efa9e17f624418a);\n",
       "        \n",
       "    \n",
       "        var popup_6b16aea2c04e987a5b9a96287afa9b34 = L.popup({\n",
       "  &quot;maxWidth&quot;: &quot;100%&quot;,\n",
       "});\n",
       "\n",
       "        \n",
       "            \n",
       "                var html_33e07f885edb8a5528a5fb2cdde02e3d = $(`&lt;div id=&quot;html_33e07f885edb8a5528a5fb2cdde02e3d&quot; style=&quot;width: 100.0%; height: 100.0%;&quot;&gt;Burundi&lt;/div&gt;`)[0];\n",
       "                popup_6b16aea2c04e987a5b9a96287afa9b34.setContent(html_33e07f885edb8a5528a5fb2cdde02e3d);\n",
       "            \n",
       "        \n",
       "\n",
       "        circle_marker_2ab4abd17244b24660661cae992c307d.bindPopup(popup_6b16aea2c04e987a5b9a96287afa9b34)\n",
       "        ;\n",
       "\n",
       "        \n",
       "    \n",
       "    \n",
       "            var circle_marker_89e55283199efbe9c291d919ace9a19e = L.circleMarker(\n",
       "                [50.75, 4.5],\n",
       "                {&quot;bubblingMouseEvents&quot;: true, &quot;color&quot;: &quot;black&quot;, &quot;dashArray&quot;: null, &quot;dashOffset&quot;: null, &quot;fill&quot;: true, &quot;fillColor&quot;: &quot;black&quot;, &quot;fillOpacity&quot;: 0.2, &quot;fillRule&quot;: &quot;evenodd&quot;, &quot;lineCap&quot;: &quot;round&quot;, &quot;lineJoin&quot;: &quot;round&quot;, &quot;opacity&quot;: 1.0, &quot;radius&quot;: 1.3193232926841028, &quot;stroke&quot;: true, &quot;weight&quot;: 3}\n",
       "            ).addTo(map_37c514aba63ae1e51efa9e17f624418a);\n",
       "        \n",
       "    \n",
       "        var popup_8cb0f49acaa9618a2e24034b0fbd5378 = L.popup({\n",
       "  &quot;maxWidth&quot;: &quot;100%&quot;,\n",
       "});\n",
       "\n",
       "        \n",
       "            \n",
       "                var html_57ab321bdb9612b01684bc5ff634c54b = $(`&lt;div id=&quot;html_57ab321bdb9612b01684bc5ff634c54b&quot; style=&quot;width: 100.0%; height: 100.0%;&quot;&gt;Belgium&lt;/div&gt;`)[0];\n",
       "                popup_8cb0f49acaa9618a2e24034b0fbd5378.setContent(html_57ab321bdb9612b01684bc5ff634c54b);\n",
       "            \n",
       "        \n",
       "\n",
       "        circle_marker_89e55283199efbe9c291d919ace9a19e.bindPopup(popup_8cb0f49acaa9618a2e24034b0fbd5378)\n",
       "        ;\n",
       "\n",
       "        \n",
       "    \n",
       "    \n",
       "            var circle_marker_c0b69832d866c50f0eb8cb706789bfd2 = L.circleMarker(\n",
       "                [9.5, 2.25],\n",
       "                {&quot;bubblingMouseEvents&quot;: true, &quot;color&quot;: &quot;blue&quot;, &quot;dashArray&quot;: null, &quot;dashOffset&quot;: null, &quot;fill&quot;: true, &quot;fillColor&quot;: &quot;blue&quot;, &quot;fillOpacity&quot;: 0.2, &quot;fillRule&quot;: &quot;evenodd&quot;, &quot;lineCap&quot;: &quot;round&quot;, &quot;lineJoin&quot;: &quot;round&quot;, &quot;opacity&quot;: 1.0, &quot;radius&quot;: 12.686717036335681, &quot;stroke&quot;: true, &quot;weight&quot;: 3}\n",
       "            ).addTo(map_37c514aba63ae1e51efa9e17f624418a);\n",
       "        \n",
       "    \n",
       "        var popup_0049adf1e149813975dc0e5a084e4d70 = L.popup({\n",
       "  &quot;maxWidth&quot;: &quot;100%&quot;,\n",
       "});\n",
       "\n",
       "        \n",
       "            \n",
       "                var html_e0e749e2108dc473cd36ea360a0dac5c = $(`&lt;div id=&quot;html_e0e749e2108dc473cd36ea360a0dac5c&quot; style=&quot;width: 100.0%; height: 100.0%;&quot;&gt;Benin&lt;/div&gt;`)[0];\n",
       "                popup_0049adf1e149813975dc0e5a084e4d70.setContent(html_e0e749e2108dc473cd36ea360a0dac5c);\n",
       "            \n",
       "        \n",
       "\n",
       "        circle_marker_c0b69832d866c50f0eb8cb706789bfd2.bindPopup(popup_0049adf1e149813975dc0e5a084e4d70)\n",
       "        ;\n",
       "\n",
       "        \n",
       "    \n",
       "    \n",
       "            var circle_marker_ffc43b39f7eeda68fc7d2ad2ff974804 = L.circleMarker(\n",
       "                [12.5, -1.66667],\n",
       "                {&quot;bubblingMouseEvents&quot;: true, &quot;color&quot;: &quot;blue&quot;, &quot;dashArray&quot;: null, &quot;dashOffset&quot;: null, &quot;fill&quot;: true, &quot;fillColor&quot;: &quot;blue&quot;, &quot;fillOpacity&quot;: 0.2, &quot;fillRule&quot;: &quot;evenodd&quot;, &quot;lineCap&quot;: &quot;round&quot;, &quot;lineJoin&quot;: &quot;round&quot;, &quot;opacity&quot;: 1.0, &quot;radius&quot;: 15.130457036837129, &quot;stroke&quot;: true, &quot;weight&quot;: 3}\n",
       "            ).addTo(map_37c514aba63ae1e51efa9e17f624418a);\n",
       "        \n",
       "    \n",
       "        var popup_d8de407b123563c679903886ae3a39e1 = L.popup({\n",
       "  &quot;maxWidth&quot;: &quot;100%&quot;,\n",
       "});\n",
       "\n",
       "        \n",
       "            \n",
       "                var html_77ce6f031f0f86c90e004e884db5ea0e = $(`&lt;div id=&quot;html_77ce6f031f0f86c90e004e884db5ea0e&quot; style=&quot;width: 100.0%; height: 100.0%;&quot;&gt;Burkina Faso&lt;/div&gt;`)[0];\n",
       "                popup_d8de407b123563c679903886ae3a39e1.setContent(html_77ce6f031f0f86c90e004e884db5ea0e);\n",
       "            \n",
       "        \n",
       "\n",
       "        circle_marker_ffc43b39f7eeda68fc7d2ad2ff974804.bindPopup(popup_d8de407b123563c679903886ae3a39e1)\n",
       "        ;\n",
       "\n",
       "        \n",
       "    \n",
       "    \n",
       "            var circle_marker_707ee5b8d48f73a66fce20ae6fd96146 = L.circleMarker(\n",
       "                [24.0, 90.0],\n",
       "                {&quot;bubblingMouseEvents&quot;: true, &quot;color&quot;: &quot;red&quot;, &quot;dashArray&quot;: null, &quot;dashOffset&quot;: null, &quot;fill&quot;: true, &quot;fillColor&quot;: &quot;red&quot;, &quot;fillOpacity&quot;: 0.2, &quot;fillRule&quot;: &quot;evenodd&quot;, &quot;lineCap&quot;: &quot;round&quot;, &quot;lineJoin&quot;: &quot;round&quot;, &quot;opacity&quot;: 1.0, &quot;radius&quot;: 45.774991550463184, &quot;stroke&quot;: true, &quot;weight&quot;: 3}\n",
       "            ).addTo(map_37c514aba63ae1e51efa9e17f624418a);\n",
       "        \n",
       "    \n",
       "        var popup_6205034a35084a3c448f2392c7e4e993 = L.popup({\n",
       "  &quot;maxWidth&quot;: &quot;100%&quot;,\n",
       "});\n",
       "\n",
       "        \n",
       "            \n",
       "                var html_99743e6ca01582f411c725c508004503 = $(`&lt;div id=&quot;html_99743e6ca01582f411c725c508004503&quot; style=&quot;width: 100.0%; height: 100.0%;&quot;&gt;Bangladesh&lt;/div&gt;`)[0];\n",
       "                popup_6205034a35084a3c448f2392c7e4e993.setContent(html_99743e6ca01582f411c725c508004503);\n",
       "            \n",
       "        \n",
       "\n",
       "        circle_marker_707ee5b8d48f73a66fce20ae6fd96146.bindPopup(popup_6205034a35084a3c448f2392c7e4e993)\n",
       "        ;\n",
       "\n",
       "        \n",
       "    \n",
       "    \n",
       "            var circle_marker_7972092a59ad728d3dc94cb9f2b99788 = L.circleMarker(\n",
       "                [42.66667, 25.25],\n",
       "                {&quot;bubblingMouseEvents&quot;: true, &quot;color&quot;: &quot;black&quot;, &quot;dashArray&quot;: null, &quot;dashOffset&quot;: null, &quot;fill&quot;: true, &quot;fillColor&quot;: &quot;black&quot;, &quot;fillOpacity&quot;: 0.2, &quot;fillRule&quot;: &quot;evenodd&quot;, &quot;lineCap&quot;: &quot;round&quot;, &quot;lineJoin&quot;: &quot;round&quot;, &quot;opacity&quot;: 1.0, &quot;radius&quot;: 2.120887626824585, &quot;stroke&quot;: true, &quot;weight&quot;: 3}\n",
       "            ).addTo(map_37c514aba63ae1e51efa9e17f624418a);\n",
       "        \n",
       "    \n",
       "        var popup_22626b87a6dd96d1fb5c6738dc51a469 = L.popup({\n",
       "  &quot;maxWidth&quot;: &quot;100%&quot;,\n",
       "});\n",
       "\n",
       "        \n",
       "            \n",
       "                var html_ffaca98d8873f796f267dd2fa979e2ff = $(`&lt;div id=&quot;html_ffaca98d8873f796f267dd2fa979e2ff&quot; style=&quot;width: 100.0%; height: 100.0%;&quot;&gt;Bulgaria&lt;/div&gt;`)[0];\n",
       "                popup_22626b87a6dd96d1fb5c6738dc51a469.setContent(html_ffaca98d8873f796f267dd2fa979e2ff);\n",
       "            \n",
       "        \n",
       "\n",
       "        circle_marker_7972092a59ad728d3dc94cb9f2b99788.bindPopup(popup_22626b87a6dd96d1fb5c6738dc51a469)\n",
       "        ;\n",
       "\n",
       "        \n",
       "    \n",
       "    \n",
       "            var circle_marker_f0022772476ffa5f75ee8e4e8c34cd6f = L.circleMarker(\n",
       "                [44.25, 17.83333],\n",
       "                {&quot;bubblingMouseEvents&quot;: true, &quot;color&quot;: &quot;black&quot;, &quot;dashArray&quot;: null, &quot;dashOffset&quot;: null, &quot;fill&quot;: true, &quot;fillColor&quot;: &quot;black&quot;, &quot;fillOpacity&quot;: 0.2, &quot;fillRule&quot;: &quot;evenodd&quot;, &quot;lineCap&quot;: &quot;round&quot;, &quot;lineJoin&quot;: &quot;round&quot;, &quot;opacity&quot;: 1.0, &quot;radius&quot;: 0.2203230756026887, &quot;stroke&quot;: true, &quot;weight&quot;: 3}\n",
       "            ).addTo(map_37c514aba63ae1e51efa9e17f624418a);\n",
       "        \n",
       "    \n",
       "        var popup_f94f6b3f35b4627e0a22adde6939ac08 = L.popup({\n",
       "  &quot;maxWidth&quot;: &quot;100%&quot;,\n",
       "});\n",
       "\n",
       "        \n",
       "            \n",
       "                var html_148bd75d98f54cbb5304b0c871b3c4b6 = $(`&lt;div id=&quot;html_148bd75d98f54cbb5304b0c871b3c4b6&quot; style=&quot;width: 100.0%; height: 100.0%;&quot;&gt;Bosnia and Herzegovina&lt;/div&gt;`)[0];\n",
       "                popup_f94f6b3f35b4627e0a22adde6939ac08.setContent(html_148bd75d98f54cbb5304b0c871b3c4b6);\n",
       "            \n",
       "        \n",
       "\n",
       "        circle_marker_f0022772476ffa5f75ee8e4e8c34cd6f.bindPopup(popup_f94f6b3f35b4627e0a22adde6939ac08)\n",
       "        ;\n",
       "\n",
       "        \n",
       "    \n",
       "    \n",
       "            var circle_marker_c46693a995822c099b2f8365b2118657 = L.circleMarker(\n",
       "                [53.0, 28.0],\n",
       "                {&quot;bubblingMouseEvents&quot;: true, &quot;color&quot;: &quot;black&quot;, &quot;dashArray&quot;: null, &quot;dashOffset&quot;: null, &quot;fill&quot;: true, &quot;fillColor&quot;: &quot;black&quot;, &quot;fillOpacity&quot;: 0.2, &quot;fillRule&quot;: &quot;evenodd&quot;, &quot;lineCap&quot;: &quot;round&quot;, &quot;lineJoin&quot;: &quot;round&quot;, &quot;opacity&quot;: 1.0, &quot;stroke&quot;: true, &quot;weight&quot;: 3}\n",
       "            ).addTo(map_37c514aba63ae1e51efa9e17f624418a);\n",
       "        \n",
       "    \n",
       "        var popup_a320264ee08a42ed28d8ea1c96f3eb31 = L.popup({\n",
       "  &quot;maxWidth&quot;: &quot;100%&quot;,\n",
       "});\n",
       "\n",
       "        \n",
       "            \n",
       "                var html_d28ee37f4aee3ab51d4fd8357739dca1 = $(`&lt;div id=&quot;html_d28ee37f4aee3ab51d4fd8357739dca1&quot; style=&quot;width: 100.0%; height: 100.0%;&quot;&gt;Belarus&lt;/div&gt;`)[0];\n",
       "                popup_a320264ee08a42ed28d8ea1c96f3eb31.setContent(html_d28ee37f4aee3ab51d4fd8357739dca1);\n",
       "            \n",
       "        \n",
       "\n",
       "        circle_marker_c46693a995822c099b2f8365b2118657.bindPopup(popup_a320264ee08a42ed28d8ea1c96f3eb31)\n",
       "        ;\n",
       "\n",
       "        \n",
       "    \n",
       "    \n",
       "            var circle_marker_400a3792ac0a578a6d827e6cb8aac0d1 = L.circleMarker(\n",
       "                [17.49952, -88.19756],\n",
       "                {&quot;bubblingMouseEvents&quot;: true, &quot;color&quot;: &quot;green&quot;, &quot;dashArray&quot;: null, &quot;dashOffset&quot;: null, &quot;fill&quot;: true, &quot;fillColor&quot;: &quot;green&quot;, &quot;fillOpacity&quot;: 0.2, &quot;fillRule&quot;: &quot;evenodd&quot;, &quot;lineCap&quot;: &quot;round&quot;, &quot;lineJoin&quot;: &quot;round&quot;, &quot;opacity&quot;: 1.0, &quot;radius&quot;: 1.115641213363803, &quot;stroke&quot;: true, &quot;weight&quot;: 3}\n",
       "            ).addTo(map_37c514aba63ae1e51efa9e17f624418a);\n",
       "        \n",
       "    \n",
       "        var popup_de2393750982f08fda63606f59792ae5 = L.popup({\n",
       "  &quot;maxWidth&quot;: &quot;100%&quot;,\n",
       "});\n",
       "\n",
       "        \n",
       "            \n",
       "                var html_01888b5c8a9816b152df7600d749bdb4 = $(`&lt;div id=&quot;html_01888b5c8a9816b152df7600d749bdb4&quot; style=&quot;width: 100.0%; height: 100.0%;&quot;&gt;Belize&lt;/div&gt;`)[0];\n",
       "                popup_de2393750982f08fda63606f59792ae5.setContent(html_01888b5c8a9816b152df7600d749bdb4);\n",
       "            \n",
       "        \n",
       "\n",
       "        circle_marker_400a3792ac0a578a6d827e6cb8aac0d1.bindPopup(popup_de2393750982f08fda63606f59792ae5)\n",
       "        ;\n",
       "\n",
       "        \n",
       "    \n",
       "    \n",
       "            var circle_marker_28d4b2287589d6ec21e48270481af053 = L.circleMarker(\n",
       "                [-17.0, -65.0],\n",
       "                {&quot;bubblingMouseEvents&quot;: true, &quot;color&quot;: &quot;green&quot;, &quot;dashArray&quot;: null, &quot;dashOffset&quot;: null, &quot;fill&quot;: true, &quot;fillColor&quot;: &quot;green&quot;, &quot;fillOpacity&quot;: 0.2, &quot;fillRule&quot;: &quot;evenodd&quot;, &quot;lineCap&quot;: &quot;round&quot;, &quot;lineJoin&quot;: &quot;round&quot;, &quot;opacity&quot;: 1.0, &quot;radius&quot;: 5.08569578650282, &quot;stroke&quot;: true, &quot;weight&quot;: 3}\n",
       "            ).addTo(map_37c514aba63ae1e51efa9e17f624418a);\n",
       "        \n",
       "    \n",
       "        var popup_02e7cee2ca39a10c135cafa99462541e = L.popup({\n",
       "  &quot;maxWidth&quot;: &quot;100%&quot;,\n",
       "});\n",
       "\n",
       "        \n",
       "            \n",
       "                var html_8aa9b69b48b22c3feecc2fccfe1169fc = $(`&lt;div id=&quot;html_8aa9b69b48b22c3feecc2fccfe1169fc&quot; style=&quot;width: 100.0%; height: 100.0%;&quot;&gt;Bolivia&lt;/div&gt;`)[0];\n",
       "                popup_02e7cee2ca39a10c135cafa99462541e.setContent(html_8aa9b69b48b22c3feecc2fccfe1169fc);\n",
       "            \n",
       "        \n",
       "\n",
       "        circle_marker_28d4b2287589d6ec21e48270481af053.bindPopup(popup_02e7cee2ca39a10c135cafa99462541e)\n",
       "        ;\n",
       "\n",
       "        \n",
       "    \n",
       "    \n",
       "            var circle_marker_8792d78c369406ef48667c13103789e3 = L.circleMarker(\n",
       "                [-10.0, -55.0],\n",
       "                {&quot;bubblingMouseEvents&quot;: true, &quot;color&quot;: &quot;green&quot;, &quot;dashArray&quot;: null, &quot;dashOffset&quot;: null, &quot;fill&quot;: true, &quot;fillColor&quot;: &quot;green&quot;, &quot;fillOpacity&quot;: 0.2, &quot;fillRule&quot;: &quot;evenodd&quot;, &quot;lineCap&quot;: &quot;round&quot;, &quot;lineJoin&quot;: &quot;round&quot;, &quot;opacity&quot;: 1.0, &quot;radius&quot;: 15.205743500662225, &quot;stroke&quot;: true, &quot;weight&quot;: 3}\n",
       "            ).addTo(map_37c514aba63ae1e51efa9e17f624418a);\n",
       "        \n",
       "    \n",
       "        var popup_19722e0425f0800a92f19dd211e5063b = L.popup({\n",
       "  &quot;maxWidth&quot;: &quot;100%&quot;,\n",
       "});\n",
       "\n",
       "        \n",
       "            \n",
       "                var html_6c53576ffed630837918062c0d76fe93 = $(`&lt;div id=&quot;html_6c53576ffed630837918062c0d76fe93&quot; style=&quot;width: 100.0%; height: 100.0%;&quot;&gt;Brazil&lt;/div&gt;`)[0];\n",
       "                popup_19722e0425f0800a92f19dd211e5063b.setContent(html_6c53576ffed630837918062c0d76fe93);\n",
       "            \n",
       "        \n",
       "\n",
       "        circle_marker_8792d78c369406ef48667c13103789e3.bindPopup(popup_19722e0425f0800a92f19dd211e5063b)\n",
       "        ;\n",
       "\n",
       "        \n",
       "    \n",
       "    \n",
       "            var circle_marker_f2cb243237f2c4d5fdb40f2741ae2b7b = L.circleMarker(\n",
       "                [27.5, 90.5],\n",
       "                {&quot;bubblingMouseEvents&quot;: true, &quot;color&quot;: &quot;red&quot;, &quot;dashArray&quot;: null, &quot;dashOffset&quot;: null, &quot;fill&quot;: true, &quot;fillColor&quot;: &quot;red&quot;, &quot;fillOpacity&quot;: 0.2, &quot;fillRule&quot;: &quot;evenodd&quot;, &quot;lineCap&quot;: &quot;round&quot;, &quot;lineJoin&quot;: &quot;round&quot;, &quot;opacity&quot;: 1.0, &quot;radius&quot;: 0.7290717927188735, &quot;stroke&quot;: true, &quot;weight&quot;: 3}\n",
       "            ).addTo(map_37c514aba63ae1e51efa9e17f624418a);\n",
       "        \n",
       "    \n",
       "        var popup_8f67524b496cf8fc0c9b25750d679746 = L.popup({\n",
       "  &quot;maxWidth&quot;: &quot;100%&quot;,\n",
       "});\n",
       "\n",
       "        \n",
       "            \n",
       "                var html_a709064a5e2d0cac9bcb5650b986cda3 = $(`&lt;div id=&quot;html_a709064a5e2d0cac9bcb5650b986cda3&quot; style=&quot;width: 100.0%; height: 100.0%;&quot;&gt;Bhutan&lt;/div&gt;`)[0];\n",
       "                popup_8f67524b496cf8fc0c9b25750d679746.setContent(html_a709064a5e2d0cac9bcb5650b986cda3);\n",
       "            \n",
       "        \n",
       "\n",
       "        circle_marker_f2cb243237f2c4d5fdb40f2741ae2b7b.bindPopup(popup_8f67524b496cf8fc0c9b25750d679746)\n",
       "        ;\n",
       "\n",
       "        \n",
       "    \n",
       "    \n",
       "            var circle_marker_580aeca9651be135a34d6d5172e33c93 = L.circleMarker(\n",
       "                [-22.0, 24.0],\n",
       "                {&quot;bubblingMouseEvents&quot;: true, &quot;color&quot;: &quot;blue&quot;, &quot;dashArray&quot;: null, &quot;dashOffset&quot;: null, &quot;fill&quot;: true, &quot;fillColor&quot;: &quot;blue&quot;, &quot;fillOpacity&quot;: 0.2, &quot;fillRule&quot;: &quot;evenodd&quot;, &quot;lineCap&quot;: &quot;round&quot;, &quot;lineJoin&quot;: &quot;round&quot;, &quot;opacity&quot;: 1.0, &quot;radius&quot;: 2.945912547397643, &quot;stroke&quot;: true, &quot;weight&quot;: 3}\n",
       "            ).addTo(map_37c514aba63ae1e51efa9e17f624418a);\n",
       "        \n",
       "    \n",
       "        var popup_5f99fa790fa6441bb4dcccbe32691c96 = L.popup({\n",
       "  &quot;maxWidth&quot;: &quot;100%&quot;,\n",
       "});\n",
       "\n",
       "        \n",
       "            \n",
       "                var html_476dddfa97ce88d01ffc89767ee442c7 = $(`&lt;div id=&quot;html_476dddfa97ce88d01ffc89767ee442c7&quot; style=&quot;width: 100.0%; height: 100.0%;&quot;&gt;Botswana&lt;/div&gt;`)[0];\n",
       "                popup_5f99fa790fa6441bb4dcccbe32691c96.setContent(html_476dddfa97ce88d01ffc89767ee442c7);\n",
       "            \n",
       "        \n",
       "\n",
       "        circle_marker_580aeca9651be135a34d6d5172e33c93.bindPopup(popup_5f99fa790fa6441bb4dcccbe32691c96)\n",
       "        ;\n",
       "\n",
       "        \n",
       "    \n",
       "    \n",
       "            var circle_marker_101e610e90de5c78df9e3005511180c6 = L.circleMarker(\n",
       "                [7.0, 21.0],\n",
       "                {&quot;bubblingMouseEvents&quot;: true, &quot;color&quot;: &quot;blue&quot;, &quot;dashArray&quot;: null, &quot;dashOffset&quot;: null, &quot;fill&quot;: true, &quot;fillColor&quot;: &quot;blue&quot;, &quot;fillOpacity&quot;: 0.2, &quot;fillRule&quot;: &quot;evenodd&quot;, &quot;lineCap&quot;: &quot;round&quot;, &quot;lineJoin&quot;: &quot;round&quot;, &quot;opacity&quot;: 1.0, &quot;radius&quot;: 9.479306804258663, &quot;stroke&quot;: true, &quot;weight&quot;: 3}\n",
       "            ).addTo(map_37c514aba63ae1e51efa9e17f624418a);\n",
       "        \n",
       "    \n",
       "        var popup_bfb682389f147d93614f2548fe94ea91 = L.popup({\n",
       "  &quot;maxWidth&quot;: &quot;100%&quot;,\n",
       "});\n",
       "\n",
       "        \n",
       "            \n",
       "                var html_3a9a4cc33bd6be1ed455c69462ac0c1e = $(`&lt;div id=&quot;html_3a9a4cc33bd6be1ed455c69462ac0c1e&quot; style=&quot;width: 100.0%; height: 100.0%;&quot;&gt;Central African Republic&lt;/div&gt;`)[0];\n",
       "                popup_bfb682389f147d93614f2548fe94ea91.setContent(html_3a9a4cc33bd6be1ed455c69462ac0c1e);\n",
       "            \n",
       "        \n",
       "\n",
       "        circle_marker_101e610e90de5c78df9e3005511180c6.bindPopup(popup_bfb682389f147d93614f2548fe94ea91)\n",
       "        ;\n",
       "\n",
       "        \n",
       "    \n",
       "    \n",
       "            var circle_marker_e3b8f5507c4e75507d44e34feb32e9a4 = L.circleMarker(\n",
       "                [60.10867, -113.64258],\n",
       "                {&quot;bubblingMouseEvents&quot;: true, &quot;color&quot;: &quot;green&quot;, &quot;dashArray&quot;: null, &quot;dashOffset&quot;: null, &quot;fill&quot;: true, &quot;fillColor&quot;: &quot;green&quot;, &quot;fillOpacity&quot;: 0.2, &quot;fillRule&quot;: &quot;evenodd&quot;, &quot;lineCap&quot;: &quot;round&quot;, &quot;lineJoin&quot;: &quot;round&quot;, &quot;opacity&quot;: 1.0, &quot;radius&quot;: 1.9237872064421044, &quot;stroke&quot;: true, &quot;weight&quot;: 3}\n",
       "            ).addTo(map_37c514aba63ae1e51efa9e17f624418a);\n",
       "        \n",
       "    \n",
       "        var popup_9cfcc126e47d374331e46ecd4cd5ae3d = L.popup({\n",
       "  &quot;maxWidth&quot;: &quot;100%&quot;,\n",
       "});\n",
       "\n",
       "        \n",
       "            \n",
       "                var html_045b04194354769300dab75d9dd5f787 = $(`&lt;div id=&quot;html_045b04194354769300dab75d9dd5f787&quot; style=&quot;width: 100.0%; height: 100.0%;&quot;&gt;Canada&lt;/div&gt;`)[0];\n",
       "                popup_9cfcc126e47d374331e46ecd4cd5ae3d.setContent(html_045b04194354769300dab75d9dd5f787);\n",
       "            \n",
       "        \n",
       "\n",
       "        circle_marker_e3b8f5507c4e75507d44e34feb32e9a4.bindPopup(popup_9cfcc126e47d374331e46ecd4cd5ae3d)\n",
       "        ;\n",
       "\n",
       "        \n",
       "    \n",
       "    \n",
       "            var circle_marker_c3ad15bd9c40e8d85ecc852e12ee5642 = L.circleMarker(\n",
       "                [47.00016, 8.01427],\n",
       "                {&quot;bubblingMouseEvents&quot;: true, &quot;color&quot;: &quot;black&quot;, &quot;dashArray&quot;: null, &quot;dashOffset&quot;: null, &quot;fill&quot;: true, &quot;fillColor&quot;: &quot;black&quot;, &quot;fillOpacity&quot;: 0.2, &quot;fillRule&quot;: &quot;evenodd&quot;, &quot;lineCap&quot;: &quot;round&quot;, &quot;lineJoin&quot;: &quot;round&quot;, &quot;opacity&quot;: 1.0, &quot;radius&quot;: 1.2918955941667538, &quot;stroke&quot;: true, &quot;weight&quot;: 3}\n",
       "            ).addTo(map_37c514aba63ae1e51efa9e17f624418a);\n",
       "        \n",
       "    \n",
       "        var popup_586d06315ec01b308d68f891d4a248db = L.popup({\n",
       "  &quot;maxWidth&quot;: &quot;100%&quot;,\n",
       "});\n",
       "\n",
       "        \n",
       "            \n",
       "                var html_b2a40cdc8a68bc0017d7ad17ad294016 = $(`&lt;div id=&quot;html_b2a40cdc8a68bc0017d7ad17ad294016&quot; style=&quot;width: 100.0%; height: 100.0%;&quot;&gt;Switzerland&lt;/div&gt;`)[0];\n",
       "                popup_586d06315ec01b308d68f891d4a248db.setContent(html_b2a40cdc8a68bc0017d7ad17ad294016);\n",
       "            \n",
       "        \n",
       "\n",
       "        circle_marker_c3ad15bd9c40e8d85ecc852e12ee5642.bindPopup(popup_586d06315ec01b308d68f891d4a248db)\n",
       "        ;\n",
       "\n",
       "        \n",
       "    \n",
       "    \n",
       "            var circle_marker_83e78568f53d53cea8ad36a06777b16a = L.circleMarker(\n",
       "                [-33.45694, -70.64827],\n",
       "                {&quot;bubblingMouseEvents&quot;: true, &quot;color&quot;: &quot;green&quot;, &quot;dashArray&quot;: null, &quot;dashOffset&quot;: null, &quot;fill&quot;: true, &quot;fillColor&quot;: &quot;green&quot;, &quot;fillOpacity&quot;: 0.2, &quot;fillRule&quot;: &quot;evenodd&quot;, &quot;lineCap&quot;: &quot;round&quot;, &quot;lineJoin&quot;: &quot;round&quot;, &quot;opacity&quot;: 1.0, &quot;radius&quot;: 2.130560950292802, &quot;stroke&quot;: true, &quot;weight&quot;: 3}\n",
       "            ).addTo(map_37c514aba63ae1e51efa9e17f624418a);\n",
       "        \n",
       "    \n",
       "        var popup_7db01be3913e67db0b778cee22ac0cec = L.popup({\n",
       "  &quot;maxWidth&quot;: &quot;100%&quot;,\n",
       "});\n",
       "\n",
       "        \n",
       "            \n",
       "                var html_b88971c8b3651ea8da6eadb613bb69c4 = $(`&lt;div id=&quot;html_b88971c8b3651ea8da6eadb613bb69c4&quot; style=&quot;width: 100.0%; height: 100.0%;&quot;&gt;Chile&lt;/div&gt;`)[0];\n",
       "                popup_7db01be3913e67db0b778cee22ac0cec.setContent(html_b88971c8b3651ea8da6eadb613bb69c4);\n",
       "            \n",
       "        \n",
       "\n",
       "        circle_marker_83e78568f53d53cea8ad36a06777b16a.bindPopup(popup_7db01be3913e67db0b778cee22ac0cec)\n",
       "        ;\n",
       "\n",
       "        \n",
       "    \n",
       "    \n",
       "            var circle_marker_69231dcf6c157e619db751979af25b00 = L.circleMarker(\n",
       "                [35.0, 105.0],\n",
       "                {&quot;bubblingMouseEvents&quot;: true, &quot;color&quot;: &quot;red&quot;, &quot;dashArray&quot;: null, &quot;dashOffset&quot;: null, &quot;fill&quot;: true, &quot;fillColor&quot;: &quot;red&quot;, &quot;fillOpacity&quot;: 0.2, &quot;fillRule&quot;: &quot;evenodd&quot;, &quot;lineCap&quot;: &quot;round&quot;, &quot;lineJoin&quot;: &quot;round&quot;, &quot;opacity&quot;: 1.0, &quot;radius&quot;: 51.89555240198962, &quot;stroke&quot;: true, &quot;weight&quot;: 3}\n",
       "            ).addTo(map_37c514aba63ae1e51efa9e17f624418a);\n",
       "        \n",
       "    \n",
       "        var popup_ce49dc0e252428379cb8183794a1395d = L.popup({\n",
       "  &quot;maxWidth&quot;: &quot;100%&quot;,\n",
       "});\n",
       "\n",
       "        \n",
       "            \n",
       "                var html_d6bed51540dc4e12366e88366e26baa6 = $(`&lt;div id=&quot;html_d6bed51540dc4e12366e88366e26baa6&quot; style=&quot;width: 100.0%; height: 100.0%;&quot;&gt;China&lt;/div&gt;`)[0];\n",
       "                popup_ce49dc0e252428379cb8183794a1395d.setContent(html_d6bed51540dc4e12366e88366e26baa6);\n",
       "            \n",
       "        \n",
       "\n",
       "        circle_marker_69231dcf6c157e619db751979af25b00.bindPopup(popup_ce49dc0e252428379cb8183794a1395d)\n",
       "        ;\n",
       "\n",
       "        \n",
       "    \n",
       "    \n",
       "            var circle_marker_88269df3d09f7e277ebbfe8a2a0b7e17 = L.circleMarker(\n",
       "                [8.0, -5.5],\n",
       "                {&quot;bubblingMouseEvents&quot;: true, &quot;color&quot;: &quot;blue&quot;, &quot;dashArray&quot;: null, &quot;dashOffset&quot;: null, &quot;fill&quot;: true, &quot;fillColor&quot;: &quot;blue&quot;, &quot;fillOpacity&quot;: 0.2, &quot;fillRule&quot;: &quot;evenodd&quot;, &quot;lineCap&quot;: &quot;round&quot;, &quot;lineJoin&quot;: &quot;round&quot;, &quot;opacity&quot;: 1.0, &quot;radius&quot;: 15.837373427210036, &quot;stroke&quot;: true, &quot;weight&quot;: 3}\n",
       "            ).addTo(map_37c514aba63ae1e51efa9e17f624418a);\n",
       "        \n",
       "    \n",
       "        var popup_7fa51c5794cdd4b3cce9feef927773c1 = L.popup({\n",
       "  &quot;maxWidth&quot;: &quot;100%&quot;,\n",
       "});\n",
       "\n",
       "        \n",
       "            \n",
       "                var html_8d7b21d8773f5bb70b02e0a19b70334b = $(`&lt;div id=&quot;html_8d7b21d8773f5bb70b02e0a19b70334b&quot; style=&quot;width: 100.0%; height: 100.0%;&quot;&gt;Cote d&#x27;Ivoire&lt;/div&gt;`)[0];\n",
       "                popup_7fa51c5794cdd4b3cce9feef927773c1.setContent(html_8d7b21d8773f5bb70b02e0a19b70334b);\n",
       "            \n",
       "        \n",
       "\n",
       "        circle_marker_88269df3d09f7e277ebbfe8a2a0b7e17.bindPopup(popup_7fa51c5794cdd4b3cce9feef927773c1)\n",
       "        ;\n",
       "\n",
       "        \n",
       "    \n",
       "    \n",
       "            var circle_marker_959e21fbfe5e1b1751391339abcaf814 = L.circleMarker(\n",
       "                [6.0, 12.5],\n",
       "                {&quot;bubblingMouseEvents&quot;: true, &quot;color&quot;: &quot;blue&quot;, &quot;dashArray&quot;: null, &quot;dashOffset&quot;: null, &quot;fill&quot;: true, &quot;fillColor&quot;: &quot;blue&quot;, &quot;fillOpacity&quot;: 0.2, &quot;fillRule&quot;: &quot;evenodd&quot;, &quot;lineCap&quot;: &quot;round&quot;, &quot;lineJoin&quot;: &quot;round&quot;, &quot;opacity&quot;: 1.0, &quot;radius&quot;: 13.147376336622475, &quot;stroke&quot;: true, &quot;weight&quot;: 3}\n",
       "            ).addTo(map_37c514aba63ae1e51efa9e17f624418a);\n",
       "        \n",
       "    \n",
       "        var popup_db4bcbc4f584e9af7f32ede86b2c7d61 = L.popup({\n",
       "  &quot;maxWidth&quot;: &quot;100%&quot;,\n",
       "});\n",
       "\n",
       "        \n",
       "            \n",
       "                var html_b2d1b31ca5903cbf4992f5b23a4a2722 = $(`&lt;div id=&quot;html_b2d1b31ca5903cbf4992f5b23a4a2722&quot; style=&quot;width: 100.0%; height: 100.0%;&quot;&gt;Cameroon&lt;/div&gt;`)[0];\n",
       "                popup_db4bcbc4f584e9af7f32ede86b2c7d61.setContent(html_b2d1b31ca5903cbf4992f5b23a4a2722);\n",
       "            \n",
       "        \n",
       "\n",
       "        circle_marker_959e21fbfe5e1b1751391339abcaf814.bindPopup(popup_db4bcbc4f584e9af7f32ede86b2c7d61)\n",
       "        ;\n",
       "\n",
       "        \n",
       "    \n",
       "    \n",
       "            var circle_marker_0270ff6bc7a63046c4db712a4471f03d = L.circleMarker(\n",
       "                [-2.5, 23.5],\n",
       "                {&quot;bubblingMouseEvents&quot;: true, &quot;color&quot;: &quot;blue&quot;, &quot;dashArray&quot;: null, &quot;dashOffset&quot;: null, &quot;fill&quot;: true, &quot;fillColor&quot;: &quot;blue&quot;, &quot;fillOpacity&quot;: 0.2, &quot;fillRule&quot;: &quot;evenodd&quot;, &quot;lineCap&quot;: &quot;round&quot;, &quot;lineJoin&quot;: &quot;round&quot;, &quot;opacity&quot;: 1.0, &quot;radius&quot;: 43.754165155748495, &quot;stroke&quot;: true, &quot;weight&quot;: 3}\n",
       "            ).addTo(map_37c514aba63ae1e51efa9e17f624418a);\n",
       "        \n",
       "    \n",
       "        var popup_9a67933bf31bddf5f93d1bb973701985 = L.popup({\n",
       "  &quot;maxWidth&quot;: &quot;100%&quot;,\n",
       "});\n",
       "\n",
       "        \n",
       "            \n",
       "                var html_a280436cb900b76030cd0ac865013c22 = $(`&lt;div id=&quot;html_a280436cb900b76030cd0ac865013c22&quot; style=&quot;width: 100.0%; height: 100.0%;&quot;&gt;Congo, Dem. Rep.&lt;/div&gt;`)[0];\n",
       "                popup_9a67933bf31bddf5f93d1bb973701985.setContent(html_a280436cb900b76030cd0ac865013c22);\n",
       "            \n",
       "        \n",
       "\n",
       "        circle_marker_0270ff6bc7a63046c4db712a4471f03d.bindPopup(popup_9a67933bf31bddf5f93d1bb973701985)\n",
       "        ;\n",
       "\n",
       "        \n",
       "    \n",
       "    \n",
       "            var circle_marker_3d1f66d7639d808781a328849c9fd712 = L.circleMarker(\n",
       "                [-1.0, 15.5],\n",
       "                {&quot;bubblingMouseEvents&quot;: true, &quot;color&quot;: &quot;blue&quot;, &quot;dashArray&quot;: null, &quot;dashOffset&quot;: null, &quot;fill&quot;: true, &quot;fillColor&quot;: &quot;blue&quot;, &quot;fillOpacity&quot;: 0.2, &quot;fillRule&quot;: &quot;evenodd&quot;, &quot;lineCap&quot;: &quot;round&quot;, &quot;lineJoin&quot;: &quot;round&quot;, &quot;opacity&quot;: 1.0, &quot;radius&quot;: 6.827682386823731, &quot;stroke&quot;: true, &quot;weight&quot;: 3}\n",
       "            ).addTo(map_37c514aba63ae1e51efa9e17f624418a);\n",
       "        \n",
       "    \n",
       "        var popup_8439e2a392a4b697b0e533d7ae47e1d0 = L.popup({\n",
       "  &quot;maxWidth&quot;: &quot;100%&quot;,\n",
       "});\n",
       "\n",
       "        \n",
       "            \n",
       "                var html_73b3340e575a737ecaf410f43cc5b613 = $(`&lt;div id=&quot;html_73b3340e575a737ecaf410f43cc5b613&quot; style=&quot;width: 100.0%; height: 100.0%;&quot;&gt;Congo, Rep.&lt;/div&gt;`)[0];\n",
       "                popup_8439e2a392a4b697b0e533d7ae47e1d0.setContent(html_73b3340e575a737ecaf410f43cc5b613);\n",
       "            \n",
       "        \n",
       "\n",
       "        circle_marker_3d1f66d7639d808781a328849c9fd712.bindPopup(popup_8439e2a392a4b697b0e533d7ae47e1d0)\n",
       "        ;\n",
       "\n",
       "        \n",
       "    \n",
       "    \n",
       "            var circle_marker_41a95cfc078c486c80b59dc0124c6565 = L.circleMarker(\n",
       "                [4.0, -73.25],\n",
       "                {&quot;bubblingMouseEvents&quot;: true, &quot;color&quot;: &quot;green&quot;, &quot;dashArray&quot;: null, &quot;dashOffset&quot;: null, &quot;fill&quot;: true, &quot;fillColor&quot;: &quot;green&quot;, &quot;fillOpacity&quot;: 0.2, &quot;fillRule&quot;: &quot;evenodd&quot;, &quot;lineCap&quot;: &quot;round&quot;, &quot;lineJoin&quot;: &quot;round&quot;, &quot;opacity&quot;: 1.0, &quot;radius&quot;: 8.957943098745089, &quot;stroke&quot;: true, &quot;weight&quot;: 3}\n",
       "            ).addTo(map_37c514aba63ae1e51efa9e17f624418a);\n",
       "        \n",
       "    \n",
       "        var popup_b90cce226631783da4073761b45f2c08 = L.popup({\n",
       "  &quot;maxWidth&quot;: &quot;100%&quot;,\n",
       "});\n",
       "\n",
       "        \n",
       "            \n",
       "                var html_d0d37661f6fbdef6e28be9f5c64fec70 = $(`&lt;div id=&quot;html_d0d37661f6fbdef6e28be9f5c64fec70&quot; style=&quot;width: 100.0%; height: 100.0%;&quot;&gt;Colombia&lt;/div&gt;`)[0];\n",
       "                popup_b90cce226631783da4073761b45f2c08.setContent(html_d0d37661f6fbdef6e28be9f5c64fec70);\n",
       "            \n",
       "        \n",
       "\n",
       "        circle_marker_41a95cfc078c486c80b59dc0124c6565.bindPopup(popup_b90cce226631783da4073761b45f2c08)\n",
       "        ;\n",
       "\n",
       "        \n",
       "    \n",
       "    \n",
       "            var circle_marker_7cd9079ae477e5c3b8d9a1cc60e9eac4 = L.circleMarker(\n",
       "                [-12.23333, 44.44553],\n",
       "                {&quot;bubblingMouseEvents&quot;: true, &quot;color&quot;: &quot;blue&quot;, &quot;dashArray&quot;: null, &quot;dashOffset&quot;: null, &quot;fill&quot;: true, &quot;fillColor&quot;: &quot;blue&quot;, &quot;fillOpacity&quot;: 0.2, &quot;fillRule&quot;: &quot;evenodd&quot;, &quot;lineCap&quot;: &quot;round&quot;, &quot;lineJoin&quot;: &quot;round&quot;, &quot;opacity&quot;: 1.0, &quot;radius&quot;: 3.1001948097460694, &quot;stroke&quot;: true, &quot;weight&quot;: 3}\n",
       "            ).addTo(map_37c514aba63ae1e51efa9e17f624418a);\n",
       "        \n",
       "    \n",
       "        var popup_db71c62c80dc454b5d46a2a4b0a2e3ad = L.popup({\n",
       "  &quot;maxWidth&quot;: &quot;100%&quot;,\n",
       "});\n",
       "\n",
       "        \n",
       "            \n",
       "                var html_6d708a2f2eaa1ae5d17ab960eadc8e62 = $(`&lt;div id=&quot;html_6d708a2f2eaa1ae5d17ab960eadc8e62&quot; style=&quot;width: 100.0%; height: 100.0%;&quot;&gt;Comoros&lt;/div&gt;`)[0];\n",
       "                popup_db71c62c80dc454b5d46a2a4b0a2e3ad.setContent(html_6d708a2f2eaa1ae5d17ab960eadc8e62);\n",
       "            \n",
       "        \n",
       "\n",
       "        circle_marker_7cd9079ae477e5c3b8d9a1cc60e9eac4.bindPopup(popup_db71c62c80dc454b5d46a2a4b0a2e3ad)\n",
       "        ;\n",
       "\n",
       "        \n",
       "    \n",
       "    \n",
       "            var circle_marker_605b1d64cf1a977bc43b93a0780b89d2 = L.circleMarker(\n",
       "                [16.0, -24.0],\n",
       "                {&quot;bubblingMouseEvents&quot;: true, &quot;color&quot;: &quot;blue&quot;, &quot;dashArray&quot;: null, &quot;dashOffset&quot;: null, &quot;fill&quot;: true, &quot;fillColor&quot;: &quot;blue&quot;, &quot;fillOpacity&quot;: 0.2, &quot;fillRule&quot;: &quot;evenodd&quot;, &quot;lineCap&quot;: &quot;round&quot;, &quot;lineJoin&quot;: &quot;round&quot;, &quot;opacity&quot;: 1.0, &quot;radius&quot;: 1.4920867957148702, &quot;stroke&quot;: true, &quot;weight&quot;: 3}\n",
       "            ).addTo(map_37c514aba63ae1e51efa9e17f624418a);\n",
       "        \n",
       "    \n",
       "        var popup_2ff1a3407bc2b2aabbc81e207af5fade = L.popup({\n",
       "  &quot;maxWidth&quot;: &quot;100%&quot;,\n",
       "});\n",
       "\n",
       "        \n",
       "            \n",
       "                var html_5e81b19d3498d501cb36feef66d010fd = $(`&lt;div id=&quot;html_5e81b19d3498d501cb36feef66d010fd&quot; style=&quot;width: 100.0%; height: 100.0%;&quot;&gt;Cape Verde&lt;/div&gt;`)[0];\n",
       "                popup_2ff1a3407bc2b2aabbc81e207af5fade.setContent(html_5e81b19d3498d501cb36feef66d010fd);\n",
       "            \n",
       "        \n",
       "\n",
       "        circle_marker_605b1d64cf1a977bc43b93a0780b89d2.bindPopup(popup_2ff1a3407bc2b2aabbc81e207af5fade)\n",
       "        ;\n",
       "\n",
       "        \n",
       "    \n",
       "    \n",
       "            var circle_marker_0188c8dd8bdcbec56c81e8a4c5b5af9c = L.circleMarker(\n",
       "                [10.0, -84.0],\n",
       "                {&quot;bubblingMouseEvents&quot;: true, &quot;color&quot;: &quot;green&quot;, &quot;dashArray&quot;: null, &quot;dashOffset&quot;: null, &quot;fill&quot;: true, &quot;fillColor&quot;: &quot;green&quot;, &quot;fillOpacity&quot;: 0.2, &quot;fillRule&quot;: &quot;evenodd&quot;, &quot;lineCap&quot;: &quot;round&quot;, &quot;lineJoin&quot;: &quot;round&quot;, &quot;opacity&quot;: 1.0, &quot;radius&quot;: 1.3992015419421908, &quot;stroke&quot;: true, &quot;weight&quot;: 3}\n",
       "            ).addTo(map_37c514aba63ae1e51efa9e17f624418a);\n",
       "        \n",
       "    \n",
       "        var popup_5d6b60f00924bb75cf4f77208ac53096 = L.popup({\n",
       "  &quot;maxWidth&quot;: &quot;100%&quot;,\n",
       "});\n",
       "\n",
       "        \n",
       "            \n",
       "                var html_49fb4eae89e15af77d156c9f27ae4de5 = $(`&lt;div id=&quot;html_49fb4eae89e15af77d156c9f27ae4de5&quot; style=&quot;width: 100.0%; height: 100.0%;&quot;&gt;Costa Rica&lt;/div&gt;`)[0];\n",
       "                popup_5d6b60f00924bb75cf4f77208ac53096.setContent(html_49fb4eae89e15af77d156c9f27ae4de5);\n",
       "            \n",
       "        \n",
       "\n",
       "        circle_marker_0188c8dd8bdcbec56c81e8a4c5b5af9c.bindPopup(popup_5d6b60f00924bb75cf4f77208ac53096)\n",
       "        ;\n",
       "\n",
       "        \n",
       "    \n",
       "    \n",
       "            var circle_marker_a32ff4c08be38cb80645abcffe6b7224 = L.circleMarker(\n",
       "                [49.75, 15.0],\n",
       "                {&quot;bubblingMouseEvents&quot;: true, &quot;color&quot;: &quot;black&quot;, &quot;dashArray&quot;: null, &quot;dashOffset&quot;: null, &quot;fill&quot;: true, &quot;fillColor&quot;: &quot;black&quot;, &quot;fillOpacity&quot;: 0.2, &quot;fillRule&quot;: &quot;evenodd&quot;, &quot;lineCap&quot;: &quot;round&quot;, &quot;lineJoin&quot;: &quot;round&quot;, &quot;opacity&quot;: 1.0, &quot;radius&quot;: 0.3160972528717893, &quot;stroke&quot;: true, &quot;weight&quot;: 3}\n",
       "            ).addTo(map_37c514aba63ae1e51efa9e17f624418a);\n",
       "        \n",
       "    \n",
       "        var popup_fb87786368300c8a0ae2490bf0e6bb06 = L.popup({\n",
       "  &quot;maxWidth&quot;: &quot;100%&quot;,\n",
       "});\n",
       "\n",
       "        \n",
       "            \n",
       "                var html_fa176cbe355cf988011b8a1968023ba1 = $(`&lt;div id=&quot;html_fa176cbe355cf988011b8a1968023ba1&quot; style=&quot;width: 100.0%; height: 100.0%;&quot;&gt;Czech Republic&lt;/div&gt;`)[0];\n",
       "                popup_fb87786368300c8a0ae2490bf0e6bb06.setContent(html_fa176cbe355cf988011b8a1968023ba1);\n",
       "            \n",
       "        \n",
       "\n",
       "        circle_marker_a32ff4c08be38cb80645abcffe6b7224.bindPopup(popup_fb87786368300c8a0ae2490bf0e6bb06)\n",
       "        ;\n",
       "\n",
       "        \n",
       "    \n",
       "    \n",
       "            var circle_marker_11cbff6ab986630a2415c87d64481269 = L.circleMarker(\n",
       "                [51.5, 10.5],\n",
       "                {&quot;bubblingMouseEvents&quot;: true, &quot;color&quot;: &quot;black&quot;, &quot;dashArray&quot;: null, &quot;dashOffset&quot;: null, &quot;fill&quot;: true, &quot;fillColor&quot;: &quot;black&quot;, &quot;fillOpacity&quot;: 0.2, &quot;fillRule&quot;: &quot;evenodd&quot;, &quot;lineCap&quot;: &quot;round&quot;, &quot;lineJoin&quot;: &quot;round&quot;, &quot;opacity&quot;: 1.0, &quot;radius&quot;: 2.957693602631285, &quot;stroke&quot;: true, &quot;weight&quot;: 3}\n",
       "            ).addTo(map_37c514aba63ae1e51efa9e17f624418a);\n",
       "        \n",
       "    \n",
       "        var popup_cc955eebfc9ac1aec5f36ee678764efd = L.popup({\n",
       "  &quot;maxWidth&quot;: &quot;100%&quot;,\n",
       "});\n",
       "\n",
       "        \n",
       "            \n",
       "                var html_e83d6774968c8fac23b1e3c152bedba4 = $(`&lt;div id=&quot;html_e83d6774968c8fac23b1e3c152bedba4&quot; style=&quot;width: 100.0%; height: 100.0%;&quot;&gt;Germany&lt;/div&gt;`)[0];\n",
       "                popup_cc955eebfc9ac1aec5f36ee678764efd.setContent(html_e83d6774968c8fac23b1e3c152bedba4);\n",
       "            \n",
       "        \n",
       "\n",
       "        circle_marker_11cbff6ab986630a2415c87d64481269.bindPopup(popup_cc955eebfc9ac1aec5f36ee678764efd)\n",
       "        ;\n",
       "\n",
       "        \n",
       "    \n",
       "    \n",
       "            var circle_marker_3cff74c493e2606328138a76909be5b3 = L.circleMarker(\n",
       "                [11.58901, 43.14503],\n",
       "                {&quot;bubblingMouseEvents&quot;: true, &quot;color&quot;: &quot;blue&quot;, &quot;dashArray&quot;: null, &quot;dashOffset&quot;: null, &quot;fill&quot;: true, &quot;fillColor&quot;: &quot;blue&quot;, &quot;fillOpacity&quot;: 0.2, &quot;fillRule&quot;: &quot;evenodd&quot;, &quot;lineCap&quot;: &quot;round&quot;, &quot;lineJoin&quot;: &quot;round&quot;, &quot;opacity&quot;: 1.0, &quot;radius&quot;: 2.3612934913574355, &quot;stroke&quot;: true, &quot;weight&quot;: 3}\n",
       "            ).addTo(map_37c514aba63ae1e51efa9e17f624418a);\n",
       "        \n",
       "    \n",
       "        var popup_09347b051868cffdb34b7819882c5fb1 = L.popup({\n",
       "  &quot;maxWidth&quot;: &quot;100%&quot;,\n",
       "});\n",
       "\n",
       "        \n",
       "            \n",
       "                var html_e72c8807605cb59113f9044d9fa83821 = $(`&lt;div id=&quot;html_e72c8807605cb59113f9044d9fa83821&quot; style=&quot;width: 100.0%; height: 100.0%;&quot;&gt;Djibouti&lt;/div&gt;`)[0];\n",
       "                popup_09347b051868cffdb34b7819882c5fb1.setContent(html_e72c8807605cb59113f9044d9fa83821);\n",
       "            \n",
       "        \n",
       "\n",
       "        circle_marker_3cff74c493e2606328138a76909be5b3.bindPopup(popup_09347b051868cffdb34b7819882c5fb1)\n",
       "        ;\n",
       "\n",
       "        \n",
       "    \n",
       "    \n",
       "            var circle_marker_5aee7591ac82f91e7d990c344b68d8ef = L.circleMarker(\n",
       "                [56.0, 10.0],\n",
       "                {&quot;bubblingMouseEvents&quot;: true, &quot;color&quot;: &quot;black&quot;, &quot;dashArray&quot;: null, &quot;dashOffset&quot;: null, &quot;fill&quot;: true, &quot;fillColor&quot;: &quot;black&quot;, &quot;fillOpacity&quot;: 0.2, &quot;fillRule&quot;: &quot;evenodd&quot;, &quot;lineCap&quot;: &quot;round&quot;, &quot;lineJoin&quot;: &quot;round&quot;, &quot;opacity&quot;: 1.0, &quot;radius&quot;: 1.0877452265736534, &quot;stroke&quot;: true, &quot;weight&quot;: 3}\n",
       "            ).addTo(map_37c514aba63ae1e51efa9e17f624418a);\n",
       "        \n",
       "    \n",
       "        var popup_c351eaccd6b885aef6afee6bfcb52108 = L.popup({\n",
       "  &quot;maxWidth&quot;: &quot;100%&quot;,\n",
       "});\n",
       "\n",
       "        \n",
       "            \n",
       "                var html_09303046b34751042e6468e546d5acd7 = $(`&lt;div id=&quot;html_09303046b34751042e6468e546d5acd7&quot; style=&quot;width: 100.0%; height: 100.0%;&quot;&gt;Denmark&lt;/div&gt;`)[0];\n",
       "                popup_c351eaccd6b885aef6afee6bfcb52108.setContent(html_09303046b34751042e6468e546d5acd7);\n",
       "            \n",
       "        \n",
       "\n",
       "        circle_marker_5aee7591ac82f91e7d990c344b68d8ef.bindPopup(popup_c351eaccd6b885aef6afee6bfcb52108)\n",
       "        ;\n",
       "\n",
       "        \n",
       "    \n",
       "    \n",
       "            var circle_marker_7c810cdc50a38f2f21d3faf7c5875b2e = L.circleMarker(\n",
       "                [19.0, -70.66667],\n",
       "                {&quot;bubblingMouseEvents&quot;: true, &quot;color&quot;: &quot;green&quot;, &quot;dashArray&quot;: null, &quot;dashOffset&quot;: null, &quot;fill&quot;: true, &quot;fillColor&quot;: &quot;green&quot;, &quot;fillOpacity&quot;: 0.2, &quot;fillRule&quot;: &quot;evenodd&quot;, &quot;lineCap&quot;: &quot;round&quot;, &quot;lineJoin&quot;: &quot;round&quot;, &quot;opacity&quot;: 1.0, &quot;radius&quot;: 2.6520151317791023, &quot;stroke&quot;: true, &quot;weight&quot;: 3}\n",
       "            ).addTo(map_37c514aba63ae1e51efa9e17f624418a);\n",
       "        \n",
       "    \n",
       "        var popup_55f9ceef2bd90db3aee2feb759d262f5 = L.popup({\n",
       "  &quot;maxWidth&quot;: &quot;100%&quot;,\n",
       "});\n",
       "\n",
       "        \n",
       "            \n",
       "                var html_1035a5a0652d6bcad0e4eec98d1f400a = $(`&lt;div id=&quot;html_1035a5a0652d6bcad0e4eec98d1f400a&quot; style=&quot;width: 100.0%; height: 100.0%;&quot;&gt;Dominican Republic&lt;/div&gt;`)[0];\n",
       "                popup_55f9ceef2bd90db3aee2feb759d262f5.setContent(html_1035a5a0652d6bcad0e4eec98d1f400a);\n",
       "            \n",
       "        \n",
       "\n",
       "        circle_marker_7c810cdc50a38f2f21d3faf7c5875b2e.bindPopup(popup_55f9ceef2bd90db3aee2feb759d262f5)\n",
       "        ;\n",
       "\n",
       "        \n",
       "    \n",
       "    \n",
       "            var circle_marker_14116e207faa27d9a82ed38715d9e4ac = L.circleMarker(\n",
       "                [28.0, 3.0],\n",
       "                {&quot;bubblingMouseEvents&quot;: true, &quot;color&quot;: &quot;blue&quot;, &quot;dashArray&quot;: null, &quot;dashOffset&quot;: null, &quot;fill&quot;: true, &quot;fillColor&quot;: &quot;blue&quot;, &quot;fillOpacity&quot;: 0.2, &quot;fillRule&quot;: &quot;evenodd&quot;, &quot;lineCap&quot;: &quot;round&quot;, &quot;lineJoin&quot;: &quot;round&quot;, &quot;opacity&quot;: 1.0, &quot;radius&quot;: 8.572728445542362, &quot;stroke&quot;: true, &quot;weight&quot;: 3}\n",
       "            ).addTo(map_37c514aba63ae1e51efa9e17f624418a);\n",
       "        \n",
       "    \n",
       "        var popup_22724e74b359eed6e6c4657b70912a91 = L.popup({\n",
       "  &quot;maxWidth&quot;: &quot;100%&quot;,\n",
       "});\n",
       "\n",
       "        \n",
       "            \n",
       "                var html_0b28f831104333ede56e53900121e2d7 = $(`&lt;div id=&quot;html_0b28f831104333ede56e53900121e2d7&quot; style=&quot;width: 100.0%; height: 100.0%;&quot;&gt;Algeria&lt;/div&gt;`)[0];\n",
       "                popup_22724e74b359eed6e6c4657b70912a91.setContent(html_0b28f831104333ede56e53900121e2d7);\n",
       "            \n",
       "        \n",
       "\n",
       "        circle_marker_14116e207faa27d9a82ed38715d9e4ac.bindPopup(popup_22724e74b359eed6e6c4657b70912a91)\n",
       "        ;\n",
       "\n",
       "        \n",
       "    \n",
       "    \n",
       "            var circle_marker_4c5a6faf5c1e79f86874c77a49e72e25 = L.circleMarker(\n",
       "                [-1.25, -78.25],\n",
       "                {&quot;bubblingMouseEvents&quot;: true, &quot;color&quot;: &quot;green&quot;, &quot;dashArray&quot;: null, &quot;dashOffset&quot;: null, &quot;fill&quot;: true, &quot;fillColor&quot;: &quot;green&quot;, &quot;fillOpacity&quot;: 0.2, &quot;fillRule&quot;: &quot;evenodd&quot;, &quot;lineCap&quot;: &quot;round&quot;, &quot;lineJoin&quot;: &quot;round&quot;, &quot;opacity&quot;: 1.0, &quot;radius&quot;: 4.353880662227051, &quot;stroke&quot;: true, &quot;weight&quot;: 3}\n",
       "            ).addTo(map_37c514aba63ae1e51efa9e17f624418a);\n",
       "        \n",
       "    \n",
       "        var popup_e6d4f15c7bb3c81145418cae7a029f4d = L.popup({\n",
       "  &quot;maxWidth&quot;: &quot;100%&quot;,\n",
       "});\n",
       "\n",
       "        \n",
       "            \n",
       "                var html_8919f4f2b10146ac7f73045ec1ef8f7c = $(`&lt;div id=&quot;html_8919f4f2b10146ac7f73045ec1ef8f7c&quot; style=&quot;width: 100.0%; height: 100.0%;&quot;&gt;Ecuador&lt;/div&gt;`)[0];\n",
       "                popup_e6d4f15c7bb3c81145418cae7a029f4d.setContent(html_8919f4f2b10146ac7f73045ec1ef8f7c);\n",
       "            \n",
       "        \n",
       "\n",
       "        circle_marker_4c5a6faf5c1e79f86874c77a49e72e25.bindPopup(popup_e6d4f15c7bb3c81145418cae7a029f4d)\n",
       "        ;\n",
       "\n",
       "        \n",
       "    \n",
       "    \n",
       "            var circle_marker_cf5cd5128df683dfe2b6e93b48d9b7a2 = L.circleMarker(\n",
       "                [27.0, 30.0],\n",
       "                {&quot;bubblingMouseEvents&quot;: true, &quot;color&quot;: &quot;blue&quot;, &quot;dashArray&quot;: null, &quot;dashOffset&quot;: null, &quot;fill&quot;: true, &quot;fillColor&quot;: &quot;blue&quot;, &quot;fillOpacity&quot;: 0.2, &quot;fillRule&quot;: &quot;evenodd&quot;, &quot;lineCap&quot;: &quot;round&quot;, &quot;lineJoin&quot;: &quot;round&quot;, &quot;opacity&quot;: 1.0, &quot;radius&quot;: 6.906413357069596, &quot;stroke&quot;: true, &quot;weight&quot;: 3}\n",
       "            ).addTo(map_37c514aba63ae1e51efa9e17f624418a);\n",
       "        \n",
       "    \n",
       "        var popup_4e9b2db28c68d94576b0ca29d59d9522 = L.popup({\n",
       "  &quot;maxWidth&quot;: &quot;100%&quot;,\n",
       "});\n",
       "\n",
       "        \n",
       "            \n",
       "                var html_5834f470c720c6765c14d003843c0d29 = $(`&lt;div id=&quot;html_5834f470c720c6765c14d003843c0d29&quot; style=&quot;width: 100.0%; height: 100.0%;&quot;&gt;Egypt&lt;/div&gt;`)[0];\n",
       "                popup_4e9b2db28c68d94576b0ca29d59d9522.setContent(html_5834f470c720c6765c14d003843c0d29);\n",
       "            \n",
       "        \n",
       "\n",
       "        circle_marker_cf5cd5128df683dfe2b6e93b48d9b7a2.bindPopup(popup_4e9b2db28c68d94576b0ca29d59d9522)\n",
       "        ;\n",
       "\n",
       "        \n",
       "    \n",
       "    \n",
       "            var circle_marker_c6304417ebac01e0b5a3e61169ae91f0 = L.circleMarker(\n",
       "                [40.0, -4.0],\n",
       "                {&quot;bubblingMouseEvents&quot;: true, &quot;color&quot;: &quot;black&quot;, &quot;dashArray&quot;: null, &quot;dashOffset&quot;: null, &quot;fill&quot;: true, &quot;fillColor&quot;: &quot;black&quot;, &quot;fillOpacity&quot;: 0.2, &quot;fillRule&quot;: &quot;evenodd&quot;, &quot;lineCap&quot;: &quot;round&quot;, &quot;lineJoin&quot;: &quot;round&quot;, &quot;opacity&quot;: 1.0, &quot;radius&quot;: 5.906682334608904, &quot;stroke&quot;: true, &quot;weight&quot;: 3}\n",
       "            ).addTo(map_37c514aba63ae1e51efa9e17f624418a);\n",
       "        \n",
       "    \n",
       "        var popup_937738234b368d2a604c3febb24e0a31 = L.popup({\n",
       "  &quot;maxWidth&quot;: &quot;100%&quot;,\n",
       "});\n",
       "\n",
       "        \n",
       "            \n",
       "                var html_0f06c5bc402b70ae59c158287ffbfe24 = $(`&lt;div id=&quot;html_0f06c5bc402b70ae59c158287ffbfe24&quot; style=&quot;width: 100.0%; height: 100.0%;&quot;&gt;Spain&lt;/div&gt;`)[0];\n",
       "                popup_937738234b368d2a604c3febb24e0a31.setContent(html_0f06c5bc402b70ae59c158287ffbfe24);\n",
       "            \n",
       "        \n",
       "\n",
       "        circle_marker_c6304417ebac01e0b5a3e61169ae91f0.bindPopup(popup_937738234b368d2a604c3febb24e0a31)\n",
       "        ;\n",
       "\n",
       "        \n",
       "    \n",
       "    \n",
       "            var circle_marker_f5960c9f79b7092dce6948894b039300 = L.circleMarker(\n",
       "                [59.0, 26.0],\n",
       "                {&quot;bubblingMouseEvents&quot;: true, &quot;color&quot;: &quot;black&quot;, &quot;dashArray&quot;: null, &quot;dashOffset&quot;: null, &quot;fill&quot;: true, &quot;fillColor&quot;: &quot;black&quot;, &quot;fillOpacity&quot;: 0.2, &quot;fillRule&quot;: &quot;evenodd&quot;, &quot;lineCap&quot;: &quot;round&quot;, &quot;lineJoin&quot;: &quot;round&quot;, &quot;opacity&quot;: 1.0, &quot;radius&quot;: 0.6444615888418875, &quot;stroke&quot;: true, &quot;weight&quot;: 3}\n",
       "            ).addTo(map_37c514aba63ae1e51efa9e17f624418a);\n",
       "        \n",
       "    \n",
       "        var popup_c8360849349f70bf9c057ae4c8d4161f = L.popup({\n",
       "  &quot;maxWidth&quot;: &quot;100%&quot;,\n",
       "});\n",
       "\n",
       "        \n",
       "            \n",
       "                var html_9a7f2e4dfb56237e2d029314e5516479 = $(`&lt;div id=&quot;html_9a7f2e4dfb56237e2d029314e5516479&quot; style=&quot;width: 100.0%; height: 100.0%;&quot;&gt;Estonia&lt;/div&gt;`)[0];\n",
       "                popup_c8360849349f70bf9c057ae4c8d4161f.setContent(html_9a7f2e4dfb56237e2d029314e5516479);\n",
       "            \n",
       "        \n",
       "\n",
       "        circle_marker_f5960c9f79b7092dce6948894b039300.bindPopup(popup_c8360849349f70bf9c057ae4c8d4161f)\n",
       "        ;\n",
       "\n",
       "        \n",
       "    \n",
       "    \n",
       "            var circle_marker_70bade175bd7ddc7e31889ae9aa0d712 = L.circleMarker(\n",
       "                [9.0, 39.5],\n",
       "                {&quot;bubblingMouseEvents&quot;: true, &quot;color&quot;: &quot;blue&quot;, &quot;dashArray&quot;: null, &quot;dashOffset&quot;: null, &quot;fill&quot;: true, &quot;fillColor&quot;: &quot;blue&quot;, &quot;fillOpacity&quot;: 0.2, &quot;fillRule&quot;: &quot;evenodd&quot;, &quot;lineCap&quot;: &quot;round&quot;, &quot;lineJoin&quot;: &quot;round&quot;, &quot;opacity&quot;: 1.0, &quot;radius&quot;: 32.561667460024736, &quot;stroke&quot;: true, &quot;weight&quot;: 3}\n",
       "            ).addTo(map_37c514aba63ae1e51efa9e17f624418a);\n",
       "        \n",
       "    \n",
       "        var popup_a938c2ed85f4250155977bab92b37cfd = L.popup({\n",
       "  &quot;maxWidth&quot;: &quot;100%&quot;,\n",
       "});\n",
       "\n",
       "        \n",
       "            \n",
       "                var html_2e39ad6b5e36f10b18e98ccc1d06cdfd = $(`&lt;div id=&quot;html_2e39ad6b5e36f10b18e98ccc1d06cdfd&quot; style=&quot;width: 100.0%; height: 100.0%;&quot;&gt;Ethiopia&lt;/div&gt;`)[0];\n",
       "                popup_a938c2ed85f4250155977bab92b37cfd.setContent(html_2e39ad6b5e36f10b18e98ccc1d06cdfd);\n",
       "            \n",
       "        \n",
       "\n",
       "        circle_marker_70bade175bd7ddc7e31889ae9aa0d712.bindPopup(popup_a938c2ed85f4250155977bab92b37cfd)\n",
       "        ;\n",
       "\n",
       "        \n",
       "    \n",
       "    \n",
       "            var circle_marker_92fbaa4c2319f5ab792ce8f8b569d54b = L.circleMarker(\n",
       "                [64.0, 26.0],\n",
       "                {&quot;bubblingMouseEvents&quot;: true, &quot;color&quot;: &quot;black&quot;, &quot;dashArray&quot;: null, &quot;dashOffset&quot;: null, &quot;fill&quot;: true, &quot;fillColor&quot;: &quot;black&quot;, &quot;fillOpacity&quot;: 0.2, &quot;fillRule&quot;: &quot;evenodd&quot;, &quot;lineCap&quot;: &quot;round&quot;, &quot;lineJoin&quot;: &quot;round&quot;, &quot;opacity&quot;: 1.0, &quot;stroke&quot;: true, &quot;weight&quot;: 3}\n",
       "            ).addTo(map_37c514aba63ae1e51efa9e17f624418a);\n",
       "        \n",
       "    \n",
       "        var popup_259084d65c9244101aaeba7acc07f799 = L.popup({\n",
       "  &quot;maxWidth&quot;: &quot;100%&quot;,\n",
       "});\n",
       "\n",
       "        \n",
       "            \n",
       "                var html_99dab627b8635ebc4745a01e62548fc8 = $(`&lt;div id=&quot;html_99dab627b8635ebc4745a01e62548fc8&quot; style=&quot;width: 100.0%; height: 100.0%;&quot;&gt;Finland&lt;/div&gt;`)[0];\n",
       "                popup_259084d65c9244101aaeba7acc07f799.setContent(html_99dab627b8635ebc4745a01e62548fc8);\n",
       "            \n",
       "        \n",
       "\n",
       "        circle_marker_92fbaa4c2319f5ab792ce8f8b569d54b.bindPopup(popup_259084d65c9244101aaeba7acc07f799)\n",
       "        ;\n",
       "\n",
       "        \n",
       "    \n",
       "    \n",
       "            var circle_marker_a0359a042a75c846011e4ce30c3ef417 = L.circleMarker(\n",
       "                [-18.0, 178.0],\n",
       "                {&quot;bubblingMouseEvents&quot;: true, &quot;color&quot;: &quot;red&quot;, &quot;dashArray&quot;: null, &quot;dashOffset&quot;: null, &quot;fill&quot;: true, &quot;fillColor&quot;: &quot;red&quot;, &quot;fillOpacity&quot;: 0.2, &quot;fillRule&quot;: &quot;evenodd&quot;, &quot;lineCap&quot;: &quot;round&quot;, &quot;lineJoin&quot;: &quot;round&quot;, &quot;opacity&quot;: 1.0, &quot;radius&quot;: 1.305376694179763, &quot;stroke&quot;: true, &quot;weight&quot;: 3}\n",
       "            ).addTo(map_37c514aba63ae1e51efa9e17f624418a);\n",
       "        \n",
       "    \n",
       "        var popup_cfec87c5ea60180968a59afba292a2e6 = L.popup({\n",
       "  &quot;maxWidth&quot;: &quot;100%&quot;,\n",
       "});\n",
       "\n",
       "        \n",
       "            \n",
       "                var html_f6ce4ed64d5f5edb268d57953f5c7d20 = $(`&lt;div id=&quot;html_f6ce4ed64d5f5edb268d57953f5c7d20&quot; style=&quot;width: 100.0%; height: 100.0%;&quot;&gt;Fiji&lt;/div&gt;`)[0];\n",
       "                popup_cfec87c5ea60180968a59afba292a2e6.setContent(html_f6ce4ed64d5f5edb268d57953f5c7d20);\n",
       "            \n",
       "        \n",
       "\n",
       "        circle_marker_a0359a042a75c846011e4ce30c3ef417.bindPopup(popup_cfec87c5ea60180968a59afba292a2e6)\n",
       "        ;\n",
       "\n",
       "        \n",
       "    \n",
       "    \n",
       "            var circle_marker_d122b638f08cd9255a324c5c8c049746 = L.circleMarker(\n",
       "                [46.0, 2.0],\n",
       "                {&quot;bubblingMouseEvents&quot;: true, &quot;color&quot;: &quot;black&quot;, &quot;dashArray&quot;: null, &quot;dashOffset&quot;: null, &quot;fill&quot;: true, &quot;fillColor&quot;: &quot;black&quot;, &quot;fillOpacity&quot;: 0.2, &quot;fillRule&quot;: &quot;evenodd&quot;, &quot;lineCap&quot;: &quot;round&quot;, &quot;lineJoin&quot;: &quot;round&quot;, &quot;opacity&quot;: 1.0, &quot;radius&quot;: 2.5809869827429424, &quot;stroke&quot;: true, &quot;weight&quot;: 3}\n",
       "            ).addTo(map_37c514aba63ae1e51efa9e17f624418a);\n",
       "        \n",
       "    \n",
       "        var popup_d3922c149c3a6bd78034a7a23b039d2f = L.popup({\n",
       "  &quot;maxWidth&quot;: &quot;100%&quot;,\n",
       "});\n",
       "\n",
       "        \n",
       "            \n",
       "                var html_ca716fc7f0af658525cf2367bc2d9701 = $(`&lt;div id=&quot;html_ca716fc7f0af658525cf2367bc2d9701&quot; style=&quot;width: 100.0%; height: 100.0%;&quot;&gt;France&lt;/div&gt;`)[0];\n",
       "                popup_d3922c149c3a6bd78034a7a23b039d2f.setContent(html_ca716fc7f0af658525cf2367bc2d9701);\n",
       "            \n",
       "        \n",
       "\n",
       "        circle_marker_d122b638f08cd9255a324c5c8c049746.bindPopup(popup_d3922c149c3a6bd78034a7a23b039d2f)\n",
       "        ;\n",
       "\n",
       "        \n",
       "    \n",
       "    \n",
       "            var circle_marker_935ddc9a3d7cfbd7f65a20bc28033dfe = L.circleMarker(\n",
       "                [6.924, 158.162],\n",
       "                {&quot;bubblingMouseEvents&quot;: true, &quot;color&quot;: &quot;red&quot;, &quot;dashArray&quot;: null, &quot;dashOffset&quot;: null, &quot;fill&quot;: true, &quot;fillColor&quot;: &quot;red&quot;, &quot;fillOpacity&quot;: 0.2, &quot;fillRule&quot;: &quot;evenodd&quot;, &quot;lineCap&quot;: &quot;round&quot;, &quot;lineJoin&quot;: &quot;round&quot;, &quot;opacity&quot;: 1.0, &quot;radius&quot;: 1.0326210765460293, &quot;stroke&quot;: true, &quot;weight&quot;: 3}\n",
       "            ).addTo(map_37c514aba63ae1e51efa9e17f624418a);\n",
       "        \n",
       "    \n",
       "        var popup_63a426c69e6e06c8037ca4ad95813a5e = L.popup({\n",
       "  &quot;maxWidth&quot;: &quot;100%&quot;,\n",
       "});\n",
       "\n",
       "        \n",
       "            \n",
       "                var html_7297c52c80be51a913e79fb277c4dd6d = $(`&lt;div id=&quot;html_7297c52c80be51a913e79fb277c4dd6d&quot; style=&quot;width: 100.0%; height: 100.0%;&quot;&gt;Micronesia, Fed. Sts.&lt;/div&gt;`)[0];\n",
       "                popup_63a426c69e6e06c8037ca4ad95813a5e.setContent(html_7297c52c80be51a913e79fb277c4dd6d);\n",
       "            \n",
       "        \n",
       "\n",
       "        circle_marker_935ddc9a3d7cfbd7f65a20bc28033dfe.bindPopup(popup_63a426c69e6e06c8037ca4ad95813a5e)\n",
       "        ;\n",
       "\n",
       "        \n",
       "    \n",
       "    \n",
       "            var circle_marker_670f8e73a531ea7bdf6f9fad75460130 = L.circleMarker(\n",
       "                [-1.0, 11.75],\n",
       "                {&quot;bubblingMouseEvents&quot;: true, &quot;color&quot;: &quot;blue&quot;, &quot;dashArray&quot;: null, &quot;dashOffset&quot;: null, &quot;fill&quot;: true, &quot;fillColor&quot;: &quot;blue&quot;, &quot;fillOpacity&quot;: 0.2, &quot;fillRule&quot;: &quot;evenodd&quot;, &quot;lineCap&quot;: &quot;round&quot;, &quot;lineJoin&quot;: &quot;round&quot;, &quot;opacity&quot;: 1.0, &quot;radius&quot;: 1.8259270464280992, &quot;stroke&quot;: true, &quot;weight&quot;: 3}\n",
       "            ).addTo(map_37c514aba63ae1e51efa9e17f624418a);\n",
       "        \n",
       "    \n",
       "        var popup_f80d628755dd73d3998f363f6bf64696 = L.popup({\n",
       "  &quot;maxWidth&quot;: &quot;100%&quot;,\n",
       "});\n",
       "\n",
       "        \n",
       "            \n",
       "                var html_d0b67cfda134a8a355687d7bb1f3d341 = $(`&lt;div id=&quot;html_d0b67cfda134a8a355687d7bb1f3d341&quot; style=&quot;width: 100.0%; height: 100.0%;&quot;&gt;Gabon&lt;/div&gt;`)[0];\n",
       "                popup_f80d628755dd73d3998f363f6bf64696.setContent(html_d0b67cfda134a8a355687d7bb1f3d341);\n",
       "            \n",
       "        \n",
       "\n",
       "        circle_marker_670f8e73a531ea7bdf6f9fad75460130.bindPopup(popup_f80d628755dd73d3998f363f6bf64696)\n",
       "        ;\n",
       "\n",
       "        \n",
       "    \n",
       "    \n",
       "            var circle_marker_a1e9ddca75881e5dc1648a079aa2ec43 = L.circleMarker(\n",
       "                [54.75844, -2.69531],\n",
       "                {&quot;bubblingMouseEvents&quot;: true, &quot;color&quot;: &quot;black&quot;, &quot;dashArray&quot;: null, &quot;dashOffset&quot;: null, &quot;fill&quot;: true, &quot;fillColor&quot;: &quot;black&quot;, &quot;fillOpacity&quot;: 0.2, &quot;fillRule&quot;: &quot;evenodd&quot;, &quot;lineCap&quot;: &quot;round&quot;, &quot;lineJoin&quot;: &quot;round&quot;, &quot;opacity&quot;: 1.0, &quot;radius&quot;: 4.500680734303956, &quot;stroke&quot;: true, &quot;weight&quot;: 3}\n",
       "            ).addTo(map_37c514aba63ae1e51efa9e17f624418a);\n",
       "        \n",
       "    \n",
       "        var popup_5a2a36b3bf51300624c0c385b4b01782 = L.popup({\n",
       "  &quot;maxWidth&quot;: &quot;100%&quot;,\n",
       "});\n",
       "\n",
       "        \n",
       "            \n",
       "                var html_6b4f7dea81712b237b059599f64298cc = $(`&lt;div id=&quot;html_6b4f7dea81712b237b059599f64298cc&quot; style=&quot;width: 100.0%; height: 100.0%;&quot;&gt;United Kingdom&lt;/div&gt;`)[0];\n",
       "                popup_5a2a36b3bf51300624c0c385b4b01782.setContent(html_6b4f7dea81712b237b059599f64298cc);\n",
       "            \n",
       "        \n",
       "\n",
       "        circle_marker_a1e9ddca75881e5dc1648a079aa2ec43.bindPopup(popup_5a2a36b3bf51300624c0c385b4b01782)\n",
       "        ;\n",
       "\n",
       "        \n",
       "    \n",
       "    \n",
       "            var circle_marker_04671dc2a0474b49f7d5151f29776f52 = L.circleMarker(\n",
       "                [41.99998, 43.4999],\n",
       "                {&quot;bubblingMouseEvents&quot;: true, &quot;color&quot;: &quot;black&quot;, &quot;dashArray&quot;: null, &quot;dashOffset&quot;: null, &quot;fill&quot;: true, &quot;fillColor&quot;: &quot;black&quot;, &quot;fillOpacity&quot;: 0.2, &quot;fillRule&quot;: &quot;evenodd&quot;, &quot;lineCap&quot;: &quot;round&quot;, &quot;lineJoin&quot;: &quot;round&quot;, &quot;opacity&quot;: 1.0, &quot;radius&quot;: 4.187503114511933, &quot;stroke&quot;: true, &quot;weight&quot;: 3}\n",
       "            ).addTo(map_37c514aba63ae1e51efa9e17f624418a);\n",
       "        \n",
       "    \n",
       "        var popup_468c3377f6dcc38ea6a6cb6f32f1be5f = L.popup({\n",
       "  &quot;maxWidth&quot;: &quot;100%&quot;,\n",
       "});\n",
       "\n",
       "        \n",
       "            \n",
       "                var html_7ee4d5ee06dd7a2c9c22df3c6607065e = $(`&lt;div id=&quot;html_7ee4d5ee06dd7a2c9c22df3c6607065e&quot; style=&quot;width: 100.0%; height: 100.0%;&quot;&gt;Georgia&lt;/div&gt;`)[0];\n",
       "                popup_468c3377f6dcc38ea6a6cb6f32f1be5f.setContent(html_7ee4d5ee06dd7a2c9c22df3c6607065e);\n",
       "            \n",
       "        \n",
       "\n",
       "        circle_marker_04671dc2a0474b49f7d5151f29776f52.bindPopup(popup_468c3377f6dcc38ea6a6cb6f32f1be5f)\n",
       "        ;\n",
       "\n",
       "        \n",
       "    \n",
       "    \n",
       "            var circle_marker_6f52ce53a29ec29855a78a1fdb0465e6 = L.circleMarker(\n",
       "                [8.1, -1.2],\n",
       "                {&quot;bubblingMouseEvents&quot;: true, &quot;color&quot;: &quot;blue&quot;, &quot;dashArray&quot;: null, &quot;dashOffset&quot;: null, &quot;fill&quot;: true, &quot;fillColor&quot;: &quot;blue&quot;, &quot;fillOpacity&quot;: 0.2, &quot;fillRule&quot;: &quot;evenodd&quot;, &quot;lineCap&quot;: &quot;round&quot;, &quot;lineJoin&quot;: &quot;round&quot;, &quot;opacity&quot;: 1.0, &quot;radius&quot;: 15.226118061910228, &quot;stroke&quot;: true, &quot;weight&quot;: 3}\n",
       "            ).addTo(map_37c514aba63ae1e51efa9e17f624418a);\n",
       "        \n",
       "    \n",
       "        var popup_1a73e6580fb890cfa0e92f934ce7eeb8 = L.popup({\n",
       "  &quot;maxWidth&quot;: &quot;100%&quot;,\n",
       "});\n",
       "\n",
       "        \n",
       "            \n",
       "                var html_e91a6a77e30dc1d8fe30728ea23c8c28 = $(`&lt;div id=&quot;html_e91a6a77e30dc1d8fe30728ea23c8c28&quot; style=&quot;width: 100.0%; height: 100.0%;&quot;&gt;Ghana&lt;/div&gt;`)[0];\n",
       "                popup_1a73e6580fb890cfa0e92f934ce7eeb8.setContent(html_e91a6a77e30dc1d8fe30728ea23c8c28);\n",
       "            \n",
       "        \n",
       "\n",
       "        circle_marker_6f52ce53a29ec29855a78a1fdb0465e6.bindPopup(popup_1a73e6580fb890cfa0e92f934ce7eeb8)\n",
       "        ;\n",
       "\n",
       "        \n",
       "    \n",
       "    \n",
       "            var circle_marker_eb92c738865ad2904b85057082b048fa = L.circleMarker(\n",
       "                [10.83333, -10.66667],\n",
       "                {&quot;bubblingMouseEvents&quot;: true, &quot;color&quot;: &quot;blue&quot;, &quot;dashArray&quot;: null, &quot;dashOffset&quot;: null, &quot;fill&quot;: true, &quot;fillColor&quot;: &quot;blue&quot;, &quot;fillOpacity&quot;: 0.2, &quot;fillRule&quot;: &quot;evenodd&quot;, &quot;lineCap&quot;: &quot;round&quot;, &quot;lineJoin&quot;: &quot;round&quot;, &quot;opacity&quot;: 1.0, &quot;radius&quot;: 11.629533564200177, &quot;stroke&quot;: true, &quot;weight&quot;: 3}\n",
       "            ).addTo(map_37c514aba63ae1e51efa9e17f624418a);\n",
       "        \n",
       "    \n",
       "        var popup_d254d75aaf9c8b36db3c5dc79cc1d1e8 = L.popup({\n",
       "  &quot;maxWidth&quot;: &quot;100%&quot;,\n",
       "});\n",
       "\n",
       "        \n",
       "            \n",
       "                var html_86958b3b64999e62d293174b7afaf07f = $(`&lt;div id=&quot;html_86958b3b64999e62d293174b7afaf07f&quot; style=&quot;width: 100.0%; height: 100.0%;&quot;&gt;Guinea&lt;/div&gt;`)[0];\n",
       "                popup_d254d75aaf9c8b36db3c5dc79cc1d1e8.setContent(html_86958b3b64999e62d293174b7afaf07f);\n",
       "            \n",
       "        \n",
       "\n",
       "        circle_marker_eb92c738865ad2904b85057082b048fa.bindPopup(popup_d254d75aaf9c8b36db3c5dc79cc1d1e8)\n",
       "        ;\n",
       "\n",
       "        \n",
       "    \n",
       "    \n",
       "            var circle_marker_223775eddb85425afaf69dece9233f89 = L.circleMarker(\n",
       "                [13.5, -15.5],\n",
       "                {&quot;bubblingMouseEvents&quot;: true, &quot;color&quot;: &quot;blue&quot;, &quot;dashArray&quot;: null, &quot;dashOffset&quot;: null, &quot;fill&quot;: true, &quot;fillColor&quot;: &quot;blue&quot;, &quot;fillOpacity&quot;: 0.2, &quot;fillRule&quot;: &quot;evenodd&quot;, &quot;lineCap&quot;: &quot;round&quot;, &quot;lineJoin&quot;: &quot;round&quot;, &quot;opacity&quot;: 1.0, &quot;radius&quot;: 4.541379210278732, &quot;stroke&quot;: true, &quot;weight&quot;: 3}\n",
       "            ).addTo(map_37c514aba63ae1e51efa9e17f624418a);\n",
       "        \n",
       "    \n",
       "        var popup_fec01b4bcaa199bc4723314bb210af01 = L.popup({\n",
       "  &quot;maxWidth&quot;: &quot;100%&quot;,\n",
       "});\n",
       "\n",
       "        \n",
       "            \n",
       "                var html_8753aad61e44065c959be3f3f4d2e86f = $(`&lt;div id=&quot;html_8753aad61e44065c959be3f3f4d2e86f&quot; style=&quot;width: 100.0%; height: 100.0%;&quot;&gt;Gambia&lt;/div&gt;`)[0];\n",
       "                popup_fec01b4bcaa199bc4723314bb210af01.setContent(html_8753aad61e44065c959be3f3f4d2e86f);\n",
       "            \n",
       "        \n",
       "\n",
       "        circle_marker_223775eddb85425afaf69dece9233f89.bindPopup(popup_fec01b4bcaa199bc4723314bb210af01)\n",
       "        ;\n",
       "\n",
       "        \n",
       "    \n",
       "    \n",
       "            var circle_marker_9f83e6acb61ae2d7a14e8df0e86e9129 = L.circleMarker(\n",
       "                [12.0, -15.0],\n",
       "                {&quot;bubblingMouseEvents&quot;: true, &quot;color&quot;: &quot;blue&quot;, &quot;dashArray&quot;: null, &quot;dashOffset&quot;: null, &quot;fill&quot;: true, &quot;fillColor&quot;: &quot;blue&quot;, &quot;fillOpacity&quot;: 0.2, &quot;fillRule&quot;: &quot;evenodd&quot;, &quot;lineCap&quot;: &quot;round&quot;, &quot;lineJoin&quot;: &quot;round&quot;, &quot;opacity&quot;: 1.0, &quot;radius&quot;: 4.937687185952117, &quot;stroke&quot;: true, &quot;weight&quot;: 3}\n",
       "            ).addTo(map_37c514aba63ae1e51efa9e17f624418a);\n",
       "        \n",
       "    \n",
       "        var popup_fe43455563fd72a24c8cfb69a3ee26d1 = L.popup({\n",
       "  &quot;maxWidth&quot;: &quot;100%&quot;,\n",
       "});\n",
       "\n",
       "        \n",
       "            \n",
       "                var html_0f44c290a37c485d078685cd06306a43 = $(`&lt;div id=&quot;html_0f44c290a37c485d078685cd06306a43&quot; style=&quot;width: 100.0%; height: 100.0%;&quot;&gt;Guinea-Bissau&lt;/div&gt;`)[0];\n",
       "                popup_fe43455563fd72a24c8cfb69a3ee26d1.setContent(html_0f44c290a37c485d078685cd06306a43);\n",
       "            \n",
       "        \n",
       "\n",
       "        circle_marker_9f83e6acb61ae2d7a14e8df0e86e9129.bindPopup(popup_fe43455563fd72a24c8cfb69a3ee26d1)\n",
       "        ;\n",
       "\n",
       "        \n",
       "    \n",
       "    \n",
       "            var circle_marker_e24a901b195a0cbffe5985efd0af2861 = L.circleMarker(\n",
       "                [39.0, 22.0],\n",
       "                {&quot;bubblingMouseEvents&quot;: true, &quot;color&quot;: &quot;black&quot;, &quot;dashArray&quot;: null, &quot;dashOffset&quot;: null, &quot;fill&quot;: true, &quot;fillColor&quot;: &quot;black&quot;, &quot;fillOpacity&quot;: 0.2, &quot;fillRule&quot;: &quot;evenodd&quot;, &quot;lineCap&quot;: &quot;round&quot;, &quot;lineJoin&quot;: &quot;round&quot;, &quot;opacity&quot;: 1.0, &quot;radius&quot;: 2.202566074684235, &quot;stroke&quot;: true, &quot;weight&quot;: 3}\n",
       "            ).addTo(map_37c514aba63ae1e51efa9e17f624418a);\n",
       "        \n",
       "    \n",
       "        var popup_b74a87899a603416dec423bbaa3b9030 = L.popup({\n",
       "  &quot;maxWidth&quot;: &quot;100%&quot;,\n",
       "});\n",
       "\n",
       "        \n",
       "            \n",
       "                var html_fe35a0973b8d07458a3dc25d5dc797d9 = $(`&lt;div id=&quot;html_fe35a0973b8d07458a3dc25d5dc797d9&quot; style=&quot;width: 100.0%; height: 100.0%;&quot;&gt;Greece&lt;/div&gt;`)[0];\n",
       "                popup_b74a87899a603416dec423bbaa3b9030.setContent(html_fe35a0973b8d07458a3dc25d5dc797d9);\n",
       "            \n",
       "        \n",
       "\n",
       "        circle_marker_e24a901b195a0cbffe5985efd0af2861.bindPopup(popup_b74a87899a603416dec423bbaa3b9030)\n",
       "        ;\n",
       "\n",
       "        \n",
       "    \n",
       "    \n",
       "            var circle_marker_a040f838fd96df9b0ea7e6635482ec2f = L.circleMarker(\n",
       "                [14.64072, -90.51327],\n",
       "                {&quot;bubblingMouseEvents&quot;: true, &quot;color&quot;: &quot;green&quot;, &quot;dashArray&quot;: null, &quot;dashOffset&quot;: null, &quot;fill&quot;: true, &quot;fillColor&quot;: &quot;green&quot;, &quot;fillOpacity&quot;: 0.2, &quot;fillRule&quot;: &quot;evenodd&quot;, &quot;lineCap&quot;: &quot;round&quot;, &quot;lineJoin&quot;: &quot;round&quot;, &quot;opacity&quot;: 1.0, &quot;radius&quot;: 7.951901430176263, &quot;stroke&quot;: true, &quot;weight&quot;: 3}\n",
       "            ).addTo(map_37c514aba63ae1e51efa9e17f624418a);\n",
       "        \n",
       "    \n",
       "        var popup_ed3a8ef8716c905f0cb1214a147a4215 = L.popup({\n",
       "  &quot;maxWidth&quot;: &quot;100%&quot;,\n",
       "});\n",
       "\n",
       "        \n",
       "            \n",
       "                var html_a75ebf75ae46a6006eeda7c2615bd7a7 = $(`&lt;div id=&quot;html_a75ebf75ae46a6006eeda7c2615bd7a7&quot; style=&quot;width: 100.0%; height: 100.0%;&quot;&gt;Guatemala&lt;/div&gt;`)[0];\n",
       "                popup_ed3a8ef8716c905f0cb1214a147a4215.setContent(html_a75ebf75ae46a6006eeda7c2615bd7a7);\n",
       "            \n",
       "        \n",
       "\n",
       "        circle_marker_a040f838fd96df9b0ea7e6635482ec2f.bindPopup(popup_ed3a8ef8716c905f0cb1214a147a4215)\n",
       "        ;\n",
       "\n",
       "        \n",
       "    \n",
       "    \n",
       "            var circle_marker_501a08ba8141e0784fc88eb21cf27681 = L.circleMarker(\n",
       "                [5.0, -59.0],\n",
       "                {&quot;bubblingMouseEvents&quot;: true, &quot;color&quot;: &quot;green&quot;, &quot;dashArray&quot;: null, &quot;dashOffset&quot;: null, &quot;fill&quot;: true, &quot;fillColor&quot;: &quot;green&quot;, &quot;fillOpacity&quot;: 0.2, &quot;fillRule&quot;: &quot;evenodd&quot;, &quot;lineCap&quot;: &quot;round&quot;, &quot;lineJoin&quot;: &quot;round&quot;, &quot;opacity&quot;: 1.0, &quot;radius&quot;: 1.4404523571048922, &quot;stroke&quot;: true, &quot;weight&quot;: 3}\n",
       "            ).addTo(map_37c514aba63ae1e51efa9e17f624418a);\n",
       "        \n",
       "    \n",
       "        var popup_f78bb9506998aeaf98e961543966f9ee = L.popup({\n",
       "  &quot;maxWidth&quot;: &quot;100%&quot;,\n",
       "});\n",
       "\n",
       "        \n",
       "            \n",
       "                var html_eb8d4e026cd10feb5a4e365b02a11aed = $(`&lt;div id=&quot;html_eb8d4e026cd10feb5a4e365b02a11aed&quot; style=&quot;width: 100.0%; height: 100.0%;&quot;&gt;Guyana&lt;/div&gt;`)[0];\n",
       "                popup_f78bb9506998aeaf98e961543966f9ee.setContent(html_eb8d4e026cd10feb5a4e365b02a11aed);\n",
       "            \n",
       "        \n",
       "\n",
       "        circle_marker_501a08ba8141e0784fc88eb21cf27681.bindPopup(popup_f78bb9506998aeaf98e961543966f9ee)\n",
       "        ;\n",
       "\n",
       "        \n",
       "    \n",
       "    \n",
       "            var circle_marker_98b3d55648027317bc08f5bc04d8d6ce = L.circleMarker(\n",
       "                [15.0, -86.5],\n",
       "                {&quot;bubblingMouseEvents&quot;: true, &quot;color&quot;: &quot;green&quot;, &quot;dashArray&quot;: null, &quot;dashOffset&quot;: null, &quot;fill&quot;: true, &quot;fillColor&quot;: &quot;green&quot;, &quot;fillOpacity&quot;: 0.2, &quot;fillRule&quot;: &quot;evenodd&quot;, &quot;lineCap&quot;: &quot;round&quot;, &quot;lineJoin&quot;: &quot;round&quot;, &quot;opacity&quot;: 1.0, &quot;radius&quot;: 6.624597234186647, &quot;stroke&quot;: true, &quot;weight&quot;: 3}\n",
       "            ).addTo(map_37c514aba63ae1e51efa9e17f624418a);\n",
       "        \n",
       "    \n",
       "        var popup_c1361f50d5c2236712374c567fd4c6d9 = L.popup({\n",
       "  &quot;maxWidth&quot;: &quot;100%&quot;,\n",
       "});\n",
       "\n",
       "        \n",
       "            \n",
       "                var html_5945f7057dfbc705551dc9d4f7c44802 = $(`&lt;div id=&quot;html_5945f7057dfbc705551dc9d4f7c44802&quot; style=&quot;width: 100.0%; height: 100.0%;&quot;&gt;Honduras&lt;/div&gt;`)[0];\n",
       "                popup_c1361f50d5c2236712374c567fd4c6d9.setContent(html_5945f7057dfbc705551dc9d4f7c44802);\n",
       "            \n",
       "        \n",
       "\n",
       "        circle_marker_98b3d55648027317bc08f5bc04d8d6ce.bindPopup(popup_c1361f50d5c2236712374c567fd4c6d9)\n",
       "        ;\n",
       "\n",
       "        \n",
       "    \n",
       "    \n",
       "            var circle_marker_2319fa4456d97ae86932574e85c384c9 = L.circleMarker(\n",
       "                [45.16667, 15.5],\n",
       "                {&quot;bubblingMouseEvents&quot;: true, &quot;color&quot;: &quot;black&quot;, &quot;dashArray&quot;: null, &quot;dashOffset&quot;: null, &quot;fill&quot;: true, &quot;fillColor&quot;: &quot;black&quot;, &quot;fillOpacity&quot;: 0.2, &quot;fillRule&quot;: &quot;evenodd&quot;, &quot;lineCap&quot;: &quot;round&quot;, &quot;lineJoin&quot;: &quot;round&quot;, &quot;opacity&quot;: 1.0, &quot;stroke&quot;: true, &quot;weight&quot;: 3}\n",
       "            ).addTo(map_37c514aba63ae1e51efa9e17f624418a);\n",
       "        \n",
       "    \n",
       "        var popup_3365a85b5963b5c00546c6f11404b7b5 = L.popup({\n",
       "  &quot;maxWidth&quot;: &quot;100%&quot;,\n",
       "});\n",
       "\n",
       "        \n",
       "            \n",
       "                var html_e6c0afb51a6f89f724a417f4fca9e535 = $(`&lt;div id=&quot;html_e6c0afb51a6f89f724a417f4fca9e535&quot; style=&quot;width: 100.0%; height: 100.0%;&quot;&gt;Croatia&lt;/div&gt;`)[0];\n",
       "                popup_3365a85b5963b5c00546c6f11404b7b5.setContent(html_e6c0afb51a6f89f724a417f4fca9e535);\n",
       "            \n",
       "        \n",
       "\n",
       "        circle_marker_2319fa4456d97ae86932574e85c384c9.bindPopup(popup_3365a85b5963b5c00546c6f11404b7b5)\n",
       "        ;\n",
       "\n",
       "        \n",
       "    \n",
       "    \n",
       "            var circle_marker_18d5be1dcc91ae7d046558993538c306 = L.circleMarker(\n",
       "                [19.0, -72.41667],\n",
       "                {&quot;bubblingMouseEvents&quot;: true, &quot;color&quot;: &quot;green&quot;, &quot;dashArray&quot;: null, &quot;dashOffset&quot;: null, &quot;fill&quot;: true, &quot;fillColor&quot;: &quot;green&quot;, &quot;fillOpacity&quot;: 0.2, &quot;fillRule&quot;: &quot;evenodd&quot;, &quot;lineCap&quot;: &quot;round&quot;, &quot;lineJoin&quot;: &quot;round&quot;, &quot;opacity&quot;: 1.0, &quot;radius&quot;: 13.87678502206466, &quot;stroke&quot;: true, &quot;weight&quot;: 3}\n",
       "            ).addTo(map_37c514aba63ae1e51efa9e17f624418a);\n",
       "        \n",
       "    \n",
       "        var popup_dd6eb78a4c53558f2bb55a9934cbf735 = L.popup({\n",
       "  &quot;maxWidth&quot;: &quot;100%&quot;,\n",
       "});\n",
       "\n",
       "        \n",
       "            \n",
       "                var html_12b0ae54397cc21bbf55d65144274b3d = $(`&lt;div id=&quot;html_12b0ae54397cc21bbf55d65144274b3d&quot; style=&quot;width: 100.0%; height: 100.0%;&quot;&gt;Haiti&lt;/div&gt;`)[0];\n",
       "                popup_dd6eb78a4c53558f2bb55a9934cbf735.setContent(html_12b0ae54397cc21bbf55d65144274b3d);\n",
       "            \n",
       "        \n",
       "\n",
       "        circle_marker_18d5be1dcc91ae7d046558993538c306.bindPopup(popup_dd6eb78a4c53558f2bb55a9934cbf735)\n",
       "        ;\n",
       "\n",
       "        \n",
       "    \n",
       "    \n",
       "            var circle_marker_d4a5b1a764bd0d16a78402773b42806e = L.circleMarker(\n",
       "                [47.0, 20.0],\n",
       "                {&quot;bubblingMouseEvents&quot;: true, &quot;color&quot;: &quot;black&quot;, &quot;dashArray&quot;: null, &quot;dashOffset&quot;: null, &quot;fill&quot;: true, &quot;fillColor&quot;: &quot;black&quot;, &quot;fillOpacity&quot;: 0.2, &quot;fillRule&quot;: &quot;evenodd&quot;, &quot;lineCap&quot;: &quot;round&quot;, &quot;lineJoin&quot;: &quot;round&quot;, &quot;opacity&quot;: 1.0, &quot;radius&quot;: 0.39854313845017025, &quot;stroke&quot;: true, &quot;weight&quot;: 3}\n",
       "            ).addTo(map_37c514aba63ae1e51efa9e17f624418a);\n",
       "        \n",
       "    \n",
       "        var popup_222b97f05a7a953c9decc5b194f301cc = L.popup({\n",
       "  &quot;maxWidth&quot;: &quot;100%&quot;,\n",
       "});\n",
       "\n",
       "        \n",
       "            \n",
       "                var html_91e135ad95d73c403ab6de003ad27dff = $(`&lt;div id=&quot;html_91e135ad95d73c403ab6de003ad27dff&quot; style=&quot;width: 100.0%; height: 100.0%;&quot;&gt;Hungary&lt;/div&gt;`)[0];\n",
       "                popup_222b97f05a7a953c9decc5b194f301cc.setContent(html_91e135ad95d73c403ab6de003ad27dff);\n",
       "            \n",
       "        \n",
       "\n",
       "        circle_marker_d4a5b1a764bd0d16a78402773b42806e.bindPopup(popup_222b97f05a7a953c9decc5b194f301cc)\n",
       "        ;\n",
       "\n",
       "        \n",
       "    \n",
       "    \n",
       "            var circle_marker_1a6f0ede47d52d8e9ab4de66bc37d8ca = L.circleMarker(\n",
       "                [-5.0, 120.0],\n",
       "                {&quot;bubblingMouseEvents&quot;: true, &quot;color&quot;: &quot;red&quot;, &quot;dashArray&quot;: null, &quot;dashOffset&quot;: null, &quot;fill&quot;: true, &quot;fillColor&quot;: &quot;red&quot;, &quot;fillOpacity&quot;: 0.2, &quot;fillRule&quot;: &quot;evenodd&quot;, &quot;lineCap&quot;: &quot;round&quot;, &quot;lineJoin&quot;: &quot;round&quot;, &quot;opacity&quot;: 1.0, &quot;radius&quot;: 35.63850421634843, &quot;stroke&quot;: true, &quot;weight&quot;: 3}\n",
       "            ).addTo(map_37c514aba63ae1e51efa9e17f624418a);\n",
       "        \n",
       "    \n",
       "        var popup_b5e750db3751cfe040f64b4335741bbd = L.popup({\n",
       "  &quot;maxWidth&quot;: &quot;100%&quot;,\n",
       "});\n",
       "\n",
       "        \n",
       "            \n",
       "                var html_9a4493ed2a60afb5ba687e0e78ff2799 = $(`&lt;div id=&quot;html_9a4493ed2a60afb5ba687e0e78ff2799&quot; style=&quot;width: 100.0%; height: 100.0%;&quot;&gt;Indonesia&lt;/div&gt;`)[0];\n",
       "                popup_b5e750db3751cfe040f64b4335741bbd.setContent(html_9a4493ed2a60afb5ba687e0e78ff2799);\n",
       "            \n",
       "        \n",
       "\n",
       "        circle_marker_1a6f0ede47d52d8e9ab4de66bc37d8ca.bindPopup(popup_b5e750db3751cfe040f64b4335741bbd)\n",
       "        ;\n",
       "\n",
       "        \n",
       "    \n",
       "    \n",
       "            var circle_marker_88c1bd8abb2644d64284094519ca760d = L.circleMarker(\n",
       "                [22.0, 79.0],\n",
       "                {&quot;bubblingMouseEvents&quot;: true, &quot;color&quot;: &quot;red&quot;, &quot;dashArray&quot;: null, &quot;dashOffset&quot;: null, &quot;fill&quot;: true, &quot;fillColor&quot;: &quot;red&quot;, &quot;fillOpacity&quot;: 0.2, &quot;fillRule&quot;: &quot;evenodd&quot;, &quot;lineCap&quot;: &quot;round&quot;, &quot;lineJoin&quot;: &quot;round&quot;, &quot;opacity&quot;: 1.0, &quot;radius&quot;: 96.71116171569287, &quot;stroke&quot;: true, &quot;weight&quot;: 3}\n",
       "            ).addTo(map_37c514aba63ae1e51efa9e17f624418a);\n",
       "        \n",
       "    \n",
       "        var popup_f74ca79d8f2c925bbe83ddaf053ef9ff = L.popup({\n",
       "  &quot;maxWidth&quot;: &quot;100%&quot;,\n",
       "});\n",
       "\n",
       "        \n",
       "            \n",
       "                var html_fef957c22dcf8e405f2c4b4c919d4efb = $(`&lt;div id=&quot;html_fef957c22dcf8e405f2c4b4c919d4efb&quot; style=&quot;width: 100.0%; height: 100.0%;&quot;&gt;India&lt;/div&gt;`)[0];\n",
       "                popup_f74ca79d8f2c925bbe83ddaf053ef9ff.setContent(html_fef957c22dcf8e405f2c4b4c919d4efb);\n",
       "            \n",
       "        \n",
       "\n",
       "        circle_marker_88c1bd8abb2644d64284094519ca760d.bindPopup(popup_f74ca79d8f2c925bbe83ddaf053ef9ff)\n",
       "        ;\n",
       "\n",
       "        \n",
       "    \n",
       "    \n",
       "            var circle_marker_8431d1ef3d310bb2c7d1c86788f24b13 = L.circleMarker(\n",
       "                [53.0, -8.0],\n",
       "                {&quot;bubblingMouseEvents&quot;: true, &quot;color&quot;: &quot;black&quot;, &quot;dashArray&quot;: null, &quot;dashOffset&quot;: null, &quot;fill&quot;: true, &quot;fillColor&quot;: &quot;black&quot;, &quot;fillOpacity&quot;: 0.2, &quot;fillRule&quot;: &quot;evenodd&quot;, &quot;lineCap&quot;: &quot;round&quot;, &quot;lineJoin&quot;: &quot;round&quot;, &quot;opacity&quot;: 1.0, &quot;radius&quot;: 0.7228015053895888, &quot;stroke&quot;: true, &quot;weight&quot;: 3}\n",
       "            ).addTo(map_37c514aba63ae1e51efa9e17f624418a);\n",
       "        \n",
       "    \n",
       "        var popup_b5c762e38970280ad8f6c9c79c37c346 = L.popup({\n",
       "  &quot;maxWidth&quot;: &quot;100%&quot;,\n",
       "});\n",
       "\n",
       "        \n",
       "            \n",
       "                var html_a87639b90f7e1e7d9d1cf192565f7cf0 = $(`&lt;div id=&quot;html_a87639b90f7e1e7d9d1cf192565f7cf0&quot; style=&quot;width: 100.0%; height: 100.0%;&quot;&gt;Ireland&lt;/div&gt;`)[0];\n",
       "                popup_b5c762e38970280ad8f6c9c79c37c346.setContent(html_a87639b90f7e1e7d9d1cf192565f7cf0);\n",
       "            \n",
       "        \n",
       "\n",
       "        circle_marker_8431d1ef3d310bb2c7d1c86788f24b13.bindPopup(popup_b5c762e38970280ad8f6c9c79c37c346)\n",
       "        ;\n",
       "\n",
       "        \n",
       "    \n",
       "    \n",
       "            var circle_marker_34e8cab17827a5b111b5ec35a28cd4f5 = L.circleMarker(\n",
       "                [32.0, 53.0],\n",
       "                {&quot;bubblingMouseEvents&quot;: true, &quot;color&quot;: &quot;red&quot;, &quot;dashArray&quot;: null, &quot;dashOffset&quot;: null, &quot;fill&quot;: true, &quot;fillColor&quot;: &quot;red&quot;, &quot;fillOpacity&quot;: 0.2, &quot;fillRule&quot;: &quot;evenodd&quot;, &quot;lineCap&quot;: &quot;round&quot;, &quot;lineJoin&quot;: &quot;round&quot;, &quot;opacity&quot;: 1.0, &quot;radius&quot;: 5.977753046502472, &quot;stroke&quot;: true, &quot;weight&quot;: 3}\n",
       "            ).addTo(map_37c514aba63ae1e51efa9e17f624418a);\n",
       "        \n",
       "    \n",
       "        var popup_15d0448706f20e6b48ce05ac781a2a16 = L.popup({\n",
       "  &quot;maxWidth&quot;: &quot;100%&quot;,\n",
       "});\n",
       "\n",
       "        \n",
       "            \n",
       "                var html_451ad76f74973d36b1267ae1650186a0 = $(`&lt;div id=&quot;html_451ad76f74973d36b1267ae1650186a0&quot; style=&quot;width: 100.0%; height: 100.0%;&quot;&gt;Iran&lt;/div&gt;`)[0];\n",
       "                popup_15d0448706f20e6b48ce05ac781a2a16.setContent(html_451ad76f74973d36b1267ae1650186a0);\n",
       "            \n",
       "        \n",
       "\n",
       "        circle_marker_34e8cab17827a5b111b5ec35a28cd4f5.bindPopup(popup_15d0448706f20e6b48ce05ac781a2a16)\n",
       "        ;\n",
       "\n",
       "        \n",
       "    \n",
       "    \n",
       "            var circle_marker_ecf6d8d8eacb56096324ba196a295343 = L.circleMarker(\n",
       "                [33.0, 44.0],\n",
       "                {&quot;bubblingMouseEvents&quot;: true, &quot;color&quot;: &quot;red&quot;, &quot;dashArray&quot;: null, &quot;dashOffset&quot;: null, &quot;fill&quot;: true, &quot;fillColor&quot;: &quot;red&quot;, &quot;fillOpacity&quot;: 0.2, &quot;fillRule&quot;: &quot;evenodd&quot;, &quot;lineCap&quot;: &quot;round&quot;, &quot;lineJoin&quot;: &quot;round&quot;, &quot;opacity&quot;: 1.0, &quot;radius&quot;: 6.216012345398477, &quot;stroke&quot;: true, &quot;weight&quot;: 3}\n",
       "            ).addTo(map_37c514aba63ae1e51efa9e17f624418a);\n",
       "        \n",
       "    \n",
       "        var popup_bddb496adff3688bcdd64302e264b9de = L.popup({\n",
       "  &quot;maxWidth&quot;: &quot;100%&quot;,\n",
       "});\n",
       "\n",
       "        \n",
       "            \n",
       "                var html_8d0dcb9b18c859bc6fd4a5122c746fd4 = $(`&lt;div id=&quot;html_8d0dcb9b18c859bc6fd4a5122c746fd4&quot; style=&quot;width: 100.0%; height: 100.0%;&quot;&gt;Iraq&lt;/div&gt;`)[0];\n",
       "                popup_bddb496adff3688bcdd64302e264b9de.setContent(html_8d0dcb9b18c859bc6fd4a5122c746fd4);\n",
       "            \n",
       "        \n",
       "\n",
       "        circle_marker_ecf6d8d8eacb56096324ba196a295343.bindPopup(popup_bddb496adff3688bcdd64302e264b9de)\n",
       "        ;\n",
       "\n",
       "        \n",
       "    \n",
       "    \n",
       "            var circle_marker_92419af761493f7d3b5ddd2d1f762133 = L.circleMarker(\n",
       "                [31.5, 34.75],\n",
       "                {&quot;bubblingMouseEvents&quot;: true, &quot;color&quot;: &quot;red&quot;, &quot;dashArray&quot;: null, &quot;dashOffset&quot;: null, &quot;fill&quot;: true, &quot;fillColor&quot;: &quot;red&quot;, &quot;fillOpacity&quot;: 0.2, &quot;fillRule&quot;: &quot;evenodd&quot;, &quot;lineCap&quot;: &quot;round&quot;, &quot;lineJoin&quot;: &quot;round&quot;, &quot;opacity&quot;: 1.0, &quot;radius&quot;: 0.954347985452728, &quot;stroke&quot;: true, &quot;weight&quot;: 3}\n",
       "            ).addTo(map_37c514aba63ae1e51efa9e17f624418a);\n",
       "        \n",
       "    \n",
       "        var popup_5cc2dec6d3c1627407aef10398d94ae1 = L.popup({\n",
       "  &quot;maxWidth&quot;: &quot;100%&quot;,\n",
       "});\n",
       "\n",
       "        \n",
       "            \n",
       "                var html_08c9ff1147262a13e6d90c8473588d67 = $(`&lt;div id=&quot;html_08c9ff1147262a13e6d90c8473588d67&quot; style=&quot;width: 100.0%; height: 100.0%;&quot;&gt;Israel&lt;/div&gt;`)[0];\n",
       "                popup_5cc2dec6d3c1627407aef10398d94ae1.setContent(html_08c9ff1147262a13e6d90c8473588d67);\n",
       "            \n",
       "        \n",
       "\n",
       "        circle_marker_92419af761493f7d3b5ddd2d1f762133.bindPopup(popup_5cc2dec6d3c1627407aef10398d94ae1)\n",
       "        ;\n",
       "\n",
       "        \n",
       "    \n",
       "    \n",
       "            var circle_marker_7b978478f94f25ef3cb32de002fa1fd5 = L.circleMarker(\n",
       "                [42.83333, 12.83333],\n",
       "                {&quot;bubblingMouseEvents&quot;: true, &quot;color&quot;: &quot;black&quot;, &quot;dashArray&quot;: null, &quot;dashOffset&quot;: null, &quot;fill&quot;: true, &quot;fillColor&quot;: &quot;black&quot;, &quot;fillOpacity&quot;: 0.2, &quot;fillRule&quot;: &quot;evenodd&quot;, &quot;lineCap&quot;: &quot;round&quot;, &quot;lineJoin&quot;: &quot;round&quot;, &quot;opacity&quot;: 1.0, &quot;radius&quot;: 5.08465043859005, &quot;stroke&quot;: true, &quot;weight&quot;: 3}\n",
       "            ).addTo(map_37c514aba63ae1e51efa9e17f624418a);\n",
       "        \n",
       "    \n",
       "        var popup_5247346a314c7c0549cab3df9e42befd = L.popup({\n",
       "  &quot;maxWidth&quot;: &quot;100%&quot;,\n",
       "});\n",
       "\n",
       "        \n",
       "            \n",
       "                var html_ad094f2f0d6a5301d8cc81aae7daa3ac = $(`&lt;div id=&quot;html_ad094f2f0d6a5301d8cc81aae7daa3ac&quot; style=&quot;width: 100.0%; height: 100.0%;&quot;&gt;Italy&lt;/div&gt;`)[0];\n",
       "                popup_5247346a314c7c0549cab3df9e42befd.setContent(html_ad094f2f0d6a5301d8cc81aae7daa3ac);\n",
       "            \n",
       "        \n",
       "\n",
       "        circle_marker_7b978478f94f25ef3cb32de002fa1fd5.bindPopup(popup_5247346a314c7c0549cab3df9e42befd)\n",
       "        ;\n",
       "\n",
       "        \n",
       "    \n",
       "    \n",
       "            var circle_marker_89911ebae6f0bdfaab31450e69008f94 = L.circleMarker(\n",
       "                [18.16667, -77.25],\n",
       "                {&quot;bubblingMouseEvents&quot;: true, &quot;color&quot;: &quot;green&quot;, &quot;dashArray&quot;: null, &quot;dashOffset&quot;: null, &quot;fill&quot;: true, &quot;fillColor&quot;: &quot;green&quot;, &quot;fillOpacity&quot;: 0.2, &quot;fillRule&quot;: &quot;evenodd&quot;, &quot;lineCap&quot;: &quot;round&quot;, &quot;lineJoin&quot;: &quot;round&quot;, &quot;opacity&quot;: 1.0, &quot;radius&quot;: 0.45824560217796606, &quot;stroke&quot;: true, &quot;weight&quot;: 3}\n",
       "            ).addTo(map_37c514aba63ae1e51efa9e17f624418a);\n",
       "        \n",
       "    \n",
       "        var popup_3cc695a7bb1ea17cba940c293930e3aa = L.popup({\n",
       "  &quot;maxWidth&quot;: &quot;100%&quot;,\n",
       "});\n",
       "\n",
       "        \n",
       "            \n",
       "                var html_74d9f2d8f164770f7d0d8521087159ab = $(`&lt;div id=&quot;html_74d9f2d8f164770f7d0d8521087159ab&quot; style=&quot;width: 100.0%; height: 100.0%;&quot;&gt;Jamaica&lt;/div&gt;`)[0];\n",
       "                popup_3cc695a7bb1ea17cba940c293930e3aa.setContent(html_74d9f2d8f164770f7d0d8521087159ab);\n",
       "            \n",
       "        \n",
       "\n",
       "        circle_marker_89911ebae6f0bdfaab31450e69008f94.bindPopup(popup_3cc695a7bb1ea17cba940c293930e3aa)\n",
       "        ;\n",
       "\n",
       "        \n",
       "    \n",
       "    \n",
       "            var circle_marker_bdf5e03297926e1b9ef2116e4266098f = L.circleMarker(\n",
       "                [31.0, 36.0],\n",
       "                {&quot;bubblingMouseEvents&quot;: true, &quot;color&quot;: &quot;red&quot;, &quot;dashArray&quot;: null, &quot;dashOffset&quot;: null, &quot;fill&quot;: true, &quot;fillColor&quot;: &quot;red&quot;, &quot;fillOpacity&quot;: 0.2, &quot;fillRule&quot;: &quot;evenodd&quot;, &quot;lineCap&quot;: &quot;round&quot;, &quot;lineJoin&quot;: &quot;round&quot;, &quot;opacity&quot;: 1.0, &quot;radius&quot;: 0.4310792404582909, &quot;stroke&quot;: true, &quot;weight&quot;: 3}\n",
       "            ).addTo(map_37c514aba63ae1e51efa9e17f624418a);\n",
       "        \n",
       "    \n",
       "        var popup_02c8c50acf2675991090fb9f3279bbcd = L.popup({\n",
       "  &quot;maxWidth&quot;: &quot;100%&quot;,\n",
       "});\n",
       "\n",
       "        \n",
       "            \n",
       "                var html_a34d8c55de071234468e251aec4cfc59 = $(`&lt;div id=&quot;html_a34d8c55de071234468e251aec4cfc59&quot; style=&quot;width: 100.0%; height: 100.0%;&quot;&gt;Jordan&lt;/div&gt;`)[0];\n",
       "                popup_02c8c50acf2675991090fb9f3279bbcd.setContent(html_a34d8c55de071234468e251aec4cfc59);\n",
       "            \n",
       "        \n",
       "\n",
       "        circle_marker_bdf5e03297926e1b9ef2116e4266098f.bindPopup(popup_02c8c50acf2675991090fb9f3279bbcd)\n",
       "        ;\n",
       "\n",
       "        \n",
       "    \n",
       "    \n",
       "            var circle_marker_c28b0028f3d9414ef6758cb5259a6746 = L.circleMarker(\n",
       "                [35.68536, 139.75309],\n",
       "                {&quot;bubblingMouseEvents&quot;: true, &quot;color&quot;: &quot;red&quot;, &quot;dashArray&quot;: null, &quot;dashOffset&quot;: null, &quot;fill&quot;: true, &quot;fillColor&quot;: &quot;red&quot;, &quot;fillOpacity&quot;: 0.2, &quot;fillRule&quot;: &quot;evenodd&quot;, &quot;lineCap&quot;: &quot;round&quot;, &quot;lineJoin&quot;: &quot;round&quot;, &quot;opacity&quot;: 1.0, &quot;radius&quot;: 3.7790090475756384, &quot;stroke&quot;: true, &quot;weight&quot;: 3}\n",
       "            ).addTo(map_37c514aba63ae1e51efa9e17f624418a);\n",
       "        \n",
       "    \n",
       "        var popup_b7e5ec1387620464772cc67742509b4a = L.popup({\n",
       "  &quot;maxWidth&quot;: &quot;100%&quot;,\n",
       "});\n",
       "\n",
       "        \n",
       "            \n",
       "                var html_b0024aa3aed1dc34837c5ba2dd2618a3 = $(`&lt;div id=&quot;html_b0024aa3aed1dc34837c5ba2dd2618a3&quot; style=&quot;width: 100.0%; height: 100.0%;&quot;&gt;Japan&lt;/div&gt;`)[0];\n",
       "                popup_b7e5ec1387620464772cc67742509b4a.setContent(html_b0024aa3aed1dc34837c5ba2dd2618a3);\n",
       "            \n",
       "        \n",
       "\n",
       "        circle_marker_c28b0028f3d9414ef6758cb5259a6746.bindPopup(popup_b7e5ec1387620464772cc67742509b4a)\n",
       "        ;\n",
       "\n",
       "        \n",
       "    \n",
       "    \n",
       "            var circle_marker_711099990f20ef1a95cdf59c8152607d = L.circleMarker(\n",
       "                [48.0, 68.0],\n",
       "                {&quot;bubblingMouseEvents&quot;: true, &quot;color&quot;: &quot;red&quot;, &quot;dashArray&quot;: null, &quot;dashOffset&quot;: null, &quot;fill&quot;: true, &quot;fillColor&quot;: &quot;red&quot;, &quot;fillOpacity&quot;: 0.2, &quot;fillRule&quot;: &quot;evenodd&quot;, &quot;lineCap&quot;: &quot;round&quot;, &quot;lineJoin&quot;: &quot;round&quot;, &quot;opacity&quot;: 1.0, &quot;radius&quot;: 0.5670596503216089, &quot;stroke&quot;: true, &quot;weight&quot;: 3}\n",
       "            ).addTo(map_37c514aba63ae1e51efa9e17f624418a);\n",
       "        \n",
       "    \n",
       "        var popup_bbd52c521f01c6b7135e0af3a9468d45 = L.popup({\n",
       "  &quot;maxWidth&quot;: &quot;100%&quot;,\n",
       "});\n",
       "\n",
       "        \n",
       "            \n",
       "                var html_dc92edca3d1ec0804a927e20c3f5bcc0 = $(`&lt;div id=&quot;html_dc92edca3d1ec0804a927e20c3f5bcc0&quot; style=&quot;width: 100.0%; height: 100.0%;&quot;&gt;Kazakhstan&lt;/div&gt;`)[0];\n",
       "                popup_bbd52c521f01c6b7135e0af3a9468d45.setContent(html_dc92edca3d1ec0804a927e20c3f5bcc0);\n",
       "            \n",
       "        \n",
       "\n",
       "        circle_marker_711099990f20ef1a95cdf59c8152607d.bindPopup(popup_bbd52c521f01c6b7135e0af3a9468d45)\n",
       "        ;\n",
       "\n",
       "        \n",
       "    \n",
       "    \n",
       "            var circle_marker_fc6c8f5f731e5b9926a7ad5b5165e727 = L.circleMarker(\n",
       "                [1.0, 38.0],\n",
       "                {&quot;bubblingMouseEvents&quot;: true, &quot;color&quot;: &quot;blue&quot;, &quot;dashArray&quot;: null, &quot;dashOffset&quot;: null, &quot;fill&quot;: true, &quot;fillColor&quot;: &quot;blue&quot;, &quot;fillOpacity&quot;: 0.2, &quot;fillRule&quot;: &quot;evenodd&quot;, &quot;lineCap&quot;: &quot;round&quot;, &quot;lineJoin&quot;: &quot;round&quot;, &quot;opacity&quot;: 1.0, &quot;radius&quot;: 23.96398095329267, &quot;stroke&quot;: true, &quot;weight&quot;: 3}\n",
       "            ).addTo(map_37c514aba63ae1e51efa9e17f624418a);\n",
       "        \n",
       "    \n",
       "        var popup_93b29bbcb1e70e2f947ee1601cf08238 = L.popup({\n",
       "  &quot;maxWidth&quot;: &quot;100%&quot;,\n",
       "});\n",
       "\n",
       "        \n",
       "            \n",
       "                var html_71bdf8e82f8d653deacebeb20ced71da = $(`&lt;div id=&quot;html_71bdf8e82f8d653deacebeb20ced71da&quot; style=&quot;width: 100.0%; height: 100.0%;&quot;&gt;Kenya&lt;/div&gt;`)[0];\n",
       "                popup_93b29bbcb1e70e2f947ee1601cf08238.setContent(html_71bdf8e82f8d653deacebeb20ced71da);\n",
       "            \n",
       "        \n",
       "\n",
       "        circle_marker_fc6c8f5f731e5b9926a7ad5b5165e727.bindPopup(popup_93b29bbcb1e70e2f947ee1601cf08238)\n",
       "        ;\n",
       "\n",
       "        \n",
       "    \n",
       "    \n",
       "            var circle_marker_e2a37a0e5444abb95d58dcefb057aa0b = L.circleMarker(\n",
       "                [41.5, 75.0],\n",
       "                {&quot;bubblingMouseEvents&quot;: true, &quot;color&quot;: &quot;red&quot;, &quot;dashArray&quot;: null, &quot;dashOffset&quot;: null, &quot;fill&quot;: true, &quot;fillColor&quot;: &quot;red&quot;, &quot;fillOpacity&quot;: 0.2, &quot;fillRule&quot;: &quot;evenodd&quot;, &quot;lineCap&quot;: &quot;round&quot;, &quot;lineJoin&quot;: &quot;round&quot;, &quot;opacity&quot;: 1.0, &quot;radius&quot;: 2.988762035523588, &quot;stroke&quot;: true, &quot;weight&quot;: 3}\n",
       "            ).addTo(map_37c514aba63ae1e51efa9e17f624418a);\n",
       "        \n",
       "    \n",
       "        var popup_34a5c041f5a9134cd73f5007ca2052f4 = L.popup({\n",
       "  &quot;maxWidth&quot;: &quot;100%&quot;,\n",
       "});\n",
       "\n",
       "        \n",
       "            \n",
       "                var html_5bb30774d72e4b2ca1508e9f04e2127a = $(`&lt;div id=&quot;html_5bb30774d72e4b2ca1508e9f04e2127a&quot; style=&quot;width: 100.0%; height: 100.0%;&quot;&gt;Kyrgyz Republic&lt;/div&gt;`)[0];\n",
       "                popup_34a5c041f5a9134cd73f5007ca2052f4.setContent(html_5bb30774d72e4b2ca1508e9f04e2127a);\n",
       "            \n",
       "        \n",
       "\n",
       "        circle_marker_e2a37a0e5444abb95d58dcefb057aa0b.bindPopup(popup_34a5c041f5a9134cd73f5007ca2052f4)\n",
       "        ;\n",
       "\n",
       "        \n",
       "    \n",
       "    \n",
       "            var circle_marker_0c4a8f36d4f687842f1127bb506d0054 = L.circleMarker(\n",
       "                [13.0, 105.0],\n",
       "                {&quot;bubblingMouseEvents&quot;: true, &quot;color&quot;: &quot;red&quot;, &quot;dashArray&quot;: null, &quot;dashOffset&quot;: null, &quot;fill&quot;: true, &quot;fillColor&quot;: &quot;red&quot;, &quot;fillOpacity&quot;: 0.2, &quot;fillRule&quot;: &quot;evenodd&quot;, &quot;lineCap&quot;: &quot;round&quot;, &quot;lineJoin&quot;: &quot;round&quot;, &quot;opacity&quot;: 1.0, &quot;radius&quot;: 6.810875995516438, &quot;stroke&quot;: true, &quot;weight&quot;: 3}\n",
       "            ).addTo(map_37c514aba63ae1e51efa9e17f624418a);\n",
       "        \n",
       "    \n",
       "        var popup_06831090fc04908582fe744db005dd20 = L.popup({\n",
       "  &quot;maxWidth&quot;: &quot;100%&quot;,\n",
       "});\n",
       "\n",
       "        \n",
       "            \n",
       "                var html_89416843d02c13cb68b89527240abcd9 = $(`&lt;div id=&quot;html_89416843d02c13cb68b89527240abcd9&quot; style=&quot;width: 100.0%; height: 100.0%;&quot;&gt;Cambodia&lt;/div&gt;`)[0];\n",
       "                popup_06831090fc04908582fe744db005dd20.setContent(html_89416843d02c13cb68b89527240abcd9);\n",
       "            \n",
       "        \n",
       "\n",
       "        circle_marker_0c4a8f36d4f687842f1127bb506d0054.bindPopup(popup_06831090fc04908582fe744db005dd20)\n",
       "        ;\n",
       "\n",
       "        \n",
       "    \n",
       "    \n",
       "            var circle_marker_2f2f507c0b3ba56cc2fef5dca8a9a259 = L.circleMarker(\n",
       "                [18.0, 105.0],\n",
       "                {&quot;bubblingMouseEvents&quot;: true, &quot;color&quot;: &quot;red&quot;, &quot;dashArray&quot;: null, &quot;dashOffset&quot;: null, &quot;fill&quot;: true, &quot;fillColor&quot;: &quot;red&quot;, &quot;fillOpacity&quot;: 0.2, &quot;fillRule&quot;: &quot;evenodd&quot;, &quot;lineCap&quot;: &quot;round&quot;, &quot;lineJoin&quot;: &quot;round&quot;, &quot;opacity&quot;: 1.0, &quot;radius&quot;: 7.810974031549449, &quot;stroke&quot;: true, &quot;weight&quot;: 3}\n",
       "            ).addTo(map_37c514aba63ae1e51efa9e17f624418a);\n",
       "        \n",
       "    \n",
       "        var popup_879f3966fcf1e92a9d22ca380830483d = L.popup({\n",
       "  &quot;maxWidth&quot;: &quot;100%&quot;,\n",
       "});\n",
       "\n",
       "        \n",
       "            \n",
       "                var html_2aeb62788b235bb76451b47f5bd01458 = $(`&lt;div id=&quot;html_2aeb62788b235bb76451b47f5bd01458&quot; style=&quot;width: 100.0%; height: 100.0%;&quot;&gt;Lao&lt;/div&gt;`)[0];\n",
       "                popup_879f3966fcf1e92a9d22ca380830483d.setContent(html_2aeb62788b235bb76451b47f5bd01458);\n",
       "            \n",
       "        \n",
       "\n",
       "        circle_marker_2f2f507c0b3ba56cc2fef5dca8a9a259.bindPopup(popup_879f3966fcf1e92a9d22ca380830483d)\n",
       "        ;\n",
       "\n",
       "        \n",
       "    \n",
       "    \n",
       "            var circle_marker_f89d77121b8b780f8f0741c20b0807f0 = L.circleMarker(\n",
       "                [6.5, -9.5],\n",
       "                {&quot;bubblingMouseEvents&quot;: true, &quot;color&quot;: &quot;blue&quot;, &quot;dashArray&quot;: null, &quot;dashOffset&quot;: null, &quot;fill&quot;: true, &quot;fillColor&quot;: &quot;blue&quot;, &quot;fillOpacity&quot;: 0.2, &quot;fillRule&quot;: &quot;evenodd&quot;, &quot;lineCap&quot;: &quot;round&quot;, &quot;lineJoin&quot;: &quot;round&quot;, &quot;opacity&quot;: 1.0, &quot;radius&quot;: 10.402722701851058, &quot;stroke&quot;: true, &quot;weight&quot;: 3}\n",
       "            ).addTo(map_37c514aba63ae1e51efa9e17f624418a);\n",
       "        \n",
       "    \n",
       "        var popup_04b3b6afe56850e27cce95289ba87a17 = L.popup({\n",
       "  &quot;maxWidth&quot;: &quot;100%&quot;,\n",
       "});\n",
       "\n",
       "        \n",
       "            \n",
       "                var html_5cd7972d896b042d408df3cb116958de = $(`&lt;div id=&quot;html_5cd7972d896b042d408df3cb116958de&quot; style=&quot;width: 100.0%; height: 100.0%;&quot;&gt;Liberia&lt;/div&gt;`)[0];\n",
       "                popup_04b3b6afe56850e27cce95289ba87a17.setContent(html_5cd7972d896b042d408df3cb116958de);\n",
       "            \n",
       "        \n",
       "\n",
       "        circle_marker_f89d77121b8b780f8f0741c20b0807f0.bindPopup(popup_04b3b6afe56850e27cce95289ba87a17)\n",
       "        ;\n",
       "\n",
       "        \n",
       "    \n",
       "    \n",
       "            var circle_marker_1dfb8c58aecc2577941ffc725721d846 = L.circleMarker(\n",
       "                [13.88333, -60.96667],\n",
       "                {&quot;bubblingMouseEvents&quot;: true, &quot;color&quot;: &quot;green&quot;, &quot;dashArray&quot;: null, &quot;dashOffset&quot;: null, &quot;fill&quot;: true, &quot;fillColor&quot;: &quot;green&quot;, &quot;fillOpacity&quot;: 0.2, &quot;fillRule&quot;: &quot;evenodd&quot;, &quot;lineCap&quot;: &quot;round&quot;, &quot;lineJoin&quot;: &quot;round&quot;, &quot;opacity&quot;: 1.0, &quot;radius&quot;: 1.0678247394996874, &quot;stroke&quot;: true, &quot;weight&quot;: 3}\n",
       "            ).addTo(map_37c514aba63ae1e51efa9e17f624418a);\n",
       "        \n",
       "    \n",
       "        var popup_784bb79c3ef17c8f03cd92667727d780 = L.popup({\n",
       "  &quot;maxWidth&quot;: &quot;100%&quot;,\n",
       "});\n",
       "\n",
       "        \n",
       "            \n",
       "                var html_27e157935bda6ea4475ae2f7f5fb337a = $(`&lt;div id=&quot;html_27e157935bda6ea4475ae2f7f5fb337a&quot; style=&quot;width: 100.0%; height: 100.0%;&quot;&gt;St. Lucia&lt;/div&gt;`)[0];\n",
       "                popup_784bb79c3ef17c8f03cd92667727d780.setContent(html_27e157935bda6ea4475ae2f7f5fb337a);\n",
       "            \n",
       "        \n",
       "\n",
       "        circle_marker_1dfb8c58aecc2577941ffc725721d846.bindPopup(popup_784bb79c3ef17c8f03cd92667727d780)\n",
       "        ;\n",
       "\n",
       "        \n",
       "    \n",
       "    \n",
       "            var circle_marker_7f539107ca1ca36fc9b326d677e2560c = L.circleMarker(\n",
       "                [7.75, 80.75],\n",
       "                {&quot;bubblingMouseEvents&quot;: true, &quot;color&quot;: &quot;red&quot;, &quot;dashArray&quot;: null, &quot;dashOffset&quot;: null, &quot;fill&quot;: true, &quot;fillColor&quot;: &quot;red&quot;, &quot;fillOpacity&quot;: 0.2, &quot;fillRule&quot;: &quot;evenodd&quot;, &quot;lineCap&quot;: &quot;round&quot;, &quot;lineJoin&quot;: &quot;round&quot;, &quot;opacity&quot;: 1.0, &quot;radius&quot;: 5.2263905416719725, &quot;stroke&quot;: true, &quot;weight&quot;: 3}\n",
       "            ).addTo(map_37c514aba63ae1e51efa9e17f624418a);\n",
       "        \n",
       "    \n",
       "        var popup_2a7393fd4af082a4410117a6d5b4bfe3 = L.popup({\n",
       "  &quot;maxWidth&quot;: &quot;100%&quot;,\n",
       "});\n",
       "\n",
       "        \n",
       "            \n",
       "                var html_70f8581c82de29927017604b8e2ab417 = $(`&lt;div id=&quot;html_70f8581c82de29927017604b8e2ab417&quot; style=&quot;width: 100.0%; height: 100.0%;&quot;&gt;Sri Lanka&lt;/div&gt;`)[0];\n",
       "                popup_2a7393fd4af082a4410117a6d5b4bfe3.setContent(html_70f8581c82de29927017604b8e2ab417);\n",
       "            \n",
       "        \n",
       "\n",
       "        circle_marker_7f539107ca1ca36fc9b326d677e2560c.bindPopup(popup_2a7393fd4af082a4410117a6d5b4bfe3)\n",
       "        ;\n",
       "\n",
       "        \n",
       "    \n",
       "    \n",
       "            var circle_marker_ce3292070c3bd9aa5d4aa639b6641f51 = L.circleMarker(\n",
       "                [-29.5, 28.25],\n",
       "                {&quot;bubblingMouseEvents&quot;: true, &quot;color&quot;: &quot;blue&quot;, &quot;dashArray&quot;: null, &quot;dashOffset&quot;: null, &quot;fill&quot;: true, &quot;fillColor&quot;: &quot;blue&quot;, &quot;fillOpacity&quot;: 0.2, &quot;fillRule&quot;: &quot;evenodd&quot;, &quot;lineCap&quot;: &quot;round&quot;, &quot;lineJoin&quot;: &quot;round&quot;, &quot;opacity&quot;: 1.0, &quot;radius&quot;: 5.9769276286816355, &quot;stroke&quot;: true, &quot;weight&quot;: 3}\n",
       "            ).addTo(map_37c514aba63ae1e51efa9e17f624418a);\n",
       "        \n",
       "    \n",
       "        var popup_64562e733a6d3429f5333a054233c22a = L.popup({\n",
       "  &quot;maxWidth&quot;: &quot;100%&quot;,\n",
       "});\n",
       "\n",
       "        \n",
       "            \n",
       "                var html_c514e9721647370ddda04a17fe9319ae = $(`&lt;div id=&quot;html_c514e9721647370ddda04a17fe9319ae&quot; style=&quot;width: 100.0%; height: 100.0%;&quot;&gt;Lesotho&lt;/div&gt;`)[0];\n",
       "                popup_64562e733a6d3429f5333a054233c22a.setContent(html_c514e9721647370ddda04a17fe9319ae);\n",
       "            \n",
       "        \n",
       "\n",
       "        circle_marker_ce3292070c3bd9aa5d4aa639b6641f51.bindPopup(popup_64562e733a6d3429f5333a054233c22a)\n",
       "        ;\n",
       "\n",
       "        \n",
       "    \n",
       "    \n",
       "            var circle_marker_603fe46fda8378ad5922edbb5ca02d2e = L.circleMarker(\n",
       "                [55.41667, 24.0],\n",
       "                {&quot;bubblingMouseEvents&quot;: true, &quot;color&quot;: &quot;black&quot;, &quot;dashArray&quot;: null, &quot;dashOffset&quot;: null, &quot;fill&quot;: true, &quot;fillColor&quot;: &quot;black&quot;, &quot;fillOpacity&quot;: 0.2, &quot;fillRule&quot;: &quot;evenodd&quot;, &quot;lineCap&quot;: &quot;round&quot;, &quot;lineJoin&quot;: &quot;round&quot;, &quot;opacity&quot;: 1.0, &quot;radius&quot;: 0.9046582494882497, &quot;stroke&quot;: true, &quot;weight&quot;: 3}\n",
       "            ).addTo(map_37c514aba63ae1e51efa9e17f624418a);\n",
       "        \n",
       "    \n",
       "        var popup_39b805af0ae0c20101f39f7b569dfcfa = L.popup({\n",
       "  &quot;maxWidth&quot;: &quot;100%&quot;,\n",
       "});\n",
       "\n",
       "        \n",
       "            \n",
       "                var html_0d3fe0afed7d8ce7a0c434cef5e4b77d = $(`&lt;div id=&quot;html_0d3fe0afed7d8ce7a0c434cef5e4b77d&quot; style=&quot;width: 100.0%; height: 100.0%;&quot;&gt;Lithuania&lt;/div&gt;`)[0];\n",
       "                popup_39b805af0ae0c20101f39f7b569dfcfa.setContent(html_0d3fe0afed7d8ce7a0c434cef5e4b77d);\n",
       "            \n",
       "        \n",
       "\n",
       "        circle_marker_603fe46fda8378ad5922edbb5ca02d2e.bindPopup(popup_39b805af0ae0c20101f39f7b569dfcfa)\n",
       "        ;\n",
       "\n",
       "        \n",
       "    \n",
       "    \n",
       "            var circle_marker_8b062191913b8d7e9dcc773e40fb02bb = L.circleMarker(\n",
       "                [57.0, 25.0],\n",
       "                {&quot;bubblingMouseEvents&quot;: true, &quot;color&quot;: &quot;black&quot;, &quot;dashArray&quot;: null, &quot;dashOffset&quot;: null, &quot;fill&quot;: true, &quot;fillColor&quot;: &quot;black&quot;, &quot;fillOpacity&quot;: 0.2, &quot;fillRule&quot;: &quot;evenodd&quot;, &quot;lineCap&quot;: &quot;round&quot;, &quot;lineJoin&quot;: &quot;round&quot;, &quot;opacity&quot;: 1.0, &quot;radius&quot;: 0.8452870527322389, &quot;stroke&quot;: true, &quot;weight&quot;: 3}\n",
       "            ).addTo(map_37c514aba63ae1e51efa9e17f624418a);\n",
       "        \n",
       "    \n",
       "        var popup_d8fe4e243aa19f7da1fae4c3bef427cb = L.popup({\n",
       "  &quot;maxWidth&quot;: &quot;100%&quot;,\n",
       "});\n",
       "\n",
       "        \n",
       "            \n",
       "                var html_1479e441578b0a0b26d8127765fca444 = $(`&lt;div id=&quot;html_1479e441578b0a0b26d8127765fca444&quot; style=&quot;width: 100.0%; height: 100.0%;&quot;&gt;Latvia&lt;/div&gt;`)[0];\n",
       "                popup_d8fe4e243aa19f7da1fae4c3bef427cb.setContent(html_1479e441578b0a0b26d8127765fca444);\n",
       "            \n",
       "        \n",
       "\n",
       "        circle_marker_8b062191913b8d7e9dcc773e40fb02bb.bindPopup(popup_d8fe4e243aa19f7da1fae4c3bef427cb)\n",
       "        ;\n",
       "\n",
       "        \n",
       "    \n",
       "    \n",
       "            var circle_marker_3a04be5d572e0b52083291b2d5e96709 = L.circleMarker(\n",
       "                [32.0, -6.0],\n",
       "                {&quot;bubblingMouseEvents&quot;: true, &quot;color&quot;: &quot;blue&quot;, &quot;dashArray&quot;: null, &quot;dashOffset&quot;: null, &quot;fill&quot;: true, &quot;fillColor&quot;: &quot;blue&quot;, &quot;fillOpacity&quot;: 0.2, &quot;fillRule&quot;: &quot;evenodd&quot;, &quot;lineCap&quot;: &quot;round&quot;, &quot;lineJoin&quot;: &quot;round&quot;, &quot;opacity&quot;: 1.0, &quot;radius&quot;: 5.153624022486771, &quot;stroke&quot;: true, &quot;weight&quot;: 3}\n",
       "            ).addTo(map_37c514aba63ae1e51efa9e17f624418a);\n",
       "        \n",
       "    \n",
       "        var popup_947c08384d5f2ccedc8c2579e2c0d444 = L.popup({\n",
       "  &quot;maxWidth&quot;: &quot;100%&quot;,\n",
       "});\n",
       "\n",
       "        \n",
       "            \n",
       "                var html_6ddbd7cc226b8c919296b91f562f9ebb = $(`&lt;div id=&quot;html_6ddbd7cc226b8c919296b91f562f9ebb&quot; style=&quot;width: 100.0%; height: 100.0%;&quot;&gt;Morocco&lt;/div&gt;`)[0];\n",
       "                popup_947c08384d5f2ccedc8c2579e2c0d444.setContent(html_6ddbd7cc226b8c919296b91f562f9ebb);\n",
       "            \n",
       "        \n",
       "\n",
       "        circle_marker_3a04be5d572e0b52083291b2d5e96709.bindPopup(popup_947c08384d5f2ccedc8c2579e2c0d444)\n",
       "        ;\n",
       "\n",
       "        \n",
       "    \n",
       "    \n",
       "            var circle_marker_bbf3a510795d2f261efba44ded4f200a = L.circleMarker(\n",
       "                [47.25, 28.58333],\n",
       "                {&quot;bubblingMouseEvents&quot;: true, &quot;color&quot;: &quot;black&quot;, &quot;dashArray&quot;: null, &quot;dashOffset&quot;: null, &quot;fill&quot;: true, &quot;fillColor&quot;: &quot;black&quot;, &quot;fillOpacity&quot;: 0.2, &quot;fillRule&quot;: &quot;evenodd&quot;, &quot;lineCap&quot;: &quot;round&quot;, &quot;lineJoin&quot;: &quot;round&quot;, &quot;opacity&quot;: 1.0, &quot;radius&quot;: 0.5156705139116825, &quot;stroke&quot;: true, &quot;weight&quot;: 3}\n",
       "            ).addTo(map_37c514aba63ae1e51efa9e17f624418a);\n",
       "        \n",
       "    \n",
       "        var popup_94c3fd4b78d6762e21d20c1efa62e0fd = L.popup({\n",
       "  &quot;maxWidth&quot;: &quot;100%&quot;,\n",
       "});\n",
       "\n",
       "        \n",
       "            \n",
       "                var html_56f85dd260ed459e81ef6e27ce3bd247 = $(`&lt;div id=&quot;html_56f85dd260ed459e81ef6e27ce3bd247&quot; style=&quot;width: 100.0%; height: 100.0%;&quot;&gt;Moldova&lt;/div&gt;`)[0];\n",
       "                popup_94c3fd4b78d6762e21d20c1efa62e0fd.setContent(html_56f85dd260ed459e81ef6e27ce3bd247);\n",
       "            \n",
       "        \n",
       "\n",
       "        circle_marker_bbf3a510795d2f261efba44ded4f200a.bindPopup(popup_94c3fd4b78d6762e21d20c1efa62e0fd)\n",
       "        ;\n",
       "\n",
       "        \n",
       "    \n",
       "    \n",
       "            var circle_marker_e671aad5ef1de5163ae47ee3170971ec = L.circleMarker(\n",
       "                [-20.0, 47.0],\n",
       "                {&quot;bubblingMouseEvents&quot;: true, &quot;color&quot;: &quot;blue&quot;, &quot;dashArray&quot;: null, &quot;dashOffset&quot;: null, &quot;fill&quot;: true, &quot;fillColor&quot;: &quot;blue&quot;, &quot;fillOpacity&quot;: 0.2, &quot;fillRule&quot;: &quot;evenodd&quot;, &quot;lineCap&quot;: &quot;round&quot;, &quot;lineJoin&quot;: &quot;round&quot;, &quot;opacity&quot;: 1.0, &quot;radius&quot;: 24.880782383251354, &quot;stroke&quot;: true, &quot;weight&quot;: 3}\n",
       "            ).addTo(map_37c514aba63ae1e51efa9e17f624418a);\n",
       "        \n",
       "    \n",
       "        var popup_32159d59f9bda25ca63260e464a14847 = L.popup({\n",
       "  &quot;maxWidth&quot;: &quot;100%&quot;,\n",
       "});\n",
       "\n",
       "        \n",
       "            \n",
       "                var html_3e206c38cc9c03a3117ce1d35887d708 = $(`&lt;div id=&quot;html_3e206c38cc9c03a3117ce1d35887d708&quot; style=&quot;width: 100.0%; height: 100.0%;&quot;&gt;Madagascar&lt;/div&gt;`)[0];\n",
       "                popup_32159d59f9bda25ca63260e464a14847.setContent(html_3e206c38cc9c03a3117ce1d35887d708);\n",
       "            \n",
       "        \n",
       "\n",
       "        circle_marker_e671aad5ef1de5163ae47ee3170971ec.bindPopup(popup_32159d59f9bda25ca63260e464a14847)\n",
       "        ;\n",
       "\n",
       "        \n",
       "    \n",
       "    \n",
       "            var circle_marker_8a12ab7f6d95e3bd9011ec8592d0033f = L.circleMarker(\n",
       "                [3.2, 73.0],\n",
       "                {&quot;bubblingMouseEvents&quot;: true, &quot;color&quot;: &quot;red&quot;, &quot;dashArray&quot;: null, &quot;dashOffset&quot;: null, &quot;fill&quot;: true, &quot;fillColor&quot;: &quot;red&quot;, &quot;fillOpacity&quot;: 0.2, &quot;fillRule&quot;: &quot;evenodd&quot;, &quot;lineCap&quot;: &quot;round&quot;, &quot;lineJoin&quot;: &quot;round&quot;, &quot;opacity&quot;: 1.0, &quot;radius&quot;: 0.41228325120254916, &quot;stroke&quot;: true, &quot;weight&quot;: 3}\n",
       "            ).addTo(map_37c514aba63ae1e51efa9e17f624418a);\n",
       "        \n",
       "    \n",
       "        var popup_115aae656d6cb3c7e5079b2649142cf8 = L.popup({\n",
       "  &quot;maxWidth&quot;: &quot;100%&quot;,\n",
       "});\n",
       "\n",
       "        \n",
       "            \n",
       "                var html_30a252e8fe43f17977d0a5967b9304aa = $(`&lt;div id=&quot;html_30a252e8fe43f17977d0a5967b9304aa&quot; style=&quot;width: 100.0%; height: 100.0%;&quot;&gt;Maldives&lt;/div&gt;`)[0];\n",
       "                popup_115aae656d6cb3c7e5079b2649142cf8.setContent(html_30a252e8fe43f17977d0a5967b9304aa);\n",
       "            \n",
       "        \n",
       "\n",
       "        circle_marker_8a12ab7f6d95e3bd9011ec8592d0033f.bindPopup(popup_115aae656d6cb3c7e5079b2649142cf8)\n",
       "        ;\n",
       "\n",
       "        \n",
       "    \n",
       "    \n",
       "            var circle_marker_de8700d7d9c2c0eb6b67bc3f5b559fe5 = L.circleMarker(\n",
       "                [19.42847, -99.12766],\n",
       "                {&quot;bubblingMouseEvents&quot;: true, &quot;color&quot;: &quot;green&quot;, &quot;dashArray&quot;: null, &quot;dashOffset&quot;: null, &quot;fill&quot;: true, &quot;fillColor&quot;: &quot;green&quot;, &quot;fillOpacity&quot;: 0.2, &quot;fillRule&quot;: &quot;evenodd&quot;, &quot;lineCap&quot;: &quot;round&quot;, &quot;lineJoin&quot;: &quot;round&quot;, &quot;opacity&quot;: 1.0, &quot;radius&quot;: 6.103493555808272, &quot;stroke&quot;: true, &quot;weight&quot;: 3}\n",
       "            ).addTo(map_37c514aba63ae1e51efa9e17f624418a);\n",
       "        \n",
       "    \n",
       "        var popup_c6adc3b7a13ea8d9cd665573701b78fc = L.popup({\n",
       "  &quot;maxWidth&quot;: &quot;100%&quot;,\n",
       "});\n",
       "\n",
       "        \n",
       "            \n",
       "                var html_795b4fc9b1332a0cd2823a9302e1f622 = $(`&lt;div id=&quot;html_795b4fc9b1332a0cd2823a9302e1f622&quot; style=&quot;width: 100.0%; height: 100.0%;&quot;&gt;Mexico&lt;/div&gt;`)[0];\n",
       "                popup_c6adc3b7a13ea8d9cd665573701b78fc.setContent(html_795b4fc9b1332a0cd2823a9302e1f622);\n",
       "            \n",
       "        \n",
       "\n",
       "        circle_marker_de8700d7d9c2c0eb6b67bc3f5b559fe5.bindPopup(popup_c6adc3b7a13ea8d9cd665573701b78fc)\n",
       "        ;\n",
       "\n",
       "        \n",
       "    \n",
       "    \n",
       "            var circle_marker_0bb16efc65177751f8b03ec1399ea4c5 = L.circleMarker(\n",
       "                [41.66667, 21.75],\n",
       "                {&quot;bubblingMouseEvents&quot;: true, &quot;color&quot;: &quot;black&quot;, &quot;dashArray&quot;: null, &quot;dashOffset&quot;: null, &quot;fill&quot;: true, &quot;fillColor&quot;: &quot;black&quot;, &quot;fillOpacity&quot;: 0.2, &quot;fillRule&quot;: &quot;evenodd&quot;, &quot;lineCap&quot;: &quot;round&quot;, &quot;lineJoin&quot;: &quot;round&quot;, &quot;opacity&quot;: 1.0, &quot;radius&quot;: 0.4275946662716566, &quot;stroke&quot;: true, &quot;weight&quot;: 3}\n",
       "            ).addTo(map_37c514aba63ae1e51efa9e17f624418a);\n",
       "        \n",
       "    \n",
       "        var popup_1717726676515ef9eddfedeb0d501864 = L.popup({\n",
       "  &quot;maxWidth&quot;: &quot;100%&quot;,\n",
       "});\n",
       "\n",
       "        \n",
       "            \n",
       "                var html_2fd3a16fdbb2a1209737546830fb598e = $(`&lt;div id=&quot;html_2fd3a16fdbb2a1209737546830fb598e&quot; style=&quot;width: 100.0%; height: 100.0%;&quot;&gt;North Macedonia&lt;/div&gt;`)[0];\n",
       "                popup_1717726676515ef9eddfedeb0d501864.setContent(html_2fd3a16fdbb2a1209737546830fb598e);\n",
       "            \n",
       "        \n",
       "\n",
       "        circle_marker_0bb16efc65177751f8b03ec1399ea4c5.bindPopup(popup_1717726676515ef9eddfedeb0d501864)\n",
       "        ;\n",
       "\n",
       "        \n",
       "    \n",
       "    \n",
       "            var circle_marker_5151f59bb88ab969a1ff785d48480cca = L.circleMarker(\n",
       "                [18.0, -2.0],\n",
       "                {&quot;bubblingMouseEvents&quot;: true, &quot;color&quot;: &quot;blue&quot;, &quot;dashArray&quot;: null, &quot;dashOffset&quot;: null, &quot;fill&quot;: true, &quot;fillColor&quot;: &quot;blue&quot;, &quot;fillOpacity&quot;: 0.2, &quot;fillRule&quot;: &quot;evenodd&quot;, &quot;lineCap&quot;: &quot;round&quot;, &quot;lineJoin&quot;: &quot;round&quot;, &quot;opacity&quot;: 1.0, &quot;radius&quot;: 16.027220001199698, &quot;stroke&quot;: true, &quot;weight&quot;: 3}\n",
       "            ).addTo(map_37c514aba63ae1e51efa9e17f624418a);\n",
       "        \n",
       "    \n",
       "        var popup_f05304729ad2052e383572b38b0104b8 = L.popup({\n",
       "  &quot;maxWidth&quot;: &quot;100%&quot;,\n",
       "});\n",
       "\n",
       "        \n",
       "            \n",
       "                var html_ef1c963c42ff2e73101107abbf0907a3 = $(`&lt;div id=&quot;html_ef1c963c42ff2e73101107abbf0907a3&quot; style=&quot;width: 100.0%; height: 100.0%;&quot;&gt;Mali&lt;/div&gt;`)[0];\n",
       "                popup_f05304729ad2052e383572b38b0104b8.setContent(html_ef1c963c42ff2e73101107abbf0907a3);\n",
       "            \n",
       "        \n",
       "\n",
       "        circle_marker_5151f59bb88ab969a1ff785d48480cca.bindPopup(popup_f05304729ad2052e383572b38b0104b8)\n",
       "        ;\n",
       "\n",
       "        \n",
       "    \n",
       "    \n",
       "            var circle_marker_c0fbb15d8ca9fdf8245314f1cdefe442 = L.circleMarker(\n",
       "                [42.75, 19.25],\n",
       "                {&quot;bubblingMouseEvents&quot;: true, &quot;color&quot;: &quot;black&quot;, &quot;dashArray&quot;: null, &quot;dashOffset&quot;: null, &quot;fill&quot;: true, &quot;fillColor&quot;: &quot;black&quot;, &quot;fillOpacity&quot;: 0.2, &quot;fillRule&quot;: &quot;evenodd&quot;, &quot;lineCap&quot;: &quot;round&quot;, &quot;lineJoin&quot;: &quot;round&quot;, &quot;opacity&quot;: 1.0, &quot;radius&quot;: 0.20552304468499152, &quot;stroke&quot;: true, &quot;weight&quot;: 3}\n",
       "            ).addTo(map_37c514aba63ae1e51efa9e17f624418a);\n",
       "        \n",
       "    \n",
       "        var popup_906c34048d7a0adc8aa4e4dd61700bcc = L.popup({\n",
       "  &quot;maxWidth&quot;: &quot;100%&quot;,\n",
       "});\n",
       "\n",
       "        \n",
       "            \n",
       "                var html_d632f61fced5780af883451622f0dcc7 = $(`&lt;div id=&quot;html_d632f61fced5780af883451622f0dcc7&quot; style=&quot;width: 100.0%; height: 100.0%;&quot;&gt;Montenegro&lt;/div&gt;`)[0];\n",
       "                popup_906c34048d7a0adc8aa4e4dd61700bcc.setContent(html_d632f61fced5780af883451622f0dcc7);\n",
       "            \n",
       "        \n",
       "\n",
       "        circle_marker_c0fbb15d8ca9fdf8245314f1cdefe442.bindPopup(popup_906c34048d7a0adc8aa4e4dd61700bcc)\n",
       "        ;\n",
       "\n",
       "        \n",
       "    \n",
       "    \n",
       "            var circle_marker_59396f10fd43c91bec8088c73163d257 = L.circleMarker(\n",
       "                [-18.25, 35.0],\n",
       "                {&quot;bubblingMouseEvents&quot;: true, &quot;color&quot;: &quot;blue&quot;, &quot;dashArray&quot;: null, &quot;dashOffset&quot;: null, &quot;fill&quot;: true, &quot;fillColor&quot;: &quot;blue&quot;, &quot;fillOpacity&quot;: 0.2, &quot;fillRule&quot;: &quot;evenodd&quot;, &quot;lineCap&quot;: &quot;round&quot;, &quot;lineJoin&quot;: &quot;round&quot;, &quot;opacity&quot;: 1.0, &quot;radius&quot;: 21.082003552705647, &quot;stroke&quot;: true, &quot;weight&quot;: 3}\n",
       "            ).addTo(map_37c514aba63ae1e51efa9e17f624418a);\n",
       "        \n",
       "    \n",
       "        var popup_21fafee6ad9f3a64d9ccfde514cd425f = L.popup({\n",
       "  &quot;maxWidth&quot;: &quot;100%&quot;,\n",
       "});\n",
       "\n",
       "        \n",
       "            \n",
       "                var html_4aeb117e8ec20bd6a23980b714273dca = $(`&lt;div id=&quot;html_4aeb117e8ec20bd6a23980b714273dca&quot; style=&quot;width: 100.0%; height: 100.0%;&quot;&gt;Mozambique&lt;/div&gt;`)[0];\n",
       "                popup_21fafee6ad9f3a64d9ccfde514cd425f.setContent(html_4aeb117e8ec20bd6a23980b714273dca);\n",
       "            \n",
       "        \n",
       "\n",
       "        circle_marker_59396f10fd43c91bec8088c73163d257.bindPopup(popup_21fafee6ad9f3a64d9ccfde514cd425f)\n",
       "        ;\n",
       "\n",
       "        \n",
       "    \n",
       "    \n",
       "            var circle_marker_0c9585f574d28040152af92ce6f76a0c = L.circleMarker(\n",
       "                [20.25, -10.5],\n",
       "                {&quot;bubblingMouseEvents&quot;: true, &quot;color&quot;: &quot;blue&quot;, &quot;dashArray&quot;: null, &quot;dashOffset&quot;: null, &quot;fill&quot;: true, &quot;fillColor&quot;: &quot;blue&quot;, &quot;fillOpacity&quot;: 0.2, &quot;fillRule&quot;: &quot;evenodd&quot;, &quot;lineCap&quot;: &quot;round&quot;, &quot;lineJoin&quot;: &quot;round&quot;, &quot;opacity&quot;: 1.0, &quot;radius&quot;: 5.028898085094589, &quot;stroke&quot;: true, &quot;weight&quot;: 3}\n",
       "            ).addTo(map_37c514aba63ae1e51efa9e17f624418a);\n",
       "        \n",
       "    \n",
       "        var popup_7299950238b841ed9882265eed64f58b = L.popup({\n",
       "  &quot;maxWidth&quot;: &quot;100%&quot;,\n",
       "});\n",
       "\n",
       "        \n",
       "            \n",
       "                var html_3bd7cb3f421239af51d3eb6eb630f05b = $(`&lt;div id=&quot;html_3bd7cb3f421239af51d3eb6eb630f05b&quot; style=&quot;width: 100.0%; height: 100.0%;&quot;&gt;Mauritania&lt;/div&gt;`)[0];\n",
       "                popup_7299950238b841ed9882265eed64f58b.setContent(html_3bd7cb3f421239af51d3eb6eb630f05b);\n",
       "            \n",
       "        \n",
       "\n",
       "        circle_marker_0c9585f574d28040152af92ce6f76a0c.bindPopup(popup_7299950238b841ed9882265eed64f58b)\n",
       "        ;\n",
       "\n",
       "        \n",
       "    \n",
       "    \n",
       "            var circle_marker_8c9b8bba60d6004236de9b7223c4d9b0 = L.circleMarker(\n",
       "                [-13.5, 34.0],\n",
       "                {&quot;bubblingMouseEvents&quot;: true, &quot;color&quot;: &quot;blue&quot;, &quot;dashArray&quot;: null, &quot;dashOffset&quot;: null, &quot;fill&quot;: true, &quot;fillColor&quot;: &quot;blue&quot;, &quot;fillOpacity&quot;: 0.2, &quot;fillRule&quot;: &quot;evenodd&quot;, &quot;lineCap&quot;: &quot;round&quot;, &quot;lineJoin&quot;: &quot;round&quot;, &quot;opacity&quot;: 1.0, &quot;radius&quot;: 18.4540677653082, &quot;stroke&quot;: true, &quot;weight&quot;: 3}\n",
       "            ).addTo(map_37c514aba63ae1e51efa9e17f624418a);\n",
       "        \n",
       "    \n",
       "        var popup_a5fcf2d29f8c86d14eddc7a6a48deedb = L.popup({\n",
       "  &quot;maxWidth&quot;: &quot;100%&quot;,\n",
       "});\n",
       "\n",
       "        \n",
       "            \n",
       "                var html_db97a5fdec1c3684c35a392f77aea711 = $(`&lt;div id=&quot;html_db97a5fdec1c3684c35a392f77aea711&quot; style=&quot;width: 100.0%; height: 100.0%;&quot;&gt;Malawi&lt;/div&gt;`)[0];\n",
       "                popup_a5fcf2d29f8c86d14eddc7a6a48deedb.setContent(html_db97a5fdec1c3684c35a392f77aea711);\n",
       "            \n",
       "        \n",
       "\n",
       "        circle_marker_8c9b8bba60d6004236de9b7223c4d9b0.bindPopup(popup_a5fcf2d29f8c86d14eddc7a6a48deedb)\n",
       "        ;\n",
       "\n",
       "        \n",
       "    \n",
       "    \n",
       "            var circle_marker_b9b11490973fb3b0ae0ceeca96ff7cbd = L.circleMarker(\n",
       "                [2.5, 112.5],\n",
       "                {&quot;bubblingMouseEvents&quot;: true, &quot;color&quot;: &quot;red&quot;, &quot;dashArray&quot;: null, &quot;dashOffset&quot;: null, &quot;fill&quot;: true, &quot;fillColor&quot;: &quot;red&quot;, &quot;fillOpacity&quot;: 0.2, &quot;fillRule&quot;: &quot;evenodd&quot;, &quot;lineCap&quot;: &quot;round&quot;, &quot;lineJoin&quot;: &quot;round&quot;, &quot;opacity&quot;: 1.0, &quot;stroke&quot;: true, &quot;weight&quot;: 3}\n",
       "            ).addTo(map_37c514aba63ae1e51efa9e17f624418a);\n",
       "        \n",
       "    \n",
       "        var popup_19c55aa366a107f048fcdd06fff025e4 = L.popup({\n",
       "  &quot;maxWidth&quot;: &quot;100%&quot;,\n",
       "});\n",
       "\n",
       "        \n",
       "            \n",
       "                var html_4c8348c74adf40217d7a7e8bf8ce1e97 = $(`&lt;div id=&quot;html_4c8348c74adf40217d7a7e8bf8ce1e97&quot; style=&quot;width: 100.0%; height: 100.0%;&quot;&gt;Malaysia&lt;/div&gt;`)[0];\n",
       "                popup_19c55aa366a107f048fcdd06fff025e4.setContent(html_4c8348c74adf40217d7a7e8bf8ce1e97);\n",
       "            \n",
       "        \n",
       "\n",
       "        circle_marker_b9b11490973fb3b0ae0ceeca96ff7cbd.bindPopup(popup_19c55aa366a107f048fcdd06fff025e4)\n",
       "        ;\n",
       "\n",
       "        \n",
       "    \n",
       "    \n",
       "            var circle_marker_d3fa890e0fd1fb52dcbd4dea5914c8cb = L.circleMarker(\n",
       "                [-22.0, 17.0],\n",
       "                {&quot;bubblingMouseEvents&quot;: true, &quot;color&quot;: &quot;blue&quot;, &quot;dashArray&quot;: null, &quot;dashOffset&quot;: null, &quot;fill&quot;: true, &quot;fillColor&quot;: &quot;blue&quot;, &quot;fillOpacity&quot;: 0.2, &quot;fillRule&quot;: &quot;evenodd&quot;, &quot;lineCap&quot;: &quot;round&quot;, &quot;lineJoin&quot;: &quot;round&quot;, &quot;opacity&quot;: 1.0, &quot;radius&quot;: 3.976035776664738, &quot;stroke&quot;: true, &quot;weight&quot;: 3}\n",
       "            ).addTo(map_37c514aba63ae1e51efa9e17f624418a);\n",
       "        \n",
       "    \n",
       "        var popup_67837100fd7ef07ec797969295bd101c = L.popup({\n",
       "  &quot;maxWidth&quot;: &quot;100%&quot;,\n",
       "});\n",
       "\n",
       "        \n",
       "            \n",
       "                var html_e44ceaddf8db724709badb5ddc2e7908 = $(`&lt;div id=&quot;html_e44ceaddf8db724709badb5ddc2e7908&quot; style=&quot;width: 100.0%; height: 100.0%;&quot;&gt;Namibia&lt;/div&gt;`)[0];\n",
       "                popup_67837100fd7ef07ec797969295bd101c.setContent(html_e44ceaddf8db724709badb5ddc2e7908);\n",
       "            \n",
       "        \n",
       "\n",
       "        circle_marker_d3fa890e0fd1fb52dcbd4dea5914c8cb.bindPopup(popup_67837100fd7ef07ec797969295bd101c)\n",
       "        ;\n",
       "\n",
       "        \n",
       "    \n",
       "    \n",
       "            var circle_marker_adec21a65434eb409ae20c3a03373c2c = L.circleMarker(\n",
       "                [18.0, 9.0],\n",
       "                {&quot;bubblingMouseEvents&quot;: true, &quot;color&quot;: &quot;blue&quot;, &quot;dashArray&quot;: null, &quot;dashOffset&quot;: null, &quot;fill&quot;: true, &quot;fillColor&quot;: &quot;blue&quot;, &quot;fillOpacity&quot;: 0.2, &quot;fillRule&quot;: &quot;evenodd&quot;, &quot;lineCap&quot;: &quot;round&quot;, &quot;lineJoin&quot;: &quot;round&quot;, &quot;opacity&quot;: 1.0, &quot;radius&quot;: 14.661961946251004, &quot;stroke&quot;: true, &quot;weight&quot;: 3}\n",
       "            ).addTo(map_37c514aba63ae1e51efa9e17f624418a);\n",
       "        \n",
       "    \n",
       "        var popup_b88e0c8099ec954187b39a9569a2ea70 = L.popup({\n",
       "  &quot;maxWidth&quot;: &quot;100%&quot;,\n",
       "});\n",
       "\n",
       "        \n",
       "            \n",
       "                var html_84443715d45c57a183ff173d203923e9 = $(`&lt;div id=&quot;html_84443715d45c57a183ff173d203923e9&quot; style=&quot;width: 100.0%; height: 100.0%;&quot;&gt;Niger&lt;/div&gt;`)[0];\n",
       "                popup_b88e0c8099ec954187b39a9569a2ea70.setContent(html_84443715d45c57a183ff173d203923e9);\n",
       "            \n",
       "        \n",
       "\n",
       "        circle_marker_adec21a65434eb409ae20c3a03373c2c.bindPopup(popup_b88e0c8099ec954187b39a9569a2ea70)\n",
       "        ;\n",
       "\n",
       "        \n",
       "    \n",
       "    \n",
       "            var circle_marker_0349c7994014c47f9b0d1e6932cacef4 = L.circleMarker(\n",
       "                [10.0, 8.0],\n",
       "                {&quot;bubblingMouseEvents&quot;: true, &quot;color&quot;: &quot;blue&quot;, &quot;dashArray&quot;: null, &quot;dashOffset&quot;: null, &quot;fill&quot;: true, &quot;fillColor&quot;: &quot;blue&quot;, &quot;fillOpacity&quot;: 0.2, &quot;fillRule&quot;: &quot;evenodd&quot;, &quot;lineCap&quot;: &quot;round&quot;, &quot;lineJoin&quot;: &quot;round&quot;, &quot;opacity&quot;: 1.0, &quot;radius&quot;: 57.36134723958271, &quot;stroke&quot;: true, &quot;weight&quot;: 3}\n",
       "            ).addTo(map_37c514aba63ae1e51efa9e17f624418a);\n",
       "        \n",
       "    \n",
       "        var popup_564c423dfe0818fb884487a389611da7 = L.popup({\n",
       "  &quot;maxWidth&quot;: &quot;100%&quot;,\n",
       "});\n",
       "\n",
       "        \n",
       "            \n",
       "                var html_c25773cfda8dffc601b85d49e35ae9d0 = $(`&lt;div id=&quot;html_c25773cfda8dffc601b85d49e35ae9d0&quot; style=&quot;width: 100.0%; height: 100.0%;&quot;&gt;Nigeria&lt;/div&gt;`)[0];\n",
       "                popup_564c423dfe0818fb884487a389611da7.setContent(html_c25773cfda8dffc601b85d49e35ae9d0);\n",
       "            \n",
       "        \n",
       "\n",
       "        circle_marker_0349c7994014c47f9b0d1e6932cacef4.bindPopup(popup_564c423dfe0818fb884487a389611da7)\n",
       "        ;\n",
       "\n",
       "        \n",
       "    \n",
       "    \n",
       "            var circle_marker_80655b5235fc2b68ce746ebe43108b71 = L.circleMarker(\n",
       "                [13.0, -85.0],\n",
       "                {&quot;bubblingMouseEvents&quot;: true, &quot;color&quot;: &quot;green&quot;, &quot;dashArray&quot;: null, &quot;dashOffset&quot;: null, &quot;fill&quot;: true, &quot;fillColor&quot;: &quot;green&quot;, &quot;fillOpacity&quot;: 0.2, &quot;fillRule&quot;: &quot;evenodd&quot;, &quot;lineCap&quot;: &quot;round&quot;, &quot;lineJoin&quot;: &quot;round&quot;, &quot;opacity&quot;: 1.0, &quot;radius&quot;: 3.9492384254759982, &quot;stroke&quot;: true, &quot;weight&quot;: 3}\n",
       "            ).addTo(map_37c514aba63ae1e51efa9e17f624418a);\n",
       "        \n",
       "    \n",
       "        var popup_a64b48948f9416260e7c5628a64ab5f8 = L.popup({\n",
       "  &quot;maxWidth&quot;: &quot;100%&quot;,\n",
       "});\n",
       "\n",
       "        \n",
       "            \n",
       "                var html_11762217c26f48fa12c4d56a9a3aa0e8 = $(`&lt;div id=&quot;html_11762217c26f48fa12c4d56a9a3aa0e8&quot; style=&quot;width: 100.0%; height: 100.0%;&quot;&gt;Nicaragua&lt;/div&gt;`)[0];\n",
       "                popup_a64b48948f9416260e7c5628a64ab5f8.setContent(html_11762217c26f48fa12c4d56a9a3aa0e8);\n",
       "            \n",
       "        \n",
       "\n",
       "        circle_marker_80655b5235fc2b68ce746ebe43108b71.bindPopup(popup_a64b48948f9416260e7c5628a64ab5f8)\n",
       "        ;\n",
       "\n",
       "        \n",
       "    \n",
       "    \n",
       "            var circle_marker_9591a0d5d0750d7014aa044a70c1e78d = L.circleMarker(\n",
       "                [52.25, 5.75],\n",
       "                {&quot;bubblingMouseEvents&quot;: true, &quot;color&quot;: &quot;black&quot;, &quot;dashArray&quot;: null, &quot;dashOffset&quot;: null, &quot;fill&quot;: true, &quot;fillColor&quot;: &quot;black&quot;, &quot;fillOpacity&quot;: 0.2, &quot;fillRule&quot;: &quot;evenodd&quot;, &quot;lineCap&quot;: &quot;round&quot;, &quot;lineJoin&quot;: &quot;round&quot;, &quot;opacity&quot;: 1.0, &quot;radius&quot;: 1.3669115556283198, &quot;stroke&quot;: true, &quot;weight&quot;: 3}\n",
       "            ).addTo(map_37c514aba63ae1e51efa9e17f624418a);\n",
       "        \n",
       "    \n",
       "        var popup_a5398fd8989012ca7967aae6ddaebe32 = L.popup({\n",
       "  &quot;maxWidth&quot;: &quot;100%&quot;,\n",
       "});\n",
       "\n",
       "        \n",
       "            \n",
       "                var html_7639d7e31db76479bb9369b4afee0298 = $(`&lt;div id=&quot;html_7639d7e31db76479bb9369b4afee0298&quot; style=&quot;width: 100.0%; height: 100.0%;&quot;&gt;Netherlands&lt;/div&gt;`)[0];\n",
       "                popup_a5398fd8989012ca7967aae6ddaebe32.setContent(html_7639d7e31db76479bb9369b4afee0298);\n",
       "            \n",
       "        \n",
       "\n",
       "        circle_marker_9591a0d5d0750d7014aa044a70c1e78d.bindPopup(popup_a5398fd8989012ca7967aae6ddaebe32)\n",
       "        ;\n",
       "\n",
       "        \n",
       "    \n",
       "    \n",
       "            var circle_marker_c5882496f01df9f8d062d65fdfcb0eec = L.circleMarker(\n",
       "                [62.0, 10.0],\n",
       "                {&quot;bubblingMouseEvents&quot;: true, &quot;color&quot;: &quot;black&quot;, &quot;dashArray&quot;: null, &quot;dashOffset&quot;: null, &quot;fill&quot;: true, &quot;fillColor&quot;: &quot;black&quot;, &quot;fillOpacity&quot;: 0.2, &quot;fillRule&quot;: &quot;evenodd&quot;, &quot;lineCap&quot;: &quot;round&quot;, &quot;lineJoin&quot;: &quot;round&quot;, &quot;opacity&quot;: 1.0, &quot;radius&quot;: 1.0211208029279608, &quot;stroke&quot;: true, &quot;weight&quot;: 3}\n",
       "            ).addTo(map_37c514aba63ae1e51efa9e17f624418a);\n",
       "        \n",
       "    \n",
       "        var popup_9fe108d2b3605aa2451fb1d0704134f8 = L.popup({\n",
       "  &quot;maxWidth&quot;: &quot;100%&quot;,\n",
       "});\n",
       "\n",
       "        \n",
       "            \n",
       "                var html_6645f67720edccf0f5ef2a14323704e0 = $(`&lt;div id=&quot;html_6645f67720edccf0f5ef2a14323704e0&quot; style=&quot;width: 100.0%; height: 100.0%;&quot;&gt;Norway&lt;/div&gt;`)[0];\n",
       "                popup_9fe108d2b3605aa2451fb1d0704134f8.setContent(html_6645f67720edccf0f5ef2a14323704e0);\n",
       "            \n",
       "        \n",
       "\n",
       "        circle_marker_c5882496f01df9f8d062d65fdfcb0eec.bindPopup(popup_9fe108d2b3605aa2451fb1d0704134f8)\n",
       "        ;\n",
       "\n",
       "        \n",
       "    \n",
       "    \n",
       "            var circle_marker_d3b8416acfd916d9727bc6782c136d44 = L.circleMarker(\n",
       "                [28.0, 84.0],\n",
       "                {&quot;bubblingMouseEvents&quot;: true, &quot;color&quot;: &quot;red&quot;, &quot;dashArray&quot;: null, &quot;dashOffset&quot;: null, &quot;fill&quot;: true, &quot;fillColor&quot;: &quot;red&quot;, &quot;fillOpacity&quot;: 0.2, &quot;fillRule&quot;: &quot;evenodd&quot;, &quot;lineCap&quot;: &quot;round&quot;, &quot;lineJoin&quot;: &quot;round&quot;, &quot;opacity&quot;: 1.0, &quot;radius&quot;: 14.374083576741077, &quot;stroke&quot;: true, &quot;weight&quot;: 3}\n",
       "            ).addTo(map_37c514aba63ae1e51efa9e17f624418a);\n",
       "        \n",
       "    \n",
       "        var popup_bb7e986d96a261898397a89994ea96e3 = L.popup({\n",
       "  &quot;maxWidth&quot;: &quot;100%&quot;,\n",
       "});\n",
       "\n",
       "        \n",
       "            \n",
       "                var html_32600d95f0c86adc5c40411587c21817 = $(`&lt;div id=&quot;html_32600d95f0c86adc5c40411587c21817&quot; style=&quot;width: 100.0%; height: 100.0%;&quot;&gt;Nepal&lt;/div&gt;`)[0];\n",
       "                popup_bb7e986d96a261898397a89994ea96e3.setContent(html_32600d95f0c86adc5c40411587c21817);\n",
       "            \n",
       "        \n",
       "\n",
       "        circle_marker_d3b8416acfd916d9727bc6782c136d44.bindPopup(popup_bb7e986d96a261898397a89994ea96e3)\n",
       "        ;\n",
       "\n",
       "        \n",
       "    \n",
       "    \n",
       "            var circle_marker_bb66fe00cdd941d175d547a7105ee737 = L.circleMarker(\n",
       "                [30.0, 70.0],\n",
       "                {&quot;bubblingMouseEvents&quot;: true, &quot;color&quot;: &quot;red&quot;, &quot;dashArray&quot;: null, &quot;dashOffset&quot;: null, &quot;fill&quot;: true, &quot;fillColor&quot;: &quot;red&quot;, &quot;fillOpacity&quot;: 0.2, &quot;fillRule&quot;: &quot;evenodd&quot;, &quot;lineCap&quot;: &quot;round&quot;, &quot;lineJoin&quot;: &quot;round&quot;, &quot;opacity&quot;: 1.0, &quot;radius&quot;: 28.424773258632865, &quot;stroke&quot;: true, &quot;weight&quot;: 3}\n",
       "            ).addTo(map_37c514aba63ae1e51efa9e17f624418a);\n",
       "        \n",
       "    \n",
       "        var popup_ad4ac27657765572f55ef788929fbf1a = L.popup({\n",
       "  &quot;maxWidth&quot;: &quot;100%&quot;,\n",
       "});\n",
       "\n",
       "        \n",
       "            \n",
       "                var html_dac7ba2a72ff6af85e438395bac814f2 = $(`&lt;div id=&quot;html_dac7ba2a72ff6af85e438395bac814f2&quot; style=&quot;width: 100.0%; height: 100.0%;&quot;&gt;Pakistan&lt;/div&gt;`)[0];\n",
       "                popup_ad4ac27657765572f55ef788929fbf1a.setContent(html_dac7ba2a72ff6af85e438395bac814f2);\n",
       "            \n",
       "        \n",
       "\n",
       "        circle_marker_bb66fe00cdd941d175d547a7105ee737.bindPopup(popup_ad4ac27657765572f55ef788929fbf1a)\n",
       "        ;\n",
       "\n",
       "        \n",
       "    \n",
       "    \n",
       "            var circle_marker_3708679f5f9030af9d4bdc7ace8aea79 = L.circleMarker(\n",
       "                [8.9936, -79.51973],\n",
       "                {&quot;bubblingMouseEvents&quot;: true, &quot;color&quot;: &quot;green&quot;, &quot;dashArray&quot;: null, &quot;dashOffset&quot;: null, &quot;fill&quot;: true, &quot;fillColor&quot;: &quot;green&quot;, &quot;fillOpacity&quot;: 0.2, &quot;fillRule&quot;: &quot;evenodd&quot;, &quot;lineCap&quot;: &quot;round&quot;, &quot;lineJoin&quot;: &quot;round&quot;, &quot;opacity&quot;: 1.0, &quot;radius&quot;: 2.146732098139007, &quot;stroke&quot;: true, &quot;weight&quot;: 3}\n",
       "            ).addTo(map_37c514aba63ae1e51efa9e17f624418a);\n",
       "        \n",
       "    \n",
       "        var popup_90835c2dd6641039c321d1f41340fede = L.popup({\n",
       "  &quot;maxWidth&quot;: &quot;100%&quot;,\n",
       "});\n",
       "\n",
       "        \n",
       "            \n",
       "                var html_385ff0522241e4c161e32746c4f2ec98 = $(`&lt;div id=&quot;html_385ff0522241e4c161e32746c4f2ec98&quot; style=&quot;width: 100.0%; height: 100.0%;&quot;&gt;Panama&lt;/div&gt;`)[0];\n",
       "                popup_90835c2dd6641039c321d1f41340fede.setContent(html_385ff0522241e4c161e32746c4f2ec98);\n",
       "            \n",
       "        \n",
       "\n",
       "        circle_marker_3708679f5f9030af9d4bdc7ace8aea79.bindPopup(popup_90835c2dd6641039c321d1f41340fede)\n",
       "        ;\n",
       "\n",
       "        \n",
       "    \n",
       "    \n",
       "            var circle_marker_c1eea980477cc4659b3c806424ed1e8d = L.circleMarker(\n",
       "                [-10.0, -75.25],\n",
       "                {&quot;bubblingMouseEvents&quot;: true, &quot;color&quot;: &quot;green&quot;, &quot;dashArray&quot;: null, &quot;dashOffset&quot;: null, &quot;fill&quot;: true, &quot;fillColor&quot;: &quot;green&quot;, &quot;fillOpacity&quot;: 0.2, &quot;fillRule&quot;: &quot;evenodd&quot;, &quot;lineCap&quot;: &quot;round&quot;, &quot;lineJoin&quot;: &quot;round&quot;, &quot;opacity&quot;: 1.0, &quot;radius&quot;: 5.1726862845883845, &quot;stroke&quot;: true, &quot;weight&quot;: 3}\n",
       "            ).addTo(map_37c514aba63ae1e51efa9e17f624418a);\n",
       "        \n",
       "    \n",
       "        var popup_a67d84d9c4c72bb3144efd2faa8f72cd = L.popup({\n",
       "  &quot;maxWidth&quot;: &quot;100%&quot;,\n",
       "});\n",
       "\n",
       "        \n",
       "            \n",
       "                var html_60c070ba15d800946e85ec093b4529ac = $(`&lt;div id=&quot;html_60c070ba15d800946e85ec093b4529ac&quot; style=&quot;width: 100.0%; height: 100.0%;&quot;&gt;Peru&lt;/div&gt;`)[0];\n",
       "                popup_a67d84d9c4c72bb3144efd2faa8f72cd.setContent(html_60c070ba15d800946e85ec093b4529ac);\n",
       "            \n",
       "        \n",
       "\n",
       "        circle_marker_c1eea980477cc4659b3c806424ed1e8d.bindPopup(popup_a67d84d9c4c72bb3144efd2faa8f72cd)\n",
       "        ;\n",
       "\n",
       "        \n",
       "    \n",
       "    \n",
       "            var circle_marker_099b5f531ab392f45a414a21133ab2a5 = L.circleMarker(\n",
       "                [13.0, 122.0],\n",
       "                {&quot;bubblingMouseEvents&quot;: true, &quot;color&quot;: &quot;red&quot;, &quot;dashArray&quot;: null, &quot;dashOffset&quot;: null, &quot;fill&quot;: true, &quot;fillColor&quot;: &quot;red&quot;, &quot;fillOpacity&quot;: 0.2, &quot;fillRule&quot;: &quot;evenodd&quot;, &quot;lineCap&quot;: &quot;round&quot;, &quot;lineJoin&quot;: &quot;round&quot;, &quot;opacity&quot;: 1.0, &quot;radius&quot;: 24.11243511961798, &quot;stroke&quot;: true, &quot;weight&quot;: 3}\n",
       "            ).addTo(map_37c514aba63ae1e51efa9e17f624418a);\n",
       "        \n",
       "    \n",
       "        var popup_131a22e2af6a4edc1fe3f926a85a5cc9 = L.popup({\n",
       "  &quot;maxWidth&quot;: &quot;100%&quot;,\n",
       "});\n",
       "\n",
       "        \n",
       "            \n",
       "                var html_3c444dbbb05befa640af80e1849dfd52 = $(`&lt;div id=&quot;html_3c444dbbb05befa640af80e1849dfd52&quot; style=&quot;width: 100.0%; height: 100.0%;&quot;&gt;Philippines&lt;/div&gt;`)[0];\n",
       "                popup_131a22e2af6a4edc1fe3f926a85a5cc9.setContent(html_3c444dbbb05befa640af80e1849dfd52);\n",
       "            \n",
       "        \n",
       "\n",
       "        circle_marker_099b5f531ab392f45a414a21133ab2a5.bindPopup(popup_131a22e2af6a4edc1fe3f926a85a5cc9)\n",
       "        ;\n",
       "\n",
       "        \n",
       "    \n",
       "    \n",
       "            var circle_marker_294f0f6959ff3443f88f64b225dd719a = L.circleMarker(\n",
       "                [-6.0, 147.0],\n",
       "                {&quot;bubblingMouseEvents&quot;: true, &quot;color&quot;: &quot;red&quot;, &quot;dashArray&quot;: null, &quot;dashOffset&quot;: null, &quot;fill&quot;: true, &quot;fillColor&quot;: &quot;red&quot;, &quot;fillOpacity&quot;: 0.2, &quot;fillRule&quot;: &quot;evenodd&quot;, &quot;lineCap&quot;: &quot;round&quot;, &quot;lineJoin&quot;: &quot;round&quot;, &quot;opacity&quot;: 1.0, &quot;radius&quot;: 9.325420659840452, &quot;stroke&quot;: true, &quot;weight&quot;: 3}\n",
       "            ).addTo(map_37c514aba63ae1e51efa9e17f624418a);\n",
       "        \n",
       "    \n",
       "        var popup_f1d5a7160a65c92a7204d5980b836349 = L.popup({\n",
       "  &quot;maxWidth&quot;: &quot;100%&quot;,\n",
       "});\n",
       "\n",
       "        \n",
       "            \n",
       "                var html_3b67d9e43d933c633a68212ae1863f1b = $(`&lt;div id=&quot;html_3b67d9e43d933c633a68212ae1863f1b&quot; style=&quot;width: 100.0%; height: 100.0%;&quot;&gt;Papua New Guinea&lt;/div&gt;`)[0];\n",
       "                popup_f1d5a7160a65c92a7204d5980b836349.setContent(html_3b67d9e43d933c633a68212ae1863f1b);\n",
       "            \n",
       "        \n",
       "\n",
       "        circle_marker_294f0f6959ff3443f88f64b225dd719a.bindPopup(popup_f1d5a7160a65c92a7204d5980b836349)\n",
       "        ;\n",
       "\n",
       "        \n",
       "    \n",
       "    \n",
       "            var circle_marker_2d4990fa53f7eb611f0b00f04d1136c6 = L.circleMarker(\n",
       "                [52.0, 20.0],\n",
       "                {&quot;bubblingMouseEvents&quot;: true, &quot;color&quot;: &quot;black&quot;, &quot;dashArray&quot;: null, &quot;dashOffset&quot;: null, &quot;fill&quot;: true, &quot;fillColor&quot;: &quot;black&quot;, &quot;fillOpacity&quot;: 0.2, &quot;fillRule&quot;: &quot;evenodd&quot;, &quot;lineCap&quot;: &quot;round&quot;, &quot;lineJoin&quot;: &quot;round&quot;, &quot;opacity&quot;: 1.0, &quot;stroke&quot;: true, &quot;weight&quot;: 3}\n",
       "            ).addTo(map_37c514aba63ae1e51efa9e17f624418a);\n",
       "        \n",
       "    \n",
       "        var popup_ead62bb614463d4903ea6192729806dc = L.popup({\n",
       "  &quot;maxWidth&quot;: &quot;100%&quot;,\n",
       "});\n",
       "\n",
       "        \n",
       "            \n",
       "                var html_5ace7b7c58322d1f9af4e3ca57599221 = $(`&lt;div id=&quot;html_5ace7b7c58322d1f9af4e3ca57599221&quot; style=&quot;width: 100.0%; height: 100.0%;&quot;&gt;Poland&lt;/div&gt;`)[0];\n",
       "                popup_ead62bb614463d4903ea6192729806dc.setContent(html_5ace7b7c58322d1f9af4e3ca57599221);\n",
       "            \n",
       "        \n",
       "\n",
       "        circle_marker_2d4990fa53f7eb611f0b00f04d1136c6.bindPopup(popup_ead62bb614463d4903ea6192729806dc)\n",
       "        ;\n",
       "\n",
       "        \n",
       "    \n",
       "    \n",
       "            var circle_marker_a678993ff0be8eab3a75033a41f3476a = L.circleMarker(\n",
       "                [-23.33333, -58.0],\n",
       "                {&quot;bubblingMouseEvents&quot;: true, &quot;color&quot;: &quot;green&quot;, &quot;dashArray&quot;: null, &quot;dashOffset&quot;: null, &quot;fill&quot;: true, &quot;fillColor&quot;: &quot;green&quot;, &quot;fillOpacity&quot;: 0.2, &quot;fillRule&quot;: &quot;evenodd&quot;, &quot;lineCap&quot;: &quot;round&quot;, &quot;lineJoin&quot;: &quot;round&quot;, &quot;opacity&quot;: 1.0, &quot;radius&quot;: 2.3524811396013368, &quot;stroke&quot;: true, &quot;weight&quot;: 3}\n",
       "            ).addTo(map_37c514aba63ae1e51efa9e17f624418a);\n",
       "        \n",
       "    \n",
       "        var popup_66f7040e0d8ffcf11b9eb00e1f30bf07 = L.popup({\n",
       "  &quot;maxWidth&quot;: &quot;100%&quot;,\n",
       "});\n",
       "\n",
       "        \n",
       "            \n",
       "                var html_c8a11df06f0e67502ae7895a63b57397 = $(`&lt;div id=&quot;html_c8a11df06f0e67502ae7895a63b57397&quot; style=&quot;width: 100.0%; height: 100.0%;&quot;&gt;Paraguay&lt;/div&gt;`)[0];\n",
       "                popup_66f7040e0d8ffcf11b9eb00e1f30bf07.setContent(html_c8a11df06f0e67502ae7895a63b57397);\n",
       "            \n",
       "        \n",
       "\n",
       "        circle_marker_a678993ff0be8eab3a75033a41f3476a.bindPopup(popup_66f7040e0d8ffcf11b9eb00e1f30bf07)\n",
       "        ;\n",
       "\n",
       "        \n",
       "    \n",
       "    \n",
       "            var circle_marker_57a2c83595e73069912f5ec18a3cee6a = L.circleMarker(\n",
       "                [31.92157, 35.20329],\n",
       "                {&quot;bubblingMouseEvents&quot;: true, &quot;color&quot;: &quot;red&quot;, &quot;dashArray&quot;: null, &quot;dashOffset&quot;: null, &quot;fill&quot;: true, &quot;fillColor&quot;: &quot;red&quot;, &quot;fillOpacity&quot;: 0.2, &quot;fillRule&quot;: &quot;evenodd&quot;, &quot;lineCap&quot;: &quot;round&quot;, &quot;lineJoin&quot;: &quot;round&quot;, &quot;opacity&quot;: 1.0, &quot;radius&quot;: 0.3198512113772126, &quot;stroke&quot;: true, &quot;weight&quot;: 3}\n",
       "            ).addTo(map_37c514aba63ae1e51efa9e17f624418a);\n",
       "        \n",
       "    \n",
       "        var popup_dada0e54af11914e005417bbc1ae0a1d = L.popup({\n",
       "  &quot;maxWidth&quot;: &quot;100%&quot;,\n",
       "});\n",
       "\n",
       "        \n",
       "            \n",
       "                var html_f24713c05bb13a431aedfe620a38bc9c = $(`&lt;div id=&quot;html_f24713c05bb13a431aedfe620a38bc9c&quot; style=&quot;width: 100.0%; height: 100.0%;&quot;&gt;Palestine&lt;/div&gt;`)[0];\n",
       "                popup_dada0e54af11914e005417bbc1ae0a1d.setContent(html_f24713c05bb13a431aedfe620a38bc9c);\n",
       "            \n",
       "        \n",
       "\n",
       "        circle_marker_57a2c83595e73069912f5ec18a3cee6a.bindPopup(popup_dada0e54af11914e005417bbc1ae0a1d)\n",
       "        ;\n",
       "\n",
       "        \n",
       "    \n",
       "    \n",
       "            var circle_marker_59ca6efda90b9e74a541e70c2af957fb = L.circleMarker(\n",
       "                [46.0, 25.0],\n",
       "                {&quot;bubblingMouseEvents&quot;: true, &quot;color&quot;: &quot;black&quot;, &quot;dashArray&quot;: null, &quot;dashOffset&quot;: null, &quot;fill&quot;: true, &quot;fillColor&quot;: &quot;black&quot;, &quot;fillOpacity&quot;: 0.2, &quot;fillRule&quot;: &quot;evenodd&quot;, &quot;lineCap&quot;: &quot;round&quot;, &quot;lineJoin&quot;: &quot;round&quot;, &quot;opacity&quot;: 1.0, &quot;stroke&quot;: true, &quot;weight&quot;: 3}\n",
       "            ).addTo(map_37c514aba63ae1e51efa9e17f624418a);\n",
       "        \n",
       "    \n",
       "        var popup_38c079c00c1b91bac61b25ce224d88d5 = L.popup({\n",
       "  &quot;maxWidth&quot;: &quot;100%&quot;,\n",
       "});\n",
       "\n",
       "        \n",
       "            \n",
       "                var html_5ec1ffef209b8f35a989fec8699235f3 = $(`&lt;div id=&quot;html_5ec1ffef209b8f35a989fec8699235f3&quot; style=&quot;width: 100.0%; height: 100.0%;&quot;&gt;Romania&lt;/div&gt;`)[0];\n",
       "                popup_38c079c00c1b91bac61b25ce224d88d5.setContent(html_5ec1ffef209b8f35a989fec8699235f3);\n",
       "            \n",
       "        \n",
       "\n",
       "        circle_marker_59ca6efda90b9e74a541e70c2af957fb.bindPopup(popup_38c079c00c1b91bac61b25ce224d88d5)\n",
       "        ;\n",
       "\n",
       "        \n",
       "    \n",
       "    \n",
       "            var circle_marker_7b9deccdd319d4066286ffc7de45d038 = L.circleMarker(\n",
       "                [60.0, 100.0],\n",
       "                {&quot;bubblingMouseEvents&quot;: true, &quot;color&quot;: &quot;black&quot;, &quot;dashArray&quot;: null, &quot;dashOffset&quot;: null, &quot;fill&quot;: true, &quot;fillColor&quot;: &quot;black&quot;, &quot;fillOpacity&quot;: 0.2, &quot;fillRule&quot;: &quot;evenodd&quot;, &quot;lineCap&quot;: &quot;round&quot;, &quot;lineJoin&quot;: &quot;round&quot;, &quot;opacity&quot;: 1.0, &quot;radius&quot;: 1.1723745513024446, &quot;stroke&quot;: true, &quot;weight&quot;: 3}\n",
       "            ).addTo(map_37c514aba63ae1e51efa9e17f624418a);\n",
       "        \n",
       "    \n",
       "        var popup_af572a663347abb47b06eac1e063f739 = L.popup({\n",
       "  &quot;maxWidth&quot;: &quot;100%&quot;,\n",
       "});\n",
       "\n",
       "        \n",
       "            \n",
       "                var html_7eb745fd70a14a035c4ff088fc693f3d = $(`&lt;div id=&quot;html_7eb745fd70a14a035c4ff088fc693f3d&quot; style=&quot;width: 100.0%; height: 100.0%;&quot;&gt;Russia&lt;/div&gt;`)[0];\n",
       "                popup_af572a663347abb47b06eac1e063f739.setContent(html_7eb745fd70a14a035c4ff088fc693f3d);\n",
       "            \n",
       "        \n",
       "\n",
       "        circle_marker_7b9deccdd319d4066286ffc7de45d038.bindPopup(popup_af572a663347abb47b06eac1e063f739)\n",
       "        ;\n",
       "\n",
       "        \n",
       "    \n",
       "    \n",
       "            var circle_marker_2482158d67e6aea7bd8ccf8e3e6a1bae = L.circleMarker(\n",
       "                [-2.0, 30.0],\n",
       "                {&quot;bubblingMouseEvents&quot;: true, &quot;color&quot;: &quot;blue&quot;, &quot;dashArray&quot;: null, &quot;dashOffset&quot;: null, &quot;fill&quot;: true, &quot;fillColor&quot;: &quot;blue&quot;, &quot;fillOpacity&quot;: 0.2, &quot;fillRule&quot;: &quot;evenodd&quot;, &quot;lineCap&quot;: &quot;round&quot;, &quot;lineJoin&quot;: &quot;round&quot;, &quot;opacity&quot;: 1.0, &quot;radius&quot;: 14.386416210346209, &quot;stroke&quot;: true, &quot;weight&quot;: 3}\n",
       "            ).addTo(map_37c514aba63ae1e51efa9e17f624418a);\n",
       "        \n",
       "    \n",
       "        var popup_c4153497f7f39c180d309fef7452e1a9 = L.popup({\n",
       "  &quot;maxWidth&quot;: &quot;100%&quot;,\n",
       "});\n",
       "\n",
       "        \n",
       "            \n",
       "                var html_8bd0fbe4253c5c9680b78c59eeef1112 = $(`&lt;div id=&quot;html_8bd0fbe4253c5c9680b78c59eeef1112&quot; style=&quot;width: 100.0%; height: 100.0%;&quot;&gt;Rwanda&lt;/div&gt;`)[0];\n",
       "                popup_c4153497f7f39c180d309fef7452e1a9.setContent(html_8bd0fbe4253c5c9680b78c59eeef1112);\n",
       "            \n",
       "        \n",
       "\n",
       "        circle_marker_2482158d67e6aea7bd8ccf8e3e6a1bae.bindPopup(popup_c4153497f7f39c180d309fef7452e1a9)\n",
       "        ;\n",
       "\n",
       "        \n",
       "    \n",
       "    \n",
       "            var circle_marker_b10e1c6052bba531d38e171e947a320a = L.circleMarker(\n",
       "                [16.0, 30.0],\n",
       "                {&quot;bubblingMouseEvents&quot;: true, &quot;color&quot;: &quot;blue&quot;, &quot;dashArray&quot;: null, &quot;dashOffset&quot;: null, &quot;fill&quot;: true, &quot;fillColor&quot;: &quot;blue&quot;, &quot;fillOpacity&quot;: 0.2, &quot;fillRule&quot;: &quot;evenodd&quot;, &quot;lineCap&quot;: &quot;round&quot;, &quot;lineJoin&quot;: &quot;round&quot;, &quot;opacity&quot;: 1.0, &quot;radius&quot;: 14.939896772484527, &quot;stroke&quot;: true, &quot;weight&quot;: 3}\n",
       "            ).addTo(map_37c514aba63ae1e51efa9e17f624418a);\n",
       "        \n",
       "    \n",
       "        var popup_706bb8bbd30b3e90e4f632ef40a49ef5 = L.popup({\n",
       "  &quot;maxWidth&quot;: &quot;100%&quot;,\n",
       "});\n",
       "\n",
       "        \n",
       "            \n",
       "                var html_9ffb09b795d23c97e0e4618ed2daa4bf = $(`&lt;div id=&quot;html_9ffb09b795d23c97e0e4618ed2daa4bf&quot; style=&quot;width: 100.0%; height: 100.0%;&quot;&gt;Sudan&lt;/div&gt;`)[0];\n",
       "                popup_706bb8bbd30b3e90e4f632ef40a49ef5.setContent(html_9ffb09b795d23c97e0e4618ed2daa4bf);\n",
       "            \n",
       "        \n",
       "\n",
       "        circle_marker_b10e1c6052bba531d38e171e947a320a.bindPopup(popup_706bb8bbd30b3e90e4f632ef40a49ef5)\n",
       "        ;\n",
       "\n",
       "        \n",
       "    \n",
       "    \n",
       "            var circle_marker_3d758a90eb725ce83c6cc47a79c58494 = L.circleMarker(\n",
       "                [14.5, -14.25],\n",
       "                {&quot;bubblingMouseEvents&quot;: true, &quot;color&quot;: &quot;blue&quot;, &quot;dashArray&quot;: null, &quot;dashOffset&quot;: null, &quot;fill&quot;: true, &quot;fillColor&quot;: &quot;blue&quot;, &quot;fillOpacity&quot;: 0.2, &quot;fillRule&quot;: &quot;evenodd&quot;, &quot;lineCap&quot;: &quot;round&quot;, &quot;lineJoin&quot;: &quot;round&quot;, &quot;opacity&quot;: 1.0, &quot;radius&quot;: 11.704210477422464, &quot;stroke&quot;: true, &quot;weight&quot;: 3}\n",
       "            ).addTo(map_37c514aba63ae1e51efa9e17f624418a);\n",
       "        \n",
       "    \n",
       "        var popup_076b896aac6b0fa6f2b3ca04ad024080 = L.popup({\n",
       "  &quot;maxWidth&quot;: &quot;100%&quot;,\n",
       "});\n",
       "\n",
       "        \n",
       "            \n",
       "                var html_2ed10de868ee6abff6d37b8747d2578c = $(`&lt;div id=&quot;html_2ed10de868ee6abff6d37b8747d2578c&quot; style=&quot;width: 100.0%; height: 100.0%;&quot;&gt;Senegal&lt;/div&gt;`)[0];\n",
       "                popup_076b896aac6b0fa6f2b3ca04ad024080.setContent(html_2ed10de868ee6abff6d37b8747d2578c);\n",
       "            \n",
       "        \n",
       "\n",
       "        circle_marker_3d758a90eb725ce83c6cc47a79c58494.bindPopup(popup_076b896aac6b0fa6f2b3ca04ad024080)\n",
       "        ;\n",
       "\n",
       "        \n",
       "    \n",
       "    \n",
       "            var circle_marker_d8e5e912a729696a9bce0a25d52acd4d = L.circleMarker(\n",
       "                [8.5, -11.5],\n",
       "                {&quot;bubblingMouseEvents&quot;: true, &quot;color&quot;: &quot;blue&quot;, &quot;dashArray&quot;: null, &quot;dashOffset&quot;: null, &quot;fill&quot;: true, &quot;fillColor&quot;: &quot;blue&quot;, &quot;fillOpacity&quot;: 0.2, &quot;fillRule&quot;: &quot;evenodd&quot;, &quot;lineCap&quot;: &quot;round&quot;, &quot;lineJoin&quot;: &quot;round&quot;, &quot;opacity&quot;: 1.0, &quot;radius&quot;: 10.591031720519217, &quot;stroke&quot;: true, &quot;weight&quot;: 3}\n",
       "            ).addTo(map_37c514aba63ae1e51efa9e17f624418a);\n",
       "        \n",
       "    \n",
       "        var popup_497c1251d8680a652113520484608d65 = L.popup({\n",
       "  &quot;maxWidth&quot;: &quot;100%&quot;,\n",
       "});\n",
       "\n",
       "        \n",
       "            \n",
       "                var html_452582d2d9c7d7e3c3b02120f7fa470c = $(`&lt;div id=&quot;html_452582d2d9c7d7e3c3b02120f7fa470c&quot; style=&quot;width: 100.0%; height: 100.0%;&quot;&gt;Sierra Leone&lt;/div&gt;`)[0];\n",
       "                popup_497c1251d8680a652113520484608d65.setContent(html_452582d2d9c7d7e3c3b02120f7fa470c);\n",
       "            \n",
       "        \n",
       "\n",
       "        circle_marker_d8e5e912a729696a9bce0a25d52acd4d.bindPopup(popup_497c1251d8680a652113520484608d65)\n",
       "        ;\n",
       "\n",
       "        \n",
       "    \n",
       "    \n",
       "            var circle_marker_b3f2214e62e4921caca77831308d55df = L.circleMarker(\n",
       "                [13.83333, -88.91667],\n",
       "                {&quot;bubblingMouseEvents&quot;: true, &quot;color&quot;: &quot;green&quot;, &quot;dashArray&quot;: null, &quot;dashOffset&quot;: null, &quot;fill&quot;: true, &quot;fillColor&quot;: &quot;green&quot;, &quot;fillOpacity&quot;: 0.2, &quot;fillRule&quot;: &quot;evenodd&quot;, &quot;lineCap&quot;: &quot;round&quot;, &quot;lineJoin&quot;: &quot;round&quot;, &quot;opacity&quot;: 1.0, &quot;radius&quot;: 2.210637055152628, &quot;stroke&quot;: true, &quot;weight&quot;: 3}\n",
       "            ).addTo(map_37c514aba63ae1e51efa9e17f624418a);\n",
       "        \n",
       "    \n",
       "        var popup_683dea37378597839f177b2246ef52db = L.popup({\n",
       "  &quot;maxWidth&quot;: &quot;100%&quot;,\n",
       "});\n",
       "\n",
       "        \n",
       "            \n",
       "                var html_2c87b07fd3e003e3faaf40166e304a76 = $(`&lt;div id=&quot;html_2c87b07fd3e003e3faaf40166e304a76&quot; style=&quot;width: 100.0%; height: 100.0%;&quot;&gt;El Salvador&lt;/div&gt;`)[0];\n",
       "                popup_683dea37378597839f177b2246ef52db.setContent(html_2c87b07fd3e003e3faaf40166e304a76);\n",
       "            \n",
       "        \n",
       "\n",
       "        circle_marker_b3f2214e62e4921caca77831308d55df.bindPopup(popup_683dea37378597839f177b2246ef52db)\n",
       "        ;\n",
       "\n",
       "        \n",
       "    \n",
       "    \n",
       "            var circle_marker_85e722697154f6ea31b3f8d0c087562a = L.circleMarker(\n",
       "                [44.81892, 20.45998],\n",
       "                {&quot;bubblingMouseEvents&quot;: true, &quot;color&quot;: &quot;black&quot;, &quot;dashArray&quot;: null, &quot;dashOffset&quot;: null, &quot;fill&quot;: true, &quot;fillColor&quot;: &quot;black&quot;, &quot;fillOpacity&quot;: 0.2, &quot;fillRule&quot;: &quot;evenodd&quot;, &quot;lineCap&quot;: &quot;round&quot;, &quot;lineJoin&quot;: &quot;round&quot;, &quot;opacity&quot;: 1.0, &quot;radius&quot;: 0.3430903611452321, &quot;stroke&quot;: true, &quot;weight&quot;: 3}\n",
       "            ).addTo(map_37c514aba63ae1e51efa9e17f624418a);\n",
       "        \n",
       "    \n",
       "        var popup_c22a0e2d27951cf92d272e0027786048 = L.popup({\n",
       "  &quot;maxWidth&quot;: &quot;100%&quot;,\n",
       "});\n",
       "\n",
       "        \n",
       "            \n",
       "                var html_e0a0f04b2ad53f87cd990a03c036b6dc = $(`&lt;div id=&quot;html_e0a0f04b2ad53f87cd990a03c036b6dc&quot; style=&quot;width: 100.0%; height: 100.0%;&quot;&gt;Serbia&lt;/div&gt;`)[0];\n",
       "                popup_c22a0e2d27951cf92d272e0027786048.setContent(html_e0a0f04b2ad53f87cd990a03c036b6dc);\n",
       "            \n",
       "        \n",
       "\n",
       "        circle_marker_85e722697154f6ea31b3f8d0c087562a.bindPopup(popup_c22a0e2d27951cf92d272e0027786048)\n",
       "        ;\n",
       "\n",
       "        \n",
       "    \n",
       "    \n",
       "            var circle_marker_bfcdb45879034cf7d8a43028415236fd = L.circleMarker(\n",
       "                [1.0, 7.0],\n",
       "                {&quot;bubblingMouseEvents&quot;: true, &quot;color&quot;: &quot;blue&quot;, &quot;dashArray&quot;: null, &quot;dashOffset&quot;: null, &quot;fill&quot;: true, &quot;fillColor&quot;: &quot;blue&quot;, &quot;fillOpacity&quot;: 0.2, &quot;fillRule&quot;: &quot;evenodd&quot;, &quot;lineCap&quot;: &quot;round&quot;, &quot;lineJoin&quot;: &quot;round&quot;, &quot;opacity&quot;: 1.0, &quot;radius&quot;: 1.5871486311247862, &quot;stroke&quot;: true, &quot;weight&quot;: 3}\n",
       "            ).addTo(map_37c514aba63ae1e51efa9e17f624418a);\n",
       "        \n",
       "    \n",
       "        var popup_3658ad3b0ca3a1b3217ed7d68345bc1b = L.popup({\n",
       "  &quot;maxWidth&quot;: &quot;100%&quot;,\n",
       "});\n",
       "\n",
       "        \n",
       "            \n",
       "                var html_44a9eebda38cf1b8c5f215813b3c6a36 = $(`&lt;div id=&quot;html_44a9eebda38cf1b8c5f215813b3c6a36&quot; style=&quot;width: 100.0%; height: 100.0%;&quot;&gt;Sao Tome and Principe&lt;/div&gt;`)[0];\n",
       "                popup_3658ad3b0ca3a1b3217ed7d68345bc1b.setContent(html_44a9eebda38cf1b8c5f215813b3c6a36);\n",
       "            \n",
       "        \n",
       "\n",
       "        circle_marker_bfcdb45879034cf7d8a43028415236fd.bindPopup(popup_3658ad3b0ca3a1b3217ed7d68345bc1b)\n",
       "        ;\n",
       "\n",
       "        \n",
       "    \n",
       "    \n",
       "            var circle_marker_0a6ce7e93e238f2f438d8926dab53902 = L.circleMarker(\n",
       "                [4.0, -56.0],\n",
       "                {&quot;bubblingMouseEvents&quot;: true, &quot;color&quot;: &quot;green&quot;, &quot;dashArray&quot;: null, &quot;dashOffset&quot;: null, &quot;fill&quot;: true, &quot;fillColor&quot;: &quot;green&quot;, &quot;fillOpacity&quot;: 0.2, &quot;fillRule&quot;: &quot;evenodd&quot;, &quot;lineCap&quot;: &quot;round&quot;, &quot;lineJoin&quot;: &quot;round&quot;, &quot;opacity&quot;: 1.0, &quot;radius&quot;: 1.6493067105148873, &quot;stroke&quot;: true, &quot;weight&quot;: 3}\n",
       "            ).addTo(map_37c514aba63ae1e51efa9e17f624418a);\n",
       "        \n",
       "    \n",
       "        var popup_94b2a431884f1e48781e29469bfefdba = L.popup({\n",
       "  &quot;maxWidth&quot;: &quot;100%&quot;,\n",
       "});\n",
       "\n",
       "        \n",
       "            \n",
       "                var html_1963280891d3222cad13e31428a586d7 = $(`&lt;div id=&quot;html_1963280891d3222cad13e31428a586d7&quot; style=&quot;width: 100.0%; height: 100.0%;&quot;&gt;Suriname&lt;/div&gt;`)[0];\n",
       "                popup_94b2a431884f1e48781e29469bfefdba.setContent(html_1963280891d3222cad13e31428a586d7);\n",
       "            \n",
       "        \n",
       "\n",
       "        circle_marker_0a6ce7e93e238f2f438d8926dab53902.bindPopup(popup_94b2a431884f1e48781e29469bfefdba)\n",
       "        ;\n",
       "\n",
       "        \n",
       "    \n",
       "    \n",
       "            var circle_marker_6b759c7fb44226491865e974eabfc74e = L.circleMarker(\n",
       "                [48.66667, 19.5],\n",
       "                {&quot;bubblingMouseEvents&quot;: true, &quot;color&quot;: &quot;black&quot;, &quot;dashArray&quot;: null, &quot;dashOffset&quot;: null, &quot;fill&quot;: true, &quot;fillColor&quot;: &quot;black&quot;, &quot;fillOpacity&quot;: 0.2, &quot;fillRule&quot;: &quot;evenodd&quot;, &quot;lineCap&quot;: &quot;round&quot;, &quot;lineJoin&quot;: &quot;round&quot;, &quot;opacity&quot;: 1.0, &quot;radius&quot;: 0.7175639845274426, &quot;stroke&quot;: true, &quot;weight&quot;: 3}\n",
       "            ).addTo(map_37c514aba63ae1e51efa9e17f624418a);\n",
       "        \n",
       "    \n",
       "        var popup_ce9896cfba32c9a55eb4e7a59488ff41 = L.popup({\n",
       "  &quot;maxWidth&quot;: &quot;100%&quot;,\n",
       "});\n",
       "\n",
       "        \n",
       "            \n",
       "                var html_91911da92bc280fc9eeaac0a4a8b89b3 = $(`&lt;div id=&quot;html_91911da92bc280fc9eeaac0a4a8b89b3&quot; style=&quot;width: 100.0%; height: 100.0%;&quot;&gt;Slovak Republic&lt;/div&gt;`)[0];\n",
       "                popup_ce9896cfba32c9a55eb4e7a59488ff41.setContent(html_91911da92bc280fc9eeaac0a4a8b89b3);\n",
       "            \n",
       "        \n",
       "\n",
       "        circle_marker_6b759c7fb44226491865e974eabfc74e.bindPopup(popup_ce9896cfba32c9a55eb4e7a59488ff41)\n",
       "        ;\n",
       "\n",
       "        \n",
       "    \n",
       "    \n",
       "            var circle_marker_186d2ed80848bdb43df62cd3b8912619 = L.circleMarker(\n",
       "                [46.08333, 15.0],\n",
       "                {&quot;bubblingMouseEvents&quot;: true, &quot;color&quot;: &quot;black&quot;, &quot;dashArray&quot;: null, &quot;dashOffset&quot;: null, &quot;fill&quot;: true, &quot;fillColor&quot;: &quot;black&quot;, &quot;fillOpacity&quot;: 0.2, &quot;fillRule&quot;: &quot;evenodd&quot;, &quot;lineCap&quot;: &quot;round&quot;, &quot;lineJoin&quot;: &quot;round&quot;, &quot;opacity&quot;: 1.0, &quot;stroke&quot;: true, &quot;weight&quot;: 3}\n",
       "            ).addTo(map_37c514aba63ae1e51efa9e17f624418a);\n",
       "        \n",
       "    \n",
       "        var popup_4819ca94faed27d220ee1b9a9449f785 = L.popup({\n",
       "  &quot;maxWidth&quot;: &quot;100%&quot;,\n",
       "});\n",
       "\n",
       "        \n",
       "            \n",
       "                var html_db5cd0c0276eafabf5e822b038b0270c = $(`&lt;div id=&quot;html_db5cd0c0276eafabf5e822b038b0270c&quot; style=&quot;width: 100.0%; height: 100.0%;&quot;&gt;Slovenia&lt;/div&gt;`)[0];\n",
       "                popup_4819ca94faed27d220ee1b9a9449f785.setContent(html_db5cd0c0276eafabf5e822b038b0270c);\n",
       "            \n",
       "        \n",
       "\n",
       "        circle_marker_186d2ed80848bdb43df62cd3b8912619.bindPopup(popup_4819ca94faed27d220ee1b9a9449f785)\n",
       "        ;\n",
       "\n",
       "        \n",
       "    \n",
       "    \n",
       "            var circle_marker_96e17efb8f951daa1568d21d0c7c1b6b = L.circleMarker(\n",
       "                [62.0, 15.0],\n",
       "                {&quot;bubblingMouseEvents&quot;: true, &quot;color&quot;: &quot;black&quot;, &quot;dashArray&quot;: null, &quot;dashOffset&quot;: null, &quot;fill&quot;: true, &quot;fillColor&quot;: &quot;black&quot;, &quot;fillOpacity&quot;: 0.2, &quot;fillRule&quot;: &quot;evenodd&quot;, &quot;lineCap&quot;: &quot;round&quot;, &quot;lineJoin&quot;: &quot;round&quot;, &quot;opacity&quot;: 1.0, &quot;radius&quot;: 1.0221645515325184, &quot;stroke&quot;: true, &quot;weight&quot;: 3}\n",
       "            ).addTo(map_37c514aba63ae1e51efa9e17f624418a);\n",
       "        \n",
       "    \n",
       "        var popup_d0bd4f46da2a72430147adfb6e117d95 = L.popup({\n",
       "  &quot;maxWidth&quot;: &quot;100%&quot;,\n",
       "});\n",
       "\n",
       "        \n",
       "            \n",
       "                var html_624e77cacae2534cb67da52de864436d = $(`&lt;div id=&quot;html_624e77cacae2534cb67da52de864436d&quot; style=&quot;width: 100.0%; height: 100.0%;&quot;&gt;Sweden&lt;/div&gt;`)[0];\n",
       "                popup_d0bd4f46da2a72430147adfb6e117d95.setContent(html_624e77cacae2534cb67da52de864436d);\n",
       "            \n",
       "        \n",
       "\n",
       "        circle_marker_96e17efb8f951daa1568d21d0c7c1b6b.bindPopup(popup_d0bd4f46da2a72430147adfb6e117d95)\n",
       "        ;\n",
       "\n",
       "        \n",
       "    \n",
       "    \n",
       "            var circle_marker_2ea583b65777f56255c2b0bd7b1d2e34 = L.circleMarker(\n",
       "                [-26.5, 31.5],\n",
       "                {&quot;bubblingMouseEvents&quot;: true, &quot;color&quot;: &quot;blue&quot;, &quot;dashArray&quot;: null, &quot;dashOffset&quot;: null, &quot;fill&quot;: true, &quot;fillColor&quot;: &quot;blue&quot;, &quot;fillOpacity&quot;: 0.2, &quot;fillRule&quot;: &quot;evenodd&quot;, &quot;lineCap&quot;: &quot;round&quot;, &quot;lineJoin&quot;: &quot;round&quot;, &quot;opacity&quot;: 1.0, &quot;radius&quot;: 3.7291096317512857, &quot;stroke&quot;: true, &quot;weight&quot;: 3}\n",
       "            ).addTo(map_37c514aba63ae1e51efa9e17f624418a);\n",
       "        \n",
       "    \n",
       "        var popup_b639f1ca198f64f646a802b0b0eb1761 = L.popup({\n",
       "  &quot;maxWidth&quot;: &quot;100%&quot;,\n",
       "});\n",
       "\n",
       "        \n",
       "            \n",
       "                var html_804792e4cb824ac93ac41e3fd1c7d19d = $(`&lt;div id=&quot;html_804792e4cb824ac93ac41e3fd1c7d19d&quot; style=&quot;width: 100.0%; height: 100.0%;&quot;&gt;Swaziland&lt;/div&gt;`)[0];\n",
       "                popup_b639f1ca198f64f646a802b0b0eb1761.setContent(html_804792e4cb824ac93ac41e3fd1c7d19d);\n",
       "            \n",
       "        \n",
       "\n",
       "        circle_marker_2ea583b65777f56255c2b0bd7b1d2e34.bindPopup(popup_b639f1ca198f64f646a802b0b0eb1761)\n",
       "        ;\n",
       "\n",
       "        \n",
       "    \n",
       "    \n",
       "            var circle_marker_6cbc57231784c882b9892a7464c76bda = L.circleMarker(\n",
       "                [-4.58333, 55.66667],\n",
       "                {&quot;bubblingMouseEvents&quot;: true, &quot;color&quot;: &quot;blue&quot;, &quot;dashArray&quot;: null, &quot;dashOffset&quot;: null, &quot;fill&quot;: true, &quot;fillColor&quot;: &quot;blue&quot;, &quot;fillOpacity&quot;: 0.2, &quot;fillRule&quot;: &quot;evenodd&quot;, &quot;lineCap&quot;: &quot;round&quot;, &quot;lineJoin&quot;: &quot;round&quot;, &quot;opacity&quot;: 1.0, &quot;radius&quot;: 0.08685588237163813, &quot;stroke&quot;: true, &quot;weight&quot;: 3}\n",
       "            ).addTo(map_37c514aba63ae1e51efa9e17f624418a);\n",
       "        \n",
       "    \n",
       "        var popup_01e56991828be82822ad23f26cc41c20 = L.popup({\n",
       "  &quot;maxWidth&quot;: &quot;100%&quot;,\n",
       "});\n",
       "\n",
       "        \n",
       "            \n",
       "                var html_817981aed6d7fcc5742d9daeca87a63f = $(`&lt;div id=&quot;html_817981aed6d7fcc5742d9daeca87a63f&quot; style=&quot;width: 100.0%; height: 100.0%;&quot;&gt;Seychelles&lt;/div&gt;`)[0];\n",
       "                popup_01e56991828be82822ad23f26cc41c20.setContent(html_817981aed6d7fcc5742d9daeca87a63f);\n",
       "            \n",
       "        \n",
       "\n",
       "        circle_marker_6cbc57231784c882b9892a7464c76bda.bindPopup(popup_01e56991828be82822ad23f26cc41c20)\n",
       "        ;\n",
       "\n",
       "        \n",
       "    \n",
       "    \n",
       "            var circle_marker_2a724705ce63c5cbbff811bcd779da05 = L.circleMarker(\n",
       "                [35.0, 38.0],\n",
       "                {&quot;bubblingMouseEvents&quot;: true, &quot;color&quot;: &quot;red&quot;, &quot;dashArray&quot;: null, &quot;dashOffset&quot;: null, &quot;fill&quot;: true, &quot;fillColor&quot;: &quot;red&quot;, &quot;fillOpacity&quot;: 0.2, &quot;fillRule&quot;: &quot;evenodd&quot;, &quot;lineCap&quot;: &quot;round&quot;, &quot;lineJoin&quot;: &quot;round&quot;, &quot;opacity&quot;: 1.0, &quot;radius&quot;: 3.4981983567755583, &quot;stroke&quot;: true, &quot;weight&quot;: 3}\n",
       "            ).addTo(map_37c514aba63ae1e51efa9e17f624418a);\n",
       "        \n",
       "    \n",
       "        var popup_8fd1932eba018264643826c4ab9eaa47 = L.popup({\n",
       "  &quot;maxWidth&quot;: &quot;100%&quot;,\n",
       "});\n",
       "\n",
       "        \n",
       "            \n",
       "                var html_fba9b85970030290f9223db07c57b8fe = $(`&lt;div id=&quot;html_fba9b85970030290f9223db07c57b8fe&quot; style=&quot;width: 100.0%; height: 100.0%;&quot;&gt;Syria&lt;/div&gt;`)[0];\n",
       "                popup_8fd1932eba018264643826c4ab9eaa47.setContent(html_fba9b85970030290f9223db07c57b8fe);\n",
       "            \n",
       "        \n",
       "\n",
       "        circle_marker_2a724705ce63c5cbbff811bcd779da05.bindPopup(popup_8fd1932eba018264643826c4ab9eaa47)\n",
       "        ;\n",
       "\n",
       "        \n",
       "    \n",
       "    \n",
       "            var circle_marker_2f74c985e882e8e8384112c9c5b5e2c0 = L.circleMarker(\n",
       "                [15.0, 19.0],\n",
       "                {&quot;bubblingMouseEvents&quot;: true, &quot;color&quot;: &quot;blue&quot;, &quot;dashArray&quot;: null, &quot;dashOffset&quot;: null, &quot;fill&quot;: true, &quot;fillColor&quot;: &quot;blue&quot;, &quot;fillOpacity&quot;: 0.2, &quot;fillRule&quot;: &quot;evenodd&quot;, &quot;lineCap&quot;: &quot;round&quot;, &quot;lineJoin&quot;: &quot;round&quot;, &quot;opacity&quot;: 1.0, &quot;radius&quot;: 11.963682356780861, &quot;stroke&quot;: true, &quot;weight&quot;: 3}\n",
       "            ).addTo(map_37c514aba63ae1e51efa9e17f624418a);\n",
       "        \n",
       "    \n",
       "        var popup_6c9e3471e761ffe62274a892e45999a1 = L.popup({\n",
       "  &quot;maxWidth&quot;: &quot;100%&quot;,\n",
       "});\n",
       "\n",
       "        \n",
       "            \n",
       "                var html_d25369f5dc38d6de8a510a15384b5617 = $(`&lt;div id=&quot;html_d25369f5dc38d6de8a510a15384b5617&quot; style=&quot;width: 100.0%; height: 100.0%;&quot;&gt;Chad&lt;/div&gt;`)[0];\n",
       "                popup_6c9e3471e761ffe62274a892e45999a1.setContent(html_d25369f5dc38d6de8a510a15384b5617);\n",
       "            \n",
       "        \n",
       "\n",
       "        circle_marker_2f74c985e882e8e8384112c9c5b5e2c0.bindPopup(popup_6c9e3471e761ffe62274a892e45999a1)\n",
       "        ;\n",
       "\n",
       "        \n",
       "    \n",
       "    \n",
       "            var circle_marker_36bbdded7797106fa28bd1a6fc606302 = L.circleMarker(\n",
       "                [8.66667, 1.08333],\n",
       "                {&quot;bubblingMouseEvents&quot;: true, &quot;color&quot;: &quot;blue&quot;, &quot;dashArray&quot;: null, &quot;dashOffset&quot;: null, &quot;fill&quot;: true, &quot;fillColor&quot;: &quot;blue&quot;, &quot;fillOpacity&quot;: 0.2, &quot;fillRule&quot;: &quot;evenodd&quot;, &quot;lineCap&quot;: &quot;round&quot;, &quot;lineJoin&quot;: &quot;round&quot;, &quot;opacity&quot;: 1.0, &quot;radius&quot;: 10.603037764153232, &quot;stroke&quot;: true, &quot;weight&quot;: 3}\n",
       "            ).addTo(map_37c514aba63ae1e51efa9e17f624418a);\n",
       "        \n",
       "    \n",
       "        var popup_b2d486be0c98ddad90bca9224a7fdf39 = L.popup({\n",
       "  &quot;maxWidth&quot;: &quot;100%&quot;,\n",
       "});\n",
       "\n",
       "        \n",
       "            \n",
       "                var html_72a9d26121ee01bfb0e616868112a9b7 = $(`&lt;div id=&quot;html_72a9d26121ee01bfb0e616868112a9b7&quot; style=&quot;width: 100.0%; height: 100.0%;&quot;&gt;Togo&lt;/div&gt;`)[0];\n",
       "                popup_b2d486be0c98ddad90bca9224a7fdf39.setContent(html_72a9d26121ee01bfb0e616868112a9b7);\n",
       "            \n",
       "        \n",
       "\n",
       "        circle_marker_36bbdded7797106fa28bd1a6fc606302.bindPopup(popup_b2d486be0c98ddad90bca9224a7fdf39)\n",
       "        ;\n",
       "\n",
       "        \n",
       "    \n",
       "    \n",
       "            var circle_marker_f45232c4357d1191e862196cafcfaa7d = L.circleMarker(\n",
       "                [15.5, 101.0],\n",
       "                {&quot;bubblingMouseEvents&quot;: true, &quot;color&quot;: &quot;red&quot;, &quot;dashArray&quot;: null, &quot;dashOffset&quot;: null, &quot;fill&quot;: true, &quot;fillColor&quot;: &quot;red&quot;, &quot;fillOpacity&quot;: 0.2, &quot;fillRule&quot;: &quot;evenodd&quot;, &quot;lineCap&quot;: &quot;round&quot;, &quot;lineJoin&quot;: &quot;round&quot;, &quot;opacity&quot;: 1.0, &quot;radius&quot;: 2.601372879137652, &quot;stroke&quot;: true, &quot;weight&quot;: 3}\n",
       "            ).addTo(map_37c514aba63ae1e51efa9e17f624418a);\n",
       "        \n",
       "    \n",
       "        var popup_04dfb0237d3ad4b5ad58aa4b2a992441 = L.popup({\n",
       "  &quot;maxWidth&quot;: &quot;100%&quot;,\n",
       "});\n",
       "\n",
       "        \n",
       "            \n",
       "                var html_7bf1e39bf55dc2287a821cba18f3dd95 = $(`&lt;div id=&quot;html_7bf1e39bf55dc2287a821cba18f3dd95&quot; style=&quot;width: 100.0%; height: 100.0%;&quot;&gt;Thailand&lt;/div&gt;`)[0];\n",
       "                popup_04dfb0237d3ad4b5ad58aa4b2a992441.setContent(html_7bf1e39bf55dc2287a821cba18f3dd95);\n",
       "            \n",
       "        \n",
       "\n",
       "        circle_marker_f45232c4357d1191e862196cafcfaa7d.bindPopup(popup_04dfb0237d3ad4b5ad58aa4b2a992441)\n",
       "        ;\n",
       "\n",
       "        \n",
       "    \n",
       "    \n",
       "            var circle_marker_557392d36b17b9c923fb422aa21b905a = L.circleMarker(\n",
       "                [39.0, 71.0],\n",
       "                {&quot;bubblingMouseEvents&quot;: true, &quot;color&quot;: &quot;red&quot;, &quot;dashArray&quot;: null, &quot;dashOffset&quot;: null, &quot;fill&quot;: true, &quot;fillColor&quot;: &quot;red&quot;, &quot;fillOpacity&quot;: 0.2, &quot;fillRule&quot;: &quot;evenodd&quot;, &quot;lineCap&quot;: &quot;round&quot;, &quot;lineJoin&quot;: &quot;round&quot;, &quot;opacity&quot;: 1.0, &quot;radius&quot;: 3.969802448362861, &quot;stroke&quot;: true, &quot;weight&quot;: 3}\n",
       "            ).addTo(map_37c514aba63ae1e51efa9e17f624418a);\n",
       "        \n",
       "    \n",
       "        var popup_251c6d11ba78c322365d7f383d707051 = L.popup({\n",
       "  &quot;maxWidth&quot;: &quot;100%&quot;,\n",
       "});\n",
       "\n",
       "        \n",
       "            \n",
       "                var html_643de2ed8ea46632ff4ab0bccfa9a1c6 = $(`&lt;div id=&quot;html_643de2ed8ea46632ff4ab0bccfa9a1c6&quot; style=&quot;width: 100.0%; height: 100.0%;&quot;&gt;Tajikistan&lt;/div&gt;`)[0];\n",
       "                popup_251c6d11ba78c322365d7f383d707051.setContent(html_643de2ed8ea46632ff4ab0bccfa9a1c6);\n",
       "            \n",
       "        \n",
       "\n",
       "        circle_marker_557392d36b17b9c923fb422aa21b905a.bindPopup(popup_251c6d11ba78c322365d7f383d707051)\n",
       "        ;\n",
       "\n",
       "        \n",
       "    \n",
       "    \n",
       "            var circle_marker_fb057a3f87cda2511eeab4b5ed11ff2c = L.circleMarker(\n",
       "                [39.75, 59.66667],\n",
       "                {&quot;bubblingMouseEvents&quot;: true, &quot;color&quot;: &quot;red&quot;, &quot;dashArray&quot;: null, &quot;dashOffset&quot;: null, &quot;fill&quot;: true, &quot;fillColor&quot;: &quot;red&quot;, &quot;fillOpacity&quot;: 0.2, &quot;fillRule&quot;: &quot;evenodd&quot;, &quot;lineCap&quot;: &quot;round&quot;, &quot;lineJoin&quot;: &quot;round&quot;, &quot;opacity&quot;: 1.0, &quot;radius&quot;: 6.630303080866714, &quot;stroke&quot;: true, &quot;weight&quot;: 3}\n",
       "            ).addTo(map_37c514aba63ae1e51efa9e17f624418a);\n",
       "        \n",
       "    \n",
       "        var popup_6db22a1b6e81bcfa47b226fa4c83c949 = L.popup({\n",
       "  &quot;maxWidth&quot;: &quot;100%&quot;,\n",
       "});\n",
       "\n",
       "        \n",
       "            \n",
       "                var html_10775ba2183b46c6d901ad37b98a4b7f = $(`&lt;div id=&quot;html_10775ba2183b46c6d901ad37b98a4b7f&quot; style=&quot;width: 100.0%; height: 100.0%;&quot;&gt;Turkmenistan&lt;/div&gt;`)[0];\n",
       "                popup_6db22a1b6e81bcfa47b226fa4c83c949.setContent(html_10775ba2183b46c6d901ad37b98a4b7f);\n",
       "            \n",
       "        \n",
       "\n",
       "        circle_marker_fb057a3f87cda2511eeab4b5ed11ff2c.bindPopup(popup_6db22a1b6e81bcfa47b226fa4c83c949)\n",
       "        ;\n",
       "\n",
       "        \n",
       "    \n",
       "    \n",
       "            var circle_marker_f61d9f3b835c2e5da420ba29ccff04e6 = L.circleMarker(\n",
       "                [-8.83333, 125.75],\n",
       "                {&quot;bubblingMouseEvents&quot;: true, &quot;color&quot;: &quot;red&quot;, &quot;dashArray&quot;: null, &quot;dashOffset&quot;: null, &quot;fill&quot;: true, &quot;fillColor&quot;: &quot;red&quot;, &quot;fillOpacity&quot;: 0.2, &quot;fillRule&quot;: &quot;evenodd&quot;, &quot;lineCap&quot;: &quot;round&quot;, &quot;lineJoin&quot;: &quot;round&quot;, &quot;opacity&quot;: 1.0, &quot;radius&quot;: 3.4697796995129644, &quot;stroke&quot;: true, &quot;weight&quot;: 3}\n",
       "            ).addTo(map_37c514aba63ae1e51efa9e17f624418a);\n",
       "        \n",
       "    \n",
       "        var popup_0526cd94fe26ea36d8862c4ec1ba9bb4 = L.popup({\n",
       "  &quot;maxWidth&quot;: &quot;100%&quot;,\n",
       "});\n",
       "\n",
       "        \n",
       "            \n",
       "                var html_0e3dea77c8805463ed627a20d1036d59 = $(`&lt;div id=&quot;html_0e3dea77c8805463ed627a20d1036d59&quot; style=&quot;width: 100.0%; height: 100.0%;&quot;&gt;Timor-Leste&lt;/div&gt;`)[0];\n",
       "                popup_0526cd94fe26ea36d8862c4ec1ba9bb4.setContent(html_0e3dea77c8805463ed627a20d1036d59);\n",
       "            \n",
       "        \n",
       "\n",
       "        circle_marker_f61d9f3b835c2e5da420ba29ccff04e6.bindPopup(popup_0526cd94fe26ea36d8862c4ec1ba9bb4)\n",
       "        ;\n",
       "\n",
       "        \n",
       "    \n",
       "    \n",
       "            var circle_marker_f1fa943b793630f005835ba73214a5b9 = L.circleMarker(\n",
       "                [11.0, -61.0],\n",
       "                {&quot;bubblingMouseEvents&quot;: true, &quot;color&quot;: &quot;green&quot;, &quot;dashArray&quot;: null, &quot;dashOffset&quot;: null, &quot;fill&quot;: true, &quot;fillColor&quot;: &quot;green&quot;, &quot;fillOpacity&quot;: 0.2, &quot;fillRule&quot;: &quot;evenodd&quot;, &quot;lineCap&quot;: &quot;round&quot;, &quot;lineJoin&quot;: &quot;round&quot;, &quot;opacity&quot;: 1.0, &quot;radius&quot;: 1.3550537179208788, &quot;stroke&quot;: true, &quot;weight&quot;: 3}\n",
       "            ).addTo(map_37c514aba63ae1e51efa9e17f624418a);\n",
       "        \n",
       "    \n",
       "        var popup_966623bd1eddb649eaec5c42f3790a18 = L.popup({\n",
       "  &quot;maxWidth&quot;: &quot;100%&quot;,\n",
       "});\n",
       "\n",
       "        \n",
       "            \n",
       "                var html_00c4238a737fbf4ba25e069c43c8b185 = $(`&lt;div id=&quot;html_00c4238a737fbf4ba25e069c43c8b185&quot; style=&quot;width: 100.0%; height: 100.0%;&quot;&gt;Trinidad and Tobago&lt;/div&gt;`)[0];\n",
       "                popup_966623bd1eddb649eaec5c42f3790a18.setContent(html_00c4238a737fbf4ba25e069c43c8b185);\n",
       "            \n",
       "        \n",
       "\n",
       "        circle_marker_f1fa943b793630f005835ba73214a5b9.bindPopup(popup_966623bd1eddb649eaec5c42f3790a18)\n",
       "        ;\n",
       "\n",
       "        \n",
       "    \n",
       "    \n",
       "            var circle_marker_af23169ab97c20aabf11ea4aa031a66b = L.circleMarker(\n",
       "                [34.0, 9.0],\n",
       "                {&quot;bubblingMouseEvents&quot;: true, &quot;color&quot;: &quot;blue&quot;, &quot;dashArray&quot;: null, &quot;dashOffset&quot;: null, &quot;fill&quot;: true, &quot;fillColor&quot;: &quot;blue&quot;, &quot;fillOpacity&quot;: 0.2, &quot;fillRule&quot;: &quot;evenodd&quot;, &quot;lineCap&quot;: &quot;round&quot;, &quot;lineJoin&quot;: &quot;round&quot;, &quot;opacity&quot;: 1.0, &quot;radius&quot;: 1.5924544581397058, &quot;stroke&quot;: true, &quot;weight&quot;: 3}\n",
       "            ).addTo(map_37c514aba63ae1e51efa9e17f624418a);\n",
       "        \n",
       "    \n",
       "        var popup_01887297fd0fc38331e56c0d31327877 = L.popup({\n",
       "  &quot;maxWidth&quot;: &quot;100%&quot;,\n",
       "});\n",
       "\n",
       "        \n",
       "            \n",
       "                var html_e2fef9706eaf3844b1f9709882e1cd42 = $(`&lt;div id=&quot;html_e2fef9706eaf3844b1f9709882e1cd42&quot; style=&quot;width: 100.0%; height: 100.0%;&quot;&gt;Tunisia&lt;/div&gt;`)[0];\n",
       "                popup_01887297fd0fc38331e56c0d31327877.setContent(html_e2fef9706eaf3844b1f9709882e1cd42);\n",
       "            \n",
       "        \n",
       "\n",
       "        circle_marker_af23169ab97c20aabf11ea4aa031a66b.bindPopup(popup_01887297fd0fc38331e56c0d31327877)\n",
       "        ;\n",
       "\n",
       "        \n",
       "    \n",
       "    \n",
       "            var circle_marker_ce82a723ab122dc674d4719cdbb7af52 = L.circleMarker(\n",
       "                [39.0, 35.0],\n",
       "                {&quot;bubblingMouseEvents&quot;: true, &quot;color&quot;: &quot;black&quot;, &quot;dashArray&quot;: null, &quot;dashOffset&quot;: null, &quot;fill&quot;: true, &quot;fillColor&quot;: &quot;black&quot;, &quot;fillOpacity&quot;: 0.2, &quot;fillRule&quot;: &quot;evenodd&quot;, &quot;lineCap&quot;: &quot;round&quot;, &quot;lineJoin&quot;: &quot;round&quot;, &quot;opacity&quot;: 1.0, &quot;radius&quot;: 1.3666553768820537, &quot;stroke&quot;: true, &quot;weight&quot;: 3}\n",
       "            ).addTo(map_37c514aba63ae1e51efa9e17f624418a);\n",
       "        \n",
       "    \n",
       "        var popup_e767b7f500d3d4d8c4a4b78a1553ea4b = L.popup({\n",
       "  &quot;maxWidth&quot;: &quot;100%&quot;,\n",
       "});\n",
       "\n",
       "        \n",
       "            \n",
       "                var html_c89226137d8cc7904a3af3679e2500f8 = $(`&lt;div id=&quot;html_c89226137d8cc7904a3af3679e2500f8&quot; style=&quot;width: 100.0%; height: 100.0%;&quot;&gt;Turkey&lt;/div&gt;`)[0];\n",
       "                popup_e767b7f500d3d4d8c4a4b78a1553ea4b.setContent(html_c89226137d8cc7904a3af3679e2500f8);\n",
       "            \n",
       "        \n",
       "\n",
       "        circle_marker_ce82a723ab122dc674d4719cdbb7af52.bindPopup(popup_e767b7f500d3d4d8c4a4b78a1553ea4b)\n",
       "        ;\n",
       "\n",
       "        \n",
       "    \n",
       "    \n",
       "            var circle_marker_8014c08a86e11b4fb78eabfde50fd6a5 = L.circleMarker(\n",
       "                [-6.0, 35.0],\n",
       "                {&quot;bubblingMouseEvents&quot;: true, &quot;color&quot;: &quot;blue&quot;, &quot;dashArray&quot;: null, &quot;dashOffset&quot;: null, &quot;fill&quot;: true, &quot;fillColor&quot;: &quot;blue&quot;, &quot;fillOpacity&quot;: 0.2, &quot;fillRule&quot;: &quot;evenodd&quot;, &quot;lineCap&quot;: &quot;round&quot;, &quot;lineJoin&quot;: &quot;round&quot;, &quot;opacity&quot;: 1.0, &quot;radius&quot;: 24.88900526383844, &quot;stroke&quot;: true, &quot;weight&quot;: 3}\n",
       "            ).addTo(map_37c514aba63ae1e51efa9e17f624418a);\n",
       "        \n",
       "    \n",
       "        var popup_d27cdbb0bd40678934af24ee37dd5fce = L.popup({\n",
       "  &quot;maxWidth&quot;: &quot;100%&quot;,\n",
       "});\n",
       "\n",
       "        \n",
       "            \n",
       "                var html_d598356c9e96bfe734fe2d1cc2bcce8a = $(`&lt;div id=&quot;html_d598356c9e96bfe734fe2d1cc2bcce8a&quot; style=&quot;width: 100.0%; height: 100.0%;&quot;&gt;Tanzania&lt;/div&gt;`)[0];\n",
       "                popup_d27cdbb0bd40678934af24ee37dd5fce.setContent(html_d598356c9e96bfe734fe2d1cc2bcce8a);\n",
       "            \n",
       "        \n",
       "\n",
       "        circle_marker_8014c08a86e11b4fb78eabfde50fd6a5.bindPopup(popup_d27cdbb0bd40678934af24ee37dd5fce)\n",
       "        ;\n",
       "\n",
       "        \n",
       "    \n",
       "    \n",
       "            var circle_marker_e30e5ef4552b3181750a667ff8024278 = L.circleMarker(\n",
       "                [1.25, 32.5],\n",
       "                {&quot;bubblingMouseEvents&quot;: true, &quot;color&quot;: &quot;blue&quot;, &quot;dashArray&quot;: null, &quot;dashOffset&quot;: null, &quot;fill&quot;: true, &quot;fillColor&quot;: &quot;blue&quot;, &quot;fillOpacity&quot;: 0.2, &quot;fillRule&quot;: &quot;evenodd&quot;, &quot;lineCap&quot;: &quot;round&quot;, &quot;lineJoin&quot;: &quot;round&quot;, &quot;opacity&quot;: 1.0, &quot;radius&quot;: 19.736352406544533, &quot;stroke&quot;: true, &quot;weight&quot;: 3}\n",
       "            ).addTo(map_37c514aba63ae1e51efa9e17f624418a);\n",
       "        \n",
       "    \n",
       "        var popup_89597355597f90397108fdce32ab54e8 = L.popup({\n",
       "  &quot;maxWidth&quot;: &quot;100%&quot;,\n",
       "});\n",
       "\n",
       "        \n",
       "            \n",
       "                var html_b241fc3b81f115b9f20721b0828b1356 = $(`&lt;div id=&quot;html_b241fc3b81f115b9f20721b0828b1356&quot; style=&quot;width: 100.0%; height: 100.0%;&quot;&gt;Uganda&lt;/div&gt;`)[0];\n",
       "                popup_89597355597f90397108fdce32ab54e8.setContent(html_b241fc3b81f115b9f20721b0828b1356);\n",
       "            \n",
       "        \n",
       "\n",
       "        circle_marker_e30e5ef4552b3181750a667ff8024278.bindPopup(popup_89597355597f90397108fdce32ab54e8)\n",
       "        ;\n",
       "\n",
       "        \n",
       "    \n",
       "    \n",
       "            var circle_marker_e5b5ab87e9934bbb5c7859d55e48ebce = L.circleMarker(\n",
       "                [49.0, 32.0],\n",
       "                {&quot;bubblingMouseEvents&quot;: true, &quot;color&quot;: &quot;black&quot;, &quot;dashArray&quot;: null, &quot;dashOffset&quot;: null, &quot;fill&quot;: true, &quot;fillColor&quot;: &quot;black&quot;, &quot;fillOpacity&quot;: 0.2, &quot;fillRule&quot;: &quot;evenodd&quot;, &quot;lineCap&quot;: &quot;round&quot;, &quot;lineJoin&quot;: &quot;round&quot;, &quot;opacity&quot;: 1.0, &quot;stroke&quot;: true, &quot;weight&quot;: 3}\n",
       "            ).addTo(map_37c514aba63ae1e51efa9e17f624418a);\n",
       "        \n",
       "    \n",
       "        var popup_cc426e5fc7b555a63b1663018722fd8f = L.popup({\n",
       "  &quot;maxWidth&quot;: &quot;100%&quot;,\n",
       "});\n",
       "\n",
       "        \n",
       "            \n",
       "                var html_417ab0b2227fa60e67d037ce5a569f16 = $(`&lt;div id=&quot;html_417ab0b2227fa60e67d037ce5a569f16&quot; style=&quot;width: 100.0%; height: 100.0%;&quot;&gt;Ukraine&lt;/div&gt;`)[0];\n",
       "                popup_cc426e5fc7b555a63b1663018722fd8f.setContent(html_417ab0b2227fa60e67d037ce5a569f16);\n",
       "            \n",
       "        \n",
       "\n",
       "        circle_marker_e5b5ab87e9934bbb5c7859d55e48ebce.bindPopup(popup_cc426e5fc7b555a63b1663018722fd8f)\n",
       "        ;\n",
       "\n",
       "        \n",
       "    \n",
       "    \n",
       "            var circle_marker_360b22159e11a851a64c1cc54176e4be = L.circleMarker(\n",
       "                [-33.0, -56.0],\n",
       "                {&quot;bubblingMouseEvents&quot;: true, &quot;color&quot;: &quot;green&quot;, &quot;dashArray&quot;: null, &quot;dashOffset&quot;: null, &quot;fill&quot;: true, &quot;fillColor&quot;: &quot;green&quot;, &quot;fillOpacity&quot;: 0.2, &quot;fillRule&quot;: &quot;evenodd&quot;, &quot;lineCap&quot;: &quot;round&quot;, &quot;lineJoin&quot;: &quot;round&quot;, &quot;opacity&quot;: 1.0, &quot;radius&quot;: 0.5722562458426154, &quot;stroke&quot;: true, &quot;weight&quot;: 3}\n",
       "            ).addTo(map_37c514aba63ae1e51efa9e17f624418a);\n",
       "        \n",
       "    \n",
       "        var popup_2f6ca0409bf575c2067e2eb594ae4aca = L.popup({\n",
       "  &quot;maxWidth&quot;: &quot;100%&quot;,\n",
       "});\n",
       "\n",
       "        \n",
       "            \n",
       "                var html_63109ffc702fbd82ec7037dbec661abe = $(`&lt;div id=&quot;html_63109ffc702fbd82ec7037dbec661abe&quot; style=&quot;width: 100.0%; height: 100.0%;&quot;&gt;Uruguay&lt;/div&gt;`)[0];\n",
       "                popup_2f6ca0409bf575c2067e2eb594ae4aca.setContent(html_63109ffc702fbd82ec7037dbec661abe);\n",
       "            \n",
       "        \n",
       "\n",
       "        circle_marker_360b22159e11a851a64c1cc54176e4be.bindPopup(popup_2f6ca0409bf575c2067e2eb594ae4aca)\n",
       "        ;\n",
       "\n",
       "        \n",
       "    \n",
       "    \n",
       "            var circle_marker_1f3dce6257f88c95dbcee0f6e1734e0c = L.circleMarker(\n",
       "                [39.76, -98.5],\n",
       "                {&quot;bubblingMouseEvents&quot;: true, &quot;color&quot;: &quot;green&quot;, &quot;dashArray&quot;: null, &quot;dashOffset&quot;: null, &quot;fill&quot;: true, &quot;fillColor&quot;: &quot;green&quot;, &quot;fillOpacity&quot;: 0.2, &quot;fillRule&quot;: &quot;evenodd&quot;, &quot;lineCap&quot;: &quot;round&quot;, &quot;lineJoin&quot;: &quot;round&quot;, &quot;opacity&quot;: 1.0, &quot;radius&quot;: 12.859004483020296, &quot;stroke&quot;: true, &quot;weight&quot;: 3}\n",
       "            ).addTo(map_37c514aba63ae1e51efa9e17f624418a);\n",
       "        \n",
       "    \n",
       "        var popup_8850bb61474150b5b5aae797c70fe578 = L.popup({\n",
       "  &quot;maxWidth&quot;: &quot;100%&quot;,\n",
       "});\n",
       "\n",
       "        \n",
       "            \n",
       "                var html_a01487980fa4117e15156fce4c390f22 = $(`&lt;div id=&quot;html_a01487980fa4117e15156fce4c390f22&quot; style=&quot;width: 100.0%; height: 100.0%;&quot;&gt;United States&lt;/div&gt;`)[0];\n",
       "                popup_8850bb61474150b5b5aae797c70fe578.setContent(html_a01487980fa4117e15156fce4c390f22);\n",
       "            \n",
       "        \n",
       "\n",
       "        circle_marker_1f3dce6257f88c95dbcee0f6e1734e0c.bindPopup(popup_8850bb61474150b5b5aae797c70fe578)\n",
       "        ;\n",
       "\n",
       "        \n",
       "    \n",
       "    \n",
       "            var circle_marker_c9f3bd6fac9ac52d585fe20c22eaa8cd = L.circleMarker(\n",
       "                [8.0, -66.0],\n",
       "                {&quot;bubblingMouseEvents&quot;: true, &quot;color&quot;: &quot;green&quot;, &quot;dashArray&quot;: null, &quot;dashOffset&quot;: null, &quot;fill&quot;: true, &quot;fillColor&quot;: &quot;green&quot;, &quot;fillOpacity&quot;: 0.2, &quot;fillRule&quot;: &quot;evenodd&quot;, &quot;lineCap&quot;: &quot;round&quot;, &quot;lineJoin&quot;: &quot;round&quot;, &quot;opacity&quot;: 1.0, &quot;radius&quot;: 7.797885869682058, &quot;stroke&quot;: true, &quot;weight&quot;: 3}\n",
       "            ).addTo(map_37c514aba63ae1e51efa9e17f624418a);\n",
       "        \n",
       "    \n",
       "        var popup_860c6ffcaa1f6b4a20d686d82726537c = L.popup({\n",
       "  &quot;maxWidth&quot;: &quot;100%&quot;,\n",
       "});\n",
       "\n",
       "        \n",
       "            \n",
       "                var html_5ff1578fbe3f92d94dc1436723a7e78e = $(`&lt;div id=&quot;html_5ff1578fbe3f92d94dc1436723a7e78e&quot; style=&quot;width: 100.0%; height: 100.0%;&quot;&gt;Venezuela&lt;/div&gt;`)[0];\n",
       "                popup_860c6ffcaa1f6b4a20d686d82726537c.setContent(html_5ff1578fbe3f92d94dc1436723a7e78e);\n",
       "            \n",
       "        \n",
       "\n",
       "        circle_marker_c9f3bd6fac9ac52d585fe20c22eaa8cd.bindPopup(popup_860c6ffcaa1f6b4a20d686d82726537c)\n",
       "        ;\n",
       "\n",
       "        \n",
       "    \n",
       "    \n",
       "            var circle_marker_77f5931331f272b82021ad06e3ab4ca5 = L.circleMarker(\n",
       "                [16.16667, 107.83333],\n",
       "                {&quot;bubblingMouseEvents&quot;: true, &quot;color&quot;: &quot;red&quot;, &quot;dashArray&quot;: null, &quot;dashOffset&quot;: null, &quot;fill&quot;: true, &quot;fillColor&quot;: &quot;red&quot;, &quot;fillOpacity&quot;: 0.2, &quot;fillRule&quot;: &quot;evenodd&quot;, &quot;lineCap&quot;: &quot;round&quot;, &quot;lineJoin&quot;: &quot;round&quot;, &quot;opacity&quot;: 1.0, &quot;radius&quot;: 8.241622267411362, &quot;stroke&quot;: true, &quot;weight&quot;: 3}\n",
       "            ).addTo(map_37c514aba63ae1e51efa9e17f624418a);\n",
       "        \n",
       "    \n",
       "        var popup_f5c15076124707e7aad414e73af2da2a = L.popup({\n",
       "  &quot;maxWidth&quot;: &quot;100%&quot;,\n",
       "});\n",
       "\n",
       "        \n",
       "            \n",
       "                var html_75df9b5b1ae17fe43a30cc7bf9fb31cb = $(`&lt;div id=&quot;html_75df9b5b1ae17fe43a30cc7bf9fb31cb&quot; style=&quot;width: 100.0%; height: 100.0%;&quot;&gt;Vietnam&lt;/div&gt;`)[0];\n",
       "                popup_f5c15076124707e7aad414e73af2da2a.setContent(html_75df9b5b1ae17fe43a30cc7bf9fb31cb);\n",
       "            \n",
       "        \n",
       "\n",
       "        circle_marker_77f5931331f272b82021ad06e3ab4ca5.bindPopup(popup_f5c15076124707e7aad414e73af2da2a)\n",
       "        ;\n",
       "\n",
       "        \n",
       "    \n",
       "    \n",
       "            var circle_marker_17c4fd6d7f2f438ed011af11b9d384eb = L.circleMarker(\n",
       "                [15.5, 47.5],\n",
       "                {&quot;bubblingMouseEvents&quot;: true, &quot;color&quot;: &quot;red&quot;, &quot;dashArray&quot;: null, &quot;dashOffset&quot;: null, &quot;fill&quot;: true, &quot;fillColor&quot;: &quot;red&quot;, &quot;fillOpacity&quot;: 0.2, &quot;fillRule&quot;: &quot;evenodd&quot;, &quot;lineCap&quot;: &quot;round&quot;, &quot;lineJoin&quot;: &quot;round&quot;, &quot;opacity&quot;: 1.0, &quot;radius&quot;: 9.126242182195787, &quot;stroke&quot;: true, &quot;weight&quot;: 3}\n",
       "            ).addTo(map_37c514aba63ae1e51efa9e17f624418a);\n",
       "        \n",
       "    \n",
       "        var popup_4d4ac152ac881dd0340d909e0ead090e = L.popup({\n",
       "  &quot;maxWidth&quot;: &quot;100%&quot;,\n",
       "});\n",
       "\n",
       "        \n",
       "            \n",
       "                var html_dc7844440aa9f1a123e2d97843b57afd = $(`&lt;div id=&quot;html_dc7844440aa9f1a123e2d97843b57afd&quot; style=&quot;width: 100.0%; height: 100.0%;&quot;&gt;Yemen&lt;/div&gt;`)[0];\n",
       "                popup_4d4ac152ac881dd0340d909e0ead090e.setContent(html_dc7844440aa9f1a123e2d97843b57afd);\n",
       "            \n",
       "        \n",
       "\n",
       "        circle_marker_17c4fd6d7f2f438ed011af11b9d384eb.bindPopup(popup_4d4ac152ac881dd0340d909e0ead090e)\n",
       "        ;\n",
       "\n",
       "        \n",
       "    \n",
       "    \n",
       "            var circle_marker_82406163b00e7df2a2cb02c874246fa0 = L.circleMarker(\n",
       "                [-29.0, 24.0],\n",
       "                {&quot;bubblingMouseEvents&quot;: true, &quot;color&quot;: &quot;blue&quot;, &quot;dashArray&quot;: null, &quot;dashOffset&quot;: null, &quot;fill&quot;: true, &quot;fillColor&quot;: &quot;blue&quot;, &quot;fillOpacity&quot;: 0.2, &quot;fillRule&quot;: &quot;evenodd&quot;, &quot;lineCap&quot;: &quot;round&quot;, &quot;lineJoin&quot;: &quot;round&quot;, &quot;opacity&quot;: 1.0, &quot;radius&quot;: 12.528070760870953, &quot;stroke&quot;: true, &quot;weight&quot;: 3}\n",
       "            ).addTo(map_37c514aba63ae1e51efa9e17f624418a);\n",
       "        \n",
       "    \n",
       "        var popup_44565c4e6a49a735e2f667901e108b2d = L.popup({\n",
       "  &quot;maxWidth&quot;: &quot;100%&quot;,\n",
       "});\n",
       "\n",
       "        \n",
       "            \n",
       "                var html_1df9a7f956ba8f09704144df9bcee72c = $(`&lt;div id=&quot;html_1df9a7f956ba8f09704144df9bcee72c&quot; style=&quot;width: 100.0%; height: 100.0%;&quot;&gt;South Africa&lt;/div&gt;`)[0];\n",
       "                popup_44565c4e6a49a735e2f667901e108b2d.setContent(html_1df9a7f956ba8f09704144df9bcee72c);\n",
       "            \n",
       "        \n",
       "\n",
       "        circle_marker_82406163b00e7df2a2cb02c874246fa0.bindPopup(popup_44565c4e6a49a735e2f667901e108b2d)\n",
       "        ;\n",
       "\n",
       "        \n",
       "    \n",
       "    \n",
       "            var circle_marker_998a5ccc4be27eef7a79bd6342ec6b89 = L.circleMarker(\n",
       "                [-14.33333, 28.5],\n",
       "                {&quot;bubblingMouseEvents&quot;: true, &quot;color&quot;: &quot;blue&quot;, &quot;dashArray&quot;: null, &quot;dashOffset&quot;: null, &quot;fill&quot;: true, &quot;fillColor&quot;: &quot;blue&quot;, &quot;fillOpacity&quot;: 0.2, &quot;fillRule&quot;: &quot;evenodd&quot;, &quot;lineCap&quot;: &quot;round&quot;, &quot;lineJoin&quot;: &quot;round&quot;, &quot;opacity&quot;: 1.0, &quot;radius&quot;: 18.176389084924157, &quot;stroke&quot;: true, &quot;weight&quot;: 3}\n",
       "            ).addTo(map_37c514aba63ae1e51efa9e17f624418a);\n",
       "        \n",
       "    \n",
       "        var popup_0808550ee681d035614e558c8a07484b = L.popup({\n",
       "  &quot;maxWidth&quot;: &quot;100%&quot;,\n",
       "});\n",
       "\n",
       "        \n",
       "            \n",
       "                var html_e6b3c830541e07a1ff0ee5f1f7f80310 = $(`&lt;div id=&quot;html_e6b3c830541e07a1ff0ee5f1f7f80310&quot; style=&quot;width: 100.0%; height: 100.0%;&quot;&gt;Zambia&lt;/div&gt;`)[0];\n",
       "                popup_0808550ee681d035614e558c8a07484b.setContent(html_e6b3c830541e07a1ff0ee5f1f7f80310);\n",
       "            \n",
       "        \n",
       "\n",
       "        circle_marker_998a5ccc4be27eef7a79bd6342ec6b89.bindPopup(popup_0808550ee681d035614e558c8a07484b)\n",
       "        ;\n",
       "\n",
       "        \n",
       "    \n",
       "&lt;/script&gt;\n",
       "&lt;/html&gt;\" style=\"position:absolute;width:100%;height:100%;left:0;top:0;border:none !important;\" allowfullscreen webkitallowfullscreen mozallowfullscreen></iframe></div></div>"
      ],
      "text/plain": [
       "<datascience.maps.Map at 0x143850b4a40>"
      ]
     },
     "execution_count": 69,
     "metadata": {},
     "output_type": "execute_result"
    }
   ],
   "source": [
    "# It may take a few seconds to generate this map.\n",
    "colors = {'africa': 'blue', 'europe': 'black', 'asia': 'red', 'americas': 'green'}\n",
    "scaled = poverty_map.with_columns(\n",
    "    'labels', poverty_map.column('name'),\n",
    "    'colors', poverty_map.apply(colors.get, 'region'),\n",
    "    'areas', 1e-4 * poverty_map.column('poverty_total')\n",
    ").drop('name', 'region', 'poverty_total')\n",
    "\n",
    "Circle.map_table(scaled)"
   ]
  },
  {
   "cell_type": "markdown",
   "metadata": {
    "deletable": false,
    "editable": false
   },
   "source": [
    "Although people lived in extreme poverty throughout the world in 2010 (with more than 5 million in the United States), the largest numbers were in Asia and Africa."
   ]
  },
  {
   "cell_type": "markdown",
   "metadata": {},
   "source": [
    "---\n",
    "\n",
    "**Question 5.** Assign `largest` to a two-column table with the `name` (not the 3-letter code) and `poverty_total` of the 10 countries with the largest number of people living in extreme poverty.\n",
    "\n",
    "*Hint*: How can we use `take` and `np.arange` in conjunction with each other?\n"
   ]
  },
  {
   "cell_type": "code",
   "execution_count": 70,
   "metadata": {
    "deletable": false,
    "tags": []
   },
   "outputs": [
    {
     "data": {
      "text/html": [
       "<table border=\"1\" class=\"dataframe\">\n",
       "    <thead>\n",
       "        <tr>\n",
       "            <th>name</th> <th>poverty_total</th>\n",
       "        </tr>\n",
       "    </thead>\n",
       "    <tbody>\n",
       "        <tr>\n",
       "            <td>India           </td> <td>293,834,694.00</td>\n",
       "        </tr>\n",
       "        <tr>\n",
       "            <td>Nigeria         </td> <td>103,368,582.00</td>\n",
       "        </tr>\n",
       "        <tr>\n",
       "            <td>China           </td> <td>84,607,751.00 </td>\n",
       "        </tr>\n",
       "        <tr>\n",
       "            <td>Bangladesh      </td> <td>65,827,357.00 </td>\n",
       "        </tr>\n",
       "        <tr>\n",
       "            <td>Congo, Dem. Rep.</td> <td>60,143,497.00 </td>\n",
       "        </tr>\n",
       "        <tr>\n",
       "            <td>Indonesia       </td> <td>39,901,462.00 </td>\n",
       "        </tr>\n",
       "        <tr>\n",
       "            <td>Ethiopia        </td> <td>33,309,119.00 </td>\n",
       "        </tr>\n",
       "        <tr>\n",
       "            <td>Pakistan        </td> <td>25,383,055.00 </td>\n",
       "        </tr>\n",
       "        <tr>\n",
       "            <td>Tanzania        </td> <td>19,460,991.00 </td>\n",
       "        </tr>\n",
       "        <tr>\n",
       "            <td>Madagascar      </td> <td>19,448,134.00 </td>\n",
       "        </tr>\n",
       "    </tbody>\n",
       "</table>"
      ],
      "text/plain": [
       "name             | poverty_total\n",
       "India            | 293,834,694.00\n",
       "Nigeria          | 103,368,582.00\n",
       "China            | 84,607,751.00\n",
       "Bangladesh       | 65,827,357.00\n",
       "Congo, Dem. Rep. | 60,143,497.00\n",
       "Indonesia        | 39,901,462.00\n",
       "Ethiopia         | 33,309,119.00\n",
       "Pakistan         | 25,383,055.00\n",
       "Tanzania         | 19,460,991.00\n",
       "Madagascar       | 19,448,134.00"
      ]
     },
     "execution_count": 70,
     "metadata": {},
     "output_type": "execute_result"
    }
   ],
   "source": [
    "largest = poverty_map.sort('poverty_total', descending=True).select('name', 'poverty_total').take(np.arange(10))\n",
    "largest.set_format('poverty_total', NumberFormatter)\n"
   ]
  },
  {
   "cell_type": "code",
   "execution_count": 71,
   "metadata": {
    "deletable": false,
    "editable": false
   },
   "outputs": [
    {
     "data": {
      "text/html": [
       "<p><strong><pre style='display: inline;'>q2_5</pre></strong> passed! ✨</p>"
      ],
      "text/plain": [
       "q2_5 results: All test cases passed!"
      ]
     },
     "execution_count": 71,
     "metadata": {},
     "output_type": "execute_result"
    }
   ],
   "source": [
    "grader.check(\"q2_5\")"
   ]
  },
  {
   "cell_type": "markdown",
   "metadata": {},
   "source": [
    "<!-- BEGIN QUESTION -->\n",
    "\n",
    "---\n",
    "\n",
    "**Question 6.** It is important to study the absolute number of people living in poverty, not just the percent. The absolute number is an important factor in determining the amount of resources needed to support people living in poverty. In the next two questions you will explore this.\n",
    "\n",
    "In Question 7, you will be asked to write a function called `poverty_timeline` that takes **the name of a country** as its argument (not the Alpha-3 country code). It should draw a line plot of the number of people living in poverty in that country with time on the horizontal axis. The line plot should have a point for each row in the poverty table for that country. To compute the population living in poverty from a poverty percentage, multiply by the population of the country **in that year**.\n",
    "\n",
    "For this question, write out a generalized process for Question 7. Make sure to answer/include the following: \n",
    "- What should this function output? \n",
    "- Additionally, **make a numbered list** of the steps you take within the function body. If you added/edited, say, 5 lines in the function body, then it would be good to see the numbers 1 through 5 describing what you did (i.e. what functions/methods you used) in each line and why.\n",
    "\n",
    "As a tip, after finishing question 7, we recommend polishing up your description of the steps for this question. This question will be graded for correctness."
   ]
  },
  {
   "cell_type": "markdown",
   "metadata": {},
   "source": [
    "The function `poverty_timeline` should display a line plot showing the number of people living in extreme poverty over time in a specific country.\n",
    "Steps within the function body:\n",
    "-   Get the country code (geo):\n",
    "\n",
    "- Filter the poverty table:\n",
    "\n",
    "- Filter the population table:\n",
    "\n",
    "- Join the two tables on the year column (time):\n",
    "\n",
    "- Compute the total number of people in poverty:\n",
    "\n",
    "- Plot the timeline"
   ]
  },
  {
   "cell_type": "markdown",
   "metadata": {
    "deletable": false
   },
   "source": [
    "<!-- END QUESTION -->\n",
    "\n",
    "<!-- BEGIN QUESTION -->\n",
    "\n",
    "---\n",
    "\n",
    "**Question 7.** Now, we'll actually write the function called `poverty_timeline`. Recall that `poverty_timeline` takes **the name of a country** as its argument (not the Alpha-3 country code). It should draw a line plot of the number of people living in poverty in that country with time on the horizontal axis. The line plot should have a point for each row in the `poverty` table for that country. To compute the population living in poverty from a poverty percentage, multiply by the population of the country **in that year**.\n",
    "\n",
    "**Note:** You **should <u>not</u>** return anything from your function. Simply call `plots.show()` at the end of your function body.\n",
    "\n",
    "*Hint 1:* This question is long. Feel free to create cells and experiment. You can create cells by going to the toolbar and hitting the `+` button.\n",
    "\n",
    "*Hint 2:* Consider using `join` in your code.\n",
    "\n",
    "Feel free to use the markdown cell below to plan out your answer, but you needn't fill it in."
   ]
  },
  {
   "cell_type": "markdown",
   "metadata": {},
   "source": [
    "_Type your answer here, replacing this text._"
   ]
  },
  {
   "cell_type": "code",
   "execution_count": 72,
   "metadata": {
    "tags": []
   },
   "outputs": [],
   "source": [
    "def poverty_timeline(country):\n",
    "    '''Draw a timeline of people living in extreme poverty in a country.'''\n",
    "    geo = countries.where('name', are.equal_to(country)).column('country')\n",
    "    # print(geo)\n",
    "    # This solution will take multiple lines of code. Use as many as you need\n",
    "    # Filter poverty and population data for this country\n",
    "    country_poverty = poverty.where('geo', are.equal_to(geo))\n",
    "    country_population = population.where('geo', are.equal_to(geo))\n",
    "\n",
    "    # Join on year to align poverty % and population\n",
    "    joined = country_poverty.join('time', country_population, 'time')\n",
    "\n",
    "    # Compute number of people in poverty each year\n",
    "    poverty_total = joined.column('extreme_poverty_percent_people_below_125_a_day') * joined.column('population_total') / 100\n",
    "\n",
    "    # Add it to the table\n",
    "    result = joined.with_column('poverty_total', poverty_total)\n",
    "\n",
    "    # Plot the timeline\n",
    "    result.plot('time', 'poverty_total')\n",
    "    # Don't change anything below this line. \n",
    "    plots.title(country)\n",
    "    plots.ylim(bottom=0)\n",
    "    plots.show() # This should be the last line of your function. "
   ]
  },
  {
   "cell_type": "code",
   "execution_count": 73,
   "metadata": {
    "deletable": false,
    "tags": []
   },
   "outputs": [
    {
     "name": "stderr",
     "output_type": "stream",
     "text": [
      "d:\\Github\\materials-fa24\\venv\\Lib\\site-packages\\datascience\\predicates.py:257: SyntaxWarning: Do not pass an array or list to a predicate.                 If you are trying to find rows where two columns are the                 same, use table.where('c', are.equal_to, table.column('d'))                instead of table.where('c', are.equal_to(table.column('d'))).\n",
      "  warnings.warn(\"Do not pass an array or list to a predicate. \\\n",
      "d:\\Github\\materials-fa24\\venv\\Lib\\site-packages\\datascience\\predicates.py:257: SyntaxWarning: Do not pass an array or list to a predicate.                 If you are trying to find rows where two columns are the                 same, use table.where('c', are.equal_to, table.column('d'))                instead of table.where('c', are.equal_to(table.column('d'))).\n",
      "  warnings.warn(\"Do not pass an array or list to a predicate. \\\n"
     ]
    },
    {
     "data": {
      "image/png": "[encoded data removed]",
      "text/plain": [
       "<Figure size 600x600 with 1 Axes>"
      ]
     },
     "metadata": {},
     "output_type": "display_data"
    },
    {
     "name": "stderr",
     "output_type": "stream",
     "text": [
      "d:\\Github\\materials-fa24\\venv\\Lib\\site-packages\\datascience\\predicates.py:257: SyntaxWarning: Do not pass an array or list to a predicate.                 If you are trying to find rows where two columns are the                 same, use table.where('c', are.equal_to, table.column('d'))                instead of table.where('c', are.equal_to(table.column('d'))).\n",
      "  warnings.warn(\"Do not pass an array or list to a predicate. \\\n",
      "d:\\Github\\materials-fa24\\venv\\Lib\\site-packages\\datascience\\predicates.py:257: SyntaxWarning: Do not pass an array or list to a predicate.                 If you are trying to find rows where two columns are the                 same, use table.where('c', are.equal_to, table.column('d'))                instead of table.where('c', are.equal_to(table.column('d'))).\n",
      "  warnings.warn(\"Do not pass an array or list to a predicate. \\\n"
     ]
    },
    {
     "data": {
      "image/png": "[encoded data removed]",
      "text/plain": [
       "<Figure size 600x600 with 1 Axes>"
      ]
     },
     "metadata": {},
     "output_type": "display_data"
    },
    {
     "name": "stderr",
     "output_type": "stream",
     "text": [
      "d:\\Github\\materials-fa24\\venv\\Lib\\site-packages\\datascience\\predicates.py:257: SyntaxWarning: Do not pass an array or list to a predicate.                 If you are trying to find rows where two columns are the                 same, use table.where('c', are.equal_to, table.column('d'))                instead of table.where('c', are.equal_to(table.column('d'))).\n",
      "  warnings.warn(\"Do not pass an array or list to a predicate. \\\n",
      "d:\\Github\\materials-fa24\\venv\\Lib\\site-packages\\datascience\\predicates.py:257: SyntaxWarning: Do not pass an array or list to a predicate.                 If you are trying to find rows where two columns are the                 same, use table.where('c', are.equal_to, table.column('d'))                instead of table.where('c', are.equal_to(table.column('d'))).\n",
      "  warnings.warn(\"Do not pass an array or list to a predicate. \\\n"
     ]
    },
    {
     "data": {
      "image/png": "[encoded data removed]",
      "text/plain": [
       "<Figure size 600x600 with 1 Axes>"
      ]
     },
     "metadata": {},
     "output_type": "display_data"
    },
    {
     "name": "stderr",
     "output_type": "stream",
     "text": [
      "d:\\Github\\materials-fa24\\venv\\Lib\\site-packages\\datascience\\predicates.py:257: SyntaxWarning: Do not pass an array or list to a predicate.                 If you are trying to find rows where two columns are the                 same, use table.where('c', are.equal_to, table.column('d'))                instead of table.where('c', are.equal_to(table.column('d'))).\n",
      "  warnings.warn(\"Do not pass an array or list to a predicate. \\\n",
      "d:\\Github\\materials-fa24\\venv\\Lib\\site-packages\\datascience\\predicates.py:257: SyntaxWarning: Do not pass an array or list to a predicate.                 If you are trying to find rows where two columns are the                 same, use table.where('c', are.equal_to, table.column('d'))                instead of table.where('c', are.equal_to(table.column('d'))).\n",
      "  warnings.warn(\"Do not pass an array or list to a predicate. \\\n"
     ]
    },
    {
     "data": {
      "image/png": "[encoded data removed]",
      "text/plain": [
       "<Figure size 600x600 with 1 Axes>"
      ]
     },
     "metadata": {},
     "output_type": "display_data"
    },
    {
     "name": "stderr",
     "output_type": "stream",
     "text": [
      "d:\\Github\\materials-fa24\\venv\\Lib\\site-packages\\datascience\\predicates.py:257: SyntaxWarning: Do not pass an array or list to a predicate.                 If you are trying to find rows where two columns are the                 same, use table.where('c', are.equal_to, table.column('d'))                instead of table.where('c', are.equal_to(table.column('d'))).\n",
      "  warnings.warn(\"Do not pass an array or list to a predicate. \\\n",
      "d:\\Github\\materials-fa24\\venv\\Lib\\site-packages\\datascience\\predicates.py:257: SyntaxWarning: Do not pass an array or list to a predicate.                 If you are trying to find rows where two columns are the                 same, use table.where('c', are.equal_to, table.column('d'))                instead of table.where('c', are.equal_to(table.column('d'))).\n",
      "  warnings.warn(\"Do not pass an array or list to a predicate. \\\n"
     ]
    },
    {
     "data": {
      "image/png": "[encoded data removed]",
      "text/plain": [
       "<Figure size 600x600 with 1 Axes>"
      ]
     },
     "metadata": {},
     "output_type": "display_data"
    },
    {
     "name": "stderr",
     "output_type": "stream",
     "text": [
      "d:\\Github\\materials-fa24\\venv\\Lib\\site-packages\\datascience\\predicates.py:257: SyntaxWarning: Do not pass an array or list to a predicate.                 If you are trying to find rows where two columns are the                 same, use table.where('c', are.equal_to, table.column('d'))                instead of table.where('c', are.equal_to(table.column('d'))).\n",
      "  warnings.warn(\"Do not pass an array or list to a predicate. \\\n",
      "d:\\Github\\materials-fa24\\venv\\Lib\\site-packages\\datascience\\predicates.py:257: SyntaxWarning: Do not pass an array or list to a predicate.                 If you are trying to find rows where two columns are the                 same, use table.where('c', are.equal_to, table.column('d'))                instead of table.where('c', are.equal_to(table.column('d'))).\n",
      "  warnings.warn(\"Do not pass an array or list to a predicate. \\\n"
     ]
    },
    {
     "data": {
      "image/png": "[encoded data removed]",
      "text/plain": [
       "<Figure size 600x600 with 1 Axes>"
      ]
     },
     "metadata": {},
     "output_type": "display_data"
    }
   ],
   "source": [
    "poverty_timeline('Poland')\n",
    "poverty_timeline('India')\n",
    "poverty_timeline('Nigeria')\n",
    "poverty_timeline('China')\n",
    "poverty_timeline('Colombia')\n",
    "poverty_timeline('United States')"
   ]
  },
  {
   "cell_type": "markdown",
   "metadata": {
    "deletable": false
   },
   "source": [
    "<!-- END QUESTION -->\n",
    "\n",
    "Although the number of people living in extreme poverty increased in some countries including Nigeria and the United States, the decreases in other countries, most notably the massive decreases in China and India, have shaped the overall trend that extreme poverty is decreasing worldwide, both in percentage and in absolute number. \n",
    "\n",
    "To learn more, watch [Hans Rosling in a 2015 film](https://www.gapminder.org/videos/dont-panic-end-poverty/) about the UN goal of eradicating extreme poverty from the world. \n",
    "\n",
    "Below, we've also added an interactive dropdown menu for you to visualize `poverty_timeline` graphs for other countries. Note that each dropdown menu selection may take a few seconds to run."
   ]
  },
  {
   "cell_type": "code",
   "execution_count": 74,
   "metadata": {
    "deletable": false,
    "editable": false
   },
   "outputs": [
    {
     "data": {
      "application/vnd.jupyter.widget-view+json": {
       "model_id": "d04e5eab4d6740f383bd7adca655a094",
       "version_major": 2,
       "version_minor": 0
      },
      "text/plain": [
       "interactive(children=(Dropdown(description='country', options=('Angola', 'Albania', 'Argentina', 'Armenia', 'A…"
      ]
     },
     "metadata": {},
     "output_type": "display_data"
    }
   ],
   "source": [
    "# Just run this cell\n",
    "\n",
    "all_countries = poverty_map.column('name')\n",
    "_ = widgets.interact(poverty_timeline, country=list(all_countries))"
   ]
  },
  {
   "cell_type": "markdown",
   "metadata": {
    "deletable": false
   },
   "source": [
    "\n",
    "\n",
    "<img src=\"panda.jpg\" alt=\"drawing\" width=\"300\"/>\n",
    "\n",
    "**Panda wants to tell you, you're finished!** Congratulations on discovering many important facts about global poverty and demonstrating your mastery of table manipulation and data visualization. Time to submit.\n",
    "\n",
    "**<span style=\"color: #BC412B\">Remember to add your project partner to your submission on Gradescope!</span>** <u>Only one partner should submit to Gradescope.</u>"
   ]
  },
  {
   "cell_type": "markdown",
   "metadata": {},
   "source": [
    "## Submission\n",
    "\n",
    "Below, you will see two cells. Running the first cell will automatically generate a PDF of all questions that need to be manually graded, and running the second cell will automatically generate a zip with your autograded answers. You are responsible for submitting both the coding portion (the zip) and the written portion (the PDF) to their respective Gradescope portals. **Please save before exporting!**\n",
    "\n",
    "> **Important: You must correctly assign the pages of your PDF after you submit to the correct gradescope assignment. If your pages are not correctly assigned and/or not in the correct PDF format by the deadline, we reserve the right to award no points for your written work.**\n",
    "\n",
    "If there are issues with automatically generating the PDF in the first cell, you can try downloading the notebook as a PDF by colicking on `File -> Save and Export Notebook As... -> PDF`. If that doesn't work either, you can manually take screenshots of your answers to the manually graded questions and submit those. Either way, **you are responsible for ensuring your submision follows our requirements, we will NOT be granting regrade requests for submissions that don't follow instructions.**\n",
    "\n",
    "**You must submit the PDF generated via one of these methods, we will not accept screenshots or Word documents.**"
   ]
  },
  {
   "cell_type": "code",
   "execution_count": 75,
   "metadata": {},
   "outputs": [],
   "source": [
    "# from otter.export import export_notebook\n",
    "# from os import path\n",
    "# from IPython.display import display, HTML\n",
    "# name = 'project1'\n",
    "# export_notebook(f\"{name}.ipynb\", filtering=True, pagebreaks=True)\n",
    "# if(path.exists(f'{name}.pdf')):\n",
    "#     display(HTML(f\"Download your PDF <a href='{name}.pdf' download>here</a>.\"))\n",
    "# else:\n",
    "#     print(\"\\n Pdf generation failed, please try the other methods described above\")"
   ]
  },
  {
   "cell_type": "markdown",
   "metadata": {
    "deletable": false,
    "editable": false
   },
   "source": [
    "## Submission\n",
    "\n",
    "Make sure you have run all cells in your notebook in order before running the cell below, so that all images/graphs appear in the output. The cell below will generate a zip file for you to submit. **Please save before exporting!**"
   ]
  },
  {
   "cell_type": "code",
   "execution_count": 76,
   "metadata": {
    "deletable": false,
    "editable": false
   },
   "outputs": [
    {
     "name": "stdout",
     "output_type": "stream",
     "text": [
      "Running your submission against local test cases...\n",
      "\n",
      "\n",
      "Your submission received the following results when run against available test cases:\n",
      "\n",
      "    q0 results: All test cases passed!\n",
      "\n",
      "    q1_1 results: All test cases passed!\n",
      "\n",
      "    q1_2 results: All test cases passed!\n",
      "\n",
      "    q1_5 results: All test cases passed!\n",
      "\n",
      "    q1_7 results: All test cases passed!\n",
      "\n",
      "    q1_9 results: All test cases passed!\n",
      "\n",
      "    q1_11 results: All test cases passed!\n",
      "\n",
      "    q1_12_0 results: All test cases passed!\n",
      "\n",
      "    q1_12 results: All test cases passed!\n",
      "\n",
      "    q1_13 results: All test cases passed!\n",
      "\n",
      "    q1_14 results: All test cases passed!\n",
      "\n",
      "    q2_1 results: All test cases passed!\n",
      "\n",
      "    q2_2 results: All test cases passed!\n",
      "\n",
      "    q2_3 results: All test cases passed!\n",
      "\n",
      "    q2_4 results: All test cases passed!\n",
      "\n",
      "    q2_5 results: All test cases passed!\n"
     ]
    },
    {
     "data": {
      "text/html": [
       "\n",
       "                    <p>\n",
       "                        Your submission has been exported. Click\n",
       "                        <a href=\"W9_LAB_22028249_2025_04_06T14_10_29_888836.zip\" download=\"W9_LAB_22028249_2025_04_06T14_10_29_888836.zip\" target=\"_blank\">here</a> to download\n",
       "                        the zip file.\n",
       "                    </p>\n",
       "                "
      ],
      "text/plain": [
       "<IPython.core.display.HTML object>"
      ]
     },
     "metadata": {},
     "output_type": "display_data"
    }
   ],
   "source": [
    "# Save your notebook first, then run this cell to export your submission.\n",
    "grader.export(pdf=False, run_tests=True)"
   ]
  },
  {
   "cell_type": "markdown",
   "metadata": {},
   "source": [
    " "
   ]
  }
 ],
 "metadata": {
  "kernelspec": {
   "display_name": "venv",
   "language": "python",
   "name": "python3"
  },
  "language_info": {
   "codemirror_mode": {
    "name": "ipython",
    "version": 3
   },
   "file_extension": ".py",
   "mimetype": "text/x-python",
   "name": "python",
   "nbconvert_exporter": "python",
   "pygments_lexer": "ipython3",
   "version": "3.12.6"
  },
  "otter": {
   "OK_FORMAT": true,
   "tests": {
    "q0": {
     "name": "q0",
     "points": [
      0
     ],
     "suites": [
      {
       "cases": [
        {
         "code": ">>> i_wont_use_show_without_an_argument == True\nTrue",
         "hidden": false,
         "locked": false
        }
       ],
       "scored": true,
       "setup": "",
       "teardown": "",
       "type": "doctest"
      }
     ]
    },
    "q1_1": {
     "name": "q1_1",
     "points": [
      0,
      0
     ],
     "suites": [
      {
       "cases": [
        {
         "code": ">>> # Check your column labels and spelling\n>>> p_pop.labels == ('time', 'population_total')\nTrue",
         "hidden": false,
         "locked": false
        },
        {
         "code": ">>> # Times should range from 1900 through 2024\n>>> all(p_pop.sort(\"time\").column(\"time\") == np.arange(1900, 2025))\nTrue",
         "hidden": false,
         "locked": false
        }
       ],
       "scored": true,
       "setup": "",
       "teardown": "",
       "type": "doctest"
      }
     ]
    },
    "q1_11": {
     "name": "q1_11",
     "points": [
      0,
      0,
      0,
      4
     ],
     "suites": [
      {
       "cases": [
        {
         "code": ">>> # Incorrect labels for columns\n>>> t = stats_for_year(1990)\n>>> t.labels == ('geo', 'population_total', 'children_per_woman_total_fertility', 'child_mortality_under_5_per_1000_born')\nTrue",
         "hidden": false,
         "locked": false
        },
        {
         "code": ">>> # Incorrect number of rows\n>>> t = stats_for_year(1990)\n>>> t.num_rows\n50",
         "hidden": false,
         "locked": false
        },
        {
         "code": ">>> print(stats_for_year(1960).sort('geo').take(np.arange(5, 50, 5)))\ngeo  | population_total | children_per_woman_total_fertility | child_mortality_under_5_per_1000_born\ncan  | 17898790         | 3.84                               | 32.6\ndeu  | 72811640         | 2.39                               | 40.47\nfra  | 46428134         | 2.74                               | 28.5\nirn  | 21470434         | 7.37                               | 326.94\nkor  | 26115379         | 5.99                               | 112.18\nmoz  | 6713695          | 6.38                               | 277.4\nphl  | 27891897         | 7.03                               | 103.65\ntha  | 26851747         | 6.28                               | 146.46\nusa  | 180274555        | 3.72                               | 30.05\n",
         "hidden": false,
         "locked": false
        },
        {
         "code": ">>> print(stats_for_year(2010).sort('geo').take(np.arange(3, 50, 5)))\ngeo  | population_total | children_per_woman_total_fertility | child_mortality_under_5_per_1000_born\nbgd  | 152201981        | 2.38                               | 49.1\ncod  | 68563038         | 6.59                               | 115.29\nesp  | 46840471         | 1.37                               | 3.85\nidn  | 246305322        | 2.46                               | 34.12\njpn  | 128185275        | 1.36                               | 3.2\nmex  | 113623895        | 2.34                               | 17.36\npak  | 199239047        | 4.4                                | 87.51\nsau  | 25157128         | 2.81                               | 12.08\nuga  | 32390802         | 6.02                               | 77.39\nyem  | 26754387         | 4.81                               | 55.96\n",
         "hidden": false,
         "locked": false
        }
       ],
       "scored": true,
       "setup": "",
       "teardown": "",
       "type": "doctest"
      }
     ]
    },
    "q1_12": {
     "name": "q1_12",
     "points": [
      0,
      0
     ],
     "suites": [
      {
       "cases": [
        {
         "code": ">>> # Check your column labels and spelling\n>>> pop_by_decade.labels == ('decade', 'population')\nTrue",
         "hidden": false,
         "locked": false
        },
        {
         "code": ">>> # The first year of the 1960's is 1960.\n>>> pop_by_decade.column(0).item(0) == 1960\nTrue",
         "hidden": false,
         "locked": false
        }
       ],
       "scored": true,
       "setup": "",
       "teardown": "",
       "type": "doctest"
      }
     ]
    },
    "q1_12_0": {
     "name": "q1_12_0",
     "points": [
      0,
      0,
      0
     ],
     "suites": [
      {
       "cases": [
        {
         "code": ">>> pop_for_year(1972) == 3334568709\nTrue",
         "hidden": false,
         "locked": false
        },
        {
         "code": ">>> pop_for_year(2020) == 6840687359\nTrue",
         "hidden": false,
         "locked": false
        },
        {
         "code": ">>> pop_for_year(1989) == 4556698997\nTrue",
         "hidden": false,
         "locked": false
        }
       ],
       "scored": true,
       "setup": "",
       "teardown": "",
       "type": "doctest"
      }
     ]
    },
    "q1_13": {
     "name": "q1_13",
     "points": [
      0,
      0
     ],
     "suites": [
      {
       "cases": [
        {
         "code": ">>> # Check your column labels and spelling\n>>> region_counts.labels == ('region', 'count')\nTrue",
         "hidden": false,
         "locked": false
        },
        {
         "code": ">>> # Counts must sum to 50\n>>> sum(region_counts.column('count')) == 50\nTrue",
         "hidden": false,
         "locked": false
        }
       ],
       "scored": true,
       "setup": "",
       "teardown": "",
       "type": "doctest"
      }
     ]
    },
    "q1_14": {
     "name": "q1_14",
     "points": [
      0
     ],
     "suites": [
      {
       "cases": [
        {
         "code": ">>> # Please use a list of integers from 1 to 5\n>>> all(x in range(1, 6) for x in set(scatter_statements))\nTrue",
         "hidden": false,
         "locked": false
        }
       ],
       "scored": true,
       "setup": "",
       "teardown": "",
       "type": "doctest"
      }
     ]
    },
    "q1_2": {
     "name": "q1_2",
     "points": [
      0,
      0
     ],
     "suites": [
      {
       "cases": [
        {
         "code": ">>> first = round(p_five_growth.sort(0).column(2).item(0), 8)\n>>> 0.005 <= first <= 0.5\nTrue",
         "hidden": false,
         "locked": false
        },
        {
         "code": ">>> # Compute the annual exponential growth rate\n>>> max(p_five_growth.column(2)) < 0.03\nTrue",
         "hidden": false,
         "locked": false
        }
       ],
       "scored": true,
       "setup": "",
       "teardown": "",
       "type": "doctest"
      }
     ]
    },
    "q1_5": {
     "name": "q1_5",
     "points": [
      0,
      0,
      0
     ],
     "suites": [
      {
       "cases": [
        {
         "code": ">>> # Check your column labels and spelling\n>>> fertility_over_time('usa', 2010).labels == ('Year', 'Children per woman')\nTrue",
         "hidden": false,
         "locked": false
        },
        {
         "code": ">>> # Check that you use the start year to determine the data range.\n>>> all(fertility_over_time('usa', 2010).column('Year') == np.arange(2010, 2025))\nTrue",
         "hidden": false,
         "locked": false
        },
        {
         "code": ">>> # Check that you use the start year to determine the data range.\n>>> all(fertility_over_time('usa', 2005).column('Year') == np.arange(2005, 2025))\nTrue",
         "hidden": false,
         "locked": false
        }
       ],
       "scored": true,
       "setup": "",
       "teardown": "",
       "type": "doctest"
      }
     ]
    },
    "q1_7": {
     "name": "q1_7",
     "points": [
      0,
      0
     ],
     "suites": [
      {
       "cases": [
        {
         "code": ">>> # Make sure you are using the date range 1950-2024\n>>> poland_since_1950.num_rows\n75",
         "hidden": false,
         "locked": false
        },
        {
         "code": ">>> # Check your column labels and spelling\n>>> all([label in poland_since_1950.labels for label in ['Children per woman', 'Child deaths per 1000 born']])\nTrue",
         "hidden": false,
         "locked": false
        }
       ],
       "scored": true,
       "setup": "",
       "teardown": "",
       "type": "doctest"
      }
     ]
    },
    "q1_9": {
     "name": "q1_9",
     "points": [
      0
     ],
     "suites": [
      {
       "cases": [
        {
         "code": ">>> # Please use a list of integers from 1 to 6\n>>> all(x in range(1, 7) for x in set(fertility_statements))\nTrue",
         "hidden": false,
         "locked": false
        }
       ],
       "scored": true,
       "setup": "",
       "teardown": "",
       "type": "doctest"
      }
     ]
    },
    "q2_1": {
     "name": "q2_1",
     "points": [
      0,
      0
     ],
     "suites": [
      {
       "cases": [
        {
         "code": ">>> # Please don't edit the last line.\n>>> latest_poverty.labels == ('geo', 'time', 'poverty_percent')\nTrue",
         "hidden": false,
         "locked": false
        },
        {
         "code": ">>> # The result should have one row per country.\n>>> latest_poverty.num_rows\n145",
         "hidden": false,
         "locked": false
        }
       ],
       "scored": true,
       "setup": "",
       "teardown": "",
       "type": "doctest"
      }
     ]
    },
    "q2_2": {
     "name": "q2_2",
     "points": [
      0,
      0,
      0
     ],
     "suites": [
      {
       "cases": [
        {
         "code": ">>> # Check your column labels and spelling\n>>> recent_poverty_total.labels == ('geo', 'poverty_percent', 'population_total', 'poverty_total')\nTrue",
         "hidden": false,
         "locked": false
        },
        {
         "code": ">>> # Careful, the population of Australia in 2010 was 22,141,581\n>>> float(recent_poverty_total.where('geo', 'aus').column(2).item(0)) == 22141581\nTrue",
         "hidden": false,
         "locked": false
        },
        {
         "code": ">>> # The number of people estimated to be living in extreme poverty\n>>> # in Australia should be 301,126. That's 22,141,581 * 0.0136\n>>> # rounded to the nearest integer.\n>>> float(recent_poverty_total.where('geo', 'aus').column(3).item(0)) == 301126\nTrue",
         "hidden": false,
         "locked": false
        }
       ],
       "scored": true,
       "setup": "",
       "teardown": "",
       "type": "doctest"
      }
     ]
    },
    "q2_3": {
     "name": "q2_3",
     "points": [
      0
     ],
     "suites": [
      {
       "cases": [
        {
         "code": ">>> 10 <= poverty_percent <= 20\nTrue",
         "hidden": false,
         "locked": false
        }
       ],
       "scored": true,
       "setup": "",
       "teardown": "",
       "type": "doctest"
      }
     ]
    },
    "q2_4": {
     "name": "q2_4",
     "points": [
      0,
      0
     ],
     "suites": [
      {
       "cases": [
        {
         "code": ">>> # Check your column labels and spelling\n>>> poverty_map.labels == ('latitude', 'longitude', 'name', 'region', 'poverty_total')\nTrue",
         "hidden": false,
         "locked": false
        },
        {
         "code": ">>> # Something is wrong with your region column.\n>>> list(np.sort(np.unique(poverty_map.column('region'))))\n['africa', 'americas', 'asia', 'europe']",
         "hidden": false,
         "locked": false
        }
       ],
       "scored": true,
       "setup": "",
       "teardown": "",
       "type": "doctest"
      }
     ]
    },
    "q2_5": {
     "name": "q2_5",
     "points": [
      0,
      0,
      0
     ],
     "suites": [
      {
       "cases": [
        {
         "code": ">>> # Check your column labels and spelling\n>>> largest.labels == ('name', 'poverty_total')\nTrue",
         "hidden": false,
         "locked": false
        },
        {
         "code": ">>> # India is the country with the largest number of people living\n>>> # in extreme poverty.\n>>> largest.column(0).item(0)\n'India'",
         "hidden": false,
         "locked": false
        },
        {
         "code": ">>> # The table should contain exactly 10 rows.\n>>> largest.num_rows\n10",
         "hidden": false,
         "locked": false
        }
       ],
       "scored": true,
       "setup": "",
       "teardown": "",
       "type": "doctest"
      }
     ]
    }
   }
  }
 },
 "nbformat": 4,
 "nbformat_minor": 5
}
