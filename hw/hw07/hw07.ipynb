{
 "cells": [
  {
   "cell_type": "code",
   "execution_count": 1,
   "id": "8cd6f805",
   "metadata": {
    "deletable": false,
    "editable": false
   },
   "outputs": [],
   "source": [
    "# Initialize Otter\n",
    "import otter\n",
    "grader = otter.Notebook(\"hw07.ipynb\")"
   ]
  },
  {
   "cell_type": "markdown",
   "id": "534d1e3d",
   "metadata": {},
   "source": [
    "<img src=\"data8logo.png\" alt=\"Data 8 Logo\" style=\"width: 15%; float: right; padding: 1%; margin-right: 2%;\"/>\n",
    "\n",
    "# Homework 7: Testing Hypotheses\n",
    "\n",
    "Please complete this notebook by filling in the cells provided. Before you begin, execute the previous cell to load the provided tests.\n",
    "\n",
    "**Helpful Resource:**\n",
    "\n",
    "- [Python Reference](http://data8.org/fa24/reference/): Cheat sheet of helpful array & table methods used in Data 8!\n",
    "\n",
    "**Recommended Readings**: \n",
    "\n",
    "* [Sampling Methods Guide](https://drive.google.com/file/d/1UtNdxDdI5XphWvwgTjODiAUFwArpZtoK/view)\n",
    "* [Testing Hypotheses](https://www.inferentialthinking.com/chapters/11/Testing_Hypotheses.html)\n",
    "* [A/B Testing](https://inferentialthinking.com/chapters/12/1/AB_Testing.html)"
   ]
  },
  {
   "attachments": {},
   "cell_type": "markdown",
   "id": "0e09a761",
   "metadata": {},
   "source": [
    "Please complete this notebook by filling in the cells provided. **Before you begin, execute the cell below to setup the notebook by importing some helpful libraries.** Each time you start your server, you will need to execute this cell again.\n",
    "\n",
    "For all problems that you must write explanations and sentences for, you **must** provide your answer in the designated space. Moreover, throughout this homework and all future ones, **please be sure to not re-assign variables throughout the notebook!** For example, if you use `max_temperature` in your answer to one question, do not reassign it later on. Otherwise, you will fail tests that you thought you were passing previously!\n",
    "\n",
    "**Deadline:**\n",
    "\n",
    "This assignment is **due Wednesday, 10/16 at 5:00pm PT**. Submissions after this time will be accepted for 24 hours and will incur a 20% penalty. Any submissions later than this 24 hour period will not be accepted unless an extension has been granted as per the [policies](http://data8.org/fa24/policies/) page. Turn it in by Tuesday, 10/15 at 5:00pm PT for 5 extra credit points.\n",
    "\n",
    "<span style=\"color:red\">**Note: This homework has hidden tests on it. That means even though tests may say 100% passed, it doesn't mean your final grade will be 100%. We will be running more tests for correctness once everyone turns in the homework.**</span>\n",
    "\n",
    "Directly sharing answers is not okay, but discussing problems with the course staff or with other students is encouraged. Refer to the [policies](http://data8.org/fa24/policies/#learning-cooperatively) page to learn more about how to learn cooperatively.\n",
    "\n",
    "You should start early so that you have time to get help if you're stuck. Office hours are held Monday through Friday in [Warren Hall](https://www.berkeley.edu/map?warren) 101B. The office hours schedule appears [here](http://data8.org/fa24/schedule/)."
   ]
  },
  {
   "cell_type": "markdown",
   "id": "708fc18a",
   "metadata": {},
   "source": [
    "---\n",
    "\n",
    "The point breakdown for this assignment is given in the table below:\n",
    "| Category | Points |\n",
    "| --- | --- |\n",
    "| Autograder (Coding questions) | 80 |\n",
    "| Written (Q1.2, Q1.3, Q1.7, Q2.1, Q2.5) | 20 |\n",
    "| **Total** | 100 |"
   ]
  },
  {
   "cell_type": "code",
   "execution_count": 2,
   "id": "9a661faf",
   "metadata": {},
   "outputs": [],
   "source": [
    "# Run this cell to set up the notebook, but please don't change it.\n",
    "\n",
    "# These lines import the Numpy and Datascience modules.\n",
    "import numpy as np\n",
    "from datascience import *\n",
    "\n",
    "# These lines do some fancy plotting magic.\n",
    "import matplotlib\n",
    "%matplotlib inline\n",
    "import matplotlib.pyplot as plt\n",
    "plt.style.use('fivethirtyeight')\n",
    "import warnings\n",
    "warnings.simplefilter('ignore', FutureWarning)"
   ]
  },
  {
   "cell_type": "markdown",
   "id": "7bb7d0fc",
   "metadata": {},
   "source": [
    "<hr style=\"border: 5px solid #003262;\" />\n",
    "<hr style=\"border: 1px solid #fdb515;\" />\n",
    "\n",
    "## 1. Vaccinations Across The Nation\n",
    "\n",
    "A vaccination clinic has two types of vaccines against a disease. Each person who comes in to be vaccinated gets either Vaccine 1 or Vaccine 2. One week, everyone who came in on Monday, Wednesday, and Friday was given Vaccine 1. Everyone who came in on Tuesday and Thursday was given Vaccine 2. The clinic is closed on weekends.\n",
    "\n",
    "Doctor DeNero at the clinic said, \"Oh wow, the distribution of vaccines is like tossing a coin that lands heads with probability $\\frac{3}{5}$. If the coin lands on heads, you get Vaccine 1 and if the coin lands on tails, you get Vaccine 2.\"\n",
    "\n",
    "But Doctor Sahai said, \"No, it's not. We're not doing anything like tossing a (biased) coin.\"\n",
    "\n",
    "That week, the clinic gave Vaccine 1 to 211 people and Vaccine 2 to 107 people. Conduct a test of hypotheses to see which doctor's position is better supported by the data."
   ]
  },
  {
   "cell_type": "markdown",
   "id": "f9974532",
   "metadata": {},
   "source": [
    "---\n",
    "\n",
    "**Question 1.1.** Given the information above, what was the sample size for the data, and what was the percentage of people who got **Vaccine 1?** **(4 points)**\n",
    "\n",
    "*Note*: Your percent should be a number between 0 and 100, not a proportion between 0 and 1.\n"
   ]
  },
  {
   "cell_type": "code",
   "execution_count": 3,
   "id": "6a8fd4d4",
   "metadata": {
    "tags": []
   },
   "outputs": [
    {
     "name": "stdout",
     "output_type": "stream",
     "text": [
      "Sample Size: 318\n",
      "Vaccine 1 Percent: 66.35220125786164\n"
     ]
    }
   ],
   "source": [
    "sample_size = 318\n",
    "percent_V1 = 211/318*100\n",
    "\n",
    "print(f\"Sample Size: {sample_size}\")\n",
    "print(f\"Vaccine 1 Percent: {percent_V1}\")"
   ]
  },
  {
   "cell_type": "code",
   "execution_count": 4,
   "id": "f22c02bc",
   "metadata": {
    "deletable": false,
    "editable": false
   },
   "outputs": [
    {
     "data": {
      "text/html": [
       "<p><strong><pre style='display: inline;'>q1_1</pre></strong> passed! 🙌</p>"
      ],
      "text/plain": [
       "q1_1 results: All test cases passed!"
      ]
     },
     "execution_count": 4,
     "metadata": {},
     "output_type": "execute_result"
    }
   ],
   "source": [
    "grader.check(\"q1_1\")"
   ]
  },
  {
   "cell_type": "markdown",
   "id": "cbcdbf3f",
   "metadata": {},
   "source": [
    "<!-- BEGIN QUESTION -->\n",
    "\n",
    "---\n",
    "\n",
    "**Question 1.2.** State the null hypothesis. It should reflect the position of either Dr. DeNero or Dr. Sahai. **(4 points)**\n",
    "\n",
    "*Note:* Check out [11.3](https://inferentialthinking.com/chapters/11/3/Decisions_and_Uncertainty.html#step-1-the-hypotheses) for a refresher on hypotheses.\n"
   ]
  },
  {
   "cell_type": "markdown",
   "id": "dd2aedf3",
   "metadata": {},
   "source": [
    "_Type your answer here, replacing this text._"
   ]
  },
  {
   "cell_type": "markdown",
   "id": "3659c8b8",
   "metadata": {},
   "source": [
    "<!-- END QUESTION -->\n",
    "\n",
    "<!-- BEGIN QUESTION -->\n",
    "\n",
    "---\n",
    "\n",
    "**Question 1.3.** State the alternative hypothesis. It should reflect the position of the doctor you did not choose to represent in Question 1.2. **(4 points)**\n",
    "\n",
    "*Note:* Check out [11.3](https://inferentialthinking.com/chapters/11/3/Decisions_and_Uncertainty.html#step-1-the-hypotheses) for a refresher on hypotheses.\n"
   ]
  },
  {
   "cell_type": "markdown",
   "id": "68b6a28d",
   "metadata": {},
   "source": [
    "_Type your answer here, replacing this text._"
   ]
  },
  {
   "cell_type": "markdown",
   "id": "34788999",
   "metadata": {},
   "source": [
    "<!-- END QUESTION -->\n",
    "\n",
    "---\n",
    "\n",
    "**Question 1.4.** One of the test statistics below is appropriate for testing these hypotheses. Assign the variable `valid_test_stat` to the number corresponding to the correct test statistic. **(4 points)**\n",
    "\n",
    "_Hint:_ Recall that large values of the test statistic should favor the alternative hypothesis.\n",
    "\n",
    "1. percent of heads - 60\n",
    "2. |percent of heads - 60|\n",
    "3. percent of heads - 50\n",
    "4. |percent of heads - 50|\n"
   ]
  },
  {
   "cell_type": "code",
   "execution_count": 5,
   "id": "9f3dac3d",
   "metadata": {
    "tags": []
   },
   "outputs": [
    {
     "data": {
      "text/plain": [
       "2"
      ]
     },
     "execution_count": 5,
     "metadata": {},
     "output_type": "execute_result"
    }
   ],
   "source": [
    "valid_test_stat = 2\n",
    "valid_test_stat"
   ]
  },
  {
   "cell_type": "code",
   "execution_count": 6,
   "id": "4db6c8c5",
   "metadata": {
    "deletable": false,
    "editable": false
   },
   "outputs": [
    {
     "data": {
      "text/html": [
       "<p><strong><pre style='display: inline;'>q1_4</pre></strong> passed! 🍀</p>"
      ],
      "text/plain": [
       "q1_4 results: All test cases passed!"
      ]
     },
     "execution_count": 6,
     "metadata": {},
     "output_type": "execute_result"
    }
   ],
   "source": [
    "grader.check(\"q1_4\")"
   ]
  },
  {
   "cell_type": "markdown",
   "id": "61410113",
   "metadata": {},
   "source": [
    "---\n",
    "\n",
    "**Question 1.5.** Using your answer from Questions 1.1 and 1.4, find the observed value of the test statistic and assign it to the variable `observed_statistic`. Recall that the observed statistic is the test statistic value that was observed in the real life data. **(4 points)**\n"
   ]
  },
  {
   "cell_type": "code",
   "execution_count": 7,
   "id": "b4c12ca4",
   "metadata": {
    "tags": []
   },
   "outputs": [
    {
     "data": {
      "text/plain": [
       "6.352201257861637"
      ]
     },
     "execution_count": 7,
     "metadata": {},
     "output_type": "execute_result"
    }
   ],
   "source": [
    "observed_statistic = abs(percent_V1 - 60)\n",
    "observed_statistic"
   ]
  },
  {
   "cell_type": "code",
   "execution_count": 8,
   "id": "c4bda55b",
   "metadata": {
    "deletable": false,
    "editable": false
   },
   "outputs": [
    {
     "data": {
      "text/html": [
       "<p><strong><pre style='display: inline;'>q1_5</pre></strong> passed! 🌟</p>"
      ],
      "text/plain": [
       "q1_5 results: All test cases passed!"
      ]
     },
     "execution_count": 8,
     "metadata": {},
     "output_type": "execute_result"
    }
   ],
   "source": [
    "grader.check(\"q1_5\")"
   ]
  },
  {
   "cell_type": "markdown",
   "id": "2af17a84",
   "metadata": {},
   "source": [
    "---\n",
    "\n",
    "**Question 1.6.** In order to perform this hypothesis test, you must simulate the test statistic. From the four options below, pick the assumption that is needed for this simulation. Assign `assumption_needed` to an integer corresponding to the assumption. **(4 points)**\n",
    "\n",
    "1. The statistic must be simulated under the null hypothesis.\n",
    "2. The statistic must be simulated under the alternative hypothesis.\n",
    "3. The statistic must be simulated under both hypotheses.\n",
    "4. No assumptions are needed. We can just simulate the statistic.\n"
   ]
  },
  {
   "cell_type": "code",
   "execution_count": 9,
   "id": "aaa4247c",
   "metadata": {
    "tags": []
   },
   "outputs": [
    {
     "data": {
      "text/plain": [
       "1"
      ]
     },
     "execution_count": 9,
     "metadata": {},
     "output_type": "execute_result"
    }
   ],
   "source": [
    "assumption_needed = 1\n",
    "assumption_needed"
   ]
  },
  {
   "cell_type": "code",
   "execution_count": 10,
   "id": "a1979e80",
   "metadata": {
    "deletable": false,
    "editable": false
   },
   "outputs": [
    {
     "data": {
      "text/html": [
       "<p><strong><pre style='display: inline;'>q1_6</pre></strong> passed! 💯</p>"
      ],
      "text/plain": [
       "q1_6 results: All test cases passed!"
      ]
     },
     "execution_count": 10,
     "metadata": {},
     "output_type": "execute_result"
    }
   ],
   "source": [
    "grader.check(\"q1_6\")"
   ]
  },
  {
   "cell_type": "markdown",
   "id": "d724c184",
   "metadata": {},
   "source": [
    "<!-- BEGIN QUESTION -->\n",
    "\n",
    "---\n",
    "\n",
    "**Question 1.7.** Simulate 10,000 values of the test statistic under the assumption you picked in Question 1.6. **(4 points)** \n",
    "\n",
    "As usual, start by defining a function that simulates one value of the statistic. Your function should use `sample_proportions`. (You may find a variable defined in Question 1.1 useful here!) Then, write a `for` loop to simulate multiple values and collect them in the array `simulated_statistics`.\n",
    "\n",
    "Use as many lines of code as you need. We have included the code that visualizes the distribution of the simulated values. The red dot represents the observed statistic you found in Question 1.5.\n"
   ]
  },
  {
   "cell_type": "code",
   "execution_count": 11,
   "id": "3203ea47",
   "metadata": {
    "tags": []
   },
   "outputs": [],
   "source": [
    "def one_simulated_statistic():\n",
    "    res = sample_proportions(sample_size , [2/5, 3/5])\n",
    "    return abs(res.item(1)*100 - 60)"
   ]
  },
  {
   "cell_type": "code",
   "execution_count": 12,
   "id": "518fadb8",
   "metadata": {
    "tags": []
   },
   "outputs": [
    {
     "data": {
      "text/plain": [
       "2.264150943396224"
      ]
     },
     "execution_count": 12,
     "metadata": {},
     "output_type": "execute_result"
    }
   ],
   "source": [
    "# Run the this cell a few times to see how the simulated statistic changes\n",
    "one_simulated_statistic()"
   ]
  },
  {
   "cell_type": "code",
   "execution_count": 13,
   "id": "6e572943",
   "metadata": {
    "tags": []
   },
   "outputs": [],
   "source": [
    "num_simulations = 10000\n",
    "\n",
    "simulated_statistics = make_array()\n",
    "for i in range(10000):\n",
    "    simulated_statistics = np.append(simulated_statistics, one_simulated_statistic())"
   ]
  },
  {
   "cell_type": "code",
   "execution_count": 14,
   "id": "08a366b2-15c5-4d38-935d-02ce1ee80575",
   "metadata": {},
   "outputs": [
    {
     "data": {
      "text/plain": [
       "6.352201257861637"
      ]
     },
     "execution_count": 14,
     "metadata": {},
     "output_type": "execute_result"
    }
   ],
   "source": [
    "observed_statistic"
   ]
  },
  {
   "cell_type": "code",
   "execution_count": 15,
   "id": "e5519b96",
   "metadata": {},
   "outputs": [
    {
     "data": {
      "image/png": "[encoded data removed]",
      "text/plain": [
       "<Figure size 600x400 with 1 Axes>"
      ]
     },
     "metadata": {},
     "output_type": "display_data"
    }
   ],
   "source": [
    "# Run this cell to produce a histogram of the simulated statistics\n",
    "\n",
    "Table().with_columns('Simulated Statistic', simulated_statistics).hist()\n",
    "plt.scatter(observed_statistic, -0.002, color='red', s=40);"
   ]
  },
  {
   "cell_type": "markdown",
   "id": "9f604968",
   "metadata": {},
   "source": [
    "<!-- END QUESTION -->\n",
    "\n",
    "---\n",
    "\n",
    "**Question 1.8.** Using `simulated_statistics`, `observed_statistic`, and `num_simulations`, find the empirical p-value based on the simulation. **(4 points)**\n",
    "\n",
    "_Hint:_ Reading [11.3.6](https://inferentialthinking.com/chapters/11/3/Decisions_and_Uncertainty.html#the-meaning-of-consistent) might be helpful for this question.\n"
   ]
  },
  {
   "cell_type": "code",
   "execution_count": 16,
   "id": "bf4bfeed",
   "metadata": {
    "tags": []
   },
   "outputs": [
    {
     "data": {
      "text/plain": [
       "0.0205"
      ]
     },
     "execution_count": 16,
     "metadata": {},
     "output_type": "execute_result"
    }
   ],
   "source": [
    "p_value = np.count_nonzero(simulated_statistics >= observed_statistic) / num_simulations\n",
    "p_value"
   ]
  },
  {
   "cell_type": "code",
   "execution_count": 17,
   "id": "831d9e18",
   "metadata": {
    "deletable": false,
    "editable": false
   },
   "outputs": [
    {
     "data": {
      "text/html": [
       "<p><strong><pre style='display: inline;'>q1_8</pre></strong> passed! 🙌</p>"
      ],
      "text/plain": [
       "q1_8 results: All test cases passed!"
      ]
     },
     "execution_count": 17,
     "metadata": {},
     "output_type": "execute_result"
    }
   ],
   "source": [
    "grader.check(\"q1_8\")"
   ]
  },
  {
   "cell_type": "markdown",
   "id": "e7390a46",
   "metadata": {},
   "source": [
    "---\n",
    "\n",
    "**Question 1.9.** Assign `correct_doctor` to the number corresponding to the correct statement below. Use the 5% cutoff for the p-value. **(4 points)**\n",
    "\n",
    "1. The data support Dr. DeNero's position more than they support Dr. Sahai's.\n",
    "2. The data support Dr. Sahai's position more than they support Dr. DeNero's.\n",
    "\n",
    "As a reminder, here are the two claims made by Dr. DeNero and Dr. Sahai:\n",
    "> **Doctor DeNero:** \"Oh wow, it's just like tossing a coin that lands heads with chance $\\frac{3}{5}$. Heads you get Vaccine 1 and Tails you get Vaccine 2.\"\n",
    "\n",
    ">**Doctor Sahai:** \"No, it's not. We're not doing anything like tossing a coin.\"\n"
   ]
  },
  {
   "cell_type": "code",
   "execution_count": 18,
   "id": "2b21059e",
   "metadata": {
    "tags": []
   },
   "outputs": [
    {
     "data": {
      "text/plain": [
       "2"
      ]
     },
     "execution_count": 18,
     "metadata": {},
     "output_type": "execute_result"
    }
   ],
   "source": [
    "correct_doctor = 2\n",
    "correct_doctor"
   ]
  },
  {
   "cell_type": "code",
   "execution_count": 19,
   "id": "c3baee78",
   "metadata": {
    "deletable": false,
    "editable": false
   },
   "outputs": [
    {
     "data": {
      "text/html": [
       "<p><strong><pre style='display: inline;'>q1_9</pre></strong> passed! 🌟</p>"
      ],
      "text/plain": [
       "q1_9 results: All test cases passed!"
      ]
     },
     "execution_count": 19,
     "metadata": {},
     "output_type": "execute_result"
    }
   ],
   "source": [
    "grader.check(\"q1_9\")"
   ]
  },
  {
   "cell_type": "markdown",
   "id": "087fe7b1",
   "metadata": {},
   "source": [
    "<hr style=\"border: 5px solid #003262;\" />\n",
    "<hr style=\"border: 1px solid #fdb515;\" />\n",
    "\n",
    "## 2. Using TVD as a Test Statistic\n",
    "\n",
    "Before beginning this section, please read [this section](https://inferentialthinking.com/chapters/11/2/Multiple_Categories.html#a-new-statistic-the-distance-between-two-distributions) of the textbook on TVD!"
   ]
  },
  {
   "cell_type": "markdown",
   "id": "97a60a79",
   "metadata": {},
   "source": [
    "**Total variation distance (TVD)** is a special type of test statistic that we use when we want to compare two distributions of *categorical data*. It is often used when we observe that a set of observed proportions/probabilities is different than what we expect under the null model. \n",
    "\n",
    "Consider a six-sided die that we roll 6,000 times. If the die is fair, we would expect that each face comes up $\\frac{1}{6}$ of the time. By random chance, a fair die won't always result in equal proportions (that is, we won't get exactly 1,000 of each face). However, if we suspect that the die might be unfair based on the data, we can conduct a hypothesis test using TVD to compare the expected [$\\frac{1}{6}$, $\\frac{1}{6}$, $\\frac{1}{6}$, $\\frac{1}{6}$, $\\frac{1}{6}$, $\\frac{1}{6}$] distribution to what is actually observed.\n",
    "\n",
    "In this part of the homework, we'll look at how we can use TVD to determine the effect that different factors have on happiness. \n",
    "\n",
    "We will be working with data from the [Gallup World Poll](https://worldhappiness.report/ed/2023/world-happiness-trust-and-social-connections-in-times-of-crisis/#ranking-of-happiness-2020-2022) that is presented in the World Happiness Report, a survey of the state of global happiness. The survey ranked 137 countries by overall happiness and estimated the influence that economic production, social support, life expectancy, freedom, absence of corruption, and generosity had on population happiness. The study has been repeated for several years, but we'll be looking at data from the 2023 survey.\n",
    "\n",
    "Run the cell below to load in the `happiness_scores` table."
   ]
  },
  {
   "cell_type": "code",
   "execution_count": 20,
   "id": "b09a15bf",
   "metadata": {},
   "outputs": [
    {
     "data": {
      "text/html": [
       "<table border=\"1\" class=\"dataframe\">\n",
       "    <thead>\n",
       "        <tr>\n",
       "            <th>Country</th> <th>Happiness Rank</th> <th>Happiness Score</th> <th>Standard error of happiness score</th> <th>Lower Confidence Interval</th> <th>Upper Confidence Interval</th> <th>Economy (Log GDP per capita)</th> <th>Family</th> <th>Health (life expectancy)</th> <th>Freedom</th> <th>Generosity</th> <th>Trust (Government Corruption)</th>\n",
       "        </tr>\n",
       "    </thead>\n",
       "    <tbody>\n",
       "        <tr>\n",
       "            <td>Finland    </td> <td>1             </td> <td>7.804          </td> <td>0.036                            </td> <td>7.875                    </td> <td>7.733                    </td> <td>1.888                       </td> <td>1.585 </td> <td>0.535                   </td> <td>0.772  </td> <td>0.126     </td> <td>0.535                        </td>\n",
       "        </tr>\n",
       "        <tr>\n",
       "            <td>Denmark    </td> <td>2             </td> <td>7.586          </td> <td>0.041                            </td> <td>7.667                    </td> <td>7.506                    </td> <td>1.949                       </td> <td>1.548 </td> <td>0.537                   </td> <td>0.734  </td> <td>0.208     </td> <td>0.525                        </td>\n",
       "        </tr>\n",
       "        <tr>\n",
       "            <td>Iceland    </td> <td>3             </td> <td>7.53           </td> <td>0.049                            </td> <td>7.625                    </td> <td>7.434                    </td> <td>1.926                       </td> <td>1.62  </td> <td>0.559                   </td> <td>0.738  </td> <td>0.25      </td> <td>0.187                        </td>\n",
       "        </tr>\n",
       "        <tr>\n",
       "            <td>Israel     </td> <td>4             </td> <td>7.473          </td> <td>0.032                            </td> <td>7.535                    </td> <td>7.411                    </td> <td>1.833                       </td> <td>1.521 </td> <td>0.577                   </td> <td>0.569  </td> <td>0.124     </td> <td>0.158                        </td>\n",
       "        </tr>\n",
       "        <tr>\n",
       "            <td>Netherlands</td> <td>5             </td> <td>7.403          </td> <td>0.029                            </td> <td>7.46                     </td> <td>7.346                    </td> <td>1.942                       </td> <td>1.488 </td> <td>0.545                   </td> <td>0.672  </td> <td>0.251     </td> <td>0.394                        </td>\n",
       "        </tr>\n",
       "    </tbody>\n",
       "</table>\n",
       "<p>... (132 rows omitted)</p>"
      ],
      "text/plain": [
       "<IPython.core.display.HTML object>"
      ]
     },
     "metadata": {},
     "output_type": "display_data"
    }
   ],
   "source": [
    "happiness_scores = Table.read_table(\"happiness_scores.csv\").drop(12, 13, 14).take(np.arange(137))\n",
    "happiness_scores.show(5)"
   ]
  },
  {
   "cell_type": "markdown",
   "id": "b2da3db2",
   "metadata": {},
   "source": [
    "Participants in the study were asked to evaluate their life satisfaction from a scale of 0 (worst possible life) to 10 (best possible life). The responses for each country were averaged to create the `Happiness Score`.\n",
    "\n",
    "The columns `Economy (Log GDP per Capita)`, `Family`, `Health (Life Expectancy)`, `Freedom`, `Generosity`, and `Trust (Government Corruption)` estimate the extent to which each factor influences happiness, both for better or for worse. The happiness score is the sum of these factors; the larger a factor is, the more it contributes to overall happiness. [In other words, if you add up all the factors (in addition to a \"Difference from Dystopia\" value we excluded in the dataset), you get the happiness score.]\n",
    "\n",
    "Let's look at the different factors that affect happiness in the United States. Run the cell below to view the row in `us_happiness` that contains data for the United States."
   ]
  },
  {
   "cell_type": "code",
   "execution_count": 21,
   "id": "11d8db22",
   "metadata": {},
   "outputs": [
    {
     "data": {
      "text/html": [
       "<table border=\"1\" class=\"dataframe\">\n",
       "    <thead>\n",
       "        <tr>\n",
       "            <th>Country</th> <th>Happiness Rank</th> <th>Happiness Score</th> <th>Standard error of happiness score</th> <th>Lower Confidence Interval</th> <th>Upper Confidence Interval</th> <th>Economy (Log GDP per capita)</th> <th>Family</th> <th>Health (life expectancy)</th> <th>Freedom</th> <th>Generosity</th> <th>Trust (Government Corruption)</th>\n",
       "        </tr>\n",
       "    </thead>\n",
       "    <tbody>\n",
       "        <tr>\n",
       "            <td>United States</td> <td>15            </td> <td>6.894          </td> <td>0.047                            </td> <td>6.986                    </td> <td>6.802                    </td> <td>1.98                        </td> <td>1.46  </td> <td>0.39                    </td> <td>0.557  </td> <td>0.21      </td> <td>0.172                        </td>\n",
       "        </tr>\n",
       "    </tbody>\n",
       "</table>"
      ],
      "text/plain": [
       "Country       | Happiness Rank | Happiness Score | Standard error of happiness score | Lower Confidence Interval | Upper Confidence Interval | Economy (Log GDP per capita) | Family | Health (life expectancy) | Freedom | Generosity | Trust (Government Corruption)\n",
       "United States | 15             | 6.894           | 0.047                             | 6.986                     | 6.802                     | 1.98                         | 1.46   | 0.39                     | 0.557   | 0.21       | 0.172"
      ]
     },
     "execution_count": 21,
     "metadata": {},
     "output_type": "execute_result"
    }
   ],
   "source": [
    "us_happiness = happiness_scores.where(\"Country\", \"United States\")\n",
    "us_happiness"
   ]
  },
  {
   "cell_type": "markdown",
   "id": "8c451ba1",
   "metadata": {},
   "source": [
    "**To compare the different factors, we'll look at the proportion of the happiness score that is attributed to each variable. \n",
    "You can find these proportions in the table `us_happiness_factors` after running the cell below.**\n",
    "\n",
    "*Note:* The factors shown in `us_happiness` don't add up exactly to the happiness score, so we adjusted the proportions to  only account for the data we have access to. The proportions were found by dividing each Happiness Factor value by the sum of all Happiness Factor values in `us_happiness`."
   ]
  },
  {
   "cell_type": "code",
   "execution_count": 22,
   "id": "b31ab779",
   "metadata": {},
   "outputs": [
    {
     "data": {
      "text/html": [
       "<table border=\"1\" class=\"dataframe\">\n",
       "    <thead>\n",
       "        <tr>\n",
       "            <th>Happiness Factor</th> <th>Proportion of Happiness Score</th>\n",
       "        </tr>\n",
       "    </thead>\n",
       "    <tbody>\n",
       "        <tr>\n",
       "            <td>Economy (GDP per Capita)     </td> <td>0.41521                      </td>\n",
       "        </tr>\n",
       "        <tr>\n",
       "            <td>Family                       </td> <td>0.306036                     </td>\n",
       "        </tr>\n",
       "        <tr>\n",
       "            <td>Health (Life Expectancy)     </td> <td>0.0818086                    </td>\n",
       "        </tr>\n",
       "        <tr>\n",
       "            <td>Freedom                      </td> <td>0.116865                     </td>\n",
       "        </tr>\n",
       "        <tr>\n",
       "            <td>Trust (Government Corruption)</td> <td>0.0361179                    </td>\n",
       "        </tr>\n",
       "        <tr>\n",
       "            <td>Generosity                   </td> <td>0.0439626                    </td>\n",
       "        </tr>\n",
       "    </tbody>\n",
       "</table>"
      ],
      "text/plain": [
       "Happiness Factor              | Proportion of Happiness Score\n",
       "Economy (GDP per Capita)      | 0.41521\n",
       "Family                        | 0.306036\n",
       "Health (Life Expectancy)      | 0.0818086\n",
       "Freedom                       | 0.116865\n",
       "Trust (Government Corruption) | 0.0361179\n",
       "Generosity                    | 0.0439626"
      ]
     },
     "execution_count": 22,
     "metadata": {},
     "output_type": "execute_result"
    }
   ],
   "source": [
    "us_happiness_factors = Table().read_table(\"us_happiness_factors.csv\")\n",
    "us_happiness_factors"
   ]
  },
  {
   "cell_type": "markdown",
   "id": "fc7dd5c1",
   "metadata": {},
   "source": [
    "<!-- BEGIN QUESTION -->\n",
    "\n",
    "---\n",
    "\n",
    "**Question 2.1.** Suppose we want to test whether or not each factor contributes the same amount to the overall Happiness Score. Define the null hypothesis, alternative hypothesis, and test statistic in the cell below. **(4 points)**\n",
    "\n",
    "*Note:* Please format your answer as follows:\n",
    "- Null Hypothesis: ...  \n",
    "- Alternative Hypothesis: ...  \n",
    "- Test Statistic: ...  \n"
   ]
  },
  {
   "cell_type": "markdown",
   "id": "fb8c71d4",
   "metadata": {},
   "source": [
    "_Type your answer here, replacing this text._"
   ]
  },
  {
   "cell_type": "markdown",
   "id": "131b97ac",
   "metadata": {},
   "source": [
    "<!-- END QUESTION -->\n",
    "\n",
    "---\n",
    "\n",
    "**Question 2.2.** Write a function `calculate_tvd` that takes in the observed distribution (`obs_dist`) and expected distribution under the null hypothesis (`null_dist`) and calculates the total variation distance. Use this function to set `observed_tvd` to be equal to the observed test statistic. **(4 points)**\n"
   ]
  },
  {
   "cell_type": "code",
   "execution_count": 23,
   "id": "dcce1443",
   "metadata": {
    "tags": []
   },
   "outputs": [
    {
     "data": {
      "text/plain": [
       "0.38791256366666665"
      ]
     },
     "execution_count": 23,
     "metadata": {},
     "output_type": "execute_result"
    }
   ],
   "source": [
    "null_distribution = make_array(1/6, 1/6, 1/6, 1/6, 1/6, 1/6)\n",
    "obs_dist = us_happiness_factors.column('Proportion of Happiness Score')\n",
    "def calculate_tvd(obs_dist, null_dist):\n",
    "    return np.sum(np.abs(obs_dist - null_dist))/2\n",
    "    \n",
    "observed_tvd = calculate_tvd(obs_dist, null_distribution)\n",
    "observed_tvd"
   ]
  },
  {
   "cell_type": "code",
   "execution_count": 24,
   "id": "f1e1bec3",
   "metadata": {
    "deletable": false,
    "editable": false
   },
   "outputs": [
    {
     "data": {
      "text/html": [
       "<p><strong><pre style='display: inline;'>q2_2</pre></strong> passed! ✨</p>"
      ],
      "text/plain": [
       "q2_2 results: All test cases passed!"
      ]
     },
     "execution_count": 24,
     "metadata": {},
     "output_type": "execute_result"
    }
   ],
   "source": [
    "grader.check(\"q2_2\")"
   ]
  },
  {
   "cell_type": "markdown",
   "id": "4c873ef1",
   "metadata": {},
   "source": [
    "---\n",
    "\n",
    "**Question 2.3.** Create an array called `simulated_tvds` that contains 10,000 simulated values under the null hypothesis. Assume that the original sample consisted of 1,000 individuals. **(4 points)**\n",
    "\n",
    "*Hint:* The `sample_proportions` function may be helpful to you. Refer to the [Python Reference Sheet](http://data8.org/fa24/reference/) to read up on it!\n"
   ]
  },
  {
   "cell_type": "code",
   "execution_count": 25,
   "id": "ffce5c73",
   "metadata": {
    "tags": []
   },
   "outputs": [
    {
     "data": {
      "text/plain": [
       "array([ 0.03033333,  0.02566667,  0.024     , ...,  0.03      ,\n",
       "        0.019     ,  0.04066667])"
      ]
     },
     "execution_count": 25,
     "metadata": {},
     "output_type": "execute_result"
    }
   ],
   "source": [
    "simulated_tvds = make_array()\n",
    "sample_size = 1000\n",
    "for i in range(10000):\n",
    "    tvd = calculate_tvd(sample_proportions(sample_size, null_distribution), null_distribution)\n",
    "    simulated_tvds = np.append(simulated_tvds, tvd)\n",
    "simulated_tvds "
   ]
  },
  {
   "cell_type": "code",
   "execution_count": 26,
   "id": "ab46ee3a-d7ff-4fdc-b7bf-a8f6fe95efae",
   "metadata": {},
   "outputs": [
    {
     "data": {
      "text/plain": [
       "0.028215733333333326"
      ]
     },
     "execution_count": 26,
     "metadata": {},
     "output_type": "execute_result"
    }
   ],
   "source": [
    "np.mean(simulated_tvds)"
   ]
  },
  {
   "cell_type": "code",
   "execution_count": 27,
   "id": "fcac92b6",
   "metadata": {
    "deletable": false,
    "editable": false
   },
   "outputs": [
    {
     "data": {
      "text/html": [
       "<p><strong><pre style='display: inline;'>q2_3</pre></strong> passed! 💯</p>"
      ],
      "text/plain": [
       "q2_3 results: All test cases passed!"
      ]
     },
     "execution_count": 27,
     "metadata": {},
     "output_type": "execute_result"
    }
   ],
   "source": [
    "grader.check(\"q2_3\")"
   ]
  },
  {
   "cell_type": "markdown",
   "id": "622b1f73",
   "metadata": {},
   "source": [
    "Run the cell below to plot a histogram of your simulated test statistics, as well as a red dot representing the observed value of the test statistic."
   ]
  },
  {
   "cell_type": "code",
   "execution_count": 28,
   "id": "3395dfc7",
   "metadata": {},
   "outputs": [
    {
     "data": {
      "image/png": "[encoded data removed]",
      "text/plain": [
       "<Figure size 600x400 with 1 Axes>"
      ]
     },
     "metadata": {},
     "output_type": "display_data"
    }
   ],
   "source": [
    "Table().with_column(\"Simulated TVDs\", simulated_tvds).hist()\n",
    "plt.scatter(observed_tvd, 0.5, color='red', s=70, zorder=2);\n",
    "plt.show();"
   ]
  },
  {
   "cell_type": "markdown",
   "id": "00f8043d",
   "metadata": {},
   "source": [
    "---\n",
    "\n",
    "**Question 2.4.** Use your simulated statistics to calculate the p-value of your test. Make sure that this number is consistent with what you observed in the histogram above. **(4 points)**\n"
   ]
  },
  {
   "cell_type": "code",
   "execution_count": 29,
   "id": "63993191",
   "metadata": {
    "tags": []
   },
   "outputs": [
    {
     "data": {
      "text/plain": [
       "0.0"
      ]
     },
     "execution_count": 29,
     "metadata": {},
     "output_type": "execute_result"
    }
   ],
   "source": [
    "p_value_tvd = np.count_nonzero(simulated_tvds >= observed_tvd) / 10000\n",
    "p_value_tvd"
   ]
  },
  {
   "cell_type": "code",
   "execution_count": 30,
   "id": "0833068b",
   "metadata": {
    "deletable": false,
    "editable": false
   },
   "outputs": [
    {
     "data": {
      "text/html": [
       "<p><strong><pre style='display: inline;'>q2_4</pre></strong> passed! 🎉</p>"
      ],
      "text/plain": [
       "q2_4 results: All test cases passed!"
      ]
     },
     "execution_count": 30,
     "metadata": {},
     "output_type": "execute_result"
    }
   ],
   "source": [
    "grader.check(\"q2_4\")"
   ]
  },
  {
   "cell_type": "markdown",
   "id": "9ac52311",
   "metadata": {},
   "source": [
    "<!-- BEGIN QUESTION -->\n",
    "\n",
    "---\n",
    "\n",
    "**Question 2.5.** What can you conclude about how each factor contributes to the overall happiness score in the US? Explain your answer using the results of your hypothesis test. Assume a p-value cutoff of 5%. **(4 points)**\n"
   ]
  },
  {
   "cell_type": "markdown",
   "id": "b3f57373",
   "metadata": {},
   "source": [
    "_Type your answer here, replacing this text._"
   ]
  },
  {
   "cell_type": "markdown",
   "id": "24adcc42",
   "metadata": {},
   "source": [
    "<!-- END QUESTION -->\n",
    "\n",
    "<hr style=\"border: 5px solid #003262;\" />\n",
    "<hr style=\"border: 1px solid #fdb515;\" />\n",
    "\n",
    "## 3. Who is Older?\n",
    "\n",
    "Data scientists have drawn a simple random sample of size 500 from a large population of adults. Each member of the population happened to identify as either \"male\" or \"female\". (Though many people identify outside of the gender binary, in this particular population of interest, each member happened to identify as either male or female.) Data was collected on several attributes of the sampled people, including age. The table `sampled_ages` contains one row for each person in the sample, with columns containing the individual's gender identity."
   ]
  },
  {
   "cell_type": "code",
   "execution_count": 31,
   "id": "199bf0dc",
   "metadata": {},
   "outputs": [
    {
     "data": {
      "text/html": [
       "<table border=\"1\" class=\"dataframe\">\n",
       "    <thead>\n",
       "        <tr>\n",
       "            <th>Gender</th> <th>Age</th>\n",
       "        </tr>\n",
       "    </thead>\n",
       "    <tbody>\n",
       "        <tr>\n",
       "            <td>male  </td> <td>23  </td>\n",
       "        </tr>\n",
       "        <tr>\n",
       "            <td>male  </td> <td>29  </td>\n",
       "        </tr>\n",
       "        <tr>\n",
       "            <td>male  </td> <td>29  </td>\n",
       "        </tr>\n",
       "        <tr>\n",
       "            <td>female</td> <td>49  </td>\n",
       "        </tr>\n",
       "        <tr>\n",
       "            <td>female</td> <td>33  </td>\n",
       "        </tr>\n",
       "    </tbody>\n",
       "</table>\n",
       "<p>... (495 rows omitted)</p>"
      ],
      "text/plain": [
       "<IPython.core.display.HTML object>"
      ]
     },
     "metadata": {},
     "output_type": "display_data"
    }
   ],
   "source": [
    "sampled_ages = Table.read_table('age.csv') \n",
    "sampled_ages.show(5)"
   ]
  },
  {
   "cell_type": "markdown",
   "id": "fba6929e",
   "metadata": {},
   "source": [
    "---\n",
    "\n",
    "**Question 3.1.** How many females were there in our sample? Please use the provided skeleton code. **(4 points)**\n",
    "\n",
    "*Hint:* Keep in mind that `.group` sorts categories in alphabetical order!\n"
   ]
  },
  {
   "cell_type": "code",
   "execution_count": 32,
   "id": "64487b3c",
   "metadata": {
    "tags": []
   },
   "outputs": [
    {
     "data": {
      "text/plain": [
       "260"
      ]
     },
     "execution_count": 32,
     "metadata": {},
     "output_type": "execute_result"
    }
   ],
   "source": [
    "num_females = sampled_ages.group('Gender').row(0).item(1)\n",
    "num_females"
   ]
  },
  {
   "cell_type": "code",
   "execution_count": 33,
   "id": "19ee2e3f",
   "metadata": {
    "deletable": false,
    "editable": false
   },
   "outputs": [
    {
     "data": {
      "text/html": [
       "<p><strong><pre style='display: inline;'>q3_1</pre></strong> passed! 🍀</p>"
      ],
      "text/plain": [
       "q3_1 results: All test cases passed!"
      ]
     },
     "execution_count": 33,
     "metadata": {},
     "output_type": "execute_result"
    }
   ],
   "source": [
    "grader.check(\"q3_1\")"
   ]
  },
  {
   "cell_type": "markdown",
   "id": "06249963",
   "metadata": {},
   "source": [
    "---\n",
    "\n",
    "**Question 3.2.** Complete the cell below so that `avg_male_vs_female` evaluates to `True` if the sampled males are older than the sampled females on average, and `False` otherwise. Use Python code to achieve this. **(4 points)**\n"
   ]
  },
  {
   "cell_type": "code",
   "execution_count": 34,
   "id": "b9e9ce86-6698-406b-acd8-0a10b1559201",
   "metadata": {},
   "outputs": [
    {
     "data": {
      "text/html": [
       "<table border=\"1\" class=\"dataframe\">\n",
       "    <thead>\n",
       "        <tr>\n",
       "            <th>Gender</th> <th>Age mean</th>\n",
       "        </tr>\n",
       "    </thead>\n",
       "    <tbody>\n",
       "        <tr>\n",
       "            <td>female</td> <td>42.0692 </td>\n",
       "        </tr>\n",
       "        <tr>\n",
       "            <td>male  </td> <td>43.3833 </td>\n",
       "        </tr>\n",
       "    </tbody>\n",
       "</table>"
      ],
      "text/plain": [
       "Gender | Age mean\n",
       "female | 42.0692\n",
       "male   | 43.3833"
      ]
     },
     "execution_count": 34,
     "metadata": {},
     "output_type": "execute_result"
    }
   ],
   "source": [
    "group_mean_tbl = sampled_ages.group('Gender', np.mean)\n",
    "group_mean_tbl"
   ]
  },
  {
   "cell_type": "code",
   "execution_count": 35,
   "id": "079fc710",
   "metadata": {
    "tags": []
   },
   "outputs": [
    {
     "data": {
      "text/plain": [
       "True"
      ]
     },
     "execution_count": 35,
     "metadata": {},
     "output_type": "execute_result"
    }
   ],
   "source": [
    "\n",
    "group_means = group_mean_tbl.column(1)     # array of mean ages\n",
    "avg_male_vs_female = group_means.item(1) > group_means.item(0)\n",
    "avg_male_vs_female"
   ]
  },
  {
   "cell_type": "code",
   "execution_count": 36,
   "id": "ec0ccf28",
   "metadata": {
    "deletable": false,
    "editable": false
   },
   "outputs": [
    {
     "data": {
      "text/html": [
       "<p><strong><pre style='display: inline;'>q3_2</pre></strong> passed! 🎉</p>"
      ],
      "text/plain": [
       "q3_2 results: All test cases passed!"
      ]
     },
     "execution_count": 36,
     "metadata": {},
     "output_type": "execute_result"
    }
   ],
   "source": [
    "grader.check(\"q3_2\")"
   ]
  },
  {
   "cell_type": "markdown",
   "id": "2694c91f",
   "metadata": {},
   "source": [
    "---\n",
    "\n",
    "**Question 3.3.** The data scientists want to use the data to test whether males are older than females. One of the following statements is their null hypothesis and another is their alternative hypothesis. Assign `null_statement_number` and `alternative_statement_number` to the numbers of the correct statements in the code cell below. **(4 points)**\n",
    "\n",
    "1. In the sample, the males and females have the same distribution of ages; the sample averages of the two groups are different due to chance.\n",
    "2. In the population, the males and females have the same distribution of ages; the sample averages of the two groups are different due to chance.\n",
    "3. The age distributions of males and females in the population are different due to chance.\n",
    "4. The males in the sample are older than the females, on average.\n",
    "5. The males in the population are older than the females, on average.\n",
    "6. The average ages of the males and females in the population are different.\n"
   ]
  },
  {
   "cell_type": "code",
   "execution_count": 37,
   "id": "a7c4a33a",
   "metadata": {
    "tags": []
   },
   "outputs": [],
   "source": [
    "null_statement_number = 2\n",
    "alternative_statement_number = 5"
   ]
  },
  {
   "cell_type": "code",
   "execution_count": 38,
   "id": "d3c40179",
   "metadata": {
    "deletable": false,
    "editable": false
   },
   "outputs": [
    {
     "data": {
      "text/html": [
       "<p><strong><pre style='display: inline;'>q3_3</pre></strong> passed! 💯</p>"
      ],
      "text/plain": [
       "q3_3 results: All test cases passed!"
      ]
     },
     "execution_count": 38,
     "metadata": {},
     "output_type": "execute_result"
    }
   ],
   "source": [
    "grader.check(\"q3_3\")"
   ]
  },
  {
   "cell_type": "markdown",
   "id": "d799a3f3",
   "metadata": {},
   "source": [
    "---\n",
    "\n",
    "**Question 3.4.** The data scientists have decided to use a permutation test. Assign `permutation_test_reason` to the number corresponding to the reason they made this choice. **(4 points)**\n",
    "\n",
    "1. Since a person's age shouldn't be related to their gender, it doesn't matter who is labeled \"male\" and who is labeled \"female\", so you can use permutations.\n",
    "2. Under the null hypothesis, permuting the labels in the `sampled_ages` table is equivalent to drawing a new random sample with the same number of males and females as in the original sample.\n",
    "3. Under the null hypothesis, permuting the rows of `sampled_ages` table is equivalent to drawing a new random sample with the same number of males and females as in the original sample.\n",
    "\n",
    "*Note:* Check out [12.1](https://inferentialthinking.com/chapters/12/1/AB_Testing.html#permutation-test) for a refresher on random permutations and permutation tests.\n"
   ]
  },
  {
   "cell_type": "code",
   "execution_count": 39,
   "id": "e2944841",
   "metadata": {
    "tags": []
   },
   "outputs": [
    {
     "data": {
      "text/plain": [
       "3"
      ]
     },
     "execution_count": 39,
     "metadata": {},
     "output_type": "execute_result"
    }
   ],
   "source": [
    "permutation_test_reason = 3\n",
    "permutation_test_reason"
   ]
  },
  {
   "cell_type": "code",
   "execution_count": 40,
   "id": "1665b3b8",
   "metadata": {
    "deletable": false,
    "editable": false
   },
   "outputs": [
    {
     "data": {
      "text/html": [
       "<p><strong><pre style='display: inline;'>q3_4</pre></strong> passed! 🚀</p>"
      ],
      "text/plain": [
       "q3_4 results: All test cases passed!"
      ]
     },
     "execution_count": 40,
     "metadata": {},
     "output_type": "execute_result"
    }
   ],
   "source": [
    "grader.check(\"q3_4\")"
   ]
  },
  {
   "cell_type": "markdown",
   "id": "3379ff56",
   "metadata": {},
   "source": [
    "---\n",
    "\n",
    "**Question 3.5.** To test their hypotheses, the data scientists have followed our textbook's advice and chosen a test statistic where the following statement is true: Large values of the test statistic favor the alternative hypothesis.\n",
    "\n",
    "The data scientists' test statistic is one of the two options below. Which one is it? Assign the appropriate number to the variable `correct_test_stat`. **(4 points)**\n",
    "\n",
    "1. \"male age average - female age average\" in a sample created by randomly shuffling the male/female labels\n",
    "2. \"|male age average - female age average|\" in a sample created by randomly shuffling the male/female labels\n"
   ]
  },
  {
   "cell_type": "code",
   "execution_count": 41,
   "id": "23b0a0e9",
   "metadata": {
    "tags": []
   },
   "outputs": [
    {
     "data": {
      "text/plain": [
       "1"
      ]
     },
     "execution_count": 41,
     "metadata": {},
     "output_type": "execute_result"
    }
   ],
   "source": [
    "correct_test_stat = 1\n",
    "correct_test_stat"
   ]
  },
  {
   "cell_type": "code",
   "execution_count": 42,
   "id": "d68c02c6",
   "metadata": {
    "deletable": false,
    "editable": false
   },
   "outputs": [
    {
     "data": {
      "text/html": [
       "<p><strong><pre style='display: inline;'>q3_5</pre></strong> passed! 🙌</p>"
      ],
      "text/plain": [
       "q3_5 results: All test cases passed!"
      ]
     },
     "execution_count": 42,
     "metadata": {},
     "output_type": "execute_result"
    }
   ],
   "source": [
    "grader.check(\"q3_5\")"
   ]
  },
  {
   "cell_type": "markdown",
   "id": "87cbaa25",
   "metadata": {},
   "source": [
    "---\n",
    "\n",
    "**Question 3.6.** Complete the cell below so that `observed_statistic_ab` evaluates to the observed value of the data scientists' test statistic. Use as many lines of code as you need, and remember that you can use any quantity, table, or array that you created earlier. **(4 points)**\n"
   ]
  },
  {
   "cell_type": "code",
   "execution_count": 43,
   "id": "b08dc0bc",
   "metadata": {
    "tags": []
   },
   "outputs": [
    {
     "data": {
      "text/plain": [
       "1.314102564102562"
      ]
     },
     "execution_count": 43,
     "metadata": {},
     "output_type": "execute_result"
    }
   ],
   "source": [
    "observed_statistic_ab = abs(group_means.item(1) - group_means.item(0))\n",
    "observed_statistic_ab"
   ]
  },
  {
   "cell_type": "code",
   "execution_count": 44,
   "id": "34d69667",
   "metadata": {
    "deletable": false,
    "editable": false
   },
   "outputs": [
    {
     "data": {
      "text/html": [
       "<p><strong><pre style='display: inline;'>q3_6</pre></strong> passed! 💯</p>"
      ],
      "text/plain": [
       "q3_6 results: All test cases passed!"
      ]
     },
     "execution_count": 44,
     "metadata": {},
     "output_type": "execute_result"
    }
   ],
   "source": [
    "grader.check(\"q3_6\")"
   ]
  },
  {
   "cell_type": "markdown",
   "id": "7f7ed48d",
   "metadata": {},
   "source": [
    "---\n",
    "\n",
    "**Question 3.7.** Assign `shuffled_labels` to an array of shuffled male/female labels. The rest of the code puts the array in a table along with the data in `sampled_ages`. **(4 points)**\n"
   ]
  },
  {
   "cell_type": "code",
   "execution_count": 45,
   "id": "144f0bfa-c8b7-4d64-983d-c9cf4eaccc00",
   "metadata": {},
   "outputs": [
    {
     "data": {
      "text/html": [
       "<table border=\"1\" class=\"dataframe\">\n",
       "    <thead>\n",
       "        <tr>\n",
       "            <th>Gender</th> <th>Age</th>\n",
       "        </tr>\n",
       "    </thead>\n",
       "    <tbody>\n",
       "        <tr>\n",
       "            <td>male  </td> <td>23  </td>\n",
       "        </tr>\n",
       "        <tr>\n",
       "            <td>male  </td> <td>29  </td>\n",
       "        </tr>\n",
       "        <tr>\n",
       "            <td>male  </td> <td>29  </td>\n",
       "        </tr>\n",
       "        <tr>\n",
       "            <td>female</td> <td>49  </td>\n",
       "        </tr>\n",
       "        <tr>\n",
       "            <td>female</td> <td>33  </td>\n",
       "        </tr>\n",
       "        <tr>\n",
       "            <td>male  </td> <td>31  </td>\n",
       "        </tr>\n",
       "        <tr>\n",
       "            <td>male  </td> <td>60  </td>\n",
       "        </tr>\n",
       "        <tr>\n",
       "            <td>male  </td> <td>38  </td>\n",
       "        </tr>\n",
       "        <tr>\n",
       "            <td>female</td> <td>60  </td>\n",
       "        </tr>\n",
       "        <tr>\n",
       "            <td>female</td> <td>27  </td>\n",
       "        </tr>\n",
       "    </tbody>\n",
       "</table>\n",
       "<p>... (490 rows omitted)</p>"
      ],
      "text/plain": [
       "Gender | Age\n",
       "male   | 23\n",
       "male   | 29\n",
       "male   | 29\n",
       "female | 49\n",
       "female | 33\n",
       "male   | 31\n",
       "male   | 60\n",
       "male   | 38\n",
       "female | 60\n",
       "female | 27\n",
       "... (490 rows omitted)"
      ]
     },
     "execution_count": 45,
     "metadata": {},
     "output_type": "execute_result"
    }
   ],
   "source": [
    "sampled_ages"
   ]
  },
  {
   "cell_type": "code",
   "execution_count": 46,
   "id": "6f67be38",
   "metadata": {
    "tags": []
   },
   "outputs": [
    {
     "data": {
      "text/html": [
       "<table border=\"1\" class=\"dataframe\">\n",
       "    <thead>\n",
       "        <tr>\n",
       "            <th>Gender</th> <th>Age</th> <th>Shuffled Label</th>\n",
       "        </tr>\n",
       "    </thead>\n",
       "    <tbody>\n",
       "        <tr>\n",
       "            <td>male  </td> <td>23  </td> <td>female        </td>\n",
       "        </tr>\n",
       "        <tr>\n",
       "            <td>male  </td> <td>29  </td> <td>male          </td>\n",
       "        </tr>\n",
       "        <tr>\n",
       "            <td>male  </td> <td>29  </td> <td>female        </td>\n",
       "        </tr>\n",
       "        <tr>\n",
       "            <td>female</td> <td>49  </td> <td>female        </td>\n",
       "        </tr>\n",
       "        <tr>\n",
       "            <td>female</td> <td>33  </td> <td>male          </td>\n",
       "        </tr>\n",
       "        <tr>\n",
       "            <td>male  </td> <td>31  </td> <td>female        </td>\n",
       "        </tr>\n",
       "        <tr>\n",
       "            <td>male  </td> <td>60  </td> <td>female        </td>\n",
       "        </tr>\n",
       "        <tr>\n",
       "            <td>male  </td> <td>38  </td> <td>male          </td>\n",
       "        </tr>\n",
       "        <tr>\n",
       "            <td>female</td> <td>60  </td> <td>male          </td>\n",
       "        </tr>\n",
       "        <tr>\n",
       "            <td>female</td> <td>27  </td> <td>male          </td>\n",
       "        </tr>\n",
       "    </tbody>\n",
       "</table>\n",
       "<p>... (490 rows omitted)</p>"
      ],
      "text/plain": [
       "Gender | Age  | Shuffled Label\n",
       "male   | 23   | female\n",
       "male   | 29   | male\n",
       "male   | 29   | female\n",
       "female | 49   | female\n",
       "female | 33   | male\n",
       "male   | 31   | female\n",
       "male   | 60   | female\n",
       "male   | 38   | male\n",
       "female | 60   | male\n",
       "female | 27   | male\n",
       "... (490 rows omitted)"
      ]
     },
     "execution_count": 46,
     "metadata": {},
     "output_type": "execute_result"
    }
   ],
   "source": [
    "shuffled_labels = sampled_ages.sample(with_replacement=False).column('Gender')\n",
    "original_with_shuffled_labels = sampled_ages.with_columns('Shuffled Label', shuffled_labels)\n",
    "original_with_shuffled_labels"
   ]
  },
  {
   "cell_type": "code",
   "execution_count": 47,
   "id": "788a39ff",
   "metadata": {
    "deletable": false,
    "editable": false
   },
   "outputs": [
    {
     "data": {
      "text/html": [
       "<p><strong><pre style='display: inline;'>q3_7</pre></strong> passed! 🚀</p>"
      ],
      "text/plain": [
       "q3_7 results: All test cases passed!"
      ]
     },
     "execution_count": 47,
     "metadata": {},
     "output_type": "execute_result"
    }
   ],
   "source": [
    "grader.check(\"q3_7\")"
   ]
  },
  {
   "cell_type": "markdown",
   "id": "b217d732",
   "metadata": {},
   "source": [
    "---\n",
    "\n",
    "**Question 3.8.** The comparison below uses the array `shuffled_labels` from Question 3.7 and the count `num_females` from Question 3.1.\n",
    "\n",
    "For this comparison, assign the correct letter as a string (e.g. `correct_q8 = 'A'`) from one of the following options to the variable `correct_q8`. **Pretend this is a midterm problem and do not solve it using a code cell.** **(4 points)**\n",
    "\n",
    "`comp = np.count_nonzero(shuffled_labels == 'female') == num_females`\n",
    "\n",
    "A. `comp` is set to `True`.<br>\n",
    "B. `comp` is set to `False`.<br>\n",
    "C. `comp` is set to `True` or `False`, depending on how the shuffle came out.\n"
   ]
  },
  {
   "cell_type": "code",
   "execution_count": 48,
   "id": "cbeab399-1c5c-4af8-afbb-ac2539c0de70",
   "metadata": {},
   "outputs": [
    {
     "data": {
      "text/plain": [
       "True"
      ]
     },
     "execution_count": 48,
     "metadata": {},
     "output_type": "execute_result"
    }
   ],
   "source": [
    "comp = np.count_nonzero(shuffled_labels == 'female') == num_females\n",
    "comp"
   ]
  },
  {
   "cell_type": "code",
   "execution_count": 49,
   "id": "acb06500",
   "metadata": {
    "tags": []
   },
   "outputs": [
    {
     "data": {
      "text/plain": [
       "'C'"
      ]
     },
     "execution_count": 49,
     "metadata": {},
     "output_type": "execute_result"
    }
   ],
   "source": [
    "correct_q8 = 'C'\n",
    "correct_q8"
   ]
  },
  {
   "cell_type": "code",
   "execution_count": 50,
   "id": "89301133",
   "metadata": {
    "deletable": false,
    "editable": false
   },
   "outputs": [
    {
     "data": {
      "text/html": [
       "<p><strong><pre style='display: inline;'>q3_8</pre></strong> passed! 🎉</p>"
      ],
      "text/plain": [
       "q3_8 results: All test cases passed!"
      ]
     },
     "execution_count": 50,
     "metadata": {},
     "output_type": "execute_result"
    }
   ],
   "source": [
    "grader.check(\"q3_8\")"
   ]
  },
  {
   "cell_type": "markdown",
   "id": "c70885da",
   "metadata": {},
   "source": [
    "---\n",
    "\n",
    "**Question 3.9.** Define a function `simulate_one_statistic` that takes no arguments and returns one simulated value of the test statistic. We've given you a skeleton, but feel free to approach this question in a way that makes sense to you. Use as many lines of code as you need. Refer to the code you have previously written in this problem, as you might be able to re-use some of it. **(4 points)**\n"
   ]
  },
  {
   "cell_type": "code",
   "execution_count": 51,
   "id": "b945474e",
   "metadata": {
    "tags": []
   },
   "outputs": [],
   "source": [
    "def simulate_one_statistic():\n",
    "    \"Returns one value of our simulated test statistic\"\n",
    "    shuffled_labels = sampled_ages.sample(with_replacement=False).column('Gender')\n",
    "    shuffled_tbl = sampled_ages.with_columns('Shuffled Label', shuffled_labels)\n",
    "    group_means_ab = shuffled_tbl.select(\"Age\", \"Shuffled Label\").group('Shuffled Label', np.mean)\n",
    "    return abs(group_means_ab.column(1).item(1) - group_means_ab.column(1).item(0))"
   ]
  },
  {
   "cell_type": "code",
   "execution_count": 52,
   "id": "7b5c4683",
   "metadata": {
    "deletable": false,
    "editable": false
   },
   "outputs": [
    {
     "data": {
      "text/html": [
       "<p><strong><pre style='display: inline;'>q3_9</pre></strong> passed! 💯</p>"
      ],
      "text/plain": [
       "q3_9 results: All test cases passed!"
      ]
     },
     "execution_count": 52,
     "metadata": {},
     "output_type": "execute_result"
    }
   ],
   "source": [
    "grader.check(\"q3_9\")"
   ]
  },
  {
   "cell_type": "markdown",
   "id": "efe4c874",
   "metadata": {},
   "source": [
    "After you have defined your function, run the following cell a few times to see how the statistic varies."
   ]
  },
  {
   "cell_type": "code",
   "execution_count": 53,
   "id": "45659938",
   "metadata": {},
   "outputs": [
    {
     "data": {
      "text/plain": [
       "0.4326923076923066"
      ]
     },
     "execution_count": 53,
     "metadata": {},
     "output_type": "execute_result"
    }
   ],
   "source": [
    "simulate_one_statistic()"
   ]
  },
  {
   "cell_type": "markdown",
   "id": "0217f321",
   "metadata": {},
   "source": [
    "---\n",
    "\n",
    "**Question 3.10.** Complete the cell to simulate 5,000 values of the statistic. We have included the code that draws the empirical distribution of the statistic and shows the value of `observed_statistic_ab` from Question 3.6. Feel free to use as many lines of code as you need. **(4 points)**\n",
    "\n",
    "*Note:* This cell will take around a minute to run.\n"
   ]
  },
  {
   "cell_type": "code",
   "execution_count": null,
   "id": "4f3868d5",
   "metadata": {
    "tags": []
   },
   "outputs": [],
   "source": [
    "simulated_statistics_ab = make_array()\n",
    "\n",
    "for i in range(5000):\n",
    "    simulated_statistics_ab = np.append(simulated_statistics_ab, simulate_one_statistic())\n",
    "\n",
    "# Do not change these lines\n",
    "Table().with_columns('Simulated Statistic', simulated_statistics_ab).hist()\n",
    "plt.scatter(observed_statistic_ab, -0.002, color='red', s=70);"
   ]
  },
  {
   "cell_type": "markdown",
   "id": "2d3649e3",
   "metadata": {},
   "source": [
    "---\n",
    "\n",
    "**Question 3.11.** Use the simulation to find an empirical approximation to the p-value. Assign `p_val` to the appropriate p-value from this simulation. Then, assign `conclusion` to either `null_hyp` or `alt_hyp`. **(4 points)** \n",
    "\n",
    "*Note:* Assume that we use the 5% cutoff for the p-value.\n"
   ]
  },
  {
   "cell_type": "code",
   "execution_count": null,
   "id": "ff0b93fb",
   "metadata": {
    "tags": []
   },
   "outputs": [],
   "source": [
    "# These are variables provided for you to use.\n",
    "null_hyp = 'The data are consistent with the null hypothesis.'\n",
    "alt_hyp = 'The data support the alternative more than the null.'\n",
    "\n",
    "p_val = np.count_nonzero(simulated_statistics_ab > observed_statistic_ab) / 5000\n",
    "conclusion = alt_hyp\n",
    "\n",
    "p_val, conclusion # Do not change this line"
   ]
  },
  {
   "cell_type": "code",
   "execution_count": null,
   "id": "7d22d501",
   "metadata": {
    "deletable": false,
    "editable": false
   },
   "outputs": [],
   "source": [
    "grader.check(\"q3_11\")"
   ]
  },
  {
   "cell_type": "code",
   "execution_count": null,
   "id": "4a3e32dd-3c4b-4a2f-b436-3b735b7c69d2",
   "metadata": {},
   "outputs": [],
   "source": []
  },
  {
   "attachments": {},
   "cell_type": "markdown",
   "id": "85bc4bc6",
   "metadata": {},
   "source": [
    "You're done with Homework 6!  \n",
    "\n",
    "**Important submission steps:** \n",
    "1. Run the tests and verify that they all pass.\n",
    "2. Choose **Save Notebook** from the **File** menu, then **run the final cell**. \n",
    "3. Click the link to download the zip file.\n",
    "4. Go to [Gradescope](https://www.gradescope.com) and submit the zip file to the corresponding assignment. The name of this assignment is \"HW 06 Autograder\". \n",
    "\n",
    "**It is your responsibility to make sure your work is saved before running the last cell.**"
   ]
  },
  {
   "attachments": {},
   "cell_type": "markdown",
   "id": "f53d64c8",
   "metadata": {},
   "source": [
    "## Pets of Data 8\n",
    "**Gus** is enjoying the weather we're having lately. Congrats on surviving the heat and finishing homework 7!\n",
    "\n",
    "<img src=\"./gus2.jpeg\" width=\"40%\" alt=\"Black and white cat sitting next to window\"/>"
   ]
  },
  {
   "cell_type": "markdown",
   "id": "6f700bde",
   "metadata": {},
   "source": [
    "## Written Work Submission\n",
    "\n",
    "Below, you will see two cells. Running the first cell will automatically generate a PDF of all questions that need to be manually graded, and running the second cell will automatically generate a zip with your autograded answers. You are responsible for submitting both the coding portion (the zip) and the written portion (the PDF) to their respective Gradescope portals. **Please save before exporting!**\n",
    "\n",
    "> **Important: You must correctly assign the pages of your PDF after you submit to the correct gradescope assignment. If your pages are not correctly assigned and/or not in the correct PDF format by the deadline, we reserve the right to award no points for your written work.**\n",
    "\n",
    "If there are issues with automatically generating the PDF in the first cell, you can try downloading the notebook as a PDF by clicking on `File -> Save and Export Notebook As... -> Webpdf`. If that doesn't work either, you can manually take screenshots of your answers to the manually graded questions and submit one single PDF of your screenshots. Either way, **you are responsible for ensuring your submision follows our requirements, we will NOT be granting regrade requests for submissions that don't follow instructions.**\n",
    "\n",
    "**You must submit the PDF generated via one of these methods, we will not accept screenshots or Word documents.**"
   ]
  },
  {
   "cell_type": "code",
   "execution_count": null,
   "id": "9ccbf860",
   "metadata": {},
   "outputs": [],
   "source": [
    "# from otter.export import export_notebook\n",
    "# from os import path\n",
    "# from IPython.display import display, HTML\n",
    "# name = 'hw07'\n",
    "# export_notebook(f\"{name}.ipynb\", filtering=True, pagebreaks=True)\n",
    "# if(path.exists(f'{name}.pdf')):\n",
    "#     display(HTML(f\"Download your PDF <a href='{name}.pdf' download>here</a>.\"))\n",
    "# else:\n",
    "#     print(\"\\n Pdf generation failed, please try the other methods described above\")"
   ]
  },
  {
   "cell_type": "markdown",
   "id": "361bf71b",
   "metadata": {
    "deletable": false,
    "editable": false
   },
   "source": [
    "## Submission\n",
    "\n",
    "Make sure you have run all cells in your notebook in order before running the cell below, so that all images/graphs appear in the output. The cell below will generate a zip file for you to submit. **Please save before exporting!**"
   ]
  },
  {
   "cell_type": "code",
   "execution_count": null,
   "id": "1306374a",
   "metadata": {
    "deletable": false,
    "editable": false
   },
   "outputs": [],
   "source": [
    "# Save your notebook first, then run this cell to export your submission.\n",
    "grader.export(pdf=False, run_tests=True)"
   ]
  },
  {
   "cell_type": "markdown",
   "id": "1052cfa5",
   "metadata": {},
   "source": [
    " "
   ]
  }
 ],
 "metadata": {
  "kernelspec": {
   "display_name": "Python 3 (ipykernel)",
   "language": "python",
   "name": "python3"
  },
  "language_info": {
   "codemirror_mode": {
    "name": "ipython",
    "version": 3
   },
   "file_extension": ".py",
   "mimetype": "text/x-python",
   "name": "python",
   "nbconvert_exporter": "python",
   "pygments_lexer": "ipython3",
   "version": "3.12.6"
  },
  "otter": {
   "OK_FORMAT": true,
   "tests": {
    "q1_1": {
     "name": "q1_1",
     "points": [
      0,
      0,
      0,
      0
     ],
     "suites": [
      {
       "cases": [
        {
         "code": ">>> type(sample_size) == int\nTrue",
         "hidden": false,
         "locked": false
        },
        {
         "code": ">>> type(percent_V1) == float or type(percent_V1) == int\nTrue",
         "hidden": false,
         "locked": false
        },
        {
         "code": ">>> 100 <= sample_size <= 500\nTrue",
         "hidden": false,
         "locked": false
        },
        {
         "code": ">>> 1 <= percent_V1 <= 100\nTrue",
         "hidden": false,
         "locked": false
        }
       ],
       "scored": true,
       "setup": "",
       "teardown": "",
       "type": "doctest"
      }
     ]
    },
    "q1_4": {
     "name": "q1_4",
     "points": [
      0,
      0
     ],
     "suites": [
      {
       "cases": [
        {
         "code": ">>> type(valid_test_stat) == int\nTrue",
         "hidden": false,
         "locked": false
        },
        {
         "code": ">>> any((valid_test_stat == x for x in np.arange(1,5)))\nTrue",
         "hidden": false,
         "locked": false
        }
       ],
       "scored": true,
       "setup": "",
       "teardown": "",
       "type": "doctest"
      }
     ]
    },
    "q1_5": {
     "name": "q1_5",
     "points": [
      0,
      0
     ],
     "suites": [
      {
       "cases": [
        {
         "code": ">>> type(observed_statistic) == float\nTrue",
         "hidden": false,
         "locked": false
        },
        {
         "code": ">>> 0 <= observed_statistic <= 100\nTrue",
         "hidden": false,
         "locked": false
        }
       ],
       "scored": true,
       "setup": "",
       "teardown": "",
       "type": "doctest"
      }
     ]
    },
    "q1_6": {
     "name": "q1_6",
     "points": [
      0,
      0
     ],
     "suites": [
      {
       "cases": [
        {
         "code": ">>> type(assumption_needed) == int\nTrue",
         "hidden": false,
         "locked": false
        },
        {
         "code": ">>> 1 <= assumption_needed <= 4\nTrue",
         "hidden": false,
         "locked": false
        }
       ],
       "scored": true,
       "setup": "",
       "teardown": "",
       "type": "doctest"
      }
     ]
    },
    "q1_8": {
     "name": "q1_8",
     "points": [
      0,
      0
     ],
     "suites": [
      {
       "cases": [
        {
         "code": ">>> import numpy as np\n>>> type(p_value) == float or type(p_value) == np.float64\nTrue",
         "hidden": false,
         "locked": false
        },
        {
         "code": ">>> 0 <= p_value <= 1\nTrue",
         "hidden": false,
         "locked": false
        }
       ],
       "scored": true,
       "setup": "",
       "teardown": "",
       "type": "doctest"
      }
     ]
    },
    "q1_9": {
     "name": "q1_9",
     "points": [
      0,
      0
     ],
     "suites": [
      {
       "cases": [
        {
         "code": ">>> type(correct_doctor) == int\nTrue",
         "hidden": false,
         "locked": false
        },
        {
         "code": ">>> any((correct_doctor == x for x in (1,2)))\nTrue",
         "hidden": false,
         "locked": false
        }
       ],
       "scored": true,
       "setup": "",
       "teardown": "",
       "type": "doctest"
      }
     ]
    },
    "q2_2": {
     "name": "q2_2",
     "points": [
      2,
      2
     ],
     "suites": [
      {
       "cases": [
        {
         "code": ">>> type(observed_tvd) in set([float, np.float32, np.float64])\nTrue",
         "hidden": false,
         "locked": false
        },
        {
         "code": ">>> np.isclose(round(observed_tvd, 6), 0.38791256)\nTrue",
         "hidden": false,
         "locked": false
        }
       ],
       "scored": true,
       "setup": "",
       "teardown": "",
       "type": "doctest"
      }
     ]
    },
    "q2_3": {
     "name": "q2_3",
     "points": [
      1,
      1,
      1,
      1
     ],
     "suites": [
      {
       "cases": [
        {
         "code": ">>> len(simulated_tvds) == 10000\nTrue",
         "hidden": false,
         "locked": false
        },
        {
         "code": ">>> all(simulated_tvds >= 0)\nTrue",
         "hidden": false,
         "locked": false
        },
        {
         "code": ">>> # Make sure that your test statistic is not always the same value \n>>> len(np.unique(simulated_tvds)) != 1\nTrue",
         "hidden": false,
         "locked": false
        },
        {
         "code": ">>> # Make sure you're simulating under the null hypothesis\n>>> np.mean(simulated_tvds) < 0.1\nTrue",
         "hidden": false,
         "locked": false
        }
       ],
       "scored": true,
       "setup": "",
       "teardown": "",
       "type": "doctest"
      }
     ]
    },
    "q2_4": {
     "name": "q2_4",
     "points": [
      4
     ],
     "suites": [
      {
       "cases": [
        {
         "code": ">>> 0 <= p_value_tvd <= 1\nTrue",
         "hidden": false,
         "locked": false
        }
       ],
       "scored": true,
       "setup": "",
       "teardown": "",
       "type": "doctest"
      }
     ]
    },
    "q3_1": {
     "name": "q3_1",
     "points": [
      0
     ],
     "suites": [
      {
       "cases": [
        {
         "code": ">>> 0 <= num_females <= 500\nTrue",
         "hidden": false,
         "locked": false
        }
       ],
       "scored": true,
       "setup": "",
       "teardown": "",
       "type": "doctest"
      }
     ]
    },
    "q3_10": {
     "name": "q3_10",
     "points": [],
     "suites": [
      {
       "cases": [],
       "scored": true,
       "setup": "",
       "teardown": "",
       "type": "doctest"
      }
     ]
    },
    "q3_11": {
     "name": "q3_11",
     "points": [
      0,
      0,
      0
     ],
     "suites": [
      {
       "cases": [
        {
         "code": ">>> type(p_val) in set([float, np.float32, np.float64])\nTrue",
         "hidden": false,
         "locked": false
        },
        {
         "code": ">>> 0 <= p_val <= 1\nTrue",
         "hidden": false,
         "locked": false
        },
        {
         "code": ">>> type(conclusion) == str\nTrue",
         "hidden": false,
         "locked": false
        }
       ],
       "scored": true,
       "setup": "",
       "teardown": "",
       "type": "doctest"
      }
     ]
    },
    "q3_2": {
     "name": "q3_2",
     "points": [
      0
     ],
     "suites": [
      {
       "cases": [
        {
         "code": ">>> import numpy as np\n>>> type(avg_male_vs_female) in set([bool, np.bool_])\nTrue",
         "hidden": false,
         "locked": false
        }
       ],
       "scored": true,
       "setup": "",
       "teardown": "",
       "type": "doctest"
      }
     ]
    },
    "q3_3": {
     "name": "q3_3",
     "points": [
      0,
      0,
      0,
      0,
      0
     ],
     "suites": [
      {
       "cases": [
        {
         "code": ">>> type(null_statement_number) == int\nTrue",
         "hidden": false,
         "locked": false
        },
        {
         "code": ">>> type(alternative_statement_number) == int\nTrue",
         "hidden": false,
         "locked": false
        },
        {
         "code": ">>> any(null_statement_number == x for x in np.arange(1,7))\nTrue",
         "hidden": false,
         "locked": false
        },
        {
         "code": ">>> any(alternative_statement_number == x for x in np.arange(1,7))\nTrue",
         "hidden": false,
         "locked": false
        },
        {
         "code": ">>> null_statement_number != alternative_statement_number\nTrue",
         "hidden": false,
         "locked": false
        }
       ],
       "scored": true,
       "setup": "",
       "teardown": "",
       "type": "doctest"
      }
     ]
    },
    "q3_4": {
     "name": "q3_4",
     "points": [
      0,
      0
     ],
     "suites": [
      {
       "cases": [
        {
         "code": ">>> type(permutation_test_reason) == int\nTrue",
         "hidden": false,
         "locked": false
        },
        {
         "code": ">>> any(permutation_test_reason == x for x in np.arange(1,4))\nTrue",
         "hidden": false,
         "locked": false
        }
       ],
       "scored": true,
       "setup": "",
       "teardown": "",
       "type": "doctest"
      }
     ]
    },
    "q3_5": {
     "name": "q3_5",
     "points": [
      0,
      0
     ],
     "suites": [
      {
       "cases": [
        {
         "code": ">>> type(correct_test_stat) == int\nTrue",
         "hidden": false,
         "locked": false
        },
        {
         "code": ">>> any(correct_test_stat == x for x in np.arange(1,3))\nTrue",
         "hidden": false,
         "locked": false
        }
       ],
       "scored": true,
       "setup": "",
       "teardown": "",
       "type": "doctest"
      }
     ]
    },
    "q3_6": {
     "name": "q3_6",
     "points": [
      0,
      0
     ],
     "suites": [
      {
       "cases": [
        {
         "code": ">>> type(observed_statistic_ab) in set([float, np.float64])\nTrue",
         "hidden": false,
         "locked": false
        },
        {
         "code": ">>> observed_statistic_ab >= 0\nTrue",
         "hidden": false,
         "locked": false
        }
       ],
       "scored": true,
       "setup": "",
       "teardown": "",
       "type": "doctest"
      }
     ]
    },
    "q3_7": {
     "name": "q3_7",
     "points": [
      0,
      0,
      0
     ],
     "suites": [
      {
       "cases": [
        {
         "code": ">>> type(original_with_shuffled_labels) == Table\nTrue",
         "hidden": false,
         "locked": false
        },
        {
         "code": ">>> original_with_shuffled_labels.labels == (\"Gender\", \"Age\", \"Shuffled Label\")\nTrue",
         "hidden": false,
         "locked": false
        },
        {
         "code": ">>> original_with_shuffled_labels.num_rows == 500\nTrue",
         "hidden": false,
         "locked": false
        }
       ],
       "scored": true,
       "setup": "",
       "teardown": "",
       "type": "doctest"
      }
     ]
    },
    "q3_8": {
     "name": "q3_8",
     "points": [
      0
     ],
     "suites": [
      {
       "cases": [
        {
         "code": ">>> type(correct_q8) == str\nTrue",
         "hidden": false,
         "locked": false
        }
       ],
       "scored": true,
       "setup": "",
       "teardown": "",
       "type": "doctest"
      }
     ]
    },
    "q3_9": {
     "name": "q3_9",
     "points": [
      4
     ],
     "suites": [
      {
       "cases": [
        {
         "code": ">>> -5 < simulate_one_statistic() < 5\nTrue",
         "hidden": false,
         "locked": false
        }
       ],
       "scored": true,
       "setup": "",
       "teardown": "",
       "type": "doctest"
      }
     ]
    }
   }
  }
 },
 "nbformat": 4,
 "nbformat_minor": 5
}
