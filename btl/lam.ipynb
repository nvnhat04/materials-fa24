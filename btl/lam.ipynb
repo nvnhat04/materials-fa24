{
 "cells": [
  {
   "cell_type": "markdown",
   "id": "3744e47f",
   "metadata": {},
   "source": [
    "Import các thư viện cần dùng:"
   ]
  },
  {
   "cell_type": "code",
   "execution_count": 5,
   "id": "49805e11",
   "metadata": {},
   "outputs": [],
   "source": [
    "import numpy as np\n",
    "from datascience import * \n",
    "\n",
    "import matplotlib\n",
    "%matplotlib inline\n",
    "import matplotlib.pyplot as plt\n",
    "plt.style.use('fivethirtyeight')\n",
    "import warnings\n",
    "warnings.simplefilter('ignore', FutureWarning)\n",
    "from datetime import datetime"
   ]
  },
  {
   "cell_type": "code",
   "execution_count": 2,
   "id": "ae5145ff",
   "metadata": {},
   "outputs": [
    {
     "name": "stdout",
     "output_type": "stream",
     "text": [
      "Collecting scikit-learn\n",
      "  Using cached scikit_learn-1.6.1-cp312-cp312-win_amd64.whl.metadata (15 kB)\n",
      "Requirement already satisfied: numpy>=1.19.5 in d:\\github\\materials-fa24\\venv\\lib\\site-packages (from scikit-learn) (2.2.3)\n",
      "Requirement already satisfied: scipy>=1.6.0 in d:\\github\\materials-fa24\\venv\\lib\\site-packages (from scikit-learn) (1.15.2)\n",
      "Collecting joblib>=1.2.0 (from scikit-learn)\n",
      "  Downloading joblib-1.5.0-py3-none-any.whl.metadata (5.6 kB)\n",
      "Collecting threadpoolctl>=3.1.0 (from scikit-learn)\n",
      "  Using cached threadpoolctl-3.6.0-py3-none-any.whl.metadata (13 kB)\n",
      "Using cached scikit_learn-1.6.1-cp312-cp312-win_amd64.whl (11.1 MB)\n",
      "Downloading joblib-1.5.0-py3-none-any.whl (307 kB)\n",
      "Using cached threadpoolctl-3.6.0-py3-none-any.whl (18 kB)\n",
      "Installing collected packages: threadpoolctl, joblib, scikit-learn\n",
      "\n",
      "   ------------- -------------------------- 1/3 [joblib]\n",
      "   ------------- -------------------------- 1/3 [joblib]\n",
      "   ------------- -------------------------- 1/3 [joblib]\n",
      "   ------------- -------------------------- 1/3 [joblib]\n",
      "   ------------- -------------------------- 1/3 [joblib]\n",
      "   ------------- -------------------------- 1/3 [joblib]\n",
      "   ------------- -------------------------- 1/3 [joblib]\n",
      "   ------------- -------------------------- 1/3 [joblib]\n",
      "   ------------- -------------------------- 1/3 [joblib]\n",
      "   ------------- -------------------------- 1/3 [joblib]\n",
      "   -------------------------- ------------- 2/3 [scikit-learn]\n",
      "   -------------------------- ------------- 2/3 [scikit-learn]\n",
      "   -------------------------- ------------- 2/3 [scikit-learn]\n",
      "   -------------------------- ------------- 2/3 [scikit-learn]\n",
      "   -------------------------- ------------- 2/3 [scikit-learn]\n",
      "   -------------------------- ------------- 2/3 [scikit-learn]\n",
      "   -------------------------- ------------- 2/3 [scikit-learn]\n",
      "   -------------------------- ------------- 2/3 [scikit-learn]\n",
      "   -------------------------- ------------- 2/3 [scikit-learn]\n",
      "   -------------------------- ------------- 2/3 [scikit-learn]\n",
      "   -------------------------- ------------- 2/3 [scikit-learn]\n",
      "   -------------------------- ------------- 2/3 [scikit-learn]\n",
      "   -------------------------- ------------- 2/3 [scikit-learn]\n",
      "   -------------------------- ------------- 2/3 [scikit-learn]\n",
      "   -------------------------- ------------- 2/3 [scikit-learn]\n",
      "   -------------------------- ------------- 2/3 [scikit-learn]\n",
      "   -------------------------- ------------- 2/3 [scikit-learn]\n",
      "   -------------------------- ------------- 2/3 [scikit-learn]\n",
      "   -------------------------- ------------- 2/3 [scikit-learn]\n",
      "   -------------------------- ------------- 2/3 [scikit-learn]\n",
      "   -------------------------- ------------- 2/3 [scikit-learn]\n",
      "   -------------------------- ------------- 2/3 [scikit-learn]\n",
      "   -------------------------- ------------- 2/3 [scikit-learn]\n",
      "   -------------------------- ------------- 2/3 [scikit-learn]\n",
      "   -------------------------- ------------- 2/3 [scikit-learn]\n",
      "   -------------------------- ------------- 2/3 [scikit-learn]\n",
      "   -------------------------- ------------- 2/3 [scikit-learn]\n",
      "   -------------------------- ------------- 2/3 [scikit-learn]\n",
      "   -------------------------- ------------- 2/3 [scikit-learn]\n",
      "   -------------------------- ------------- 2/3 [scikit-learn]\n",
      "   -------------------------- ------------- 2/3 [scikit-learn]\n",
      "   -------------------------- ------------- 2/3 [scikit-learn]\n",
      "   -------------------------- ------------- 2/3 [scikit-learn]\n",
      "   -------------------------- ------------- 2/3 [scikit-learn]\n",
      "   -------------------------- ------------- 2/3 [scikit-learn]\n",
      "   -------------------------- ------------- 2/3 [scikit-learn]\n",
      "   -------------------------- ------------- 2/3 [scikit-learn]\n",
      "   -------------------------- ------------- 2/3 [scikit-learn]\n",
      "   -------------------------- ------------- 2/3 [scikit-learn]\n",
      "   -------------------------- ------------- 2/3 [scikit-learn]\n",
      "   -------------------------- ------------- 2/3 [scikit-learn]\n",
      "   -------------------------- ------------- 2/3 [scikit-learn]\n",
      "   -------------------------- ------------- 2/3 [scikit-learn]\n",
      "   -------------------------- ------------- 2/3 [scikit-learn]\n",
      "   -------------------------- ------------- 2/3 [scikit-learn]\n",
      "   -------------------------- ------------- 2/3 [scikit-learn]\n",
      "   -------------------------- ------------- 2/3 [scikit-learn]\n",
      "   -------------------------- ------------- 2/3 [scikit-learn]\n",
      "   -------------------------- ------------- 2/3 [scikit-learn]\n",
      "   -------------------------- ------------- 2/3 [scikit-learn]\n",
      "   -------------------------- ------------- 2/3 [scikit-learn]\n",
      "   -------------------------- ------------- 2/3 [scikit-learn]\n",
      "   -------------------------- ------------- 2/3 [scikit-learn]\n",
      "   -------------------------- ------------- 2/3 [scikit-learn]\n",
      "   -------------------------- ------------- 2/3 [scikit-learn]\n",
      "   -------------------------- ------------- 2/3 [scikit-learn]\n",
      "   -------------------------- ------------- 2/3 [scikit-learn]\n",
      "   -------------------------- ------------- 2/3 [scikit-learn]\n",
      "   -------------------------- ------------- 2/3 [scikit-learn]\n",
      "   -------------------------- ------------- 2/3 [scikit-learn]\n",
      "   -------------------------- ------------- 2/3 [scikit-learn]\n",
      "   -------------------------- ------------- 2/3 [scikit-learn]\n",
      "   -------------------------- ------------- 2/3 [scikit-learn]\n",
      "   -------------------------- ------------- 2/3 [scikit-learn]\n",
      "   -------------------------- ------------- 2/3 [scikit-learn]\n",
      "   -------------------------- ------------- 2/3 [scikit-learn]\n",
      "   -------------------------- ------------- 2/3 [scikit-learn]\n",
      "   -------------------------- ------------- 2/3 [scikit-learn]\n",
      "   -------------------------- ------------- 2/3 [scikit-learn]\n",
      "   -------------------------- ------------- 2/3 [scikit-learn]\n",
      "   -------------------------- ------------- 2/3 [scikit-learn]\n",
      "   -------------------------- ------------- 2/3 [scikit-learn]\n",
      "   -------------------------- ------------- 2/3 [scikit-learn]\n",
      "   -------------------------- ------------- 2/3 [scikit-learn]\n",
      "   ---------------------------------------- 3/3 [scikit-learn]\n",
      "\n",
      "Successfully installed joblib-1.5.0 scikit-learn-1.6.1 threadpoolctl-3.6.0\n"
     ]
    }
   ],
   "source": [
    "!pip install scikit-learn"
   ]
  },
  {
   "cell_type": "markdown",
   "id": "d7197618",
   "metadata": {},
   "source": [
    "Import tập dữ liệu"
   ]
  },
  {
   "cell_type": "code",
   "execution_count": 6,
   "id": "f3fe2f1e",
   "metadata": {},
   "outputs": [
    {
     "data": {
      "text/html": [
       "<table border=\"1\" class=\"dataframe\">\n",
       "    <thead>\n",
       "        <tr>\n",
       "            <th>Student_ID</th> <th>Age</th> <th>Gender</th> <th>Study_Hours_per_Week</th> <th>Preferred_Learning_Style</th> <th>Online_Courses_Completed</th> <th>Participation_in_Discussions</th> <th>Assignment_Completion_Rate (%)</th> <th>Exam_Score (%)</th> <th>Attendance_Rate (%)</th> <th>Use_of_Educational_Tech</th> <th>Self_Reported_Stress_Level</th> <th>Time_Spent_on_Social_Media (hours/week)</th> <th>Sleep_Hours_per_Night</th> <th>Final_Grade</th>\n",
       "        </tr>\n",
       "    </thead>\n",
       "    <tbody>\n",
       "        <tr>\n",
       "            <td>S00001    </td> <td>18  </td> <td>Female</td> <td>48                  </td> <td>Kinesthetic             </td> <td>14                      </td> <td>Yes                         </td> <td>100                           </td> <td>69            </td> <td>66                 </td> <td>Yes                    </td> <td>High                      </td> <td>9                                      </td> <td>8                    </td> <td>C          </td>\n",
       "        </tr>\n",
       "        <tr>\n",
       "            <td>S00002    </td> <td>29  </td> <td>Female</td> <td>30                  </td> <td>Reading/Writing         </td> <td>20                      </td> <td>No                          </td> <td>71                            </td> <td>40            </td> <td>57                 </td> <td>Yes                    </td> <td>Medium                    </td> <td>28                                     </td> <td>8                    </td> <td>D          </td>\n",
       "        </tr>\n",
       "        <tr>\n",
       "            <td>S00003    </td> <td>20  </td> <td>Female</td> <td>47                  </td> <td>Kinesthetic             </td> <td>11                      </td> <td>No                          </td> <td>60                            </td> <td>43            </td> <td>79                 </td> <td>Yes                    </td> <td>Low                       </td> <td>13                                     </td> <td>7                    </td> <td>D          </td>\n",
       "        </tr>\n",
       "        <tr>\n",
       "            <td>S00004    </td> <td>23  </td> <td>Female</td> <td>13                  </td> <td>Auditory                </td> <td>0                       </td> <td>Yes                         </td> <td>63                            </td> <td>70            </td> <td>60                 </td> <td>Yes                    </td> <td>Low                       </td> <td>24                                     </td> <td>10                   </td> <td>B          </td>\n",
       "        </tr>\n",
       "        <tr>\n",
       "            <td>S00005    </td> <td>19  </td> <td>Female</td> <td>24                  </td> <td>Auditory                </td> <td>19                      </td> <td>Yes                         </td> <td>59                            </td> <td>63            </td> <td>93                 </td> <td>Yes                    </td> <td>Medium                    </td> <td>26                                     </td> <td>8                    </td> <td>C          </td>\n",
       "        </tr>\n",
       "    </tbody>\n",
       "</table>\n",
       "<p>... (9995 rows omitted)</p>"
      ],
      "text/plain": [
       "<IPython.core.display.HTML object>"
      ]
     },
     "metadata": {},
     "output_type": "display_data"
    }
   ],
   "source": [
    "student_peformance_table = Table().read_table('student_performance_large_dataset.csv')\n",
    "student_peformance_table.show(5)"
   ]
  },
  {
   "cell_type": "markdown",
   "id": "6c26e210",
   "metadata": {},
   "source": [
    "Phân tích các đặc điểm cơ bản của tập dữ liệu:"
   ]
  },
  {
   "cell_type": "markdown",
   "id": "56aad1fd",
   "metadata": {},
   "source": [
    "Bảng có 10000 hàng và 15 cột:"
   ]
  },
  {
   "cell_type": "code",
   "execution_count": 4,
   "id": "d400af36",
   "metadata": {},
   "outputs": [
    {
     "data": {
      "text/plain": [
       "(10000, 15)"
      ]
     },
     "execution_count": 4,
     "metadata": {},
     "output_type": "execute_result"
    }
   ],
   "source": [
    "student_peformance_table.num_rows, student_peformance_table.num_columns"
   ]
  },
  {
   "cell_type": "markdown",
   "id": "1fa3a5bf",
   "metadata": {},
   "source": [
    "Tên của các cột:"
   ]
  },
  {
   "cell_type": "code",
   "execution_count": 5,
   "id": "e061d207",
   "metadata": {},
   "outputs": [
    {
     "data": {
      "text/plain": [
       "('Student_ID',\n",
       " 'Age',\n",
       " 'Gender',\n",
       " 'Study_Hours_per_Week',\n",
       " 'Preferred_Learning_Style',\n",
       " 'Online_Courses_Completed',\n",
       " 'Participation_in_Discussions',\n",
       " 'Assignment_Completion_Rate (%)',\n",
       " 'Exam_Score (%)',\n",
       " 'Attendance_Rate (%)',\n",
       " 'Use_of_Educational_Tech',\n",
       " 'Self_Reported_Stress_Level',\n",
       " 'Time_Spent_on_Social_Media (hours/week)',\n",
       " 'Sleep_Hours_per_Night',\n",
       " 'Final_Grade')"
      ]
     },
     "execution_count": 5,
     "metadata": {},
     "output_type": "execute_result"
    }
   ],
   "source": [
    "student_peformance_table.labels"
   ]
  },
  {
   "cell_type": "markdown",
   "id": "53974867",
   "metadata": {},
   "source": [
    "Kiểm tra xem có giá trị null không:"
   ]
  },
  {
   "cell_type": "code",
   "execution_count": 25,
   "id": "4b2d4422",
   "metadata": {},
   "outputs": [
    {
     "data": {
      "text/plain": [
       "array([ 0.,  0.,  0.,  0.,  0.,  0.,  0.,  0.,  0.,  0.,  0.,  0.,  0.,\n",
       "        0.,  0.])"
      ]
     },
     "execution_count": 25,
     "metadata": {},
     "output_type": "execute_result"
    }
   ],
   "source": [
    "def has_missing(array):\n",
    "  '''Hàm kiểm tra xem 1 mảng có chứa giá trị null không'''\n",
    "  for item in array:\n",
    "      if item is None:\n",
    "          return True\n",
    "  return False\n",
    "\n",
    "is_missing = make_array()\n",
    "for col in student_peformance_table.labels:\n",
    "  is_missing = np.append(is_missing, has_missing(col))\n",
    "\n",
    "is_missing"
   ]
  },
  {
   "cell_type": "markdown",
   "id": "b9b518ce",
   "metadata": {},
   "source": [
    "Vậy, không có giá trị null nào trong bảng."
   ]
  },
  {
   "cell_type": "markdown",
   "id": "a1668831",
   "metadata": {},
   "source": [
    "## Phân bố "
   ]
  },
  {
   "cell_type": "code",
   "execution_count": null,
   "id": "9afe247d",
   "metadata": {},
   "outputs": [],
   "source": []
  },
  {
   "cell_type": "markdown",
   "id": "98a103bc",
   "metadata": {},
   "source": [
    "# Câu hỏi nghiên cứu 1:\n",
    "Học sinh dành hơn 25 giờ/tuần trên mạng xã hội (Time_Spent_on_Social_Media > 25) và ngủ dưới 7 giờ mỗi đêm (Sleep_Hours_per_Night < 7) có khả năng đạt điểm cuối kỳ dưới trung bình của tập dữ liệu không?"
   ]
  },
  {
   "cell_type": "markdown",
   "id": "2c496f41",
   "metadata": {},
   "source": []
  },
  {
   "cell_type": "markdown",
   "id": "423acc5f",
   "metadata": {},
   "source": [
    "Đầu tiên, ta chọn những cột thông tin cần thiết:"
   ]
  },
  {
   "cell_type": "code",
   "execution_count": 31,
   "id": "816c5d5e",
   "metadata": {},
   "outputs": [
    {
     "data": {
      "text/html": [
       "<table border=\"1\" class=\"dataframe\">\n",
       "    <thead>\n",
       "        <tr>\n",
       "            <th>Time_Spent_on_Social_Media (hours/week)</th> <th>Sleep_Hours_per_Night</th> <th>Exam_Score (%)</th>\n",
       "        </tr>\n",
       "    </thead>\n",
       "    <tbody>\n",
       "        <tr>\n",
       "            <td>9                                      </td> <td>8                    </td> <td>69            </td>\n",
       "        </tr>\n",
       "        <tr>\n",
       "            <td>28                                     </td> <td>8                    </td> <td>40            </td>\n",
       "        </tr>\n",
       "        <tr>\n",
       "            <td>13                                     </td> <td>7                    </td> <td>43            </td>\n",
       "        </tr>\n",
       "        <tr>\n",
       "            <td>24                                     </td> <td>10                   </td> <td>70            </td>\n",
       "        </tr>\n",
       "        <tr>\n",
       "            <td>26                                     </td> <td>8                    </td> <td>63            </td>\n",
       "        </tr>\n",
       "        <tr>\n",
       "            <td>25                                     </td> <td>8                    </td> <td>54            </td>\n",
       "        </tr>\n",
       "        <tr>\n",
       "            <td>30                                     </td> <td>10                   </td> <td>44            </td>\n",
       "        </tr>\n",
       "        <tr>\n",
       "            <td>4                                      </td> <td>6                    </td> <td>56            </td>\n",
       "        </tr>\n",
       "        <tr>\n",
       "            <td>26                                     </td> <td>9                    </td> <td>78            </td>\n",
       "        </tr>\n",
       "        <tr>\n",
       "            <td>5                                      </td> <td>9                    </td> <td>55            </td>\n",
       "        </tr>\n",
       "    </tbody>\n",
       "</table>\n",
       "<p>... (9990 rows omitted)</p>"
      ],
      "text/plain": [
       "Time_Spent_on_Social_Media (hours/week) | Sleep_Hours_per_Night | Exam_Score (%)\n",
       "9                                       | 8                     | 69\n",
       "28                                      | 8                     | 40\n",
       "13                                      | 7                     | 43\n",
       "24                                      | 10                    | 70\n",
       "26                                      | 8                     | 63\n",
       "25                                      | 8                     | 54\n",
       "30                                      | 10                    | 44\n",
       "4                                       | 6                     | 56\n",
       "26                                      | 9                     | 78\n",
       "5                                       | 9                     | 55\n",
       "... (9990 rows omitted)"
      ]
     },
     "execution_count": 31,
     "metadata": {},
     "output_type": "execute_result"
    }
   ],
   "source": [
    "table_for_q2 = student_peformance_table.select('Time_Spent_on_Social_Media (hours/week)', 'Sleep_Hours_per_Night', 'Exam_Score (%)')\n",
    "table_for_q2"
   ]
  },
  {
   "cell_type": "markdown",
   "id": "91fd44bb",
   "metadata": {},
   "source": [
    "Ta sẽ lọc ra nhóm các học sinh dành hơn 25 giờ/tuần trên mạng xã hội (Time_Spent_on_Social_Media > 25) và ngủ dưới 7 giờ mỗi đêm (Sleep_Hours_per_Night < 7)"
   ]
  },
  {
   "cell_type": "code",
   "execution_count": 32,
   "id": "c9f36b2e",
   "metadata": {},
   "outputs": [
    {
     "data": {
      "text/html": [
       "<table border=\"1\" class=\"dataframe\">\n",
       "    <thead>\n",
       "        <tr>\n",
       "            <th>Time_Spent_on_Social_Media (hours/week)</th> <th>Sleep_Hours_per_Night</th> <th>Exam_Score (%)</th>\n",
       "        </tr>\n",
       "    </thead>\n",
       "    <tbody>\n",
       "        <tr>\n",
       "            <td>27                                     </td> <td>6                    </td> <td>60            </td>\n",
       "        </tr>\n",
       "        <tr>\n",
       "            <td>30                                     </td> <td>6                    </td> <td>69            </td>\n",
       "        </tr>\n",
       "        <tr>\n",
       "            <td>28                                     </td> <td>4                    </td> <td>55            </td>\n",
       "        </tr>\n",
       "        <tr>\n",
       "            <td>27                                     </td> <td>6                    </td> <td>47            </td>\n",
       "        </tr>\n",
       "        <tr>\n",
       "            <td>26                                     </td> <td>5                    </td> <td>92            </td>\n",
       "        </tr>\n",
       "        <tr>\n",
       "            <td>26                                     </td> <td>4                    </td> <td>43            </td>\n",
       "        </tr>\n",
       "        <tr>\n",
       "            <td>26                                     </td> <td>5                    </td> <td>71            </td>\n",
       "        </tr>\n",
       "        <tr>\n",
       "            <td>28                                     </td> <td>6                    </td> <td>42            </td>\n",
       "        </tr>\n",
       "        <tr>\n",
       "            <td>27                                     </td> <td>6                    </td> <td>45            </td>\n",
       "        </tr>\n",
       "        <tr>\n",
       "            <td>30                                     </td> <td>5                    </td> <td>48            </td>\n",
       "        </tr>\n",
       "    </tbody>\n",
       "</table>\n",
       "<p>... (737 rows omitted)</p>"
      ],
      "text/plain": [
       "Time_Spent_on_Social_Media (hours/week) | Sleep_Hours_per_Night | Exam_Score (%)\n",
       "27                                      | 6                     | 60\n",
       "30                                      | 6                     | 69\n",
       "28                                      | 4                     | 55\n",
       "27                                      | 6                     | 47\n",
       "26                                      | 5                     | 92\n",
       "26                                      | 4                     | 43\n",
       "26                                      | 5                     | 71\n",
       "28                                      | 6                     | 42\n",
       "27                                      | 6                     | 45\n",
       "30                                      | 5                     | 48\n",
       "... (737 rows omitted)"
      ]
     },
     "execution_count": 32,
     "metadata": {},
     "output_type": "execute_result"
    }
   ],
   "source": [
    "filtered_table = table_for_q2.where('Time_Spent_on_Social_Media (hours/week)', are.above(25)).where('Sleep_Hours_per_Night', are.below(7))\n",
    "filtered_table"
   ]
  },
  {
   "cell_type": "markdown",
   "id": "375382ac",
   "metadata": {},
   "source": [
    "Ta sẽ tính điểm trung bình của nhóm học sinh này và của cả tập học sinh:\n"
   ]
  },
  {
   "cell_type": "code",
   "execution_count": 33,
   "id": "c03df104",
   "metadata": {},
   "outputs": [
    {
     "data": {
      "text/plain": [
       "(70.188900000000004, 70.392235609103082)"
      ]
     },
     "execution_count": 33,
     "metadata": {},
     "output_type": "execute_result"
    }
   ],
   "source": [
    "population_mean_grade = np.mean(table_for_q2.column('Exam_Score (%)'))\n",
    "filtered_mean_grade = np.mean(filtered_table.column('Exam_Score (%)'))\n",
    "\n",
    "population_mean_grade, filtered_mean_grade"
   ]
  },
  {
   "cell_type": "markdown",
   "id": "2b521b24",
   "metadata": {},
   "source": [
    "Như vậy, có vẻ như điểm trung bình của nhóm học sinh dành hơn 25 giờ/tuần trên mạng xã hội (Time_Spent_on_Social_Media > 25) và ngủ dưới 7 giờ mỗi đêm (Sleep_Hours_per_Night < 7) và tất cả học sinh trong tập dữ liệu là gần như ngang nhau, thậm chí nhóm này còn cao hơn một chút"
   ]
  },
  {
   "cell_type": "markdown",
   "id": "abf82a22",
   "metadata": {},
   "source": [
    "Ta sẽ sử dụng Bootstrap để kiểm tra thống kê, thống kê được chọn sử dụng sẽ là điểm trung bình của sample có size bằng với số học sinh dành hơn 25 giờ/tuần trên mạng xã hội (Time_Spent_on_Social_Media > 25) và ngủ dưới 7 giờ mỗi đêm (Sleep_Hours_per_Night < 7)"
   ]
  },
  {
   "cell_type": "code",
   "execution_count": 42,
   "id": "97eeab85",
   "metadata": {},
   "outputs": [
    {
     "data": {
      "text/plain": [
       "array([ 71.14323963,  69.41499331,  69.5394913 , ...,  70.16064257,\n",
       "        70.81526104,  70.99464525])"
      ]
     },
     "execution_count": 42,
     "metadata": {},
     "output_type": "execute_result"
    }
   ],
   "source": [
    "n_bootstrap = 10000\n",
    "bootstrap_means = make_array()\n",
    "\n",
    "n_filtered = filtered_table.num_rows\n",
    "\n",
    "# Lấy mẫu ngẫu nhiên và tính trung bình\n",
    "for i in range(n_bootstrap):\n",
    "    sample = student_peformance_table.sample(n_filtered)\n",
    "    one_mean = np.mean(sample.column('Exam_Score (%)'))\n",
    "    bootstrap_means = np.append(bootstrap_means, one_mean)\n",
    "bootstrap_means"
   ]
  },
  {
   "cell_type": "markdown",
   "id": "5ee30a9b",
   "metadata": {},
   "source": [
    "Ta tạo histogram từ bootstrap_means"
   ]
  },
  {
   "cell_type": "code",
   "execution_count": 47,
   "id": "79d0a77e",
   "metadata": {},
   "outputs": [
    {
     "data": {
      "image/png": "[encoded data removed]",
      "text/plain": [
       "<Figure size 600x400 with 1 Axes>"
      ]
     },
     "metadata": {},
     "output_type": "display_data"
    }
   ],
   "source": [
    "Table().with_column('Mean Exam Score', bootstrap_means).hist()\n",
    "plt.scatter(filtered_mean_grade, 0.001, color='red', s=70, zorder=3)\n",
    "plt.show()"
   ]
  },
  {
   "cell_type": "markdown",
   "id": "bc15da95",
   "metadata": {},
   "source": [
    "Tính p-value:"
   ]
  },
  {
   "cell_type": "code",
   "execution_count": 49,
   "id": "80a25254",
   "metadata": {},
   "outputs": [
    {
     "data": {
      "text/plain": [
       "0.6234"
      ]
     },
     "execution_count": 49,
     "metadata": {},
     "output_type": "execute_result"
    }
   ],
   "source": [
    "p_value = np.count_nonzero(bootstrap_means <= filtered_mean_grade) / n_bootstrap\n",
    "p_value"
   ]
  },
  {
   "cell_type": "markdown",
   "id": "7a9a7937",
   "metadata": {},
   "source": [
    "Với mức cutoff 5%, ta kết luận rằng nhóm học sinh dành hơn 25 giờ/tuần trên mạng xã hội và ngủ dưới 7 giờ/đêm có điểm số trung bình giống với population."
   ]
  },
  {
   "cell_type": "markdown",
   "id": "2d29e4c5",
   "metadata": {},
   "source": [
    "# Câu hỏi nghiên cứu 2:\n",
    "Học sinh không tham gia thảo luận (Participation_in_Discussions = No) và có tỷ lệ tham gia lớp học dưới 70% (Attendance_Rate < 70%) có xu hướng đạt điểm cuối kỳ D không?\n"
   ]
  },
  {
   "cell_type": "markdown",
   "id": "c3200f90",
   "metadata": {},
   "source": [
    "Ta lấy từ dataset ra những cột cần thiết:"
   ]
  },
  {
   "cell_type": "code",
   "execution_count": 5,
   "id": "297bfe85",
   "metadata": {},
   "outputs": [
    {
     "data": {
      "text/html": [
       "<table border=\"1\" class=\"dataframe\">\n",
       "    <thead>\n",
       "        <tr>\n",
       "            <th>Participation_in_Discussions</th> <th>Attendance_Rate (%)</th> <th>Final_Grade</th>\n",
       "        </tr>\n",
       "    </thead>\n",
       "    <tbody>\n",
       "        <tr>\n",
       "            <td>Yes                         </td> <td>66                 </td> <td>C          </td>\n",
       "        </tr>\n",
       "        <tr>\n",
       "            <td>No                          </td> <td>57                 </td> <td>D          </td>\n",
       "        </tr>\n",
       "        <tr>\n",
       "            <td>No                          </td> <td>79                 </td> <td>D          </td>\n",
       "        </tr>\n",
       "        <tr>\n",
       "            <td>Yes                         </td> <td>60                 </td> <td>B          </td>\n",
       "        </tr>\n",
       "        <tr>\n",
       "            <td>Yes                         </td> <td>93                 </td> <td>C          </td>\n",
       "        </tr>\n",
       "        <tr>\n",
       "            <td>Yes                         </td> <td>80                 </td> <td>D          </td>\n",
       "        </tr>\n",
       "        <tr>\n",
       "            <td>Yes                         </td> <td>66                 </td> <td>D          </td>\n",
       "        </tr>\n",
       "        <tr>\n",
       "            <td>Yes                         </td> <td>76                 </td> <td>C          </td>\n",
       "        </tr>\n",
       "        <tr>\n",
       "            <td>No                          </td> <td>70                 </td> <td>B          </td>\n",
       "        </tr>\n",
       "        <tr>\n",
       "            <td>No                          </td> <td>100                </td> <td>C          </td>\n",
       "        </tr>\n",
       "    </tbody>\n",
       "</table>\n",
       "<p>... (9990 rows omitted)</p>"
      ],
      "text/plain": [
       "Participation_in_Discussions | Attendance_Rate (%) | Final_Grade\n",
       "Yes                          | 66                  | C\n",
       "No                           | 57                  | D\n",
       "No                           | 79                  | D\n",
       "Yes                          | 60                  | B\n",
       "Yes                          | 93                  | C\n",
       "Yes                          | 80                  | D\n",
       "Yes                          | 66                  | D\n",
       "Yes                          | 76                  | C\n",
       "No                           | 70                  | B\n",
       "No                           | 100                 | C\n",
       "... (9990 rows omitted)"
      ]
     },
     "execution_count": 5,
     "metadata": {},
     "output_type": "execute_result"
    }
   ],
   "source": [
    "table_for_q1 = student_peformance_table.select('Participation_in_Discussions', 'Attendance_Rate (%)', 'Final_Grade')\n",
    "table_for_q1"
   ]
  },
  {
   "cell_type": "markdown",
   "id": "61aa67cd",
   "metadata": {},
   "source": [
    "Lọc ra những học sinh không tham gia thảo luận và có tỉ lệ tham gia lớp học dưới 70%:"
   ]
  },
  {
   "cell_type": "code",
   "execution_count": 7,
   "id": "a327a7aa",
   "metadata": {},
   "outputs": [
    {
     "data": {
      "text/html": [
       "<table border=\"1\" class=\"dataframe\">\n",
       "    <thead>\n",
       "        <tr>\n",
       "            <th>Participation_in_Discussions</th> <th>Attendance_Rate (%)</th> <th>Final_Grade</th>\n",
       "        </tr>\n",
       "    </thead>\n",
       "    <tbody>\n",
       "        <tr>\n",
       "            <td>No                          </td> <td>57                 </td> <td>D          </td>\n",
       "        </tr>\n",
       "        <tr>\n",
       "            <td>No                          </td> <td>51                 </td> <td>C          </td>\n",
       "        </tr>\n",
       "        <tr>\n",
       "            <td>No                          </td> <td>54                 </td> <td>A          </td>\n",
       "        </tr>\n",
       "        <tr>\n",
       "            <td>No                          </td> <td>58                 </td> <td>D          </td>\n",
       "        </tr>\n",
       "        <tr>\n",
       "            <td>No                          </td> <td>65                 </td> <td>D          </td>\n",
       "        </tr>\n",
       "        <tr>\n",
       "            <td>No                          </td> <td>60                 </td> <td>C          </td>\n",
       "        </tr>\n",
       "        <tr>\n",
       "            <td>No                          </td> <td>52                 </td> <td>D          </td>\n",
       "        </tr>\n",
       "        <tr>\n",
       "            <td>No                          </td> <td>68                 </td> <td>A          </td>\n",
       "        </tr>\n",
       "        <tr>\n",
       "            <td>No                          </td> <td>57                 </td> <td>D          </td>\n",
       "        </tr>\n",
       "        <tr>\n",
       "            <td>No                          </td> <td>61                 </td> <td>C          </td>\n",
       "        </tr>\n",
       "    </tbody>\n",
       "</table>\n",
       "<p>... (1555 rows omitted)</p>"
      ],
      "text/plain": [
       "Participation_in_Discussions | Attendance_Rate (%) | Final_Grade\n",
       "No                           | 57                  | D\n",
       "No                           | 51                  | C\n",
       "No                           | 54                  | A\n",
       "No                           | 58                  | D\n",
       "No                           | 65                  | D\n",
       "No                           | 60                  | C\n",
       "No                           | 52                  | D\n",
       "No                           | 68                  | A\n",
       "No                           | 57                  | D\n",
       "No                           | 61                  | C\n",
       "... (1555 rows omitted)"
      ]
     },
     "execution_count": 7,
     "metadata": {},
     "output_type": "execute_result"
    }
   ],
   "source": [
    "filtered_table_1 = table_for_q1.where('Participation_in_Discussions', 'No').where('Attendance_Rate (%)', are.below(70))\n",
    "filtered_table_1"
   ]
  },
  {
   "cell_type": "markdown",
   "id": "f75cc38e",
   "metadata": {},
   "source": [
    "Tiếp thep, ta tính tỉ lệ phần trăm học sinh trong nhóm này bị điểm D:"
   ]
  },
  {
   "cell_type": "code",
   "execution_count": 10,
   "id": "33a3efd1",
   "metadata": {},
   "outputs": [
    {
     "data": {
      "text/plain": [
       "25.94249201277955"
      ]
     },
     "execution_count": 10,
     "metadata": {},
     "output_type": "execute_result"
    }
   ],
   "source": [
    "percentage_D_filtered = np.count_nonzero(filtered_table_1.column('Final_Grade') == 'D') / filtered_table_1.num_rows * 100\n",
    "percentage_D_filtered"
   ]
  },
  {
   "cell_type": "markdown",
   "id": "a243bed3",
   "metadata": {},
   "source": [
    "Sau đó, ta tính tỉ lệ phần trăm học sinh bị điểm D trong cả tập dữ liệu rồi so sánh hai số liệu này với nhau:"
   ]
  },
  {
   "cell_type": "code",
   "execution_count": 11,
   "id": "12431b6a",
   "metadata": {},
   "outputs": [
    {
     "data": {
      "text/plain": [
       "24.27"
      ]
     },
     "execution_count": 11,
     "metadata": {},
     "output_type": "execute_result"
    }
   ],
   "source": [
    "percentage_D_population = np.count_nonzero(table_for_q1.column('Final_Grade') == 'D') / table_for_q1.num_rows * 100\n",
    "percentage_D_population"
   ]
  },
  {
   "cell_type": "markdown",
   "id": "7b5d17e9",
   "metadata": {},
   "source": [
    "Có thể thấy, hai chỉ số này không khác biệt nhau là mấy. Để thêm chắc chắn, ta tính thêm tỉ lệ phần trăm bị điểm D của nhóm học sinh có tham gia thảo luận và có tỉ lệ tham gia lớp học trên 70%"
   ]
  },
  {
   "cell_type": "code",
   "execution_count": 14,
   "id": "590ab336",
   "metadata": {},
   "outputs": [
    {
     "data": {
      "text/html": [
       "<table border=\"1\" class=\"dataframe\">\n",
       "    <thead>\n",
       "        <tr>\n",
       "            <th>Participation_in_Discussions</th> <th>Attendance_Rate (%)</th> <th>Final_Grade</th>\n",
       "        </tr>\n",
       "    </thead>\n",
       "    <tbody>\n",
       "        <tr>\n",
       "            <td>Yes                         </td> <td>93                 </td> <td>C          </td>\n",
       "        </tr>\n",
       "        <tr>\n",
       "            <td>Yes                         </td> <td>80                 </td> <td>D          </td>\n",
       "        </tr>\n",
       "        <tr>\n",
       "            <td>Yes                         </td> <td>76                 </td> <td>C          </td>\n",
       "        </tr>\n",
       "        <tr>\n",
       "            <td>Yes                         </td> <td>74                 </td> <td>C          </td>\n",
       "        </tr>\n",
       "        <tr>\n",
       "            <td>Yes                         </td> <td>76                 </td> <td>A          </td>\n",
       "        </tr>\n",
       "        <tr>\n",
       "            <td>Yes                         </td> <td>93                 </td> <td>A          </td>\n",
       "        </tr>\n",
       "        <tr>\n",
       "            <td>Yes                         </td> <td>90                 </td> <td>A          </td>\n",
       "        </tr>\n",
       "        <tr>\n",
       "            <td>Yes                         </td> <td>82                 </td> <td>B          </td>\n",
       "        </tr>\n",
       "        <tr>\n",
       "            <td>Yes                         </td> <td>73                 </td> <td>B          </td>\n",
       "        </tr>\n",
       "        <tr>\n",
       "            <td>Yes                         </td> <td>100                </td> <td>A          </td>\n",
       "        </tr>\n",
       "    </tbody>\n",
       "</table>\n",
       "<p>... (3507 rows omitted)</p>"
      ],
      "text/plain": [
       "Participation_in_Discussions | Attendance_Rate (%) | Final_Grade\n",
       "Yes                          | 93                  | C\n",
       "Yes                          | 80                  | D\n",
       "Yes                          | 76                  | C\n",
       "Yes                          | 74                  | C\n",
       "Yes                          | 76                  | A\n",
       "Yes                          | 93                  | A\n",
       "Yes                          | 90                  | A\n",
       "Yes                          | 82                  | B\n",
       "Yes                          | 73                  | B\n",
       "Yes                          | 100                 | A\n",
       "... (3507 rows omitted)"
      ]
     },
     "execution_count": 14,
     "metadata": {},
     "output_type": "execute_result"
    }
   ],
   "source": [
    "discussed_and_attended = table_for_q1.where('Participation_in_Discussions', 'Yes').where('Attendance_Rate (%)', are.above(70))\n",
    "discussed_and_attended"
   ]
  },
  {
   "cell_type": "code",
   "execution_count": 15,
   "id": "827b25bc",
   "metadata": {},
   "outputs": [
    {
     "data": {
      "text/plain": [
       "25.106624964458348"
      ]
     },
     "execution_count": 15,
     "metadata": {},
     "output_type": "execute_result"
    }
   ],
   "source": [
    "percentage_D_discussed_and_attended = np.count_nonzero(discussed_and_attended.column('Final_Grade') == 'D') / discussed_and_attended.num_rows * 100\n",
    "percentage_D_discussed_and_attended"
   ]
  },
  {
   "cell_type": "markdown",
   "id": "d62a121d",
   "metadata": {},
   "source": [
    "Ta có thể thấy, 3 nhóm đều có tỉ lệ điểm D ngang nhau. Nhóm không tham gia thảo luận và có tỉ lệ tham gia lớp học dưới 70% chỉ có tỉ lệ bị D cao hơn một chút so với nhóm có tham gia thảo luận và tham gia lớp học trên 70%."
   ]
  },
  {
   "cell_type": "markdown",
   "id": "2f5f94af",
   "metadata": {},
   "source": [
    "Như vậy, ta không thể kết luận học sinh không tham gia thảo luận (Participation_in_Discussions = No) và có tỷ lệ tham gia lớp học dưới 70% (Attendance_Rate < 70%) không có xu hướng đạt điểm D."
   ]
  },
  {
   "cell_type": "code",
   "execution_count": null,
   "id": "98703140",
   "metadata": {},
   "outputs": [],
   "source": []
  }
 ],
 "metadata": {
  "kernelspec": {
   "display_name": "venv",
   "language": "python",
   "name": "python3"
  },
  "language_info": {
   "codemirror_mode": {
    "name": "ipython",
    "version": 3
   },
   "file_extension": ".py",
   "mimetype": "text/x-python",
   "name": "python",
   "nbconvert_exporter": "python",
   "pygments_lexer": "ipython3",
   "version": "3.12.6"
  }
 },
 "nbformat": 4,
 "nbformat_minor": 5
}
