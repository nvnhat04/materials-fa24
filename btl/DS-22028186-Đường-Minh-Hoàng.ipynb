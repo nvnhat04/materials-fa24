{
 "cells": [
  {
   "cell_type": "markdown",
   "id": "3744e47f",
   "metadata": {},
   "source": [
    "Import các thư viện cần dùng:"
   ]
  },
  {
   "cell_type": "code",
   "execution_count": 69,
   "id": "49805e11",
   "metadata": {},
   "outputs": [],
   "source": [
    "import numpy as np\n",
    "from datascience import * \n",
    "\n",
    "import matplotlib\n",
    "%matplotlib inline\n",
    "import matplotlib.pyplot as plt\n",
    "plt.style.use('fivethirtyeight')\n",
    "import warnings\n",
    "warnings.simplefilter('ignore', FutureWarning)\n",
    "from datetime import datetime"
   ]
  },
  {
   "cell_type": "markdown",
   "id": "d7197618",
   "metadata": {},
   "source": [
    "Import tập dữ liệu"
   ]
  },
  {
   "cell_type": "code",
   "execution_count": 70,
   "id": "f3fe2f1e",
   "metadata": {},
   "outputs": [
    {
     "data": {
      "text/html": [
       "<table border=\"1\" class=\"dataframe\">\n",
       "    <thead>\n",
       "        <tr>\n",
       "            <th>Student_ID</th> <th>Age</th> <th>Gender</th> <th>Study_Hours_per_Week</th> <th>Preferred_Learning_Style</th> <th>Online_Courses_Completed</th> <th>Participation_in_Discussions</th> <th>Assignment_Completion_Rate (%)</th> <th>Exam_Score (%)</th> <th>Attendance_Rate (%)</th> <th>Use_of_Educational_Tech</th> <th>Self_Reported_Stress_Level</th> <th>Time_Spent_on_Social_Media (hours/week)</th> <th>Sleep_Hours_per_Night</th> <th>Final_Grade</th>\n",
       "        </tr>\n",
       "    </thead>\n",
       "    <tbody>\n",
       "        <tr>\n",
       "            <td>S00001    </td> <td>18  </td> <td>Female</td> <td>48                  </td> <td>Kinesthetic             </td> <td>14                      </td> <td>Yes                         </td> <td>100                           </td> <td>69            </td> <td>66                 </td> <td>Yes                    </td> <td>High                      </td> <td>9                                      </td> <td>8                    </td> <td>C          </td>\n",
       "        </tr>\n",
       "        <tr>\n",
       "            <td>S00002    </td> <td>29  </td> <td>Female</td> <td>30                  </td> <td>Reading/Writing         </td> <td>20                      </td> <td>No                          </td> <td>71                            </td> <td>40            </td> <td>57                 </td> <td>Yes                    </td> <td>Medium                    </td> <td>28                                     </td> <td>8                    </td> <td>D          </td>\n",
       "        </tr>\n",
       "        <tr>\n",
       "            <td>S00003    </td> <td>20  </td> <td>Female</td> <td>47                  </td> <td>Kinesthetic             </td> <td>11                      </td> <td>No                          </td> <td>60                            </td> <td>43            </td> <td>79                 </td> <td>Yes                    </td> <td>Low                       </td> <td>13                                     </td> <td>7                    </td> <td>D          </td>\n",
       "        </tr>\n",
       "        <tr>\n",
       "            <td>S00004    </td> <td>23  </td> <td>Female</td> <td>13                  </td> <td>Auditory                </td> <td>0                       </td> <td>Yes                         </td> <td>63                            </td> <td>70            </td> <td>60                 </td> <td>Yes                    </td> <td>Low                       </td> <td>24                                     </td> <td>10                   </td> <td>B          </td>\n",
       "        </tr>\n",
       "        <tr>\n",
       "            <td>S00005    </td> <td>19  </td> <td>Female</td> <td>24                  </td> <td>Auditory                </td> <td>19                      </td> <td>Yes                         </td> <td>59                            </td> <td>63            </td> <td>93                 </td> <td>Yes                    </td> <td>Medium                    </td> <td>26                                     </td> <td>8                    </td> <td>C          </td>\n",
       "        </tr>\n",
       "    </tbody>\n",
       "</table>\n",
       "<p>... (9995 rows omitted)</p>"
      ],
      "text/plain": [
       "<IPython.core.display.HTML object>"
      ]
     },
     "metadata": {},
     "output_type": "display_data"
    }
   ],
   "source": [
    "student_peformance_table = Table().read_table('student_performance_large_dataset.csv')\n",
    "student_peformance_table.show(5)"
   ]
  },
  {
   "cell_type": "markdown",
   "id": "6c26e210",
   "metadata": {},
   "source": [
    "Phân tích các đặc điểm cơ bản của tập dữ liệu:"
   ]
  },
  {
   "cell_type": "markdown",
   "id": "56aad1fd",
   "metadata": {},
   "source": [
    "Bảng có 10000 hàng và 15 cột:"
   ]
  },
  {
   "cell_type": "code",
   "execution_count": 71,
   "id": "d400af36",
   "metadata": {},
   "outputs": [
    {
     "data": {
      "text/plain": [
       "(10000, 15)"
      ]
     },
     "execution_count": 71,
     "metadata": {},
     "output_type": "execute_result"
    }
   ],
   "source": [
    "student_peformance_table.num_rows, student_peformance_table.num_columns"
   ]
  },
  {
   "cell_type": "markdown",
   "id": "1fa3a5bf",
   "metadata": {},
   "source": [
    "Tên của các cột:"
   ]
  },
  {
   "cell_type": "code",
   "execution_count": 72,
   "id": "e061d207",
   "metadata": {},
   "outputs": [
    {
     "data": {
      "text/plain": [
       "('Student_ID',\n",
       " 'Age',\n",
       " 'Gender',\n",
       " 'Study_Hours_per_Week',\n",
       " 'Preferred_Learning_Style',\n",
       " 'Online_Courses_Completed',\n",
       " 'Participation_in_Discussions',\n",
       " 'Assignment_Completion_Rate (%)',\n",
       " 'Exam_Score (%)',\n",
       " 'Attendance_Rate (%)',\n",
       " 'Use_of_Educational_Tech',\n",
       " 'Self_Reported_Stress_Level',\n",
       " 'Time_Spent_on_Social_Media (hours/week)',\n",
       " 'Sleep_Hours_per_Night',\n",
       " 'Final_Grade')"
      ]
     },
     "execution_count": 72,
     "metadata": {},
     "output_type": "execute_result"
    }
   ],
   "source": [
    "student_peformance_table.labels"
   ]
  },
  {
   "cell_type": "markdown",
   "id": "53974867",
   "metadata": {},
   "source": [
    "Kiểm tra xem có giá trị null không:"
   ]
  },
  {
   "cell_type": "code",
   "execution_count": 73,
   "id": "4b2d4422",
   "metadata": {},
   "outputs": [
    {
     "data": {
      "text/plain": [
       "array([ 0.,  0.,  0.,  0.,  0.,  0.,  0.,  0.,  0.,  0.,  0.,  0.,  0.,\n",
       "        0.,  0.])"
      ]
     },
     "execution_count": 73,
     "metadata": {},
     "output_type": "execute_result"
    }
   ],
   "source": [
    "def has_missing(array):\n",
    "  '''Hàm kiểm tra xem 1 mảng có chứa giá trị null không'''\n",
    "  for item in array:\n",
    "      if item is None:\n",
    "          return True\n",
    "  return False\n",
    "\n",
    "is_missing = make_array()\n",
    "for col in student_peformance_table.labels:\n",
    "  is_missing = np.append(is_missing, has_missing(col))\n",
    "\n",
    "is_missing"
   ]
  },
  {
   "cell_type": "markdown",
   "id": "b9b518ce",
   "metadata": {},
   "source": [
    "Vậy, không có giá trị null nào trong bảng."
   ]
  },
  {
   "cell_type": "markdown",
   "id": "98a103bc",
   "metadata": {},
   "source": [
    "# Câu hỏi nghiên cứu 1:\n",
    "Học sinh có điểm thi (Exam_Score) dưới 60% và tỷ lệ hoàn thành bài tập dưới 70%(Assignment_Completion_Rate < 70%) có xu hướng đạt điểm cuối kỳ D không?"
   ]
  },
  {
   "cell_type": "markdown",
   "id": "423acc5f",
   "metadata": {},
   "source": [
    "Đầu tiên, ta chọn những cột thông tin cần thiết:"
   ]
  },
  {
   "cell_type": "code",
   "execution_count": 74,
   "id": "816c5d5e",
   "metadata": {},
   "outputs": [
    {
     "data": {
      "text/html": [
       "<table border=\"1\" class=\"dataframe\">\n",
       "    <thead>\n",
       "        <tr>\n",
       "            <th>Student_ID</th> <th>Age</th> <th>Gender</th> <th>Study_Hours_per_Week</th> <th>Preferred_Learning_Style</th> <th>Online_Courses_Completed</th> <th>Participation_in_Discussions</th> <th>Assignment_Completion_Rate (%)</th> <th>Exam_Score (%)</th> <th>Attendance_Rate (%)</th> <th>Use_of_Educational_Tech</th> <th>Self_Reported_Stress_Level</th> <th>Time_Spent_on_Social_Media (hours/week)</th> <th>Sleep_Hours_per_Night</th> <th>Final_Grade</th>\n",
       "        </tr>\n",
       "    </thead>\n",
       "    <tbody>\n",
       "        <tr>\n",
       "            <td>S00001    </td> <td>18  </td> <td>Female</td> <td>48                  </td> <td>Kinesthetic             </td> <td>14                      </td> <td>Yes                         </td> <td>100                           </td> <td>69            </td> <td>66                 </td> <td>Yes                    </td> <td>High                      </td> <td>9                                      </td> <td>8                    </td> <td>C          </td>\n",
       "        </tr>\n",
       "        <tr>\n",
       "            <td>S00002    </td> <td>29  </td> <td>Female</td> <td>30                  </td> <td>Reading/Writing         </td> <td>20                      </td> <td>No                          </td> <td>71                            </td> <td>40            </td> <td>57                 </td> <td>Yes                    </td> <td>Medium                    </td> <td>28                                     </td> <td>8                    </td> <td>D          </td>\n",
       "        </tr>\n",
       "        <tr>\n",
       "            <td>S00003    </td> <td>20  </td> <td>Female</td> <td>47                  </td> <td>Kinesthetic             </td> <td>11                      </td> <td>No                          </td> <td>60                            </td> <td>43            </td> <td>79                 </td> <td>Yes                    </td> <td>Low                       </td> <td>13                                     </td> <td>7                    </td> <td>D          </td>\n",
       "        </tr>\n",
       "        <tr>\n",
       "            <td>S00004    </td> <td>23  </td> <td>Female</td> <td>13                  </td> <td>Auditory                </td> <td>0                       </td> <td>Yes                         </td> <td>63                            </td> <td>70            </td> <td>60                 </td> <td>Yes                    </td> <td>Low                       </td> <td>24                                     </td> <td>10                   </td> <td>B          </td>\n",
       "        </tr>\n",
       "        <tr>\n",
       "            <td>S00005    </td> <td>19  </td> <td>Female</td> <td>24                  </td> <td>Auditory                </td> <td>19                      </td> <td>Yes                         </td> <td>59                            </td> <td>63            </td> <td>93                 </td> <td>Yes                    </td> <td>Medium                    </td> <td>26                                     </td> <td>8                    </td> <td>C          </td>\n",
       "        </tr>\n",
       "        <tr>\n",
       "            <td>S00006    </td> <td>28  </td> <td>Female</td> <td>26                  </td> <td>Kinesthetic             </td> <td>5                       </td> <td>Yes                         </td> <td>63                            </td> <td>54            </td> <td>80                 </td> <td>No                     </td> <td>High                      </td> <td>25                                     </td> <td>8                    </td> <td>D          </td>\n",
       "        </tr>\n",
       "        <tr>\n",
       "            <td>S00007    </td> <td>19  </td> <td>Female</td> <td>49                  </td> <td>Reading/Writing         </td> <td>13                      </td> <td>Yes                         </td> <td>91                            </td> <td>44            </td> <td>66                 </td> <td>Yes                    </td> <td>Low                       </td> <td>30                                     </td> <td>10                   </td> <td>D          </td>\n",
       "        </tr>\n",
       "        <tr>\n",
       "            <td>S00008    </td> <td>27  </td> <td>Male  </td> <td>14                  </td> <td>Reading/Writing         </td> <td>5                       </td> <td>Yes                         </td> <td>88                            </td> <td>56            </td> <td>76                 </td> <td>Yes                    </td> <td>Low                       </td> <td>4                                      </td> <td>6                    </td> <td>C          </td>\n",
       "        </tr>\n",
       "        <tr>\n",
       "            <td>S00009    </td> <td>22  </td> <td>Male  </td> <td>45                  </td> <td>Visual                  </td> <td>16                      </td> <td>No                          </td> <td>52                            </td> <td>78            </td> <td>70                 </td> <td>No                     </td> <td>Low                       </td> <td>26                                     </td> <td>9                    </td> <td>B          </td>\n",
       "        </tr>\n",
       "        <tr>\n",
       "            <td>S00010    </td> <td>28  </td> <td>Other </td> <td>35                  </td> <td>Auditory                </td> <td>7                       </td> <td>No                          </td> <td>100                           </td> <td>55            </td> <td>100                </td> <td>No                     </td> <td>Medium                    </td> <td>5                                      </td> <td>9                    </td> <td>C          </td>\n",
       "        </tr>\n",
       "    </tbody>\n",
       "</table>\n",
       "<p>... (9990 rows omitted)</p>"
      ],
      "text/plain": [
       "Student_ID | Age  | Gender | Study_Hours_per_Week | Preferred_Learning_Style | Online_Courses_Completed | Participation_in_Discussions | Assignment_Completion_Rate (%) | Exam_Score (%) | Attendance_Rate (%) | Use_of_Educational_Tech | Self_Reported_Stress_Level | Time_Spent_on_Social_Media (hours/week) | Sleep_Hours_per_Night | Final_Grade\n",
       "S00001     | 18   | Female | 48                   | Kinesthetic              | 14                       | Yes                          | 100                            | 69             | 66                  | Yes                     | High                       | 9                                       | 8                     | C\n",
       "S00002     | 29   | Female | 30                   | Reading/Writing          | 20                       | No                           | 71                             | 40             | 57                  | Yes                     | Medium                     | 28                                      | 8                     | D\n",
       "S00003     | 20   | Female | 47                   | Kinesthetic              | 11                       | No                           | 60                             | 43             | 79                  | Yes                     | Low                        | 13                                      | 7                     | D\n",
       "S00004     | 23   | Female | 13                   | Auditory                 | 0                        | Yes                          | 63                             | 70             | 60                  | Yes                     | Low                        | 24                                      | 10                    | B\n",
       "S00005     | 19   | Female | 24                   | Auditory                 | 19                       | Yes                          | 59                             | 63             | 93                  | Yes                     | Medium                     | 26                                      | 8                     | C\n",
       "S00006     | 28   | Female | 26                   | Kinesthetic              | 5                        | Yes                          | 63                             | 54             | 80                  | No                      | High                       | 25                                      | 8                     | D\n",
       "S00007     | 19   | Female | 49                   | Reading/Writing          | 13                       | Yes                          | 91                             | 44             | 66                  | Yes                     | Low                        | 30                                      | 10                    | D\n",
       "S00008     | 27   | Male   | 14                   | Reading/Writing          | 5                        | Yes                          | 88                             | 56             | 76                  | Yes                     | Low                        | 4                                       | 6                     | C\n",
       "S00009     | 22   | Male   | 45                   | Visual                   | 16                       | No                           | 52                             | 78             | 70                  | No                      | Low                        | 26                                      | 9                     | B\n",
       "S00010     | 28   | Other  | 35                   | Auditory                 | 7                        | No                           | 100                            | 55             | 100                 | No                      | Medium                     | 5                                       | 9                     | C\n",
       "... (9990 rows omitted)"
      ]
     },
     "execution_count": 74,
     "metadata": {},
     "output_type": "execute_result"
    }
   ],
   "source": [
    "student_performance_table = Table().read_table('student_performance_large_dataset.csv')\n",
    "student_performance_table"
   ]
  },
  {
   "cell_type": "markdown",
   "id": "91fd44bb",
   "metadata": {},
   "source": [
    "# Lọc nhóm học sinh có Exam_Score < 60% và Assignment_Completion_Rate < 70%"
   ]
  },
  {
   "cell_type": "code",
   "execution_count": 75,
   "id": "c9f36b2e",
   "metadata": {},
   "outputs": [
    {
     "data": {
      "text/html": [
       "<table border=\"1\" class=\"dataframe\">\n",
       "    <thead>\n",
       "        <tr>\n",
       "            <th>Student_ID</th> <th>Age</th> <th>Gender</th> <th>Study_Hours_per_Week</th> <th>Preferred_Learning_Style</th> <th>Online_Courses_Completed</th> <th>Participation_in_Discussions</th> <th>Assignment_Completion_Rate (%)</th> <th>Exam_Score (%)</th> <th>Attendance_Rate (%)</th> <th>Use_of_Educational_Tech</th> <th>Self_Reported_Stress_Level</th> <th>Time_Spent_on_Social_Media (hours/week)</th> <th>Sleep_Hours_per_Night</th> <th>Final_Grade</th>\n",
       "        </tr>\n",
       "    </thead>\n",
       "    <tbody>\n",
       "        <tr>\n",
       "            <td>S00003    </td> <td>20  </td> <td>Female</td> <td>47                  </td> <td>Kinesthetic             </td> <td>11                      </td> <td>No                          </td> <td>60                            </td> <td>43            </td> <td>79                 </td> <td>Yes                    </td> <td>Low                       </td> <td>13                                     </td> <td>7                    </td> <td>D          </td>\n",
       "        </tr>\n",
       "        <tr>\n",
       "            <td>S00006    </td> <td>28  </td> <td>Female</td> <td>26                  </td> <td>Kinesthetic             </td> <td>5                       </td> <td>Yes                         </td> <td>63                            </td> <td>54            </td> <td>80                 </td> <td>No                     </td> <td>High                      </td> <td>25                                     </td> <td>8                    </td> <td>D          </td>\n",
       "        </tr>\n",
       "        <tr>\n",
       "            <td>S00031    </td> <td>20  </td> <td>Male  </td> <td>23                  </td> <td>Kinesthetic             </td> <td>3                       </td> <td>Yes                         </td> <td>59                            </td> <td>57            </td> <td>81                 </td> <td>Yes                    </td> <td>Medium                    </td> <td>9                                      </td> <td>5                    </td> <td>C          </td>\n",
       "        </tr>\n",
       "        <tr>\n",
       "            <td>S00035    </td> <td>28  </td> <td>Female</td> <td>32                  </td> <td>Auditory                </td> <td>5                       </td> <td>No                          </td> <td>53                            </td> <td>54            </td> <td>96                 </td> <td>Yes                    </td> <td>High                      </td> <td>0                                      </td> <td>10                   </td> <td>D          </td>\n",
       "        </tr>\n",
       "        <tr>\n",
       "            <td>S00037    </td> <td>26  </td> <td>Female</td> <td>26                  </td> <td>Kinesthetic             </td> <td>3                       </td> <td>Yes                         </td> <td>53                            </td> <td>48            </td> <td>76                 </td> <td>No                     </td> <td>Low                       </td> <td>19                                     </td> <td>4                    </td> <td>D          </td>\n",
       "        </tr>\n",
       "        <tr>\n",
       "            <td>S00041    </td> <td>27  </td> <td>Male  </td> <td>41                  </td> <td>Reading/Writing         </td> <td>14                      </td> <td>No                          </td> <td>65                            </td> <td>56            </td> <td>74                 </td> <td>Yes                    </td> <td>Low                       </td> <td>26                                     </td> <td>9                    </td> <td>C          </td>\n",
       "        </tr>\n",
       "        <tr>\n",
       "            <td>S00054    </td> <td>19  </td> <td>Male  </td> <td>47                  </td> <td>Kinesthetic             </td> <td>2                       </td> <td>No                          </td> <td>52                            </td> <td>44            </td> <td>84                 </td> <td>Yes                    </td> <td>Medium                    </td> <td>11                                     </td> <td>10                   </td> <td>D          </td>\n",
       "        </tr>\n",
       "        <tr>\n",
       "            <td>S00059    </td> <td>29  </td> <td>Female</td> <td>36                  </td> <td>Reading/Writing         </td> <td>17                      </td> <td>Yes                         </td> <td>52                            </td> <td>46            </td> <td>51                 </td> <td>Yes                    </td> <td>Low                       </td> <td>27                                     </td> <td>7                    </td> <td>D          </td>\n",
       "        </tr>\n",
       "        <tr>\n",
       "            <td>S00067    </td> <td>24  </td> <td>Male  </td> <td>12                  </td> <td>Kinesthetic             </td> <td>14                      </td> <td>No                          </td> <td>57                            </td> <td>57            </td> <td>73                 </td> <td>Yes                    </td> <td>Medium                    </td> <td>4                                      </td> <td>7                    </td> <td>C          </td>\n",
       "        </tr>\n",
       "        <tr>\n",
       "            <td>S00072    </td> <td>20  </td> <td>Female</td> <td>46                  </td> <td>Visual                  </td> <td>13                      </td> <td>No                          </td> <td>55                            </td> <td>45            </td> <td>52                 </td> <td>No                     </td> <td>Medium                    </td> <td>7                                      </td> <td>7                    </td> <td>D          </td>\n",
       "        </tr>\n",
       "    </tbody>\n",
       "</table>\n",
       "<p>... (1261 rows omitted)</p>"
      ],
      "text/plain": [
       "Student_ID | Age  | Gender | Study_Hours_per_Week | Preferred_Learning_Style | Online_Courses_Completed | Participation_in_Discussions | Assignment_Completion_Rate (%) | Exam_Score (%) | Attendance_Rate (%) | Use_of_Educational_Tech | Self_Reported_Stress_Level | Time_Spent_on_Social_Media (hours/week) | Sleep_Hours_per_Night | Final_Grade\n",
       "S00003     | 20   | Female | 47                   | Kinesthetic              | 11                       | No                           | 60                             | 43             | 79                  | Yes                     | Low                        | 13                                      | 7                     | D\n",
       "S00006     | 28   | Female | 26                   | Kinesthetic              | 5                        | Yes                          | 63                             | 54             | 80                  | No                      | High                       | 25                                      | 8                     | D\n",
       "S00031     | 20   | Male   | 23                   | Kinesthetic              | 3                        | Yes                          | 59                             | 57             | 81                  | Yes                     | Medium                     | 9                                       | 5                     | C\n",
       "S00035     | 28   | Female | 32                   | Auditory                 | 5                        | No                           | 53                             | 54             | 96                  | Yes                     | High                       | 0                                       | 10                    | D\n",
       "S00037     | 26   | Female | 26                   | Kinesthetic              | 3                        | Yes                          | 53                             | 48             | 76                  | No                      | Low                        | 19                                      | 4                     | D\n",
       "S00041     | 27   | Male   | 41                   | Reading/Writing          | 14                       | No                           | 65                             | 56             | 74                  | Yes                     | Low                        | 26                                      | 9                     | C\n",
       "S00054     | 19   | Male   | 47                   | Kinesthetic              | 2                        | No                           | 52                             | 44             | 84                  | Yes                     | Medium                     | 11                                      | 10                    | D\n",
       "S00059     | 29   | Female | 36                   | Reading/Writing          | 17                       | Yes                          | 52                             | 46             | 51                  | Yes                     | Low                        | 27                                      | 7                     | D\n",
       "S00067     | 24   | Male   | 12                   | Kinesthetic              | 14                       | No                           | 57                             | 57             | 73                  | Yes                     | Medium                     | 4                                       | 7                     | C\n",
       "S00072     | 20   | Female | 46                   | Visual                   | 13                       | No                           | 55                             | 45             | 52                  | No                      | Medium                     | 7                                       | 7                     | D\n",
       "... (1261 rows omitted)"
      ]
     },
     "execution_count": 75,
     "metadata": {},
     "output_type": "execute_result"
    }
   ],
   "source": [
    "filtered_table = student_performance_table.where('Exam_Score (%)', are.below(60)).where('Assignment_Completion_Rate (%)', are.below(70))\n",
    "filtered_table"
   ]
  },
  {
   "cell_type": "markdown",
   "id": "375382ac",
   "metadata": {},
   "source": [
    "Tiếp thep, ta tính tỉ lệ phần trăm học sinh trong nhóm này bị điểm D:\n"
   ]
  },
  {
   "cell_type": "code",
   "execution_count": 76,
   "id": "c03df104",
   "metadata": {},
   "outputs": [
    {
     "data": {
      "text/plain": [
       "75.68843430369787"
      ]
     },
     "execution_count": 76,
     "metadata": {},
     "output_type": "execute_result"
    }
   ],
   "source": [
    "num_filtered = filtered_table.num_rows\n",
    "num_D_filtered = np.count_nonzero(filtered_table.column('Final_Grade') == 'D')\n",
    "percentage_D_filtered = (num_D_filtered / num_filtered * 100) if num_filtered > 0 else 0\n",
    "percentage_D_filtered"
   ]
  },
  {
   "cell_type": "markdown",
   "id": "2b521b24",
   "metadata": {},
   "source": [
    "Sau đó, ta tính tỉ lệ phần trăm học sinh bị điểm D trong cả tập dữ liệu rồi so sánh hai số liệu này với nhau:"
   ]
  },
  {
   "cell_type": "code",
   "execution_count": 77,
   "id": "97eeab85",
   "metadata": {},
   "outputs": [
    {
     "data": {
      "text/plain": [
       "24.27"
      ]
     },
     "execution_count": 77,
     "metadata": {},
     "output_type": "execute_result"
    }
   ],
   "source": [
    "num_total = student_performance_table.num_rows\n",
    "num_D_total = np.count_nonzero(student_performance_table.column('Final_Grade') == 'D')\n",
    "percentage_D_population = (num_D_total / num_total) * 100\n",
    "percentage_D_population"
   ]
  },
  {
   "cell_type": "markdown",
   "id": "5ee30a9b",
   "metadata": {},
   "source": [
    "Lọc nhóm học sinh có Exam_Score (%) từ 60% trở lên và Assignment_Completion_Rate (%) từ 70% trở lên để so sánh:"
   ]
  },
  {
   "cell_type": "code",
   "execution_count": 78,
   "id": "79d0a77e",
   "metadata": {},
   "outputs": [
    {
     "data": {
      "text/plain": [
       "16.783136670867226"
      ]
     },
     "execution_count": 78,
     "metadata": {},
     "output_type": "execute_result"
    }
   ],
   "source": [
    "condition = (student_performance_table.column('Exam_Score (%)') >= 60) | (student_performance_table.column('Assignment_Completion_Rate (%)') >= 70)\n",
    "opposite_table = student_performance_table.where(condition)\n",
    "num_opposite = opposite_table.num_rows\n",
    "num_D_opposite = np.count_nonzero(opposite_table.column('Final_Grade') == 'D')\n",
    "percentage_D_opposite = (num_D_opposite / num_opposite * 100) if num_opposite > 0 else 0\n",
    "percentage_D_opposite"
   ]
  },
  {
   "cell_type": "markdown",
   "id": "7a9a7937",
   "metadata": {},
   "source": [
    "Học sinh có điểm thi dưới 60% và tỷ lệ hoàn thành bài tập dưới 70% có xu hướng mạnh mẽ đạt điểm cuối kỳ D, với tỷ lệ 75.69%, cao gấp hơn 4.5 lần so với nhóm đối lập (16.8%) và gấp hơn 3 lần so với trung bình toàn bộ tập dữ liệu (24.27%). Điều này cho thấy các yếu tố điểm thi thấp và tỷ lệ hoàn thành bài tập thấp là những chỉ số mạnh mẽ dự đoán điểm cuối kỳ D. Để cải thiện kết quả học tập, cần can thiệp hỗ trợ học sinh trong việc nâng cao điểm thi và hoàn thành bài tập đúng hạn."
   ]
  },
  {
   "cell_type": "markdown",
   "id": "2d29e4c5",
   "metadata": {},
   "source": [
    "# Câu hỏi nghiên cứu 2:\n",
    "Học sinh có phong cách học tập ưa thích là 'Visual' (Preferred_Learning_Style = Visual) và dành ít hơn 15 giờ học mỗi tuần (Study_Hours_per_Week < 15) có xu hướng đạt điểm cuối kỳ dưới B không?\n"
   ]
  },
  {
   "cell_type": "markdown",
   "id": "c3200f90",
   "metadata": {},
   "source": [
    "Ta lấy từ dataset ra những cột cần thiết:"
   ]
  },
  {
   "cell_type": "code",
   "execution_count": 79,
   "id": "297bfe85",
   "metadata": {},
   "outputs": [
    {
     "data": {
      "text/html": [
       "<table border=\"1\" class=\"dataframe\">\n",
       "    <thead>\n",
       "        <tr>\n",
       "            <th>Preferred_Learning_Style</th> <th>Study_Hours_per_Week</th> <th>Final_Grade</th>\n",
       "        </tr>\n",
       "    </thead>\n",
       "    <tbody>\n",
       "        <tr>\n",
       "            <td>Kinesthetic             </td> <td>48                  </td> <td>C          </td>\n",
       "        </tr>\n",
       "        <tr>\n",
       "            <td>Reading/Writing         </td> <td>30                  </td> <td>D          </td>\n",
       "        </tr>\n",
       "        <tr>\n",
       "            <td>Kinesthetic             </td> <td>47                  </td> <td>D          </td>\n",
       "        </tr>\n",
       "        <tr>\n",
       "            <td>Auditory                </td> <td>13                  </td> <td>B          </td>\n",
       "        </tr>\n",
       "        <tr>\n",
       "            <td>Auditory                </td> <td>24                  </td> <td>C          </td>\n",
       "        </tr>\n",
       "        <tr>\n",
       "            <td>Kinesthetic             </td> <td>26                  </td> <td>D          </td>\n",
       "        </tr>\n",
       "        <tr>\n",
       "            <td>Reading/Writing         </td> <td>49                  </td> <td>D          </td>\n",
       "        </tr>\n",
       "        <tr>\n",
       "            <td>Reading/Writing         </td> <td>14                  </td> <td>C          </td>\n",
       "        </tr>\n",
       "        <tr>\n",
       "            <td>Visual                  </td> <td>45                  </td> <td>B          </td>\n",
       "        </tr>\n",
       "        <tr>\n",
       "            <td>Auditory                </td> <td>35                  </td> <td>C          </td>\n",
       "        </tr>\n",
       "    </tbody>\n",
       "</table>\n",
       "<p>... (9990 rows omitted)</p>"
      ],
      "text/plain": [
       "Preferred_Learning_Style | Study_Hours_per_Week | Final_Grade\n",
       "Kinesthetic              | 48                   | C\n",
       "Reading/Writing          | 30                   | D\n",
       "Kinesthetic              | 47                   | D\n",
       "Auditory                 | 13                   | B\n",
       "Auditory                 | 24                   | C\n",
       "Kinesthetic              | 26                   | D\n",
       "Reading/Writing          | 49                   | D\n",
       "Reading/Writing          | 14                   | C\n",
       "Visual                   | 45                   | B\n",
       "Auditory                 | 35                   | C\n",
       "... (9990 rows omitted)"
      ]
     },
     "execution_count": 79,
     "metadata": {},
     "output_type": "execute_result"
    }
   ],
   "source": [
    "table_for_q2 = student_peformance_table.select('Preferred_Learning_Style', 'Study_Hours_per_Week', 'Final_Grade')\n",
    "table_for_q2"
   ]
  },
  {
   "cell_type": "markdown",
   "id": "61aa67cd",
   "metadata": {},
   "source": [
    "Lọc nhóm học sinh có phong cách học 'Visual' và học dưới 15 giờ/tuần"
   ]
  },
  {
   "cell_type": "code",
   "execution_count": 80,
   "id": "a327a7aa",
   "metadata": {},
   "outputs": [
    {
     "data": {
      "text/html": [
       "<table border=\"1\" class=\"dataframe\">\n",
       "    <thead>\n",
       "        <tr>\n",
       "            <th>Preferred_Learning_Style</th> <th>Study_Hours_per_Week</th> <th>Final_Grade</th>\n",
       "        </tr>\n",
       "    </thead>\n",
       "    <tbody>\n",
       "        <tr>\n",
       "            <td>Visual                  </td> <td>14                  </td> <td>C          </td>\n",
       "        </tr>\n",
       "        <tr>\n",
       "            <td>Visual                  </td> <td>11                  </td> <td>A          </td>\n",
       "        </tr>\n",
       "        <tr>\n",
       "            <td>Visual                  </td> <td>6                   </td> <td>A          </td>\n",
       "        </tr>\n",
       "        <tr>\n",
       "            <td>Visual                  </td> <td>11                  </td> <td>B          </td>\n",
       "        </tr>\n",
       "        <tr>\n",
       "            <td>Visual                  </td> <td>12                  </td> <td>C          </td>\n",
       "        </tr>\n",
       "        <tr>\n",
       "            <td>Visual                  </td> <td>6                   </td> <td>A          </td>\n",
       "        </tr>\n",
       "        <tr>\n",
       "            <td>Visual                  </td> <td>5                   </td> <td>C          </td>\n",
       "        </tr>\n",
       "        <tr>\n",
       "            <td>Visual                  </td> <td>11                  </td> <td>B          </td>\n",
       "        </tr>\n",
       "        <tr>\n",
       "            <td>Visual                  </td> <td>9                   </td> <td>B          </td>\n",
       "        </tr>\n",
       "        <tr>\n",
       "            <td>Visual                  </td> <td>12                  </td> <td>B          </td>\n",
       "        </tr>\n",
       "    </tbody>\n",
       "</table>\n",
       "<p>... (573 rows omitted)</p>"
      ],
      "text/plain": [
       "Preferred_Learning_Style | Study_Hours_per_Week | Final_Grade\n",
       "Visual                   | 14                   | C\n",
       "Visual                   | 11                   | A\n",
       "Visual                   | 6                    | A\n",
       "Visual                   | 11                   | B\n",
       "Visual                   | 12                   | C\n",
       "Visual                   | 6                    | A\n",
       "Visual                   | 5                    | C\n",
       "Visual                   | 11                   | B\n",
       "Visual                   | 9                    | B\n",
       "Visual                   | 12                   | B\n",
       "... (573 rows omitted)"
      ]
     },
     "execution_count": 80,
     "metadata": {},
     "output_type": "execute_result"
    }
   ],
   "source": [
    "filtered_table_q2 = table_for_q2.where('Preferred_Learning_Style', are.equal_to('Visual')).where('Study_Hours_per_Week', are.below(15))\n",
    "filtered_table_q2"
   ]
  },
  {
   "cell_type": "markdown",
   "id": "f75cc38e",
   "metadata": {},
   "source": [
    "Tính tỷ lệ học sinh đạt điểm dưới B trong nhóm đã lọc"
   ]
  },
  {
   "cell_type": "code",
   "execution_count": 81,
   "id": "33a3efd1",
   "metadata": {},
   "outputs": [
    {
     "data": {
      "text/plain": [
       "49.74271012006861"
      ]
     },
     "execution_count": 81,
     "metadata": {},
     "output_type": "execute_result"
    }
   ],
   "source": [
    "percentage_below_B_filtered = np.count_nonzero(np.isin(filtered_table_q2.column('Final_Grade'), ['C', 'D'])) / filtered_table_q2.num_rows * 100\n",
    "percentage_below_B_filtered"
   ]
  },
  {
   "cell_type": "markdown",
   "id": "a243bed3",
   "metadata": {},
   "source": [
    "So sánh với nhóm đối lập"
   ]
  },
  {
   "cell_type": "code",
   "execution_count": 82,
   "id": "12431b6a",
   "metadata": {},
   "outputs": [
    {
     "data": {
      "text/plain": [
       "48.832054560954816"
      ]
     },
     "execution_count": 82,
     "metadata": {},
     "output_type": "execute_result"
    }
   ],
   "source": [
    "opposite_group = table_for_q2.where('Preferred_Learning_Style', are.not_equal_to('Visual')).where('Study_Hours_per_Week', are.above_or_equal_to(15))\n",
    "percentage_below_B_opposite = np.count_nonzero(np.isin(opposite_group.column('Final_Grade'), ['C', 'D'])) / opposite_group.num_rows * 100\n",
    "percentage_below_B_opposite"
   ]
  },
  {
   "cell_type": "markdown",
   "id": "d62a121d",
   "metadata": {},
   "source": [
    "Học sinh có phong cách học tập 'Visual' và học dưới 15 giờ/tuần có xu hướng đạt điểm cuối kỳ dưới B (C hoặc D) với tỷ lệ 53.81%, cao hơn so với toàn bộ tập dữ liệu (49.74%) và nhóm không phải Visual hoặc học từ 15 giờ/tuần (48.83%)."
   ]
  }
 ],
 "metadata": {
  "kernelspec": {
   "display_name": "Python 3 (ipykernel)",
   "language": "python",
   "name": "python3"
  },
  "language_info": {
   "codemirror_mode": {
    "name": "ipython",
    "version": 3
   },
   "file_extension": ".py",
   "mimetype": "text/x-python",
   "name": "python",
   "nbconvert_exporter": "python",
   "pygments_lexer": "ipython3",
   "version": "3.12.7"
  }
 },
 "nbformat": 4,
 "nbformat_minor": 5
}
