{
 "cells": [
  {
   "cell_type": "code",
   "execution_count": 9,
   "id": "6323a73f",
   "metadata": {},
   "outputs": [],
   "source": [
    "from datascience import *\n",
    "import numpy as np\n",
    "import pandas as pd\n",
    "import matplotlib.pyplot as plt\n",
    "%matplotlib inline"
   ]
  },
  {
   "cell_type": "code",
   "execution_count": 10,
   "id": "11cf18e3",
   "metadata": {},
   "outputs": [
    {
     "data": {
      "text/html": [
       "<table border=\"1\" class=\"dataframe\">\n",
       "    <thead>\n",
       "        <tr>\n",
       "            <th>Student_ID</th> <th>Age</th> <th>Gender</th> <th>Study_Hours_per_Week</th> <th>Preferred_Learning_Style</th> <th>Online_Courses_Completed</th> <th>Participation_in_Discussions</th> <th>Assignment_Completion_Rate (%)</th> <th>Exam_Score (%)</th> <th>Attendance_Rate (%)</th> <th>Use_of_Educational_Tech</th> <th>Self_Reported_Stress_Level</th> <th>Time_Spent_on_Social_Media (hours/week)</th> <th>Sleep_Hours_per_Night</th> <th>Final_Grade</th>\n",
       "        </tr>\n",
       "    </thead>\n",
       "    <tbody>\n",
       "        <tr>\n",
       "            <td>S00001    </td> <td>18  </td> <td>Female</td> <td>48                  </td> <td>Kinesthetic             </td> <td>14                      </td> <td>Yes                         </td> <td>100                           </td> <td>69            </td> <td>66                 </td> <td>Yes                    </td> <td>High                      </td> <td>9                                      </td> <td>8                    </td> <td>C          </td>\n",
       "        </tr>\n",
       "        <tr>\n",
       "            <td>S00002    </td> <td>29  </td> <td>Female</td> <td>30                  </td> <td>Reading/Writing         </td> <td>20                      </td> <td>No                          </td> <td>71                            </td> <td>40            </td> <td>57                 </td> <td>Yes                    </td> <td>Medium                    </td> <td>28                                     </td> <td>8                    </td> <td>D          </td>\n",
       "        </tr>\n",
       "        <tr>\n",
       "            <td>S00003    </td> <td>20  </td> <td>Female</td> <td>47                  </td> <td>Kinesthetic             </td> <td>11                      </td> <td>No                          </td> <td>60                            </td> <td>43            </td> <td>79                 </td> <td>Yes                    </td> <td>Low                       </td> <td>13                                     </td> <td>7                    </td> <td>D          </td>\n",
       "        </tr>\n",
       "        <tr>\n",
       "            <td>S00004    </td> <td>23  </td> <td>Female</td> <td>13                  </td> <td>Auditory                </td> <td>0                       </td> <td>Yes                         </td> <td>63                            </td> <td>70            </td> <td>60                 </td> <td>Yes                    </td> <td>Low                       </td> <td>24                                     </td> <td>10                   </td> <td>B          </td>\n",
       "        </tr>\n",
       "        <tr>\n",
       "            <td>S00005    </td> <td>19  </td> <td>Female</td> <td>24                  </td> <td>Auditory                </td> <td>19                      </td> <td>Yes                         </td> <td>59                            </td> <td>63            </td> <td>93                 </td> <td>Yes                    </td> <td>Medium                    </td> <td>26                                     </td> <td>8                    </td> <td>C          </td>\n",
       "        </tr>\n",
       "    </tbody>\n",
       "</table>\n",
       "<p>... (9995 rows omitted)</p>"
      ],
      "text/plain": [
       "<IPython.core.display.HTML object>"
      ]
     },
     "metadata": {},
     "output_type": "display_data"
    }
   ],
   "source": [
    "student_performance= Table.read_table('student_performance_large_dataset.csv')\n",
    "student_performance.show(5)"
   ]
  },
  {
   "cell_type": "markdown",
   "id": "96f34d75",
   "metadata": {},
   "source": [
    "# Câu hỏi nghiên cứu 1\n",
    "Học sinh dành hơn 40 giờ học mỗi tuần (Study_Hours_per_Week > 40) có khả năng đạt điểm cuối kỳ từ B trở lên không?"
   ]
  },
  {
   "cell_type": "markdown",
   "id": "def73af6",
   "metadata": {},
   "source": [
    "Chọn các cột thông tin cần thiết"
   ]
  },
  {
   "cell_type": "code",
   "execution_count": 11,
   "id": "5169f3e3",
   "metadata": {},
   "outputs": [
    {
     "data": {
      "text/html": [
       "<table border=\"1\" class=\"dataframe\">\n",
       "    <thead>\n",
       "        <tr>\n",
       "            <th>Final_Grade</th> <th>Study_Hours_per_Week</th>\n",
       "        </tr>\n",
       "    </thead>\n",
       "    <tbody>\n",
       "        <tr>\n",
       "            <td>C          </td> <td>48                  </td>\n",
       "        </tr>\n",
       "        <tr>\n",
       "            <td>D          </td> <td>30                  </td>\n",
       "        </tr>\n",
       "        <tr>\n",
       "            <td>D          </td> <td>47                  </td>\n",
       "        </tr>\n",
       "        <tr>\n",
       "            <td>B          </td> <td>13                  </td>\n",
       "        </tr>\n",
       "        <tr>\n",
       "            <td>C          </td> <td>24                  </td>\n",
       "        </tr>\n",
       "        <tr>\n",
       "            <td>D          </td> <td>26                  </td>\n",
       "        </tr>\n",
       "        <tr>\n",
       "            <td>D          </td> <td>49                  </td>\n",
       "        </tr>\n",
       "        <tr>\n",
       "            <td>C          </td> <td>14                  </td>\n",
       "        </tr>\n",
       "        <tr>\n",
       "            <td>B          </td> <td>45                  </td>\n",
       "        </tr>\n",
       "        <tr>\n",
       "            <td>C          </td> <td>35                  </td>\n",
       "        </tr>\n",
       "    </tbody>\n",
       "</table>\n",
       "<p>... (9990 rows omitted)</p>"
      ],
      "text/plain": [
       "Final_Grade | Study_Hours_per_Week\n",
       "C           | 48\n",
       "D           | 30\n",
       "D           | 47\n",
       "B           | 13\n",
       "C           | 24\n",
       "D           | 26\n",
       "D           | 49\n",
       "C           | 14\n",
       "B           | 45\n",
       "C           | 35\n",
       "... (9990 rows omitted)"
      ]
     },
     "execution_count": 11,
     "metadata": {},
     "output_type": "execute_result"
    }
   ],
   "source": [
    "data = student_performance.select('Final_Grade', 'Study_Hours_per_Week')\n",
    "data"
   ]
  },
  {
   "cell_type": "markdown",
   "id": "8fcd4a1a",
   "metadata": {},
   "source": [
    "Tạo cột nhị phân: B_or_higher = 1 nếu Final_Grade là A hoặc B, 0 nếu là C hoặc D"
   ]
  },
  {
   "cell_type": "code",
   "execution_count": 12,
   "id": "0617261c",
   "metadata": {},
   "outputs": [
    {
     "data": {
      "text/html": [
       "<table border=\"1\" class=\"dataframe\">\n",
       "    <thead>\n",
       "        <tr>\n",
       "            <th>Final_Grade</th> <th>Study_Hours_per_Week</th> <th>B_or_higher</th>\n",
       "        </tr>\n",
       "    </thead>\n",
       "    <tbody>\n",
       "        <tr>\n",
       "            <td>C          </td> <td>48                  </td> <td>0          </td>\n",
       "        </tr>\n",
       "        <tr>\n",
       "            <td>D          </td> <td>30                  </td> <td>0          </td>\n",
       "        </tr>\n",
       "        <tr>\n",
       "            <td>D          </td> <td>47                  </td> <td>0          </td>\n",
       "        </tr>\n",
       "        <tr>\n",
       "            <td>B          </td> <td>13                  </td> <td>1          </td>\n",
       "        </tr>\n",
       "        <tr>\n",
       "            <td>C          </td> <td>24                  </td> <td>0          </td>\n",
       "        </tr>\n",
       "        <tr>\n",
       "            <td>D          </td> <td>26                  </td> <td>0          </td>\n",
       "        </tr>\n",
       "        <tr>\n",
       "            <td>D          </td> <td>49                  </td> <td>0          </td>\n",
       "        </tr>\n",
       "        <tr>\n",
       "            <td>C          </td> <td>14                  </td> <td>0          </td>\n",
       "        </tr>\n",
       "        <tr>\n",
       "            <td>B          </td> <td>45                  </td> <td>1          </td>\n",
       "        </tr>\n",
       "        <tr>\n",
       "            <td>C          </td> <td>35                  </td> <td>0          </td>\n",
       "        </tr>\n",
       "    </tbody>\n",
       "</table>\n",
       "<p>... (9990 rows omitted)</p>"
      ],
      "text/plain": [
       "Final_Grade | Study_Hours_per_Week | B_or_higher\n",
       "C           | 48                   | 0\n",
       "D           | 30                   | 0\n",
       "D           | 47                   | 0\n",
       "B           | 13                   | 1\n",
       "C           | 24                   | 0\n",
       "D           | 26                   | 0\n",
       "D           | 49                   | 0\n",
       "C           | 14                   | 0\n",
       "B           | 45                   | 1\n",
       "C           | 35                   | 0\n",
       "... (9990 rows omitted)"
      ]
     },
     "execution_count": 12,
     "metadata": {},
     "output_type": "execute_result"
    }
   ],
   "source": [
    "data = data.with_column('B_or_higher', data.apply(lambda g : 1 if g in ['A', 'B'] else 0, 'Final_Grade'))\n",
    "data\n"
   ]
  },
  {
   "cell_type": "markdown",
   "id": "e6ad50b3",
   "metadata": {},
   "source": [
    "Tạo cột nhóm: high_hours = 1 nếu Study_Hours_per_Week > 40, 0 nếu <= 40"
   ]
  },
  {
   "cell_type": "code",
   "execution_count": 14,
   "id": "66cc9b74",
   "metadata": {},
   "outputs": [],
   "source": [
    "data = data.with_column('high_hours', data.apply(lambda h : 1 if h > 40 else 0, 'Study_Hours_per_Week'))"
   ]
  },
  {
   "cell_type": "markdown",
   "id": "7a403cb0",
   "metadata": {},
   "source": [
    "Tính tỷ lệ đạt B trở lên trong hai nhóm"
   ]
  },
  {
   "cell_type": "code",
   "execution_count": 17,
   "id": "ab71ed25",
   "metadata": {},
   "outputs": [
    {
     "name": "stdout",
     "output_type": "stream",
     "text": [
      "Tỷ lệ đạt B trở lên (học > 40 giờ):  51.79%\n"
     ]
    }
   ],
   "source": [
    "# Nhóm học > 40 giờ\n",
    "high_hours_group = data.where('high_hours', 1)\n",
    "prop_high = np.mean(high_hours_group.column('B_or_higher'))\n",
    "print(f\"Tỷ lệ đạt B trở lên (học > 40 giờ): {prop_high: .2%}\")"
   ]
  },
  {
   "cell_type": "code",
   "execution_count": 18,
   "id": "a69ebd11",
   "metadata": {},
   "outputs": [
    {
     "name": "stdout",
     "output_type": "stream",
     "text": [
      "Tỷ lệ đạt B trở lên (học ≤ 40 giờ): 51.21%\n"
     ]
    }
   ],
   "source": [
    "# Nhóm học ≤ 40 giờ\n",
    "low_hours_group = data.where('high_hours', 0)\n",
    "prop_low = np.mean(low_hours_group['B_or_higher'])\n",
    "print(f\"Tỷ lệ đạt B trở lên (học ≤ 40 giờ): {prop_low:.2%}\")"
   ]
  },
  {
   "cell_type": "markdown",
   "id": "5a75eb78",
   "metadata": {},
   "source": [
    "Chênh lệch tỷ lệ quan sát được"
   ]
  },
  {
   "cell_type": "code",
   "execution_count": 19,
   "id": "f1370d5d",
   "metadata": {},
   "outputs": [
    {
     "name": "stdout",
     "output_type": "stream",
     "text": [
      "Chênh lệch tỷ lệ quan sát được: 0.58%\n"
     ]
    }
   ],
   "source": [
    "observed_diff = prop_high - prop_low\n",
    "print(f\"Chênh lệch tỷ lệ quan sát được: {observed_diff:.2%}\")"
   ]
  },
  {
   "cell_type": "markdown",
   "id": "5ffcfbb3",
   "metadata": {},
   "source": [
    "Kiểm định giả thuyết (Permutation Test)"
   ]
  },
  {
   "cell_type": "code",
   "execution_count": 21,
   "id": "46092836",
   "metadata": {},
   "outputs": [],
   "source": [
    "# Mô phỏng phân phối chênh lệch tỷ lệ dưới H0\n",
    "n_simulations = 10000\n",
    "diffs = make_array()\n",
    "\n",
    "for i in range(n_simulations):\n",
    "    # Xáo trộn nhãn high_hours\n",
    "    shuffled_labels = data.sample(with_replacement=False)['high_hours']\n",
    "    shuffled_data = data.with_column('shuffled_high_hours', shuffled_labels)\n",
    "    \n",
    "    # Tính tỷ lệ cho hai nhóm với nhãn xáo trộn\n",
    "    shuffled_high = shuffled_data.where('shuffled_high_hours', 1)\n",
    "    shuffled_low = shuffled_data.where('shuffled_high_hours', 0)\n",
    "    prop_high_shuffled = np.mean(shuffled_high['B_or_higher'])\n",
    "    prop_low_shuffled = np.mean(shuffled_low['B_or_higher'])\n",
    "    \n",
    "    # Lưu chênh lệch tỷ lệ\n",
    "    diffs = np.append(diffs, prop_high_shuffled - prop_low_shuffled)"
   ]
  },
  {
   "cell_type": "markdown",
   "id": "a17625dc",
   "metadata": {},
   "source": [
    "Tính p-value (xác suất chênh lệch ≥ observed_diff)"
   ]
  },
  {
   "cell_type": "code",
   "execution_count": 22,
   "id": "a64dacd2",
   "metadata": {},
   "outputs": [
    {
     "name": "stdout",
     "output_type": "stream",
     "text": [
      "P-value: 0.3354\n"
     ]
    }
   ],
   "source": [
    "p_value = np.mean(diffs >= observed_diff)\n",
    "print(f\"P-value: {p_value:.4f}\")"
   ]
  },
  {
   "cell_type": "markdown",
   "id": "69f4a20b",
   "metadata": {},
   "source": [
    "Trực quan hóa phân phối mô phỏng"
   ]
  },
  {
   "cell_type": "code",
   "execution_count": 23,
   "id": "14579c9c",
   "metadata": {},
   "outputs": [
    {
     "data": {
      "image/png": "[encoded data removed]",
      "text/plain": [
       "<Figure size 600x400 with 1 Axes>"
      ]
     },
     "metadata": {},
     "output_type": "display_data"
    }
   ],
   "source": [
    "Table().with_column('Difference in Proportions', diffs).hist(bins=20)\n",
    "plt.axvline(x=observed_diff, color='red', linestyle='--', label='Observed Difference')\n",
    "plt.title('Phân phối chênh lệch tỷ lệ dưới giả thuyết gốc')\n",
    "plt.xlabel('Chênh lệch tỷ lệ (nhóm > 40 giờ - nhóm ≤ 40 giờ)')\n",
    "plt.ylabel('Tần suất')\n",
    "plt.legend()\n",
    "plt.show()"
   ]
  },
  {
   "cell_type": "markdown",
   "id": "9560f20d",
   "metadata": {},
   "source": [
    "So sánh tỷ lệ bằng biểu đồ cột"
   ]
  },
  {
   "cell_type": "code",
   "execution_count": 24,
   "id": "2fb013f0",
   "metadata": {},
   "outputs": [
    {
     "data": {
      "image/png": "[encoded data removed]",
      "text/plain": [
       "<Figure size 600x400 with 1 Axes>"
      ]
     },
     "metadata": {},
     "output_type": "display_data"
    }
   ],
   "source": [
    "props = Table().with_columns(\n",
    "    'Group', ['> 40 hours', '≤ 40 hours'],\n",
    "    'Proportion B or Higher', [prop_high, prop_low]\n",
    ")\n",
    "props.barh('Group', 'Proportion B or Higher')\n",
    "plt.title('Tỷ lệ đạt điểm từ B trở lên theo nhóm giờ học')\n",
    "plt.xlabel('Tỷ lệ')\n",
    "plt.show()"
   ]
  },
  {
   "cell_type": "markdown",
   "id": "77f61b4b",
   "metadata": {},
   "source": [
    "Kết luận"
   ]
  },
  {
   "cell_type": "code",
   "execution_count": 25,
   "id": "9988ab20",
   "metadata": {},
   "outputs": [
    {
     "name": "stdout",
     "output_type": "stream",
     "text": [
      "Không đủ bằng chứng để bác bỏ giả thuyết gốc (H₀). Không có sự khác biệt đáng kể về tỷ lệ đạt điểm từ B trở lên giữa hai nhóm.\n",
      "Kết luận: Tỷ lệ đạt B trở lên ở nhóm học > 40 giờ là 51.79%, so với 51.21% ở nhóm học ≤ 40 giờ.\n"
     ]
    }
   ],
   "source": [
    "alpha = 0.05\n",
    "if p_value < alpha:\n",
    "    print(\"Bác bỏ giả thuyết gốc (H₀). Học sinh học hơn 40 giờ mỗi tuần có tỷ lệ đạt điểm từ B trở lên cao hơn đáng kể.\")\n",
    "else:\n",
    "    print(\"Không đủ bằng chứng để bác bỏ giả thuyết gốc (H₀). Không có sự khác biệt đáng kể về tỷ lệ đạt điểm từ B trở lên giữa hai nhóm.\")\n",
    "print(f\"Kết luận: Tỷ lệ đạt B trở lên ở nhóm học > 40 giờ là {prop_high:.2%}, so với {prop_low:.2%} ở nhóm học ≤ 40 giờ.\")"
   ]
  },
  {
   "cell_type": "markdown",
   "id": "d33fe895",
   "metadata": {},
   "source": [
    "# Câu hỏi nghiên cứu 2"
   ]
  },
  {
   "cell_type": "markdown",
   "id": "e822390d",
   "metadata": {},
   "source": [
    "Chuẩn bị dữ liệu"
   ]
  },
  {
   "cell_type": "code",
   "execution_count": 27,
   "id": "1c4d7e46",
   "metadata": {},
   "outputs": [
    {
     "data": {
      "text/html": [
       "<table border=\"1\" class=\"dataframe\">\n",
       "    <thead>\n",
       "        <tr>\n",
       "            <th>Student_ID</th> <th>Age</th> <th>Gender</th> <th>Study_Hours_per_Week</th> <th>Preferred_Learning_Style</th> <th>Online_Courses_Completed</th> <th>Participation_in_Discussions</th> <th>Assignment_Completion_Rate (%)</th> <th>Exam_Score (%)</th> <th>Attendance_Rate (%)</th> <th>Use_of_Educational_Tech</th> <th>Self_Reported_Stress_Level</th> <th>Time_Spent_on_Social_Media (hours/week)</th> <th>Sleep_Hours_per_Night</th> <th>Final_Grade</th> <th>is_A</th>\n",
       "        </tr>\n",
       "    </thead>\n",
       "    <tbody>\n",
       "        <tr>\n",
       "            <td>S00001    </td> <td>18  </td> <td>Female</td> <td>48                  </td> <td>Kinesthetic             </td> <td>14                      </td> <td>Yes                         </td> <td>100                           </td> <td>69            </td> <td>66                 </td> <td>Yes                    </td> <td>High                      </td> <td>9                                      </td> <td>8                    </td> <td>C          </td> <td>0   </td>\n",
       "        </tr>\n",
       "        <tr>\n",
       "            <td>S00002    </td> <td>29  </td> <td>Female</td> <td>30                  </td> <td>Reading/Writing         </td> <td>20                      </td> <td>No                          </td> <td>71                            </td> <td>40            </td> <td>57                 </td> <td>Yes                    </td> <td>Medium                    </td> <td>28                                     </td> <td>8                    </td> <td>D          </td> <td>0   </td>\n",
       "        </tr>\n",
       "        <tr>\n",
       "            <td>S00003    </td> <td>20  </td> <td>Female</td> <td>47                  </td> <td>Kinesthetic             </td> <td>11                      </td> <td>No                          </td> <td>60                            </td> <td>43            </td> <td>79                 </td> <td>Yes                    </td> <td>Low                       </td> <td>13                                     </td> <td>7                    </td> <td>D          </td> <td>0   </td>\n",
       "        </tr>\n",
       "        <tr>\n",
       "            <td>S00004    </td> <td>23  </td> <td>Female</td> <td>13                  </td> <td>Auditory                </td> <td>0                       </td> <td>Yes                         </td> <td>63                            </td> <td>70            </td> <td>60                 </td> <td>Yes                    </td> <td>Low                       </td> <td>24                                     </td> <td>10                   </td> <td>B          </td> <td>0   </td>\n",
       "        </tr>\n",
       "        <tr>\n",
       "            <td>S00005    </td> <td>19  </td> <td>Female</td> <td>24                  </td> <td>Auditory                </td> <td>19                      </td> <td>Yes                         </td> <td>59                            </td> <td>63            </td> <td>93                 </td> <td>Yes                    </td> <td>Medium                    </td> <td>26                                     </td> <td>8                    </td> <td>C          </td> <td>0   </td>\n",
       "        </tr>\n",
       "        <tr>\n",
       "            <td>S00006    </td> <td>28  </td> <td>Female</td> <td>26                  </td> <td>Kinesthetic             </td> <td>5                       </td> <td>Yes                         </td> <td>63                            </td> <td>54            </td> <td>80                 </td> <td>No                     </td> <td>High                      </td> <td>25                                     </td> <td>8                    </td> <td>D          </td> <td>0   </td>\n",
       "        </tr>\n",
       "        <tr>\n",
       "            <td>S00007    </td> <td>19  </td> <td>Female</td> <td>49                  </td> <td>Reading/Writing         </td> <td>13                      </td> <td>Yes                         </td> <td>91                            </td> <td>44            </td> <td>66                 </td> <td>Yes                    </td> <td>Low                       </td> <td>30                                     </td> <td>10                   </td> <td>D          </td> <td>0   </td>\n",
       "        </tr>\n",
       "        <tr>\n",
       "            <td>S00008    </td> <td>27  </td> <td>Male  </td> <td>14                  </td> <td>Reading/Writing         </td> <td>5                       </td> <td>Yes                         </td> <td>88                            </td> <td>56            </td> <td>76                 </td> <td>Yes                    </td> <td>Low                       </td> <td>4                                      </td> <td>6                    </td> <td>C          </td> <td>0   </td>\n",
       "        </tr>\n",
       "        <tr>\n",
       "            <td>S00009    </td> <td>22  </td> <td>Male  </td> <td>45                  </td> <td>Visual                  </td> <td>16                      </td> <td>No                          </td> <td>52                            </td> <td>78            </td> <td>70                 </td> <td>No                     </td> <td>Low                       </td> <td>26                                     </td> <td>9                    </td> <td>B          </td> <td>0   </td>\n",
       "        </tr>\n",
       "        <tr>\n",
       "            <td>S00010    </td> <td>28  </td> <td>Other </td> <td>35                  </td> <td>Auditory                </td> <td>7                       </td> <td>No                          </td> <td>100                           </td> <td>55            </td> <td>100                </td> <td>No                     </td> <td>Medium                    </td> <td>5                                      </td> <td>9                    </td> <td>C          </td> <td>0   </td>\n",
       "        </tr>\n",
       "    </tbody>\n",
       "</table>\n",
       "<p>... (9990 rows omitted)</p>"
      ],
      "text/plain": [
       "Student_ID | Age  | Gender | Study_Hours_per_Week | Preferred_Learning_Style | Online_Courses_Completed | Participation_in_Discussions | Assignment_Completion_Rate (%) | Exam_Score (%) | Attendance_Rate (%) | Use_of_Educational_Tech | Self_Reported_Stress_Level | Time_Spent_on_Social_Media (hours/week) | Sleep_Hours_per_Night | Final_Grade | is_A\n",
       "S00001     | 18   | Female | 48                   | Kinesthetic              | 14                       | Yes                          | 100                            | 69             | 66                  | Yes                     | High                       | 9                                       | 8                     | C           | 0\n",
       "S00002     | 29   | Female | 30                   | Reading/Writing          | 20                       | No                           | 71                             | 40             | 57                  | Yes                     | Medium                     | 28                                      | 8                     | D           | 0\n",
       "S00003     | 20   | Female | 47                   | Kinesthetic              | 11                       | No                           | 60                             | 43             | 79                  | Yes                     | Low                        | 13                                      | 7                     | D           | 0\n",
       "S00004     | 23   | Female | 13                   | Auditory                 | 0                        | Yes                          | 63                             | 70             | 60                  | Yes                     | Low                        | 24                                      | 10                    | B           | 0\n",
       "S00005     | 19   | Female | 24                   | Auditory                 | 19                       | Yes                          | 59                             | 63             | 93                  | Yes                     | Medium                     | 26                                      | 8                     | C           | 0\n",
       "S00006     | 28   | Female | 26                   | Kinesthetic              | 5                        | Yes                          | 63                             | 54             | 80                  | No                      | High                       | 25                                      | 8                     | D           | 0\n",
       "S00007     | 19   | Female | 49                   | Reading/Writing          | 13                       | Yes                          | 91                             | 44             | 66                  | Yes                     | Low                        | 30                                      | 10                    | D           | 0\n",
       "S00008     | 27   | Male   | 14                   | Reading/Writing          | 5                        | Yes                          | 88                             | 56             | 76                  | Yes                     | Low                        | 4                                       | 6                     | C           | 0\n",
       "S00009     | 22   | Male   | 45                   | Visual                   | 16                       | No                           | 52                             | 78             | 70                  | No                      | Low                        | 26                                      | 9                     | B           | 0\n",
       "S00010     | 28   | Other  | 35                   | Auditory                 | 7                        | No                           | 100                            | 55             | 100                 | No                      | Medium                     | 5                                       | 9                     | C           | 0\n",
       "... (9990 rows omitted)"
      ]
     },
     "execution_count": 27,
     "metadata": {},
     "output_type": "execute_result"
    }
   ],
   "source": [
    "# Tạo cột nhị phân: is_A = 1 nếu Final_Grade là A, 0 nếu không\n",
    "student_performance = student_performance.with_column(\n",
    "    'is_A',\n",
    "    np.where(student_performance.column('Final_Grade') == 'A', 1, 0)\n",
    ")\n",
    "student_performance"
   ]
  },
  {
   "cell_type": "code",
   "execution_count": 29,
   "id": "a5a127a8",
   "metadata": {},
   "outputs": [
    {
     "data": {
      "text/html": [
       "<table border=\"1\" class=\"dataframe\">\n",
       "    <thead>\n",
       "        <tr>\n",
       "            <th>Student_ID</th> <th>Age</th> <th>Gender</th> <th>Study_Hours_per_Week</th> <th>Preferred_Learning_Style</th> <th>Online_Courses_Completed</th> <th>Participation_in_Discussions</th> <th>Assignment_Completion_Rate (%)</th> <th>Exam_Score (%)</th> <th>Attendance_Rate (%)</th> <th>Use_of_Educational_Tech</th> <th>Self_Reported_Stress_Level</th> <th>Time_Spent_on_Social_Media (hours/week)</th> <th>Sleep_Hours_per_Night</th> <th>Final_Grade</th> <th>is_A</th> <th>meets_conditions</th>\n",
       "        </tr>\n",
       "    </thead>\n",
       "    <tbody>\n",
       "        <tr>\n",
       "            <td>S00001    </td> <td>18  </td> <td>Female</td> <td>48                  </td> <td>Kinesthetic             </td> <td>14                      </td> <td>Yes                         </td> <td>100                           </td> <td>69            </td> <td>66                 </td> <td>Yes                    </td> <td>High                      </td> <td>9                                      </td> <td>8                    </td> <td>C          </td> <td>0   </td> <td>1               </td>\n",
       "        </tr>\n",
       "        <tr>\n",
       "            <td>S00002    </td> <td>29  </td> <td>Female</td> <td>30                  </td> <td>Reading/Writing         </td> <td>20                      </td> <td>No                          </td> <td>71                            </td> <td>40            </td> <td>57                 </td> <td>Yes                    </td> <td>Medium                    </td> <td>28                                     </td> <td>8                    </td> <td>D          </td> <td>0   </td> <td>0               </td>\n",
       "        </tr>\n",
       "        <tr>\n",
       "            <td>S00003    </td> <td>20  </td> <td>Female</td> <td>47                  </td> <td>Kinesthetic             </td> <td>11                      </td> <td>No                          </td> <td>60                            </td> <td>43            </td> <td>79                 </td> <td>Yes                    </td> <td>Low                       </td> <td>13                                     </td> <td>7                    </td> <td>D          </td> <td>0   </td> <td>0               </td>\n",
       "        </tr>\n",
       "        <tr>\n",
       "            <td>S00004    </td> <td>23  </td> <td>Female</td> <td>13                  </td> <td>Auditory                </td> <td>0                       </td> <td>Yes                         </td> <td>63                            </td> <td>70            </td> <td>60                 </td> <td>Yes                    </td> <td>Low                       </td> <td>24                                     </td> <td>10                   </td> <td>B          </td> <td>0   </td> <td>0               </td>\n",
       "        </tr>\n",
       "        <tr>\n",
       "            <td>S00005    </td> <td>19  </td> <td>Female</td> <td>24                  </td> <td>Auditory                </td> <td>19                      </td> <td>Yes                         </td> <td>59                            </td> <td>63            </td> <td>93                 </td> <td>Yes                    </td> <td>Medium                    </td> <td>26                                     </td> <td>8                    </td> <td>C          </td> <td>0   </td> <td>0               </td>\n",
       "        </tr>\n",
       "        <tr>\n",
       "            <td>S00006    </td> <td>28  </td> <td>Female</td> <td>26                  </td> <td>Kinesthetic             </td> <td>5                       </td> <td>Yes                         </td> <td>63                            </td> <td>54            </td> <td>80                 </td> <td>No                     </td> <td>High                      </td> <td>25                                     </td> <td>8                    </td> <td>D          </td> <td>0   </td> <td>0               </td>\n",
       "        </tr>\n",
       "        <tr>\n",
       "            <td>S00007    </td> <td>19  </td> <td>Female</td> <td>49                  </td> <td>Reading/Writing         </td> <td>13                      </td> <td>Yes                         </td> <td>91                            </td> <td>44            </td> <td>66                 </td> <td>Yes                    </td> <td>Low                       </td> <td>30                                     </td> <td>10                   </td> <td>D          </td> <td>0   </td> <td>1               </td>\n",
       "        </tr>\n",
       "        <tr>\n",
       "            <td>S00008    </td> <td>27  </td> <td>Male  </td> <td>14                  </td> <td>Reading/Writing         </td> <td>5                       </td> <td>Yes                         </td> <td>88                            </td> <td>56            </td> <td>76                 </td> <td>Yes                    </td> <td>Low                       </td> <td>4                                      </td> <td>6                    </td> <td>C          </td> <td>0   </td> <td>0               </td>\n",
       "        </tr>\n",
       "        <tr>\n",
       "            <td>S00009    </td> <td>22  </td> <td>Male  </td> <td>45                  </td> <td>Visual                  </td> <td>16                      </td> <td>No                          </td> <td>52                            </td> <td>78            </td> <td>70                 </td> <td>No                     </td> <td>Low                       </td> <td>26                                     </td> <td>9                    </td> <td>B          </td> <td>0   </td> <td>0               </td>\n",
       "        </tr>\n",
       "        <tr>\n",
       "            <td>S00010    </td> <td>28  </td> <td>Other </td> <td>35                  </td> <td>Auditory                </td> <td>7                       </td> <td>No                          </td> <td>100                           </td> <td>55            </td> <td>100                </td> <td>No                     </td> <td>Medium                    </td> <td>5                                      </td> <td>9                    </td> <td>C          </td> <td>0   </td> <td>0               </td>\n",
       "        </tr>\n",
       "    </tbody>\n",
       "</table>\n",
       "<p>... (9990 rows omitted)</p>"
      ],
      "text/plain": [
       "Student_ID | Age  | Gender | Study_Hours_per_Week | Preferred_Learning_Style | Online_Courses_Completed | Participation_in_Discussions | Assignment_Completion_Rate (%) | Exam_Score (%) | Attendance_Rate (%) | Use_of_Educational_Tech | Self_Reported_Stress_Level | Time_Spent_on_Social_Media (hours/week) | Sleep_Hours_per_Night | Final_Grade | is_A | meets_conditions\n",
       "S00001     | 18   | Female | 48                   | Kinesthetic              | 14                       | Yes                          | 100                            | 69             | 66                  | Yes                     | High                       | 9                                       | 8                     | C           | 0    | 1\n",
       "S00002     | 29   | Female | 30                   | Reading/Writing          | 20                       | No                           | 71                             | 40             | 57                  | Yes                     | Medium                     | 28                                      | 8                     | D           | 0    | 0\n",
       "S00003     | 20   | Female | 47                   | Kinesthetic              | 11                       | No                           | 60                             | 43             | 79                  | Yes                     | Low                        | 13                                      | 7                     | D           | 0    | 0\n",
       "S00004     | 23   | Female | 13                   | Auditory                 | 0                        | Yes                          | 63                             | 70             | 60                  | Yes                     | Low                        | 24                                      | 10                    | B           | 0    | 0\n",
       "S00005     | 19   | Female | 24                   | Auditory                 | 19                       | Yes                          | 59                             | 63             | 93                  | Yes                     | Medium                     | 26                                      | 8                     | C           | 0    | 0\n",
       "S00006     | 28   | Female | 26                   | Kinesthetic              | 5                        | Yes                          | 63                             | 54             | 80                  | No                      | High                       | 25                                      | 8                     | D           | 0    | 0\n",
       "S00007     | 19   | Female | 49                   | Reading/Writing          | 13                       | Yes                          | 91                             | 44             | 66                  | Yes                     | Low                        | 30                                      | 10                    | D           | 0    | 1\n",
       "S00008     | 27   | Male   | 14                   | Reading/Writing          | 5                        | Yes                          | 88                             | 56             | 76                  | Yes                     | Low                        | 4                                       | 6                     | C           | 0    | 0\n",
       "S00009     | 22   | Male   | 45                   | Visual                   | 16                       | No                           | 52                             | 78             | 70                  | No                      | Low                        | 26                                      | 9                     | B           | 0    | 0\n",
       "S00010     | 28   | Other  | 35                   | Auditory                 | 7                        | No                           | 100                            | 55             | 100                 | No                      | Medium                     | 5                                       | 9                     | C           | 0    | 0\n",
       "... (9990 rows omitted)"
      ]
     },
     "execution_count": 29,
     "metadata": {},
     "output_type": "execute_result"
    }
   ],
   "source": [
    "# Tạo cột nhị phân: meets_conditions = 1 nếu Assignment_Completion_Rate > 90% VÀ Participation_in_Discussions = 'Yes'\n",
    "student_performance = student_performance.with_column(\n",
    "    'meets_conditions',\n",
    "    np.where(\n",
    "        (student_performance.column('Assignment_Completion_Rate (%)') > 90) & \n",
    "        (student_performance.column('Participation_in_Discussions') == 'Yes'),\n",
    "        1, 0\n",
    "    )\n",
    ")\n",
    "student_performance"
   ]
  },
  {
   "cell_type": "markdown",
   "id": "c708a0ad",
   "metadata": {},
   "source": [
    "Tính tỷ lệ đạt A trong hai nhóm"
   ]
  },
  {
   "cell_type": "code",
   "execution_count": 30,
   "id": "2cfa99d2",
   "metadata": {},
   "outputs": [
    {
     "name": "stdout",
     "output_type": "stream",
     "text": [
      "Tỷ lệ đạt A (thỏa mãn cả hai điều kiện): 26.37%\n"
     ]
    }
   ],
   "source": [
    "# Nhóm thỏa mãn cả hai điều kiện\n",
    "meets_conditions_group = student_performance.where('meets_conditions', are.equal_to(1))\n",
    "if meets_conditions_group.num_rows == 0:\n",
    "    print(\"Không có học sinh nào thỏa mãn cả hai điều kiện. Kết thúc phân tích.\")\n",
    "    exit()\n",
    "prop_meets = np.mean(meets_conditions_group.column('is_A'))\n",
    "print(f\"Tỷ lệ đạt A (thỏa mãn cả hai điều kiện): {prop_meets:.2%}\")"
   ]
  },
  {
   "cell_type": "code",
   "execution_count": 31,
   "id": "d77e90ed",
   "metadata": {},
   "outputs": [
    {
     "name": "stdout",
     "output_type": "stream",
     "text": [
      "Tỷ lệ đạt A (không thỏa mãn cả hai điều kiện): 26.84%\n"
     ]
    }
   ],
   "source": [
    "# Nhóm không thỏa mãn cả hai điều kiện\n",
    "not_meets_group = student_performance.where('meets_conditions', are.equal_to(0))\n",
    "if not_meets_group.num_rows == 0:\n",
    "    print(\"Không có học sinh nào không thỏa mãn cả hai điều kiện. Kết thúc phân tích.\")\n",
    "    exit()\n",
    "prop_not_meets = np.mean(not_meets_group.column('is_A'))\n",
    "print(f\"Tỷ lệ đạt A (không thỏa mãn cả hai điều kiện): {prop_not_meets:.2%}\")"
   ]
  },
  {
   "cell_type": "markdown",
   "id": "e6a352b2",
   "metadata": {},
   "source": [
    "Chênh lệch tỷ lệ quan sát được"
   ]
  },
  {
   "cell_type": "code",
   "execution_count": 33,
   "id": "2b150854",
   "metadata": {},
   "outputs": [
    {
     "name": "stdout",
     "output_type": "stream",
     "text": [
      "Chênh lệch tỷ lệ quan sát được: -0.47%\n"
     ]
    }
   ],
   "source": [
    "observed_diff = prop_meets - prop_not_meets\n",
    "print(f\"Chênh lệch tỷ lệ quan sát được: {observed_diff:.2%}\")"
   ]
  },
  {
   "cell_type": "markdown",
   "id": "2b269f78",
   "metadata": {},
   "source": [
    "Kiểm định giả thuyết (Permutation Test)"
   ]
  },
  {
   "cell_type": "code",
   "execution_count": 34,
   "id": "fcdecf0d",
   "metadata": {},
   "outputs": [],
   "source": [
    "# Mô phỏng phân phối chênh lệch tỷ lệ dưới giả thuyết gốc (H₀)\n",
    "n_simulations = 5000  # Số lần lặp tối ưu cho tốc độ và độ chính xác\n",
    "diffs = make_array()\n",
    "\n",
    "for i in range(n_simulations):\n",
    "    # Xáo trộn nhãn meets_conditions\n",
    "    shuffled_labels = student_performance.sample(with_replacement=False).column('meets_conditions')\n",
    "    shuffled_data = student_performance.with_column('shuffled_conditions', shuffled_labels)\n",
    "    \n",
    "    # Tính tỷ lệ cho hai nhóm với nhãn xáo trộn\n",
    "    shuffled_meets = shuffled_data.where('shuffled_conditions', are.equal_to(1))\n",
    "    shuffled_not_meets = shuffled_data.where('shuffled_conditions', are.equal_to(0))\n",
    "    prop_meets_shuffled = np.mean(shuffled_meets.column('is_A'))\n",
    "    prop_not_meets_shuffled = np.mean(shuffled_not_meets.column('is_A'))\n",
    "    \n",
    "    # Lưu chênh lệch tỷ lệ\n",
    "    diffs = np.append(diffs, prop_meets_shuffled - prop_not_meets_shuffled)"
   ]
  },
  {
   "cell_type": "code",
   "execution_count": 35,
   "id": "51ab4c85",
   "metadata": {},
   "outputs": [
    {
     "name": "stdout",
     "output_type": "stream",
     "text": [
      "P-value: 0.6460\n"
     ]
    }
   ],
   "source": [
    "# Tính p-value (xác suất chênh lệch ≥ observed_diff)\n",
    "p_value = np.mean(diffs >= observed_diff)\n",
    "print(f\"P-value: {p_value:.4f}\")"
   ]
  },
  {
   "cell_type": "markdown",
   "id": "96e0261e",
   "metadata": {},
   "source": [
    "Trực quan hóa phân phối mô phỏng"
   ]
  },
  {
   "cell_type": "code",
   "execution_count": 36,
   "id": "b9cb7279",
   "metadata": {},
   "outputs": [
    {
     "data": {
      "image/png": "[encoded data removed]",
      "text/plain": [
       "<Figure size 600x400 with 1 Axes>"
      ]
     },
     "metadata": {},
     "output_type": "display_data"
    }
   ],
   "source": [
    "Table().with_column('Chênh lệch tỷ lệ', diffs).hist(bins=20)\n",
    "plt.axvline(x=observed_diff, color='red', linestyle='--', label='Chênh lệch quan sát')\n",
    "plt.title('Phân phối chênh lệch tỷ lệ dưới giả thuyết gốc')\n",
    "plt.xlabel('Chênh lệch tỷ lệ (nhóm thỏa mãn - nhóm không thỏa mãn)')\n",
    "plt.ylabel('Tần suất')\n",
    "plt.legend()\n",
    "plt.show()"
   ]
  },
  {
   "cell_type": "markdown",
   "id": "2d834b1d",
   "metadata": {},
   "source": [
    "So sánh tỷ lệ bằng biểu đồ cột"
   ]
  },
  {
   "cell_type": "code",
   "execution_count": 37,
   "id": "1d9eb30f",
   "metadata": {},
   "outputs": [
    {
     "data": {
      "image/png": "[encoded data removed]",
      "text/plain": [
       "<Figure size 600x400 with 1 Axes>"
      ]
     },
     "metadata": {},
     "output_type": "display_data"
    }
   ],
   "source": [
    "props = Table().with_columns(\n",
    "    'Nhóm', ['Thỏa mãn điều kiện', 'Không thỏa mãn điều kiện'],\n",
    "    'Tỷ lệ đạt A', [prop_meets, prop_not_meets]\n",
    ")\n",
    "props.barh('Nhóm', 'Tỷ lệ đạt A')\n",
    "plt.title('Tỷ lệ đạt điểm A theo nhóm')\n",
    "plt.xlabel('Tỷ lệ')\n",
    "plt.show()"
   ]
  },
  {
   "cell_type": "markdown",
   "id": "996e2524",
   "metadata": {},
   "source": [
    "Kết luận"
   ]
  },
  {
   "cell_type": "code",
   "execution_count": 38,
   "id": "83910d98",
   "metadata": {},
   "outputs": [
    {
     "name": "stdout",
     "output_type": "stream",
     "text": [
      "Không đủ bằng chứng để bác bỏ giả thuyết gốc (H₀). Không có sự khác biệt đáng kể về tỷ lệ đạt điểm A giữa hai nhóm.\n",
      "Kết luận: Tỷ lệ đạt A ở nhóm thỏa mãn cả hai điều kiện là 26.37%, so với 26.84% ở nhóm không thỏa mãn.\n"
     ]
    }
   ],
   "source": [
    "alpha = 0.05\n",
    "if p_value < alpha:\n",
    "    print(\"Bác bỏ giả thuyết gốc (H₀). Học sinh có tỷ lệ hoàn thành bài tập trên 90% và tham gia thảo luận có xu hướng đạt điểm A cao hơn đáng kể.\")\n",
    "else:\n",
    "    print(\"Không đủ bằng chứng để bác bỏ giả thuyết gốc (H₀). Không có sự khác biệt đáng kể về tỷ lệ đạt điểm A giữa hai nhóm.\")\n",
    "print(f\"Kết luận: Tỷ lệ đạt A ở nhóm thỏa mãn cả hai điều kiện là {prop_meets:.2%}, so với {prop_not_meets:.2%} ở nhóm không thỏa mãn.\")"
   ]
  }
 ],
 "metadata": {
  "kernelspec": {
   "display_name": "Python 3 (ipykernel)",
   "language": "python",
   "name": "python3"
  },
  "language_info": {
   "codemirror_mode": {
    "name": "ipython",
    "version": 3
   },
   "file_extension": ".py",
   "mimetype": "text/x-python",
   "name": "python",
   "nbconvert_exporter": "python",
   "pygments_lexer": "ipython3",
   "version": "3.12.6"
  }
 },
 "nbformat": 4,
 "nbformat_minor": 5
}
